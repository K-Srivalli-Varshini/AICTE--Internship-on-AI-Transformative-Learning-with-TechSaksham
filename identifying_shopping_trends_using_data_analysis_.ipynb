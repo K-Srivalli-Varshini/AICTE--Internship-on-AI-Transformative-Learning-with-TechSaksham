{
  "nbformat": 4,
  "nbformat_minor": 0,
  "metadata": {
    "colab": {
      "provenance": [],
      "mount_file_id": "1fp4hbyVk6jzye8ipVeHzzg2I6wRR8Lly",
      "authorship_tag": "ABX9TyONtu6GKQD4C+p52+yftMPK",
      "include_colab_link": true
    },
    "kernelspec": {
      "name": "python3",
      "display_name": "Python 3"
    },
    "language_info": {
      "name": "python"
    }
  },
  "cells": [
    {
      "cell_type": "markdown",
      "metadata": {
        "id": "view-in-github",
        "colab_type": "text"
      },
      "source": [
        "<a href=\"https://colab.research.google.com/github/K-Srivalli-Varshini/AICTE--Internship-on-AI-Transformative-Learning-with-TechSaksham/blob/main/identifying_shopping_trends_using_data_analysis_.ipynb\" target=\"_parent\"><img src=\"https://colab.research.google.com/assets/colab-badge.svg\" alt=\"Open In Colab\"/></a>"
      ]
    },
    {
      "cell_type": "code",
      "execution_count": null,
      "metadata": {
        "colab": {
          "base_uri": "https://localhost:8080/"
        },
        "id": "-FgyEzqgpC1d",
        "outputId": "672ae211-4cec-4d48-9cf0-16a652886554"
      },
      "outputs": [
        {
          "output_type": "stream",
          "name": "stdout",
          "text": [
            "Requirement already satisfied: WordCloud in /usr/local/lib/python3.11/dist-packages (1.9.4)\n",
            "Requirement already satisfied: numpy>=1.6.1 in /usr/local/lib/python3.11/dist-packages (from WordCloud) (1.26.4)\n",
            "Requirement already satisfied: pillow in /usr/local/lib/python3.11/dist-packages (from WordCloud) (11.1.0)\n",
            "Requirement already satisfied: matplotlib in /usr/local/lib/python3.11/dist-packages (from WordCloud) (3.10.0)\n",
            "Requirement already satisfied: contourpy>=1.0.1 in /usr/local/lib/python3.11/dist-packages (from matplotlib->WordCloud) (1.3.1)\n",
            "Requirement already satisfied: cycler>=0.10 in /usr/local/lib/python3.11/dist-packages (from matplotlib->WordCloud) (0.12.1)\n",
            "Requirement already satisfied: fonttools>=4.22.0 in /usr/local/lib/python3.11/dist-packages (from matplotlib->WordCloud) (4.55.3)\n",
            "Requirement already satisfied: kiwisolver>=1.3.1 in /usr/local/lib/python3.11/dist-packages (from matplotlib->WordCloud) (1.4.8)\n",
            "Requirement already satisfied: packaging>=20.0 in /usr/local/lib/python3.11/dist-packages (from matplotlib->WordCloud) (24.2)\n",
            "Requirement already satisfied: pyparsing>=2.3.1 in /usr/local/lib/python3.11/dist-packages (from matplotlib->WordCloud) (3.2.1)\n",
            "Requirement already satisfied: python-dateutil>=2.7 in /usr/local/lib/python3.11/dist-packages (from matplotlib->WordCloud) (2.8.2)\n",
            "Requirement already satisfied: six>=1.5 in /usr/local/lib/python3.11/dist-packages (from python-dateutil>=2.7->matplotlib->WordCloud) (1.17.0)\n"
          ]
        }
      ],
      "source": [
        "!pip install WordCloud"
      ]
    },
    {
      "cell_type": "code",
      "source": [
        "from re import A\n",
        "import numpy as np\n",
        "import pandas as pd\n",
        "import seaborn as sns\n",
        "import matplotlib.pyplot as plt\n",
        "import plotly.express as px\n"
      ],
      "metadata": {
        "id": "eN2jhRuupz1N"
      },
      "execution_count": null,
      "outputs": []
    },
    {
      "cell_type": "code",
      "source": [
        "#reading the data set\n",
        "shop=pd.read_csv('/content/drive/MyDrive/ED/shopping_trends_updated.csv')\n"
      ],
      "metadata": {
        "id": "7yZnqrFxpzzO"
      },
      "execution_count": null,
      "outputs": []
    },
    {
      "cell_type": "code",
      "source": [
        "shop.shape"
      ],
      "metadata": {
        "colab": {
          "base_uri": "https://localhost:8080/"
        },
        "id": "Zjhtu2POpzwt",
        "outputId": "9654a2b4-adbe-4542-9e12-3fd04dac00c7"
      },
      "execution_count": null,
      "outputs": [
        {
          "output_type": "execute_result",
          "data": {
            "text/plain": [
              "(3900, 18)"
            ]
          },
          "metadata": {},
          "execution_count": 36
        }
      ]
    },
    {
      "cell_type": "code",
      "source": [
        "shop.to_excel('/content/drive/MyDrive/ED/shopping_trends_updated.xlsx')"
      ],
      "metadata": {
        "id": "CWbMpxNqpzuD"
      },
      "execution_count": null,
      "outputs": []
    },
    {
      "cell_type": "code",
      "source": [
        "shop.head()"
      ],
      "metadata": {
        "colab": {
          "base_uri": "https://localhost:8080/",
          "height": 313
        },
        "id": "5YK1wwPLpzrt",
        "outputId": "5e2bff66-f68a-4aa7-e6d0-6e620762634e"
      },
      "execution_count": null,
      "outputs": [
        {
          "output_type": "execute_result",
          "data": {
            "text/plain": [
              "   Customer ID  Age Gender Item Purchased  Category  Purchase Amount (USD)  \\\n",
              "0            1   55   Male         Blouse  Clothing                     53   \n",
              "1            2   19   Male        Sweater  Clothing                     64   \n",
              "2            3   50   Male          Jeans  Clothing                     73   \n",
              "3            4   21   Male        Sandals  Footwear                     90   \n",
              "4            5   45   Male         Blouse  Clothing                     49   \n",
              "\n",
              "        Location Size      Color  Season  Review Rating Subscription Status  \\\n",
              "0       Kentucky    L       Gray  Winter            3.1                 Yes   \n",
              "1          Maine    L     Maroon  Winter            3.1                 Yes   \n",
              "2  Massachusetts    S     Maroon  Spring            3.1                 Yes   \n",
              "3   Rhode Island    M     Maroon  Spring            3.5                 Yes   \n",
              "4         Oregon    M  Turquoise  Spring            2.7                 Yes   \n",
              "\n",
              "   Shipping Type Discount Applied Promo Code Used  Previous Purchases  \\\n",
              "0        Express              Yes             Yes                  14   \n",
              "1        Express              Yes             Yes                   2   \n",
              "2  Free Shipping              Yes             Yes                  23   \n",
              "3   Next Day Air              Yes             Yes                  49   \n",
              "4  Free Shipping              Yes             Yes                  31   \n",
              "\n",
              "  Payment Method Frequency of Purchases  \n",
              "0          Venmo            Fortnightly  \n",
              "1           Cash            Fortnightly  \n",
              "2    Credit Card                 Weekly  \n",
              "3         PayPal                 Weekly  \n",
              "4         PayPal               Annually  "
            ],
            "text/html": [
              "\n",
              "  <div id=\"df-ffa7870f-43d7-422e-9a69-224182a36223\" class=\"colab-df-container\">\n",
              "    <div>\n",
              "<style scoped>\n",
              "    .dataframe tbody tr th:only-of-type {\n",
              "        vertical-align: middle;\n",
              "    }\n",
              "\n",
              "    .dataframe tbody tr th {\n",
              "        vertical-align: top;\n",
              "    }\n",
              "\n",
              "    .dataframe thead th {\n",
              "        text-align: right;\n",
              "    }\n",
              "</style>\n",
              "<table border=\"1\" class=\"dataframe\">\n",
              "  <thead>\n",
              "    <tr style=\"text-align: right;\">\n",
              "      <th></th>\n",
              "      <th>Customer ID</th>\n",
              "      <th>Age</th>\n",
              "      <th>Gender</th>\n",
              "      <th>Item Purchased</th>\n",
              "      <th>Category</th>\n",
              "      <th>Purchase Amount (USD)</th>\n",
              "      <th>Location</th>\n",
              "      <th>Size</th>\n",
              "      <th>Color</th>\n",
              "      <th>Season</th>\n",
              "      <th>Review Rating</th>\n",
              "      <th>Subscription Status</th>\n",
              "      <th>Shipping Type</th>\n",
              "      <th>Discount Applied</th>\n",
              "      <th>Promo Code Used</th>\n",
              "      <th>Previous Purchases</th>\n",
              "      <th>Payment Method</th>\n",
              "      <th>Frequency of Purchases</th>\n",
              "    </tr>\n",
              "  </thead>\n",
              "  <tbody>\n",
              "    <tr>\n",
              "      <th>0</th>\n",
              "      <td>1</td>\n",
              "      <td>55</td>\n",
              "      <td>Male</td>\n",
              "      <td>Blouse</td>\n",
              "      <td>Clothing</td>\n",
              "      <td>53</td>\n",
              "      <td>Kentucky</td>\n",
              "      <td>L</td>\n",
              "      <td>Gray</td>\n",
              "      <td>Winter</td>\n",
              "      <td>3.1</td>\n",
              "      <td>Yes</td>\n",
              "      <td>Express</td>\n",
              "      <td>Yes</td>\n",
              "      <td>Yes</td>\n",
              "      <td>14</td>\n",
              "      <td>Venmo</td>\n",
              "      <td>Fortnightly</td>\n",
              "    </tr>\n",
              "    <tr>\n",
              "      <th>1</th>\n",
              "      <td>2</td>\n",
              "      <td>19</td>\n",
              "      <td>Male</td>\n",
              "      <td>Sweater</td>\n",
              "      <td>Clothing</td>\n",
              "      <td>64</td>\n",
              "      <td>Maine</td>\n",
              "      <td>L</td>\n",
              "      <td>Maroon</td>\n",
              "      <td>Winter</td>\n",
              "      <td>3.1</td>\n",
              "      <td>Yes</td>\n",
              "      <td>Express</td>\n",
              "      <td>Yes</td>\n",
              "      <td>Yes</td>\n",
              "      <td>2</td>\n",
              "      <td>Cash</td>\n",
              "      <td>Fortnightly</td>\n",
              "    </tr>\n",
              "    <tr>\n",
              "      <th>2</th>\n",
              "      <td>3</td>\n",
              "      <td>50</td>\n",
              "      <td>Male</td>\n",
              "      <td>Jeans</td>\n",
              "      <td>Clothing</td>\n",
              "      <td>73</td>\n",
              "      <td>Massachusetts</td>\n",
              "      <td>S</td>\n",
              "      <td>Maroon</td>\n",
              "      <td>Spring</td>\n",
              "      <td>3.1</td>\n",
              "      <td>Yes</td>\n",
              "      <td>Free Shipping</td>\n",
              "      <td>Yes</td>\n",
              "      <td>Yes</td>\n",
              "      <td>23</td>\n",
              "      <td>Credit Card</td>\n",
              "      <td>Weekly</td>\n",
              "    </tr>\n",
              "    <tr>\n",
              "      <th>3</th>\n",
              "      <td>4</td>\n",
              "      <td>21</td>\n",
              "      <td>Male</td>\n",
              "      <td>Sandals</td>\n",
              "      <td>Footwear</td>\n",
              "      <td>90</td>\n",
              "      <td>Rhode Island</td>\n",
              "      <td>M</td>\n",
              "      <td>Maroon</td>\n",
              "      <td>Spring</td>\n",
              "      <td>3.5</td>\n",
              "      <td>Yes</td>\n",
              "      <td>Next Day Air</td>\n",
              "      <td>Yes</td>\n",
              "      <td>Yes</td>\n",
              "      <td>49</td>\n",
              "      <td>PayPal</td>\n",
              "      <td>Weekly</td>\n",
              "    </tr>\n",
              "    <tr>\n",
              "      <th>4</th>\n",
              "      <td>5</td>\n",
              "      <td>45</td>\n",
              "      <td>Male</td>\n",
              "      <td>Blouse</td>\n",
              "      <td>Clothing</td>\n",
              "      <td>49</td>\n",
              "      <td>Oregon</td>\n",
              "      <td>M</td>\n",
              "      <td>Turquoise</td>\n",
              "      <td>Spring</td>\n",
              "      <td>2.7</td>\n",
              "      <td>Yes</td>\n",
              "      <td>Free Shipping</td>\n",
              "      <td>Yes</td>\n",
              "      <td>Yes</td>\n",
              "      <td>31</td>\n",
              "      <td>PayPal</td>\n",
              "      <td>Annually</td>\n",
              "    </tr>\n",
              "  </tbody>\n",
              "</table>\n",
              "</div>\n",
              "    <div class=\"colab-df-buttons\">\n",
              "\n",
              "  <div class=\"colab-df-container\">\n",
              "    <button class=\"colab-df-convert\" onclick=\"convertToInteractive('df-ffa7870f-43d7-422e-9a69-224182a36223')\"\n",
              "            title=\"Convert this dataframe to an interactive table.\"\n",
              "            style=\"display:none;\">\n",
              "\n",
              "  <svg xmlns=\"http://www.w3.org/2000/svg\" height=\"24px\" viewBox=\"0 -960 960 960\">\n",
              "    <path d=\"M120-120v-720h720v720H120Zm60-500h600v-160H180v160Zm220 220h160v-160H400v160Zm0 220h160v-160H400v160ZM180-400h160v-160H180v160Zm440 0h160v-160H620v160ZM180-180h160v-160H180v160Zm440 0h160v-160H620v160Z\"/>\n",
              "  </svg>\n",
              "    </button>\n",
              "\n",
              "  <style>\n",
              "    .colab-df-container {\n",
              "      display:flex;\n",
              "      gap: 12px;\n",
              "    }\n",
              "\n",
              "    .colab-df-convert {\n",
              "      background-color: #E8F0FE;\n",
              "      border: none;\n",
              "      border-radius: 50%;\n",
              "      cursor: pointer;\n",
              "      display: none;\n",
              "      fill: #1967D2;\n",
              "      height: 32px;\n",
              "      padding: 0 0 0 0;\n",
              "      width: 32px;\n",
              "    }\n",
              "\n",
              "    .colab-df-convert:hover {\n",
              "      background-color: #E2EBFA;\n",
              "      box-shadow: 0px 1px 2px rgba(60, 64, 67, 0.3), 0px 1px 3px 1px rgba(60, 64, 67, 0.15);\n",
              "      fill: #174EA6;\n",
              "    }\n",
              "\n",
              "    .colab-df-buttons div {\n",
              "      margin-bottom: 4px;\n",
              "    }\n",
              "\n",
              "    [theme=dark] .colab-df-convert {\n",
              "      background-color: #3B4455;\n",
              "      fill: #D2E3FC;\n",
              "    }\n",
              "\n",
              "    [theme=dark] .colab-df-convert:hover {\n",
              "      background-color: #434B5C;\n",
              "      box-shadow: 0px 1px 3px 1px rgba(0, 0, 0, 0.15);\n",
              "      filter: drop-shadow(0px 1px 2px rgba(0, 0, 0, 0.3));\n",
              "      fill: #FFFFFF;\n",
              "    }\n",
              "  </style>\n",
              "\n",
              "    <script>\n",
              "      const buttonEl =\n",
              "        document.querySelector('#df-ffa7870f-43d7-422e-9a69-224182a36223 button.colab-df-convert');\n",
              "      buttonEl.style.display =\n",
              "        google.colab.kernel.accessAllowed ? 'block' : 'none';\n",
              "\n",
              "      async function convertToInteractive(key) {\n",
              "        const element = document.querySelector('#df-ffa7870f-43d7-422e-9a69-224182a36223');\n",
              "        const dataTable =\n",
              "          await google.colab.kernel.invokeFunction('convertToInteractive',\n",
              "                                                    [key], {});\n",
              "        if (!dataTable) return;\n",
              "\n",
              "        const docLinkHtml = 'Like what you see? Visit the ' +\n",
              "          '<a target=\"_blank\" href=https://colab.research.google.com/notebooks/data_table.ipynb>data table notebook</a>'\n",
              "          + ' to learn more about interactive tables.';\n",
              "        element.innerHTML = '';\n",
              "        dataTable['output_type'] = 'display_data';\n",
              "        await google.colab.output.renderOutput(dataTable, element);\n",
              "        const docLink = document.createElement('div');\n",
              "        docLink.innerHTML = docLinkHtml;\n",
              "        element.appendChild(docLink);\n",
              "      }\n",
              "    </script>\n",
              "  </div>\n",
              "\n",
              "\n",
              "<div id=\"df-206e884d-7ade-4669-b679-b357b5a7a990\">\n",
              "  <button class=\"colab-df-quickchart\" onclick=\"quickchart('df-206e884d-7ade-4669-b679-b357b5a7a990')\"\n",
              "            title=\"Suggest charts\"\n",
              "            style=\"display:none;\">\n",
              "\n",
              "<svg xmlns=\"http://www.w3.org/2000/svg\" height=\"24px\"viewBox=\"0 0 24 24\"\n",
              "     width=\"24px\">\n",
              "    <g>\n",
              "        <path d=\"M19 3H5c-1.1 0-2 .9-2 2v14c0 1.1.9 2 2 2h14c1.1 0 2-.9 2-2V5c0-1.1-.9-2-2-2zM9 17H7v-7h2v7zm4 0h-2V7h2v10zm4 0h-2v-4h2v4z\"/>\n",
              "    </g>\n",
              "</svg>\n",
              "  </button>\n",
              "\n",
              "<style>\n",
              "  .colab-df-quickchart {\n",
              "      --bg-color: #E8F0FE;\n",
              "      --fill-color: #1967D2;\n",
              "      --hover-bg-color: #E2EBFA;\n",
              "      --hover-fill-color: #174EA6;\n",
              "      --disabled-fill-color: #AAA;\n",
              "      --disabled-bg-color: #DDD;\n",
              "  }\n",
              "\n",
              "  [theme=dark] .colab-df-quickchart {\n",
              "      --bg-color: #3B4455;\n",
              "      --fill-color: #D2E3FC;\n",
              "      --hover-bg-color: #434B5C;\n",
              "      --hover-fill-color: #FFFFFF;\n",
              "      --disabled-bg-color: #3B4455;\n",
              "      --disabled-fill-color: #666;\n",
              "  }\n",
              "\n",
              "  .colab-df-quickchart {\n",
              "    background-color: var(--bg-color);\n",
              "    border: none;\n",
              "    border-radius: 50%;\n",
              "    cursor: pointer;\n",
              "    display: none;\n",
              "    fill: var(--fill-color);\n",
              "    height: 32px;\n",
              "    padding: 0;\n",
              "    width: 32px;\n",
              "  }\n",
              "\n",
              "  .colab-df-quickchart:hover {\n",
              "    background-color: var(--hover-bg-color);\n",
              "    box-shadow: 0 1px 2px rgba(60, 64, 67, 0.3), 0 1px 3px 1px rgba(60, 64, 67, 0.15);\n",
              "    fill: var(--button-hover-fill-color);\n",
              "  }\n",
              "\n",
              "  .colab-df-quickchart-complete:disabled,\n",
              "  .colab-df-quickchart-complete:disabled:hover {\n",
              "    background-color: var(--disabled-bg-color);\n",
              "    fill: var(--disabled-fill-color);\n",
              "    box-shadow: none;\n",
              "  }\n",
              "\n",
              "  .colab-df-spinner {\n",
              "    border: 2px solid var(--fill-color);\n",
              "    border-color: transparent;\n",
              "    border-bottom-color: var(--fill-color);\n",
              "    animation:\n",
              "      spin 1s steps(1) infinite;\n",
              "  }\n",
              "\n",
              "  @keyframes spin {\n",
              "    0% {\n",
              "      border-color: transparent;\n",
              "      border-bottom-color: var(--fill-color);\n",
              "      border-left-color: var(--fill-color);\n",
              "    }\n",
              "    20% {\n",
              "      border-color: transparent;\n",
              "      border-left-color: var(--fill-color);\n",
              "      border-top-color: var(--fill-color);\n",
              "    }\n",
              "    30% {\n",
              "      border-color: transparent;\n",
              "      border-left-color: var(--fill-color);\n",
              "      border-top-color: var(--fill-color);\n",
              "      border-right-color: var(--fill-color);\n",
              "    }\n",
              "    40% {\n",
              "      border-color: transparent;\n",
              "      border-right-color: var(--fill-color);\n",
              "      border-top-color: var(--fill-color);\n",
              "    }\n",
              "    60% {\n",
              "      border-color: transparent;\n",
              "      border-right-color: var(--fill-color);\n",
              "    }\n",
              "    80% {\n",
              "      border-color: transparent;\n",
              "      border-right-color: var(--fill-color);\n",
              "      border-bottom-color: var(--fill-color);\n",
              "    }\n",
              "    90% {\n",
              "      border-color: transparent;\n",
              "      border-bottom-color: var(--fill-color);\n",
              "    }\n",
              "  }\n",
              "</style>\n",
              "\n",
              "  <script>\n",
              "    async function quickchart(key) {\n",
              "      const quickchartButtonEl =\n",
              "        document.querySelector('#' + key + ' button');\n",
              "      quickchartButtonEl.disabled = true;  // To prevent multiple clicks.\n",
              "      quickchartButtonEl.classList.add('colab-df-spinner');\n",
              "      try {\n",
              "        const charts = await google.colab.kernel.invokeFunction(\n",
              "            'suggestCharts', [key], {});\n",
              "      } catch (error) {\n",
              "        console.error('Error during call to suggestCharts:', error);\n",
              "      }\n",
              "      quickchartButtonEl.classList.remove('colab-df-spinner');\n",
              "      quickchartButtonEl.classList.add('colab-df-quickchart-complete');\n",
              "    }\n",
              "    (() => {\n",
              "      let quickchartButtonEl =\n",
              "        document.querySelector('#df-206e884d-7ade-4669-b679-b357b5a7a990 button');\n",
              "      quickchartButtonEl.style.display =\n",
              "        google.colab.kernel.accessAllowed ? 'block' : 'none';\n",
              "    })();\n",
              "  </script>\n",
              "</div>\n",
              "\n",
              "    </div>\n",
              "  </div>\n"
            ],
            "application/vnd.google.colaboratory.intrinsic+json": {
              "type": "dataframe",
              "variable_name": "shop",
              "summary": "{\n  \"name\": \"shop\",\n  \"rows\": 3900,\n  \"fields\": [\n    {\n      \"column\": \"Customer ID\",\n      \"properties\": {\n        \"dtype\": \"number\",\n        \"std\": 1125,\n        \"min\": 1,\n        \"max\": 3900,\n        \"num_unique_values\": 3900,\n        \"samples\": [\n          840,\n          1718,\n          322\n        ],\n        \"semantic_type\": \"\",\n        \"description\": \"\"\n      }\n    },\n    {\n      \"column\": \"Age\",\n      \"properties\": {\n        \"dtype\": \"number\",\n        \"std\": 15,\n        \"min\": 18,\n        \"max\": 70,\n        \"num_unique_values\": 53,\n        \"samples\": [\n          56,\n          24,\n          51\n        ],\n        \"semantic_type\": \"\",\n        \"description\": \"\"\n      }\n    },\n    {\n      \"column\": \"Gender\",\n      \"properties\": {\n        \"dtype\": \"category\",\n        \"num_unique_values\": 2,\n        \"samples\": [\n          \"Female\",\n          \"Male\"\n        ],\n        \"semantic_type\": \"\",\n        \"description\": \"\"\n      }\n    },\n    {\n      \"column\": \"Item Purchased\",\n      \"properties\": {\n        \"dtype\": \"category\",\n        \"num_unique_values\": 25,\n        \"samples\": [\n          \"Handbag\",\n          \"Jewelry\"\n        ],\n        \"semantic_type\": \"\",\n        \"description\": \"\"\n      }\n    },\n    {\n      \"column\": \"Category\",\n      \"properties\": {\n        \"dtype\": \"category\",\n        \"num_unique_values\": 4,\n        \"samples\": [\n          \"Footwear\",\n          \"Accessories\"\n        ],\n        \"semantic_type\": \"\",\n        \"description\": \"\"\n      }\n    },\n    {\n      \"column\": \"Purchase Amount (USD)\",\n      \"properties\": {\n        \"dtype\": \"number\",\n        \"std\": 23,\n        \"min\": 20,\n        \"max\": 100,\n        \"num_unique_values\": 81,\n        \"samples\": [\n          60,\n          53\n        ],\n        \"semantic_type\": \"\",\n        \"description\": \"\"\n      }\n    },\n    {\n      \"column\": \"Location\",\n      \"properties\": {\n        \"dtype\": \"category\",\n        \"num_unique_values\": 50,\n        \"samples\": [\n          \"New Hampshire\",\n          \"Connecticut\"\n        ],\n        \"semantic_type\": \"\",\n        \"description\": \"\"\n      }\n    },\n    {\n      \"column\": \"Size\",\n      \"properties\": {\n        \"dtype\": \"category\",\n        \"num_unique_values\": 4,\n        \"samples\": [\n          \"S\",\n          \"XL\"\n        ],\n        \"semantic_type\": \"\",\n        \"description\": \"\"\n      }\n    },\n    {\n      \"column\": \"Color\",\n      \"properties\": {\n        \"dtype\": \"category\",\n        \"num_unique_values\": 25,\n        \"samples\": [\n          \"Olive\",\n          \"Red\"\n        ],\n        \"semantic_type\": \"\",\n        \"description\": \"\"\n      }\n    },\n    {\n      \"column\": \"Season\",\n      \"properties\": {\n        \"dtype\": \"category\",\n        \"num_unique_values\": 4,\n        \"samples\": [\n          \"Spring\",\n          \"Fall\"\n        ],\n        \"semantic_type\": \"\",\n        \"description\": \"\"\n      }\n    },\n    {\n      \"column\": \"Review Rating\",\n      \"properties\": {\n        \"dtype\": \"number\",\n        \"std\": 0.7162228139312449,\n        \"min\": 2.5,\n        \"max\": 5.0,\n        \"num_unique_values\": 26,\n        \"samples\": [\n          4.9,\n          5.0\n        ],\n        \"semantic_type\": \"\",\n        \"description\": \"\"\n      }\n    },\n    {\n      \"column\": \"Subscription Status\",\n      \"properties\": {\n        \"dtype\": \"category\",\n        \"num_unique_values\": 2,\n        \"samples\": [\n          \"No\",\n          \"Yes\"\n        ],\n        \"semantic_type\": \"\",\n        \"description\": \"\"\n      }\n    },\n    {\n      \"column\": \"Shipping Type\",\n      \"properties\": {\n        \"dtype\": \"category\",\n        \"num_unique_values\": 6,\n        \"samples\": [\n          \"Express\",\n          \"Free Shipping\"\n        ],\n        \"semantic_type\": \"\",\n        \"description\": \"\"\n      }\n    },\n    {\n      \"column\": \"Discount Applied\",\n      \"properties\": {\n        \"dtype\": \"category\",\n        \"num_unique_values\": 2,\n        \"samples\": [\n          \"No\",\n          \"Yes\"\n        ],\n        \"semantic_type\": \"\",\n        \"description\": \"\"\n      }\n    },\n    {\n      \"column\": \"Promo Code Used\",\n      \"properties\": {\n        \"dtype\": \"category\",\n        \"num_unique_values\": 2,\n        \"samples\": [\n          \"No\",\n          \"Yes\"\n        ],\n        \"semantic_type\": \"\",\n        \"description\": \"\"\n      }\n    },\n    {\n      \"column\": \"Previous Purchases\",\n      \"properties\": {\n        \"dtype\": \"number\",\n        \"std\": 14,\n        \"min\": 1,\n        \"max\": 50,\n        \"num_unique_values\": 50,\n        \"samples\": [\n          36,\n          47\n        ],\n        \"semantic_type\": \"\",\n        \"description\": \"\"\n      }\n    },\n    {\n      \"column\": \"Payment Method\",\n      \"properties\": {\n        \"dtype\": \"category\",\n        \"num_unique_values\": 6,\n        \"samples\": [\n          \"Venmo\",\n          \"Cash\"\n        ],\n        \"semantic_type\": \"\",\n        \"description\": \"\"\n      }\n    },\n    {\n      \"column\": \"Frequency of Purchases\",\n      \"properties\": {\n        \"dtype\": \"category\",\n        \"num_unique_values\": 7,\n        \"samples\": [\n          \"Fortnightly\",\n          \"Weekly\"\n        ],\n        \"semantic_type\": \"\",\n        \"description\": \"\"\n      }\n    }\n  ]\n}"
            }
          },
          "metadata": {},
          "execution_count": 37
        }
      ]
    },
    {
      "cell_type": "code",
      "source": [
        "shop.dtypes"
      ],
      "metadata": {
        "colab": {
          "base_uri": "https://localhost:8080/",
          "height": 648
        },
        "id": "9ByHW50Kpzo9",
        "outputId": "3d68deed-e52e-401f-b19b-df7bfd35e670"
      },
      "execution_count": null,
      "outputs": [
        {
          "output_type": "execute_result",
          "data": {
            "text/plain": [
              "Customer ID                 int64\n",
              "Age                         int64\n",
              "Gender                     object\n",
              "Item Purchased             object\n",
              "Category                   object\n",
              "Purchase Amount (USD)       int64\n",
              "Location                   object\n",
              "Size                       object\n",
              "Color                      object\n",
              "Season                     object\n",
              "Review Rating             float64\n",
              "Subscription Status        object\n",
              "Shipping Type              object\n",
              "Discount Applied           object\n",
              "Promo Code Used            object\n",
              "Previous Purchases          int64\n",
              "Payment Method             object\n",
              "Frequency of Purchases     object\n",
              "dtype: object"
            ],
            "text/html": [
              "<div>\n",
              "<style scoped>\n",
              "    .dataframe tbody tr th:only-of-type {\n",
              "        vertical-align: middle;\n",
              "    }\n",
              "\n",
              "    .dataframe tbody tr th {\n",
              "        vertical-align: top;\n",
              "    }\n",
              "\n",
              "    .dataframe thead th {\n",
              "        text-align: right;\n",
              "    }\n",
              "</style>\n",
              "<table border=\"1\" class=\"dataframe\">\n",
              "  <thead>\n",
              "    <tr style=\"text-align: right;\">\n",
              "      <th></th>\n",
              "      <th>0</th>\n",
              "    </tr>\n",
              "  </thead>\n",
              "  <tbody>\n",
              "    <tr>\n",
              "      <th>Customer ID</th>\n",
              "      <td>int64</td>\n",
              "    </tr>\n",
              "    <tr>\n",
              "      <th>Age</th>\n",
              "      <td>int64</td>\n",
              "    </tr>\n",
              "    <tr>\n",
              "      <th>Gender</th>\n",
              "      <td>object</td>\n",
              "    </tr>\n",
              "    <tr>\n",
              "      <th>Item Purchased</th>\n",
              "      <td>object</td>\n",
              "    </tr>\n",
              "    <tr>\n",
              "      <th>Category</th>\n",
              "      <td>object</td>\n",
              "    </tr>\n",
              "    <tr>\n",
              "      <th>Purchase Amount (USD)</th>\n",
              "      <td>int64</td>\n",
              "    </tr>\n",
              "    <tr>\n",
              "      <th>Location</th>\n",
              "      <td>object</td>\n",
              "    </tr>\n",
              "    <tr>\n",
              "      <th>Size</th>\n",
              "      <td>object</td>\n",
              "    </tr>\n",
              "    <tr>\n",
              "      <th>Color</th>\n",
              "      <td>object</td>\n",
              "    </tr>\n",
              "    <tr>\n",
              "      <th>Season</th>\n",
              "      <td>object</td>\n",
              "    </tr>\n",
              "    <tr>\n",
              "      <th>Review Rating</th>\n",
              "      <td>float64</td>\n",
              "    </tr>\n",
              "    <tr>\n",
              "      <th>Subscription Status</th>\n",
              "      <td>object</td>\n",
              "    </tr>\n",
              "    <tr>\n",
              "      <th>Shipping Type</th>\n",
              "      <td>object</td>\n",
              "    </tr>\n",
              "    <tr>\n",
              "      <th>Discount Applied</th>\n",
              "      <td>object</td>\n",
              "    </tr>\n",
              "    <tr>\n",
              "      <th>Promo Code Used</th>\n",
              "      <td>object</td>\n",
              "    </tr>\n",
              "    <tr>\n",
              "      <th>Previous Purchases</th>\n",
              "      <td>int64</td>\n",
              "    </tr>\n",
              "    <tr>\n",
              "      <th>Payment Method</th>\n",
              "      <td>object</td>\n",
              "    </tr>\n",
              "    <tr>\n",
              "      <th>Frequency of Purchases</th>\n",
              "      <td>object</td>\n",
              "    </tr>\n",
              "  </tbody>\n",
              "</table>\n",
              "</div><br><label><b>dtype:</b> object</label>"
            ]
          },
          "metadata": {},
          "execution_count": 38
        }
      ]
    },
    {
      "cell_type": "code",
      "source": [
        "shop.columns"
      ],
      "metadata": {
        "colab": {
          "base_uri": "https://localhost:8080/"
        },
        "id": "sihogYrMpzme",
        "outputId": "9b2bc546-75fd-40d3-9d66-57978cafd085"
      },
      "execution_count": null,
      "outputs": [
        {
          "output_type": "execute_result",
          "data": {
            "text/plain": [
              "Index(['Customer ID', 'Age', 'Gender', 'Item Purchased', 'Category',\n",
              "       'Purchase Amount (USD)', 'Location', 'Size', 'Color', 'Season',\n",
              "       'Review Rating', 'Subscription Status', 'Shipping Type',\n",
              "       'Discount Applied', 'Promo Code Used', 'Previous Purchases',\n",
              "       'Payment Method', 'Frequency of Purchases'],\n",
              "      dtype='object')"
            ]
          },
          "metadata": {},
          "execution_count": 39
        }
      ]
    },
    {
      "cell_type": "code",
      "source": [
        "shop.info()"
      ],
      "metadata": {
        "colab": {
          "base_uri": "https://localhost:8080/"
        },
        "id": "-XTYV8_vpzjt",
        "outputId": "8bf8b759-26a7-4262-8a51-cdfe322261ca"
      },
      "execution_count": null,
      "outputs": [
        {
          "output_type": "stream",
          "name": "stdout",
          "text": [
            "<class 'pandas.core.frame.DataFrame'>\n",
            "RangeIndex: 3900 entries, 0 to 3899\n",
            "Data columns (total 18 columns):\n",
            " #   Column                  Non-Null Count  Dtype  \n",
            "---  ------                  --------------  -----  \n",
            " 0   Customer ID             3900 non-null   int64  \n",
            " 1   Age                     3900 non-null   int64  \n",
            " 2   Gender                  3900 non-null   object \n",
            " 3   Item Purchased          3900 non-null   object \n",
            " 4   Category                3900 non-null   object \n",
            " 5   Purchase Amount (USD)   3900 non-null   int64  \n",
            " 6   Location                3900 non-null   object \n",
            " 7   Size                    3900 non-null   object \n",
            " 8   Color                   3900 non-null   object \n",
            " 9   Season                  3900 non-null   object \n",
            " 10  Review Rating           3900 non-null   float64\n",
            " 11  Subscription Status     3900 non-null   object \n",
            " 12  Shipping Type           3900 non-null   object \n",
            " 13  Discount Applied        3900 non-null   object \n",
            " 14  Promo Code Used         3900 non-null   object \n",
            " 15  Previous Purchases      3900 non-null   int64  \n",
            " 16  Payment Method          3900 non-null   object \n",
            " 17  Frequency of Purchases  3900 non-null   object \n",
            "dtypes: float64(1), int64(4), object(13)\n",
            "memory usage: 548.6+ KB\n"
          ]
        }
      ]
    },
    {
      "cell_type": "code",
      "source": [
        "shop.shape"
      ],
      "metadata": {
        "colab": {
          "base_uri": "https://localhost:8080/"
        },
        "id": "ZQppqXd0pzg9",
        "outputId": "b58f1320-817c-45e3-eed0-70afa16fac31"
      },
      "execution_count": null,
      "outputs": [
        {
          "output_type": "execute_result",
          "data": {
            "text/plain": [
              "(3900, 18)"
            ]
          },
          "metadata": {},
          "execution_count": 41
        }
      ]
    },
    {
      "cell_type": "code",
      "source": [
        "shop.isnull().sum()"
      ],
      "metadata": {
        "colab": {
          "base_uri": "https://localhost:8080/",
          "height": 648
        },
        "id": "1rxGP31ppzd9",
        "outputId": "3b1b2400-c3a1-4f73-a961-cb3d812ccc42"
      },
      "execution_count": null,
      "outputs": [
        {
          "output_type": "execute_result",
          "data": {
            "text/plain": [
              "Customer ID               0\n",
              "Age                       0\n",
              "Gender                    0\n",
              "Item Purchased            0\n",
              "Category                  0\n",
              "Purchase Amount (USD)     0\n",
              "Location                  0\n",
              "Size                      0\n",
              "Color                     0\n",
              "Season                    0\n",
              "Review Rating             0\n",
              "Subscription Status       0\n",
              "Shipping Type             0\n",
              "Discount Applied          0\n",
              "Promo Code Used           0\n",
              "Previous Purchases        0\n",
              "Payment Method            0\n",
              "Frequency of Purchases    0\n",
              "dtype: int64"
            ],
            "text/html": [
              "<div>\n",
              "<style scoped>\n",
              "    .dataframe tbody tr th:only-of-type {\n",
              "        vertical-align: middle;\n",
              "    }\n",
              "\n",
              "    .dataframe tbody tr th {\n",
              "        vertical-align: top;\n",
              "    }\n",
              "\n",
              "    .dataframe thead th {\n",
              "        text-align: right;\n",
              "    }\n",
              "</style>\n",
              "<table border=\"1\" class=\"dataframe\">\n",
              "  <thead>\n",
              "    <tr style=\"text-align: right;\">\n",
              "      <th></th>\n",
              "      <th>0</th>\n",
              "    </tr>\n",
              "  </thead>\n",
              "  <tbody>\n",
              "    <tr>\n",
              "      <th>Customer ID</th>\n",
              "      <td>0</td>\n",
              "    </tr>\n",
              "    <tr>\n",
              "      <th>Age</th>\n",
              "      <td>0</td>\n",
              "    </tr>\n",
              "    <tr>\n",
              "      <th>Gender</th>\n",
              "      <td>0</td>\n",
              "    </tr>\n",
              "    <tr>\n",
              "      <th>Item Purchased</th>\n",
              "      <td>0</td>\n",
              "    </tr>\n",
              "    <tr>\n",
              "      <th>Category</th>\n",
              "      <td>0</td>\n",
              "    </tr>\n",
              "    <tr>\n",
              "      <th>Purchase Amount (USD)</th>\n",
              "      <td>0</td>\n",
              "    </tr>\n",
              "    <tr>\n",
              "      <th>Location</th>\n",
              "      <td>0</td>\n",
              "    </tr>\n",
              "    <tr>\n",
              "      <th>Size</th>\n",
              "      <td>0</td>\n",
              "    </tr>\n",
              "    <tr>\n",
              "      <th>Color</th>\n",
              "      <td>0</td>\n",
              "    </tr>\n",
              "    <tr>\n",
              "      <th>Season</th>\n",
              "      <td>0</td>\n",
              "    </tr>\n",
              "    <tr>\n",
              "      <th>Review Rating</th>\n",
              "      <td>0</td>\n",
              "    </tr>\n",
              "    <tr>\n",
              "      <th>Subscription Status</th>\n",
              "      <td>0</td>\n",
              "    </tr>\n",
              "    <tr>\n",
              "      <th>Shipping Type</th>\n",
              "      <td>0</td>\n",
              "    </tr>\n",
              "    <tr>\n",
              "      <th>Discount Applied</th>\n",
              "      <td>0</td>\n",
              "    </tr>\n",
              "    <tr>\n",
              "      <th>Promo Code Used</th>\n",
              "      <td>0</td>\n",
              "    </tr>\n",
              "    <tr>\n",
              "      <th>Previous Purchases</th>\n",
              "      <td>0</td>\n",
              "    </tr>\n",
              "    <tr>\n",
              "      <th>Payment Method</th>\n",
              "      <td>0</td>\n",
              "    </tr>\n",
              "    <tr>\n",
              "      <th>Frequency of Purchases</th>\n",
              "      <td>0</td>\n",
              "    </tr>\n",
              "  </tbody>\n",
              "</table>\n",
              "</div><br><label><b>dtype:</b> int64</label>"
            ]
          },
          "metadata": {},
          "execution_count": 42
        }
      ]
    },
    {
      "cell_type": "code",
      "source": [
        "shop_dup=shop.duplicated().sum()\n",
        "shop_dup"
      ],
      "metadata": {
        "colab": {
          "base_uri": "https://localhost:8080/"
        },
        "id": "FWD88pZBmrqh",
        "outputId": "fa21b02f-9908-4423-89c1-fb5e7b7fc2dd"
      },
      "execution_count": null,
      "outputs": [
        {
          "output_type": "execute_result",
          "data": {
            "text/plain": [
              "0"
            ]
          },
          "metadata": {},
          "execution_count": 43
        }
      ]
    },
    {
      "cell_type": "code",
      "source": [
        "print(f\"the unique values of the 'Gender' column are: {shop['Gender'].unique()}\")\n"
      ],
      "metadata": {
        "colab": {
          "base_uri": "https://localhost:8080/"
        },
        "id": "mror-vevpzZt",
        "outputId": "09f8b5da-7c03-402b-e1bd-e5ab2d27c683"
      },
      "execution_count": null,
      "outputs": [
        {
          "output_type": "stream",
          "name": "stdout",
          "text": [
            "the unique values of the 'Gender' column are: ['Male' 'Female']\n"
          ]
        }
      ]
    },
    {
      "cell_type": "code",
      "source": [
        "shop.describe()"
      ],
      "metadata": {
        "colab": {
          "base_uri": "https://localhost:8080/",
          "height": 317
        },
        "id": "DMckPYh_m2Gb",
        "outputId": "f097c2ac-72d6-4db2-e721-aa6207330cb1"
      },
      "execution_count": null,
      "outputs": [
        {
          "output_type": "execute_result",
          "data": {
            "text/plain": [
              "       Customer ID          Age  Purchase Amount (USD)  Review Rating  \\\n",
              "count  3900.000000  3900.000000            3900.000000    3900.000000   \n",
              "mean   1950.500000    44.068462              59.764359       3.749949   \n",
              "std    1125.977353    15.207589              23.685392       0.716223   \n",
              "min       1.000000    18.000000              20.000000       2.500000   \n",
              "25%     975.750000    31.000000              39.000000       3.100000   \n",
              "50%    1950.500000    44.000000              60.000000       3.700000   \n",
              "75%    2925.250000    57.000000              81.000000       4.400000   \n",
              "max    3900.000000    70.000000             100.000000       5.000000   \n",
              "\n",
              "       Previous Purchases  \n",
              "count         3900.000000  \n",
              "mean            25.351538  \n",
              "std             14.447125  \n",
              "min              1.000000  \n",
              "25%             13.000000  \n",
              "50%             25.000000  \n",
              "75%             38.000000  \n",
              "max             50.000000  "
            ],
            "text/html": [
              "\n",
              "  <div id=\"df-76d1d00b-3ed6-464b-8048-f9f0b622f662\" class=\"colab-df-container\">\n",
              "    <div>\n",
              "<style scoped>\n",
              "    .dataframe tbody tr th:only-of-type {\n",
              "        vertical-align: middle;\n",
              "    }\n",
              "\n",
              "    .dataframe tbody tr th {\n",
              "        vertical-align: top;\n",
              "    }\n",
              "\n",
              "    .dataframe thead th {\n",
              "        text-align: right;\n",
              "    }\n",
              "</style>\n",
              "<table border=\"1\" class=\"dataframe\">\n",
              "  <thead>\n",
              "    <tr style=\"text-align: right;\">\n",
              "      <th></th>\n",
              "      <th>Customer ID</th>\n",
              "      <th>Age</th>\n",
              "      <th>Purchase Amount (USD)</th>\n",
              "      <th>Review Rating</th>\n",
              "      <th>Previous Purchases</th>\n",
              "    </tr>\n",
              "  </thead>\n",
              "  <tbody>\n",
              "    <tr>\n",
              "      <th>count</th>\n",
              "      <td>3900.000000</td>\n",
              "      <td>3900.000000</td>\n",
              "      <td>3900.000000</td>\n",
              "      <td>3900.000000</td>\n",
              "      <td>3900.000000</td>\n",
              "    </tr>\n",
              "    <tr>\n",
              "      <th>mean</th>\n",
              "      <td>1950.500000</td>\n",
              "      <td>44.068462</td>\n",
              "      <td>59.764359</td>\n",
              "      <td>3.749949</td>\n",
              "      <td>25.351538</td>\n",
              "    </tr>\n",
              "    <tr>\n",
              "      <th>std</th>\n",
              "      <td>1125.977353</td>\n",
              "      <td>15.207589</td>\n",
              "      <td>23.685392</td>\n",
              "      <td>0.716223</td>\n",
              "      <td>14.447125</td>\n",
              "    </tr>\n",
              "    <tr>\n",
              "      <th>min</th>\n",
              "      <td>1.000000</td>\n",
              "      <td>18.000000</td>\n",
              "      <td>20.000000</td>\n",
              "      <td>2.500000</td>\n",
              "      <td>1.000000</td>\n",
              "    </tr>\n",
              "    <tr>\n",
              "      <th>25%</th>\n",
              "      <td>975.750000</td>\n",
              "      <td>31.000000</td>\n",
              "      <td>39.000000</td>\n",
              "      <td>3.100000</td>\n",
              "      <td>13.000000</td>\n",
              "    </tr>\n",
              "    <tr>\n",
              "      <th>50%</th>\n",
              "      <td>1950.500000</td>\n",
              "      <td>44.000000</td>\n",
              "      <td>60.000000</td>\n",
              "      <td>3.700000</td>\n",
              "      <td>25.000000</td>\n",
              "    </tr>\n",
              "    <tr>\n",
              "      <th>75%</th>\n",
              "      <td>2925.250000</td>\n",
              "      <td>57.000000</td>\n",
              "      <td>81.000000</td>\n",
              "      <td>4.400000</td>\n",
              "      <td>38.000000</td>\n",
              "    </tr>\n",
              "    <tr>\n",
              "      <th>max</th>\n",
              "      <td>3900.000000</td>\n",
              "      <td>70.000000</td>\n",
              "      <td>100.000000</td>\n",
              "      <td>5.000000</td>\n",
              "      <td>50.000000</td>\n",
              "    </tr>\n",
              "  </tbody>\n",
              "</table>\n",
              "</div>\n",
              "    <div class=\"colab-df-buttons\">\n",
              "\n",
              "  <div class=\"colab-df-container\">\n",
              "    <button class=\"colab-df-convert\" onclick=\"convertToInteractive('df-76d1d00b-3ed6-464b-8048-f9f0b622f662')\"\n",
              "            title=\"Convert this dataframe to an interactive table.\"\n",
              "            style=\"display:none;\">\n",
              "\n",
              "  <svg xmlns=\"http://www.w3.org/2000/svg\" height=\"24px\" viewBox=\"0 -960 960 960\">\n",
              "    <path d=\"M120-120v-720h720v720H120Zm60-500h600v-160H180v160Zm220 220h160v-160H400v160Zm0 220h160v-160H400v160ZM180-400h160v-160H180v160Zm440 0h160v-160H620v160ZM180-180h160v-160H180v160Zm440 0h160v-160H620v160Z\"/>\n",
              "  </svg>\n",
              "    </button>\n",
              "\n",
              "  <style>\n",
              "    .colab-df-container {\n",
              "      display:flex;\n",
              "      gap: 12px;\n",
              "    }\n",
              "\n",
              "    .colab-df-convert {\n",
              "      background-color: #E8F0FE;\n",
              "      border: none;\n",
              "      border-radius: 50%;\n",
              "      cursor: pointer;\n",
              "      display: none;\n",
              "      fill: #1967D2;\n",
              "      height: 32px;\n",
              "      padding: 0 0 0 0;\n",
              "      width: 32px;\n",
              "    }\n",
              "\n",
              "    .colab-df-convert:hover {\n",
              "      background-color: #E2EBFA;\n",
              "      box-shadow: 0px 1px 2px rgba(60, 64, 67, 0.3), 0px 1px 3px 1px rgba(60, 64, 67, 0.15);\n",
              "      fill: #174EA6;\n",
              "    }\n",
              "\n",
              "    .colab-df-buttons div {\n",
              "      margin-bottom: 4px;\n",
              "    }\n",
              "\n",
              "    [theme=dark] .colab-df-convert {\n",
              "      background-color: #3B4455;\n",
              "      fill: #D2E3FC;\n",
              "    }\n",
              "\n",
              "    [theme=dark] .colab-df-convert:hover {\n",
              "      background-color: #434B5C;\n",
              "      box-shadow: 0px 1px 3px 1px rgba(0, 0, 0, 0.15);\n",
              "      filter: drop-shadow(0px 1px 2px rgba(0, 0, 0, 0.3));\n",
              "      fill: #FFFFFF;\n",
              "    }\n",
              "  </style>\n",
              "\n",
              "    <script>\n",
              "      const buttonEl =\n",
              "        document.querySelector('#df-76d1d00b-3ed6-464b-8048-f9f0b622f662 button.colab-df-convert');\n",
              "      buttonEl.style.display =\n",
              "        google.colab.kernel.accessAllowed ? 'block' : 'none';\n",
              "\n",
              "      async function convertToInteractive(key) {\n",
              "        const element = document.querySelector('#df-76d1d00b-3ed6-464b-8048-f9f0b622f662');\n",
              "        const dataTable =\n",
              "          await google.colab.kernel.invokeFunction('convertToInteractive',\n",
              "                                                    [key], {});\n",
              "        if (!dataTable) return;\n",
              "\n",
              "        const docLinkHtml = 'Like what you see? Visit the ' +\n",
              "          '<a target=\"_blank\" href=https://colab.research.google.com/notebooks/data_table.ipynb>data table notebook</a>'\n",
              "          + ' to learn more about interactive tables.';\n",
              "        element.innerHTML = '';\n",
              "        dataTable['output_type'] = 'display_data';\n",
              "        await google.colab.output.renderOutput(dataTable, element);\n",
              "        const docLink = document.createElement('div');\n",
              "        docLink.innerHTML = docLinkHtml;\n",
              "        element.appendChild(docLink);\n",
              "      }\n",
              "    </script>\n",
              "  </div>\n",
              "\n",
              "\n",
              "<div id=\"df-6a9f033e-3684-401b-a379-3b8218c32cc6\">\n",
              "  <button class=\"colab-df-quickchart\" onclick=\"quickchart('df-6a9f033e-3684-401b-a379-3b8218c32cc6')\"\n",
              "            title=\"Suggest charts\"\n",
              "            style=\"display:none;\">\n",
              "\n",
              "<svg xmlns=\"http://www.w3.org/2000/svg\" height=\"24px\"viewBox=\"0 0 24 24\"\n",
              "     width=\"24px\">\n",
              "    <g>\n",
              "        <path d=\"M19 3H5c-1.1 0-2 .9-2 2v14c0 1.1.9 2 2 2h14c1.1 0 2-.9 2-2V5c0-1.1-.9-2-2-2zM9 17H7v-7h2v7zm4 0h-2V7h2v10zm4 0h-2v-4h2v4z\"/>\n",
              "    </g>\n",
              "</svg>\n",
              "  </button>\n",
              "\n",
              "<style>\n",
              "  .colab-df-quickchart {\n",
              "      --bg-color: #E8F0FE;\n",
              "      --fill-color: #1967D2;\n",
              "      --hover-bg-color: #E2EBFA;\n",
              "      --hover-fill-color: #174EA6;\n",
              "      --disabled-fill-color: #AAA;\n",
              "      --disabled-bg-color: #DDD;\n",
              "  }\n",
              "\n",
              "  [theme=dark] .colab-df-quickchart {\n",
              "      --bg-color: #3B4455;\n",
              "      --fill-color: #D2E3FC;\n",
              "      --hover-bg-color: #434B5C;\n",
              "      --hover-fill-color: #FFFFFF;\n",
              "      --disabled-bg-color: #3B4455;\n",
              "      --disabled-fill-color: #666;\n",
              "  }\n",
              "\n",
              "  .colab-df-quickchart {\n",
              "    background-color: var(--bg-color);\n",
              "    border: none;\n",
              "    border-radius: 50%;\n",
              "    cursor: pointer;\n",
              "    display: none;\n",
              "    fill: var(--fill-color);\n",
              "    height: 32px;\n",
              "    padding: 0;\n",
              "    width: 32px;\n",
              "  }\n",
              "\n",
              "  .colab-df-quickchart:hover {\n",
              "    background-color: var(--hover-bg-color);\n",
              "    box-shadow: 0 1px 2px rgba(60, 64, 67, 0.3), 0 1px 3px 1px rgba(60, 64, 67, 0.15);\n",
              "    fill: var(--button-hover-fill-color);\n",
              "  }\n",
              "\n",
              "  .colab-df-quickchart-complete:disabled,\n",
              "  .colab-df-quickchart-complete:disabled:hover {\n",
              "    background-color: var(--disabled-bg-color);\n",
              "    fill: var(--disabled-fill-color);\n",
              "    box-shadow: none;\n",
              "  }\n",
              "\n",
              "  .colab-df-spinner {\n",
              "    border: 2px solid var(--fill-color);\n",
              "    border-color: transparent;\n",
              "    border-bottom-color: var(--fill-color);\n",
              "    animation:\n",
              "      spin 1s steps(1) infinite;\n",
              "  }\n",
              "\n",
              "  @keyframes spin {\n",
              "    0% {\n",
              "      border-color: transparent;\n",
              "      border-bottom-color: var(--fill-color);\n",
              "      border-left-color: var(--fill-color);\n",
              "    }\n",
              "    20% {\n",
              "      border-color: transparent;\n",
              "      border-left-color: var(--fill-color);\n",
              "      border-top-color: var(--fill-color);\n",
              "    }\n",
              "    30% {\n",
              "      border-color: transparent;\n",
              "      border-left-color: var(--fill-color);\n",
              "      border-top-color: var(--fill-color);\n",
              "      border-right-color: var(--fill-color);\n",
              "    }\n",
              "    40% {\n",
              "      border-color: transparent;\n",
              "      border-right-color: var(--fill-color);\n",
              "      border-top-color: var(--fill-color);\n",
              "    }\n",
              "    60% {\n",
              "      border-color: transparent;\n",
              "      border-right-color: var(--fill-color);\n",
              "    }\n",
              "    80% {\n",
              "      border-color: transparent;\n",
              "      border-right-color: var(--fill-color);\n",
              "      border-bottom-color: var(--fill-color);\n",
              "    }\n",
              "    90% {\n",
              "      border-color: transparent;\n",
              "      border-bottom-color: var(--fill-color);\n",
              "    }\n",
              "  }\n",
              "</style>\n",
              "\n",
              "  <script>\n",
              "    async function quickchart(key) {\n",
              "      const quickchartButtonEl =\n",
              "        document.querySelector('#' + key + ' button');\n",
              "      quickchartButtonEl.disabled = true;  // To prevent multiple clicks.\n",
              "      quickchartButtonEl.classList.add('colab-df-spinner');\n",
              "      try {\n",
              "        const charts = await google.colab.kernel.invokeFunction(\n",
              "            'suggestCharts', [key], {});\n",
              "      } catch (error) {\n",
              "        console.error('Error during call to suggestCharts:', error);\n",
              "      }\n",
              "      quickchartButtonEl.classList.remove('colab-df-spinner');\n",
              "      quickchartButtonEl.classList.add('colab-df-quickchart-complete');\n",
              "    }\n",
              "    (() => {\n",
              "      let quickchartButtonEl =\n",
              "        document.querySelector('#df-6a9f033e-3684-401b-a379-3b8218c32cc6 button');\n",
              "      quickchartButtonEl.style.display =\n",
              "        google.colab.kernel.accessAllowed ? 'block' : 'none';\n",
              "    })();\n",
              "  </script>\n",
              "</div>\n",
              "\n",
              "    </div>\n",
              "  </div>\n"
            ],
            "application/vnd.google.colaboratory.intrinsic+json": {
              "type": "dataframe",
              "summary": "{\n  \"name\": \"shop\",\n  \"rows\": 8,\n  \"fields\": [\n    {\n      \"column\": \"Customer ID\",\n      \"properties\": {\n        \"dtype\": \"number\",\n        \"std\": 1405.274081775269,\n        \"min\": 1.0,\n        \"max\": 3900.0,\n        \"num_unique_values\": 6,\n        \"samples\": [\n          3900.0,\n          1950.5,\n          2925.25\n        ],\n        \"semantic_type\": \"\",\n        \"description\": \"\"\n      }\n    },\n    {\n      \"column\": \"Age\",\n      \"properties\": {\n        \"dtype\": \"number\",\n        \"std\": 1364.878318051572,\n        \"min\": 15.20758912716238,\n        \"max\": 3900.0,\n        \"num_unique_values\": 8,\n        \"samples\": [\n          44.06846153846154,\n          44.0,\n          3900.0\n        ],\n        \"semantic_type\": \"\",\n        \"description\": \"\"\n      }\n    },\n    {\n      \"column\": \"Purchase Amount (USD)\",\n      \"properties\": {\n        \"dtype\": \"number\",\n        \"std\": 1359.7647934740537,\n        \"min\": 20.0,\n        \"max\": 3900.0,\n        \"num_unique_values\": 8,\n        \"samples\": [\n          59.76435897435898,\n          60.0,\n          3900.0\n        ],\n        \"semantic_type\": \"\",\n        \"description\": \"\"\n      }\n    },\n    {\n      \"column\": \"Review Rating\",\n      \"properties\": {\n        \"dtype\": \"number\",\n        \"std\": 1377.6887676679473,\n        \"min\": 0.7162228139312449,\n        \"max\": 3900.0,\n        \"num_unique_values\": 8,\n        \"samples\": [\n          3.7499487179487176,\n          3.7,\n          3900.0\n        ],\n        \"semantic_type\": \"\",\n        \"description\": \"\"\n      }\n    },\n    {\n      \"column\": \"Previous Purchases\",\n      \"properties\": {\n        \"dtype\": \"number\",\n        \"std\": 1370.5178374100155,\n        \"min\": 1.0,\n        \"max\": 3900.0,\n        \"num_unique_values\": 8,\n        \"samples\": [\n          25.35153846153846,\n          25.0,\n          3900.0\n        ],\n        \"semantic_type\": \"\",\n        \"description\": \"\"\n      }\n    }\n  ]\n}"
            }
          },
          "metadata": {},
          "execution_count": 45
        }
      ]
    },
    {
      "cell_type": "code",
      "source": [
        "shop.describe(include='object')"
      ],
      "metadata": {
        "colab": {
          "base_uri": "https://localhost:8080/",
          "height": 247
        },
        "id": "jWd7tBpXm7x2",
        "outputId": "aa65fdd9-dbcf-413c-bf50-6a6c9e6205b2"
      },
      "execution_count": null,
      "outputs": [
        {
          "output_type": "execute_result",
          "data": {
            "text/plain": [
              "       Gender Item Purchased  Category Location  Size  Color  Season  \\\n",
              "count    3900           3900      3900     3900  3900   3900    3900   \n",
              "unique      2             25         4       50     4     25       4   \n",
              "top      Male         Blouse  Clothing  Montana     M  Olive  Spring   \n",
              "freq     2652            171      1737       96  1755    177     999   \n",
              "\n",
              "       Subscription Status  Shipping Type Discount Applied Promo Code Used  \\\n",
              "count                 3900           3900             3900            3900   \n",
              "unique                   2              6                2               2   \n",
              "top                     No  Free Shipping               No              No   \n",
              "freq                  2847            675             2223            2223   \n",
              "\n",
              "       Payment Method Frequency of Purchases  \n",
              "count            3900                   3900  \n",
              "unique              6                      7  \n",
              "top            PayPal         Every 3 Months  \n",
              "freq              677                    584  "
            ],
            "text/html": [
              "\n",
              "  <div id=\"df-9866f813-76fd-49e6-973c-44e538a5ea50\" class=\"colab-df-container\">\n",
              "    <div>\n",
              "<style scoped>\n",
              "    .dataframe tbody tr th:only-of-type {\n",
              "        vertical-align: middle;\n",
              "    }\n",
              "\n",
              "    .dataframe tbody tr th {\n",
              "        vertical-align: top;\n",
              "    }\n",
              "\n",
              "    .dataframe thead th {\n",
              "        text-align: right;\n",
              "    }\n",
              "</style>\n",
              "<table border=\"1\" class=\"dataframe\">\n",
              "  <thead>\n",
              "    <tr style=\"text-align: right;\">\n",
              "      <th></th>\n",
              "      <th>Gender</th>\n",
              "      <th>Item Purchased</th>\n",
              "      <th>Category</th>\n",
              "      <th>Location</th>\n",
              "      <th>Size</th>\n",
              "      <th>Color</th>\n",
              "      <th>Season</th>\n",
              "      <th>Subscription Status</th>\n",
              "      <th>Shipping Type</th>\n",
              "      <th>Discount Applied</th>\n",
              "      <th>Promo Code Used</th>\n",
              "      <th>Payment Method</th>\n",
              "      <th>Frequency of Purchases</th>\n",
              "    </tr>\n",
              "  </thead>\n",
              "  <tbody>\n",
              "    <tr>\n",
              "      <th>count</th>\n",
              "      <td>3900</td>\n",
              "      <td>3900</td>\n",
              "      <td>3900</td>\n",
              "      <td>3900</td>\n",
              "      <td>3900</td>\n",
              "      <td>3900</td>\n",
              "      <td>3900</td>\n",
              "      <td>3900</td>\n",
              "      <td>3900</td>\n",
              "      <td>3900</td>\n",
              "      <td>3900</td>\n",
              "      <td>3900</td>\n",
              "      <td>3900</td>\n",
              "    </tr>\n",
              "    <tr>\n",
              "      <th>unique</th>\n",
              "      <td>2</td>\n",
              "      <td>25</td>\n",
              "      <td>4</td>\n",
              "      <td>50</td>\n",
              "      <td>4</td>\n",
              "      <td>25</td>\n",
              "      <td>4</td>\n",
              "      <td>2</td>\n",
              "      <td>6</td>\n",
              "      <td>2</td>\n",
              "      <td>2</td>\n",
              "      <td>6</td>\n",
              "      <td>7</td>\n",
              "    </tr>\n",
              "    <tr>\n",
              "      <th>top</th>\n",
              "      <td>Male</td>\n",
              "      <td>Blouse</td>\n",
              "      <td>Clothing</td>\n",
              "      <td>Montana</td>\n",
              "      <td>M</td>\n",
              "      <td>Olive</td>\n",
              "      <td>Spring</td>\n",
              "      <td>No</td>\n",
              "      <td>Free Shipping</td>\n",
              "      <td>No</td>\n",
              "      <td>No</td>\n",
              "      <td>PayPal</td>\n",
              "      <td>Every 3 Months</td>\n",
              "    </tr>\n",
              "    <tr>\n",
              "      <th>freq</th>\n",
              "      <td>2652</td>\n",
              "      <td>171</td>\n",
              "      <td>1737</td>\n",
              "      <td>96</td>\n",
              "      <td>1755</td>\n",
              "      <td>177</td>\n",
              "      <td>999</td>\n",
              "      <td>2847</td>\n",
              "      <td>675</td>\n",
              "      <td>2223</td>\n",
              "      <td>2223</td>\n",
              "      <td>677</td>\n",
              "      <td>584</td>\n",
              "    </tr>\n",
              "  </tbody>\n",
              "</table>\n",
              "</div>\n",
              "    <div class=\"colab-df-buttons\">\n",
              "\n",
              "  <div class=\"colab-df-container\">\n",
              "    <button class=\"colab-df-convert\" onclick=\"convertToInteractive('df-9866f813-76fd-49e6-973c-44e538a5ea50')\"\n",
              "            title=\"Convert this dataframe to an interactive table.\"\n",
              "            style=\"display:none;\">\n",
              "\n",
              "  <svg xmlns=\"http://www.w3.org/2000/svg\" height=\"24px\" viewBox=\"0 -960 960 960\">\n",
              "    <path d=\"M120-120v-720h720v720H120Zm60-500h600v-160H180v160Zm220 220h160v-160H400v160Zm0 220h160v-160H400v160ZM180-400h160v-160H180v160Zm440 0h160v-160H620v160ZM180-180h160v-160H180v160Zm440 0h160v-160H620v160Z\"/>\n",
              "  </svg>\n",
              "    </button>\n",
              "\n",
              "  <style>\n",
              "    .colab-df-container {\n",
              "      display:flex;\n",
              "      gap: 12px;\n",
              "    }\n",
              "\n",
              "    .colab-df-convert {\n",
              "      background-color: #E8F0FE;\n",
              "      border: none;\n",
              "      border-radius: 50%;\n",
              "      cursor: pointer;\n",
              "      display: none;\n",
              "      fill: #1967D2;\n",
              "      height: 32px;\n",
              "      padding: 0 0 0 0;\n",
              "      width: 32px;\n",
              "    }\n",
              "\n",
              "    .colab-df-convert:hover {\n",
              "      background-color: #E2EBFA;\n",
              "      box-shadow: 0px 1px 2px rgba(60, 64, 67, 0.3), 0px 1px 3px 1px rgba(60, 64, 67, 0.15);\n",
              "      fill: #174EA6;\n",
              "    }\n",
              "\n",
              "    .colab-df-buttons div {\n",
              "      margin-bottom: 4px;\n",
              "    }\n",
              "\n",
              "    [theme=dark] .colab-df-convert {\n",
              "      background-color: #3B4455;\n",
              "      fill: #D2E3FC;\n",
              "    }\n",
              "\n",
              "    [theme=dark] .colab-df-convert:hover {\n",
              "      background-color: #434B5C;\n",
              "      box-shadow: 0px 1px 3px 1px rgba(0, 0, 0, 0.15);\n",
              "      filter: drop-shadow(0px 1px 2px rgba(0, 0, 0, 0.3));\n",
              "      fill: #FFFFFF;\n",
              "    }\n",
              "  </style>\n",
              "\n",
              "    <script>\n",
              "      const buttonEl =\n",
              "        document.querySelector('#df-9866f813-76fd-49e6-973c-44e538a5ea50 button.colab-df-convert');\n",
              "      buttonEl.style.display =\n",
              "        google.colab.kernel.accessAllowed ? 'block' : 'none';\n",
              "\n",
              "      async function convertToInteractive(key) {\n",
              "        const element = document.querySelector('#df-9866f813-76fd-49e6-973c-44e538a5ea50');\n",
              "        const dataTable =\n",
              "          await google.colab.kernel.invokeFunction('convertToInteractive',\n",
              "                                                    [key], {});\n",
              "        if (!dataTable) return;\n",
              "\n",
              "        const docLinkHtml = 'Like what you see? Visit the ' +\n",
              "          '<a target=\"_blank\" href=https://colab.research.google.com/notebooks/data_table.ipynb>data table notebook</a>'\n",
              "          + ' to learn more about interactive tables.';\n",
              "        element.innerHTML = '';\n",
              "        dataTable['output_type'] = 'display_data';\n",
              "        await google.colab.output.renderOutput(dataTable, element);\n",
              "        const docLink = document.createElement('div');\n",
              "        docLink.innerHTML = docLinkHtml;\n",
              "        element.appendChild(docLink);\n",
              "      }\n",
              "    </script>\n",
              "  </div>\n",
              "\n",
              "\n",
              "<div id=\"df-093ebaa4-b916-4233-9748-0b104a748e66\">\n",
              "  <button class=\"colab-df-quickchart\" onclick=\"quickchart('df-093ebaa4-b916-4233-9748-0b104a748e66')\"\n",
              "            title=\"Suggest charts\"\n",
              "            style=\"display:none;\">\n",
              "\n",
              "<svg xmlns=\"http://www.w3.org/2000/svg\" height=\"24px\"viewBox=\"0 0 24 24\"\n",
              "     width=\"24px\">\n",
              "    <g>\n",
              "        <path d=\"M19 3H5c-1.1 0-2 .9-2 2v14c0 1.1.9 2 2 2h14c1.1 0 2-.9 2-2V5c0-1.1-.9-2-2-2zM9 17H7v-7h2v7zm4 0h-2V7h2v10zm4 0h-2v-4h2v4z\"/>\n",
              "    </g>\n",
              "</svg>\n",
              "  </button>\n",
              "\n",
              "<style>\n",
              "  .colab-df-quickchart {\n",
              "      --bg-color: #E8F0FE;\n",
              "      --fill-color: #1967D2;\n",
              "      --hover-bg-color: #E2EBFA;\n",
              "      --hover-fill-color: #174EA6;\n",
              "      --disabled-fill-color: #AAA;\n",
              "      --disabled-bg-color: #DDD;\n",
              "  }\n",
              "\n",
              "  [theme=dark] .colab-df-quickchart {\n",
              "      --bg-color: #3B4455;\n",
              "      --fill-color: #D2E3FC;\n",
              "      --hover-bg-color: #434B5C;\n",
              "      --hover-fill-color: #FFFFFF;\n",
              "      --disabled-bg-color: #3B4455;\n",
              "      --disabled-fill-color: #666;\n",
              "  }\n",
              "\n",
              "  .colab-df-quickchart {\n",
              "    background-color: var(--bg-color);\n",
              "    border: none;\n",
              "    border-radius: 50%;\n",
              "    cursor: pointer;\n",
              "    display: none;\n",
              "    fill: var(--fill-color);\n",
              "    height: 32px;\n",
              "    padding: 0;\n",
              "    width: 32px;\n",
              "  }\n",
              "\n",
              "  .colab-df-quickchart:hover {\n",
              "    background-color: var(--hover-bg-color);\n",
              "    box-shadow: 0 1px 2px rgba(60, 64, 67, 0.3), 0 1px 3px 1px rgba(60, 64, 67, 0.15);\n",
              "    fill: var(--button-hover-fill-color);\n",
              "  }\n",
              "\n",
              "  .colab-df-quickchart-complete:disabled,\n",
              "  .colab-df-quickchart-complete:disabled:hover {\n",
              "    background-color: var(--disabled-bg-color);\n",
              "    fill: var(--disabled-fill-color);\n",
              "    box-shadow: none;\n",
              "  }\n",
              "\n",
              "  .colab-df-spinner {\n",
              "    border: 2px solid var(--fill-color);\n",
              "    border-color: transparent;\n",
              "    border-bottom-color: var(--fill-color);\n",
              "    animation:\n",
              "      spin 1s steps(1) infinite;\n",
              "  }\n",
              "\n",
              "  @keyframes spin {\n",
              "    0% {\n",
              "      border-color: transparent;\n",
              "      border-bottom-color: var(--fill-color);\n",
              "      border-left-color: var(--fill-color);\n",
              "    }\n",
              "    20% {\n",
              "      border-color: transparent;\n",
              "      border-left-color: var(--fill-color);\n",
              "      border-top-color: var(--fill-color);\n",
              "    }\n",
              "    30% {\n",
              "      border-color: transparent;\n",
              "      border-left-color: var(--fill-color);\n",
              "      border-top-color: var(--fill-color);\n",
              "      border-right-color: var(--fill-color);\n",
              "    }\n",
              "    40% {\n",
              "      border-color: transparent;\n",
              "      border-right-color: var(--fill-color);\n",
              "      border-top-color: var(--fill-color);\n",
              "    }\n",
              "    60% {\n",
              "      border-color: transparent;\n",
              "      border-right-color: var(--fill-color);\n",
              "    }\n",
              "    80% {\n",
              "      border-color: transparent;\n",
              "      border-right-color: var(--fill-color);\n",
              "      border-bottom-color: var(--fill-color);\n",
              "    }\n",
              "    90% {\n",
              "      border-color: transparent;\n",
              "      border-bottom-color: var(--fill-color);\n",
              "    }\n",
              "  }\n",
              "</style>\n",
              "\n",
              "  <script>\n",
              "    async function quickchart(key) {\n",
              "      const quickchartButtonEl =\n",
              "        document.querySelector('#' + key + ' button');\n",
              "      quickchartButtonEl.disabled = true;  // To prevent multiple clicks.\n",
              "      quickchartButtonEl.classList.add('colab-df-spinner');\n",
              "      try {\n",
              "        const charts = await google.colab.kernel.invokeFunction(\n",
              "            'suggestCharts', [key], {});\n",
              "      } catch (error) {\n",
              "        console.error('Error during call to suggestCharts:', error);\n",
              "      }\n",
              "      quickchartButtonEl.classList.remove('colab-df-spinner');\n",
              "      quickchartButtonEl.classList.add('colab-df-quickchart-complete');\n",
              "    }\n",
              "    (() => {\n",
              "      let quickchartButtonEl =\n",
              "        document.querySelector('#df-093ebaa4-b916-4233-9748-0b104a748e66 button');\n",
              "      quickchartButtonEl.style.display =\n",
              "        google.colab.kernel.accessAllowed ? 'block' : 'none';\n",
              "    })();\n",
              "  </script>\n",
              "</div>\n",
              "\n",
              "    </div>\n",
              "  </div>\n"
            ],
            "application/vnd.google.colaboratory.intrinsic+json": {
              "type": "dataframe",
              "summary": "{\n  \"name\": \"shop\",\n  \"rows\": 4,\n  \"fields\": [\n    {\n      \"column\": \"Gender\",\n      \"properties\": {\n        \"dtype\": \"string\",\n        \"num_unique_values\": 4,\n        \"samples\": [\n          2,\n          \"2652\",\n          \"3900\"\n        ],\n        \"semantic_type\": \"\",\n        \"description\": \"\"\n      }\n    },\n    {\n      \"column\": \"Item Purchased\",\n      \"properties\": {\n        \"dtype\": \"string\",\n        \"num_unique_values\": 4,\n        \"samples\": [\n          25,\n          \"171\",\n          \"3900\"\n        ],\n        \"semantic_type\": \"\",\n        \"description\": \"\"\n      }\n    },\n    {\n      \"column\": \"Category\",\n      \"properties\": {\n        \"dtype\": \"string\",\n        \"num_unique_values\": 4,\n        \"samples\": [\n          4,\n          \"1737\",\n          \"3900\"\n        ],\n        \"semantic_type\": \"\",\n        \"description\": \"\"\n      }\n    },\n    {\n      \"column\": \"Location\",\n      \"properties\": {\n        \"dtype\": \"string\",\n        \"num_unique_values\": 4,\n        \"samples\": [\n          50,\n          \"96\",\n          \"3900\"\n        ],\n        \"semantic_type\": \"\",\n        \"description\": \"\"\n      }\n    },\n    {\n      \"column\": \"Size\",\n      \"properties\": {\n        \"dtype\": \"string\",\n        \"num_unique_values\": 4,\n        \"samples\": [\n          4,\n          \"1755\",\n          \"3900\"\n        ],\n        \"semantic_type\": \"\",\n        \"description\": \"\"\n      }\n    },\n    {\n      \"column\": \"Color\",\n      \"properties\": {\n        \"dtype\": \"string\",\n        \"num_unique_values\": 4,\n        \"samples\": [\n          25,\n          \"177\",\n          \"3900\"\n        ],\n        \"semantic_type\": \"\",\n        \"description\": \"\"\n      }\n    },\n    {\n      \"column\": \"Season\",\n      \"properties\": {\n        \"dtype\": \"string\",\n        \"num_unique_values\": 4,\n        \"samples\": [\n          4,\n          \"999\",\n          \"3900\"\n        ],\n        \"semantic_type\": \"\",\n        \"description\": \"\"\n      }\n    },\n    {\n      \"column\": \"Subscription Status\",\n      \"properties\": {\n        \"dtype\": \"string\",\n        \"num_unique_values\": 4,\n        \"samples\": [\n          2,\n          \"2847\",\n          \"3900\"\n        ],\n        \"semantic_type\": \"\",\n        \"description\": \"\"\n      }\n    },\n    {\n      \"column\": \"Shipping Type\",\n      \"properties\": {\n        \"dtype\": \"string\",\n        \"num_unique_values\": 4,\n        \"samples\": [\n          6,\n          \"675\",\n          \"3900\"\n        ],\n        \"semantic_type\": \"\",\n        \"description\": \"\"\n      }\n    },\n    {\n      \"column\": \"Discount Applied\",\n      \"properties\": {\n        \"dtype\": \"string\",\n        \"num_unique_values\": 4,\n        \"samples\": [\n          2,\n          \"2223\",\n          \"3900\"\n        ],\n        \"semantic_type\": \"\",\n        \"description\": \"\"\n      }\n    },\n    {\n      \"column\": \"Promo Code Used\",\n      \"properties\": {\n        \"dtype\": \"string\",\n        \"num_unique_values\": 4,\n        \"samples\": [\n          2,\n          \"2223\",\n          \"3900\"\n        ],\n        \"semantic_type\": \"\",\n        \"description\": \"\"\n      }\n    },\n    {\n      \"column\": \"Payment Method\",\n      \"properties\": {\n        \"dtype\": \"string\",\n        \"num_unique_values\": 4,\n        \"samples\": [\n          6,\n          \"677\",\n          \"3900\"\n        ],\n        \"semantic_type\": \"\",\n        \"description\": \"\"\n      }\n    },\n    {\n      \"column\": \"Frequency of Purchases\",\n      \"properties\": {\n        \"dtype\": \"string\",\n        \"num_unique_values\": 4,\n        \"samples\": [\n          7,\n          \"584\",\n          \"3900\"\n        ],\n        \"semantic_type\": \"\",\n        \"description\": \"\"\n      }\n    }\n  ]\n}"
            }
          },
          "metadata": {},
          "execution_count": 46
        }
      ]
    },
    {
      "cell_type": "code",
      "source": [
        "print(f\"the unique values of the 'Category' column are: {shop['Category'].unique()}\")\n"
      ],
      "metadata": {
        "colab": {
          "base_uri": "https://localhost:8080/"
        },
        "id": "FafHl5ZUpzW9",
        "outputId": "c46afad6-c393-4b11-d34c-7d4b633eb005"
      },
      "execution_count": null,
      "outputs": [
        {
          "output_type": "stream",
          "name": "stdout",
          "text": [
            "the unique values of the 'Category' column are: ['Clothing' 'Footwear' 'Outerwear' 'Accessories']\n"
          ]
        }
      ]
    },
    {
      "cell_type": "code",
      "source": [
        "print(f\"the unique values of the 'Size' column are: {shop['Size'].unique()}\")\n",
        "# This will print a blank line\n",
        "print()\n",
        "print(f\"the unique values of the 'Subscription Status' column are: {shop['Subscription Status'].unique()}\")\n",
        "# This will print a blank line\n",
        "print()\n",
        "print(f\"the unique values of the 'Shipping Type' column are: {shop['Shipping Type'].unique()}\")\n",
        "# This will print a blank line\n",
        "print()\n",
        "print(f\"the unique values of the 'Discount Applied' column are: {shop['Discount Applied'].unique()}\")\n",
        "# This will print a blank line\n",
        "print()\n",
        "print(f\"the unique values of the 'Payment Method' column are: {shop['Payment Method'].unique()}\")\n",
        "# This will print a blank line\n",
        "print()\n",
        "print(f\"the unique values of the 'Promo Code Used' column are: {shop['Promo Code Used'].unique()}\")"
      ],
      "metadata": {
        "colab": {
          "base_uri": "https://localhost:8080/"
        },
        "id": "OsV9OBn9pzUN",
        "outputId": "e0a55935-9340-4053-f115-0e5f5fa0733d"
      },
      "execution_count": null,
      "outputs": [
        {
          "output_type": "stream",
          "name": "stdout",
          "text": [
            "the unique values of the 'Size' column are: ['L' 'S' 'M' 'XL']\n",
            "\n",
            "the unique values of the 'Subscription Status' column are: ['Yes' 'No']\n",
            "\n",
            "the unique values of the 'Shipping Type' column are: ['Express' 'Free Shipping' 'Next Day Air' 'Standard' '2-Day Shipping'\n",
            " 'Store Pickup']\n",
            "\n",
            "the unique values of the 'Discount Applied' column are: ['Yes' 'No']\n",
            "\n",
            "the unique values of the 'Payment Method' column are: ['Venmo' 'Cash' 'Credit Card' 'PayPal' 'Bank Transfer' 'Debit Card']\n",
            "\n",
            "the unique values of the 'Promo Code Used' column are: ['Yes' 'No']\n"
          ]
        }
      ]
    },
    {
      "cell_type": "code",
      "source": [],
      "metadata": {
        "id": "FHEo-55gqvBr"
      },
      "execution_count": null,
      "outputs": []
    },
    {
      "cell_type": "markdown",
      "source": [
        "\n",
        "\n",
        "OBSERVATION:\n",
        "\n",
        "At our first glance at the dataset, it is clear that we have great and robust set of data made up of **39,000 rows** and **18 columns**. There are no blanks or missing data points hence, we can go ahead and analyze the data.\n",
        "\n",
        "Moving on, let’s explore the columns and their relevance to the analysis and understanding of our customers:\n",
        "\n",
        "1. **Customer ID:**  \n",
        "     \n",
        "   A specific number assigned to a customer which helps in identifying different customers.\n",
        "\n",
        "2. **Age:**  \n",
        "\n",
        "   This shows the age range of our customers and what we can expect of them such as what they buy.\n",
        "\n",
        "3. **Gender:**  \n",
        "\n",
        "   The data shows the sex of customers which allows for assessing the buying patterns of the respective sex.\n",
        "\n",
        "4. **Items Purchased:**  \n",
        "\n",
        "   This shows which items have been purchased by the customers, giving an idea about what is in demand.\n",
        "\n",
        "5. **Category:**  \n",
        "\n",
        "   It classifies the items into their various types for example, clothing, footwear, etc. It helps in trend analysis in relation to the categories.\n",
        "\n",
        "6. **Purchase Amount (USD):**  \n",
        "\n",
        "   It shows how much a customer spends on his purchases and helps us understand the amount he is willing to spend.\n",
        "\n",
        "7. **Location:**  \n",
        "\n",
        "   This shows where the customers are located which is useful in tracing geographical trends and preference.\n",
        "\n",
        "\n",
        "8. **Size**:  \n",
        "   Denotes the size of the purchased products, assisting in understanding size preferences across categories.\n",
        "\n",
        "9. **Color**:  \n",
        "   Reflects customer color preferences, aiding in trend analysis and understanding the impact on purchasing decisions.\n",
        "\n",
        "10. **Season**:  \n",
        "    Identifies the season during which purchases were made, enabling exploration of seasonal shopping trends.\n",
        "\n",
        "11. **Review Rating**:  \n",
        "    Shows customer ratings, providing valuable feedback on product satisfaction and quality.\n",
        "\n",
        "12. **Subscription Status**:  \n",
        "    Indicates whether customers have opted for a subscription, helping to understand customer loyalty and engagement.\n",
        "\n",
        "13. **Shipping Type**:  \n",
        "    Identifies the shipping methods used for delivery, shedding light on preferred shipping options.\n",
        "\n",
        "14. **Discount Applied**:  \n",
        "    Shows whether a discount was applied to purchased products, enabling analysis of the impact of discounts on customer behavior.\n",
        "\n",
        "15. **Promo Code Used**:  \n",
        "    Indicates whether customers utilized promo codes during purchases, helping evaluate the effectiveness of promotional campaigns.\n",
        "\n",
        "16. **Previous Purchases**:  \n",
        "    Reveals the number of previous purchases made by customers, aiding in understanding customer loyalty and repeat business.\n",
        "\n",
        "17. **Payment Method**:  \n",
        "    Displays the various methods used by customers to make purchases, allowing analysis of preferred payment options.\n",
        "\n",
        "18. **Frequency of Purchases**:  \n",
        "    Provides insights into how often customers make purchases, helping identify patterns and buying habits.\n",
        "\n",
        "---\n",
        "\n",
        "With this rich and diverse dataset, we are well-equipped to explore customer shopping trends, understand their preferences, and uncover valuable insights. These insights can drive informed decision-making and enhance the overall customer experience."
      ],
      "metadata": {
        "id": "icU7XIvSqwFk"
      }
    },
    {
      "cell_type": "markdown",
      "source": [
        "#1 What is the overall distribution of customer ages in the dataset?"
      ],
      "metadata": {
        "id": "bcxhJ2h8slf-"
      }
    },
    {
      "cell_type": "code",
      "source": [
        "shop['Age'].value_counts()\n"
      ],
      "metadata": {
        "colab": {
          "base_uri": "https://localhost:8080/",
          "height": 1000
        },
        "id": "aSHwYX8tpzE6",
        "outputId": "d1d6ea93-b6fb-4d5c-f887-fe6c501231d9"
      },
      "execution_count": null,
      "outputs": [
        {
          "output_type": "execute_result",
          "data": {
            "text/plain": [
              "Age\n",
              "69    88\n",
              "57    87\n",
              "41    86\n",
              "25    85\n",
              "49    84\n",
              "50    83\n",
              "54    83\n",
              "27    83\n",
              "62    83\n",
              "32    82\n",
              "19    81\n",
              "58    81\n",
              "42    80\n",
              "43    79\n",
              "28    79\n",
              "31    79\n",
              "37    77\n",
              "46    76\n",
              "29    76\n",
              "68    75\n",
              "59    75\n",
              "63    75\n",
              "56    74\n",
              "36    74\n",
              "55    73\n",
              "52    73\n",
              "64    73\n",
              "35    72\n",
              "51    72\n",
              "65    72\n",
              "40    72\n",
              "45    72\n",
              "47    71\n",
              "66    71\n",
              "30    71\n",
              "23    71\n",
              "38    70\n",
              "53    70\n",
              "18    69\n",
              "21    69\n",
              "26    69\n",
              "34    68\n",
              "48    68\n",
              "24    68\n",
              "39    68\n",
              "70    67\n",
              "22    66\n",
              "61    65\n",
              "60    65\n",
              "33    63\n",
              "20    62\n",
              "67    54\n",
              "44    51\n",
              "Name: count, dtype: int64"
            ],
            "text/html": [
              "<div>\n",
              "<style scoped>\n",
              "    .dataframe tbody tr th:only-of-type {\n",
              "        vertical-align: middle;\n",
              "    }\n",
              "\n",
              "    .dataframe tbody tr th {\n",
              "        vertical-align: top;\n",
              "    }\n",
              "\n",
              "    .dataframe thead th {\n",
              "        text-align: right;\n",
              "    }\n",
              "</style>\n",
              "<table border=\"1\" class=\"dataframe\">\n",
              "  <thead>\n",
              "    <tr style=\"text-align: right;\">\n",
              "      <th></th>\n",
              "      <th>count</th>\n",
              "    </tr>\n",
              "    <tr>\n",
              "      <th>Age</th>\n",
              "      <th></th>\n",
              "    </tr>\n",
              "  </thead>\n",
              "  <tbody>\n",
              "    <tr>\n",
              "      <th>69</th>\n",
              "      <td>88</td>\n",
              "    </tr>\n",
              "    <tr>\n",
              "      <th>57</th>\n",
              "      <td>87</td>\n",
              "    </tr>\n",
              "    <tr>\n",
              "      <th>41</th>\n",
              "      <td>86</td>\n",
              "    </tr>\n",
              "    <tr>\n",
              "      <th>25</th>\n",
              "      <td>85</td>\n",
              "    </tr>\n",
              "    <tr>\n",
              "      <th>49</th>\n",
              "      <td>84</td>\n",
              "    </tr>\n",
              "    <tr>\n",
              "      <th>50</th>\n",
              "      <td>83</td>\n",
              "    </tr>\n",
              "    <tr>\n",
              "      <th>54</th>\n",
              "      <td>83</td>\n",
              "    </tr>\n",
              "    <tr>\n",
              "      <th>27</th>\n",
              "      <td>83</td>\n",
              "    </tr>\n",
              "    <tr>\n",
              "      <th>62</th>\n",
              "      <td>83</td>\n",
              "    </tr>\n",
              "    <tr>\n",
              "      <th>32</th>\n",
              "      <td>82</td>\n",
              "    </tr>\n",
              "    <tr>\n",
              "      <th>19</th>\n",
              "      <td>81</td>\n",
              "    </tr>\n",
              "    <tr>\n",
              "      <th>58</th>\n",
              "      <td>81</td>\n",
              "    </tr>\n",
              "    <tr>\n",
              "      <th>42</th>\n",
              "      <td>80</td>\n",
              "    </tr>\n",
              "    <tr>\n",
              "      <th>43</th>\n",
              "      <td>79</td>\n",
              "    </tr>\n",
              "    <tr>\n",
              "      <th>28</th>\n",
              "      <td>79</td>\n",
              "    </tr>\n",
              "    <tr>\n",
              "      <th>31</th>\n",
              "      <td>79</td>\n",
              "    </tr>\n",
              "    <tr>\n",
              "      <th>37</th>\n",
              "      <td>77</td>\n",
              "    </tr>\n",
              "    <tr>\n",
              "      <th>46</th>\n",
              "      <td>76</td>\n",
              "    </tr>\n",
              "    <tr>\n",
              "      <th>29</th>\n",
              "      <td>76</td>\n",
              "    </tr>\n",
              "    <tr>\n",
              "      <th>68</th>\n",
              "      <td>75</td>\n",
              "    </tr>\n",
              "    <tr>\n",
              "      <th>59</th>\n",
              "      <td>75</td>\n",
              "    </tr>\n",
              "    <tr>\n",
              "      <th>63</th>\n",
              "      <td>75</td>\n",
              "    </tr>\n",
              "    <tr>\n",
              "      <th>56</th>\n",
              "      <td>74</td>\n",
              "    </tr>\n",
              "    <tr>\n",
              "      <th>36</th>\n",
              "      <td>74</td>\n",
              "    </tr>\n",
              "    <tr>\n",
              "      <th>55</th>\n",
              "      <td>73</td>\n",
              "    </tr>\n",
              "    <tr>\n",
              "      <th>52</th>\n",
              "      <td>73</td>\n",
              "    </tr>\n",
              "    <tr>\n",
              "      <th>64</th>\n",
              "      <td>73</td>\n",
              "    </tr>\n",
              "    <tr>\n",
              "      <th>35</th>\n",
              "      <td>72</td>\n",
              "    </tr>\n",
              "    <tr>\n",
              "      <th>51</th>\n",
              "      <td>72</td>\n",
              "    </tr>\n",
              "    <tr>\n",
              "      <th>65</th>\n",
              "      <td>72</td>\n",
              "    </tr>\n",
              "    <tr>\n",
              "      <th>40</th>\n",
              "      <td>72</td>\n",
              "    </tr>\n",
              "    <tr>\n",
              "      <th>45</th>\n",
              "      <td>72</td>\n",
              "    </tr>\n",
              "    <tr>\n",
              "      <th>47</th>\n",
              "      <td>71</td>\n",
              "    </tr>\n",
              "    <tr>\n",
              "      <th>66</th>\n",
              "      <td>71</td>\n",
              "    </tr>\n",
              "    <tr>\n",
              "      <th>30</th>\n",
              "      <td>71</td>\n",
              "    </tr>\n",
              "    <tr>\n",
              "      <th>23</th>\n",
              "      <td>71</td>\n",
              "    </tr>\n",
              "    <tr>\n",
              "      <th>38</th>\n",
              "      <td>70</td>\n",
              "    </tr>\n",
              "    <tr>\n",
              "      <th>53</th>\n",
              "      <td>70</td>\n",
              "    </tr>\n",
              "    <tr>\n",
              "      <th>18</th>\n",
              "      <td>69</td>\n",
              "    </tr>\n",
              "    <tr>\n",
              "      <th>21</th>\n",
              "      <td>69</td>\n",
              "    </tr>\n",
              "    <tr>\n",
              "      <th>26</th>\n",
              "      <td>69</td>\n",
              "    </tr>\n",
              "    <tr>\n",
              "      <th>34</th>\n",
              "      <td>68</td>\n",
              "    </tr>\n",
              "    <tr>\n",
              "      <th>48</th>\n",
              "      <td>68</td>\n",
              "    </tr>\n",
              "    <tr>\n",
              "      <th>24</th>\n",
              "      <td>68</td>\n",
              "    </tr>\n",
              "    <tr>\n",
              "      <th>39</th>\n",
              "      <td>68</td>\n",
              "    </tr>\n",
              "    <tr>\n",
              "      <th>70</th>\n",
              "      <td>67</td>\n",
              "    </tr>\n",
              "    <tr>\n",
              "      <th>22</th>\n",
              "      <td>66</td>\n",
              "    </tr>\n",
              "    <tr>\n",
              "      <th>61</th>\n",
              "      <td>65</td>\n",
              "    </tr>\n",
              "    <tr>\n",
              "      <th>60</th>\n",
              "      <td>65</td>\n",
              "    </tr>\n",
              "    <tr>\n",
              "      <th>33</th>\n",
              "      <td>63</td>\n",
              "    </tr>\n",
              "    <tr>\n",
              "      <th>20</th>\n",
              "      <td>62</td>\n",
              "    </tr>\n",
              "    <tr>\n",
              "      <th>67</th>\n",
              "      <td>54</td>\n",
              "    </tr>\n",
              "    <tr>\n",
              "      <th>44</th>\n",
              "      <td>51</td>\n",
              "    </tr>\n",
              "  </tbody>\n",
              "</table>\n",
              "</div><br><label><b>dtype:</b> int64</label>"
            ]
          },
          "metadata": {},
          "execution_count": 20
        }
      ]
    },
    {
      "cell_type": "code",
      "source": [
        "shop['Age'].mean()\n"
      ],
      "metadata": {
        "colab": {
          "base_uri": "https://localhost:8080/"
        },
        "id": "8F6OOh2SpzA6",
        "outputId": "096f159b-195b-4a43-f041-1e9369070c13"
      },
      "execution_count": null,
      "outputs": [
        {
          "output_type": "execute_result",
          "data": {
            "text/plain": [
              "44.06846153846154"
            ]
          },
          "metadata": {},
          "execution_count": 21
        }
      ]
    },
    {
      "cell_type": "code",
      "source": [
        "shop['Gender'].unique()\n"
      ],
      "metadata": {
        "colab": {
          "base_uri": "https://localhost:8080/"
        },
        "id": "jWjEso9vpy-L",
        "outputId": "6dfa8721-2e50-4deb-bfb5-52649e3d449f"
      },
      "execution_count": null,
      "outputs": [
        {
          "output_type": "execute_result",
          "data": {
            "text/plain": [
              "array(['Male', 'Female'], dtype=object)"
            ]
          },
          "metadata": {},
          "execution_count": 22
        }
      ]
    },
    {
      "cell_type": "code",
      "source": [
        "# Categorize the 'Age' column into age groups\n",
        "shop['Age_category'] = pd.cut(shop['Age'], bins=[0, 10, 15, 18, 30, 50, 70],\n",
        "                              labels=['Child', 'Teen', 'Young Adult', 'Adult', 'Middle Aged', 'Senior'])\n"
      ],
      "metadata": {
        "id": "mjv2xbvupy4y"
      },
      "execution_count": null,
      "outputs": []
    },
    {
      "cell_type": "code",
      "source": [
        " #Create a histogram based on the 'Age_category'\n",
        "fig = px.histogram(shop, x='Age_category', title='Age Distribution by Category')\n",
        "\n",
        "fig.show()"
      ],
      "metadata": {
        "colab": {
          "base_uri": "https://localhost:8080/",
          "height": 542
        },
        "id": "JqKdHnAIpyxi",
        "outputId": "4b7ffc7f-a98a-4180-c860-e5be1191d8c5"
      },
      "execution_count": null,
      "outputs": [
        {
          "output_type": "display_data",
          "data": {
            "text/html": [
              "<html>\n",
              "<head><meta charset=\"utf-8\" /></head>\n",
              "<body>\n",
              "    <div>            <script src=\"https://cdnjs.cloudflare.com/ajax/libs/mathjax/2.7.5/MathJax.js?config=TeX-AMS-MML_SVG\"></script><script type=\"text/javascript\">if (window.MathJax && window.MathJax.Hub && window.MathJax.Hub.Config) {window.MathJax.Hub.Config({SVG: {font: \"STIX-Web\"}});}</script>                <script type=\"text/javascript\">window.PlotlyConfig = {MathJaxConfig: 'local'};</script>\n",
              "        <script charset=\"utf-8\" src=\"https://cdn.plot.ly/plotly-2.35.2.min.js\"></script>                <div id=\"971c686c-4257-41cc-9a43-f9a7f9fb6cab\" class=\"plotly-graph-div\" style=\"height:525px; width:100%;\"></div>            <script type=\"text/javascript\">                                    window.PLOTLYENV=window.PLOTLYENV || {};                                    if (document.getElementById(\"971c686c-4257-41cc-9a43-f9a7f9fb6cab\")) {                    Plotly.newPlot(                        \"971c686c-4257-41cc-9a43-f9a7f9fb6cab\",                        [{\"alignmentgroup\":\"True\",\"bingroup\":\"x\",\"hovertemplate\":\"Age_category=%{x}\\u003cbr\\u003ecount=%{y}\\u003cextra\\u003e\\u003c\\u002fextra\\u003e\",\"legendgroup\":\"\",\"marker\":{\"color\":\"#636efa\",\"pattern\":{\"shape\":\"\"}},\"name\":\"\",\"offsetgroup\":\"\",\"orientation\":\"v\",\"showlegend\":false,\"x\":[\"Senior\",\"Adult\",\"Middle Aged\",\"Adult\",\"Middle Aged\",\"Middle Aged\",\"Senior\",\"Adult\",\"Adult\",\"Senior\",\"Senior\",\"Adult\",\"Senior\",\"Senior\",\"Senior\",\"Senior\",\"Adult\",\"Senior\",\"Senior\",\"Senior\",\"Adult\",\"Middle Aged\",\"Senior\",\"Middle Aged\",\"Young Adult\",\"Young Adult\",\"Middle Aged\",\"Senior\",\"Senior\",\"Middle Aged\",\"Senior\",\"Middle Aged\",\"Middle Aged\",\"Senior\",\"Middle Aged\",\"Senior\",\"Middle Aged\",\"Middle Aged\",\"Adult\",\"Senior\",\"Senior\",\"Senior\",\"Adult\",\"Adult\",\"Middle Aged\",\"Middle Aged\",\"Senior\",\"Senior\",\"Middle Aged\",\"Senior\",\"Middle Aged\",\"Senior\",\"Middle Aged\",\"Adult\",\"Middle Aged\",\"Middle Aged\",\"Middle Aged\",\"Adult\",\"Senior\",\"Senior\",\"Middle Aged\",\"Senior\",\"Adult\",\"Middle Aged\",\"Senior\",\"Senior\",\"Middle Aged\",\"Middle Aged\",\"Senior\",\"Middle Aged\",\"Adult\",\"Middle Aged\",\"Young Adult\",\"Middle Aged\",\"Middle Aged\",\"Senior\",\"Middle Aged\",\"Adult\",\"Middle Aged\",\"Middle Aged\",\"Adult\",\"Senior\",\"Adult\",\"Middle Aged\",\"Senior\",\"Senior\",\"Adult\",\"Senior\",\"Middle Aged\",\"Middle Aged\",\"Adult\",\"Middle Aged\",\"Senior\",\"Middle Aged\",\"Senior\",\"Middle Aged\",\"Middle Aged\",\"Adult\",\"Adult\",\"Adult\",\"Senior\",\"Adult\",\"Senior\",\"Senior\",\"Senior\",\"Senior\",\"Senior\",\"Adult\",\"Senior\",\"Senior\",\"Senior\",\"Adult\",\"Middle Aged\",\"Middle Aged\",\"Senior\",\"Senior\",\"Senior\",\"Middle Aged\",\"Middle Aged\",\"Middle Aged\",\"Senior\",\"Adult\",\"Middle Aged\",\"Senior\",\"Middle Aged\",\"Middle Aged\",\"Middle Aged\",\"Adult\",\"Adult\",\"Adult\",\"Middle Aged\",\"Adult\",\"Adult\",\"Senior\",\"Middle Aged\",\"Middle Aged\",\"Middle Aged\",\"Senior\",\"Senior\",\"Middle Aged\",\"Senior\",\"Senior\",\"Middle Aged\",\"Adult\",\"Adult\",\"Adult\",\"Senior\",\"Senior\",\"Middle Aged\",\"Middle Aged\",\"Middle Aged\",\"Adult\",\"Adult\",\"Senior\",\"Middle Aged\",\"Senior\",\"Middle Aged\",\"Middle Aged\",\"Adult\",\"Senior\",\"Adult\",\"Senior\",\"Senior\",\"Senior\",\"Senior\",\"Middle Aged\",\"Middle Aged\",\"Middle Aged\",\"Middle Aged\",\"Adult\",\"Senior\",\"Adult\",\"Senior\",\"Adult\",\"Middle Aged\",\"Senior\",\"Senior\",\"Adult\",\"Senior\",\"Senior\",\"Senior\",\"Middle Aged\",\"Middle Aged\",\"Senior\",\"Middle Aged\",\"Middle Aged\",\"Middle Aged\",\"Adult\",\"Middle Aged\",\"Middle Aged\",\"Senior\",\"Senior\",\"Middle Aged\",\"Middle Aged\",\"Senior\",\"Senior\",\"Middle Aged\",\"Senior\",\"Senior\",\"Senior\",\"Adult\",\"Senior\",\"Senior\",\"Senior\",\"Adult\",\"Senior\",\"Adult\",\"Senior\",\"Senior\",\"Senior\",\"Middle Aged\",\"Senior\",\"Senior\",\"Adult\",\"Adult\",\"Senior\",\"Middle Aged\",\"Middle Aged\",\"Adult\",\"Middle Aged\",\"Middle Aged\",\"Adult\",\"Middle Aged\",\"Adult\",\"Senior\",\"Adult\",\"Adult\",\"Middle Aged\",\"Young Adult\",\"Senior\",\"Senior\",\"Adult\",\"Senior\",\"Adult\",\"Adult\",\"Middle Aged\",\"Middle Aged\",\"Middle Aged\",\"Senior\",\"Middle Aged\",\"Middle Aged\",\"Middle Aged\",\"Senior\",\"Adult\",\"Senior\",\"Middle Aged\",\"Middle Aged\",\"Adult\",\"Middle Aged\",\"Senior\",\"Middle Aged\",\"Adult\",\"Middle Aged\",\"Senior\",\"Senior\",\"Middle Aged\",\"Senior\",\"Adult\",\"Senior\",\"Middle Aged\",\"Middle Aged\",\"Adult\",\"Middle Aged\",\"Adult\",\"Middle Aged\",\"Middle Aged\",\"Senior\",\"Senior\",\"Senior\",\"Senior\",\"Middle Aged\",\"Senior\",\"Middle Aged\",\"Senior\",\"Senior\",\"Middle Aged\",\"Adult\",\"Adult\",\"Senior\",\"Adult\",\"Middle Aged\",\"Middle Aged\",\"Adult\",\"Middle Aged\",\"Senior\",\"Adult\",\"Adult\",\"Senior\",\"Adult\",\"Middle Aged\",\"Senior\",\"Senior\",\"Senior\",\"Senior\",\"Senior\",\"Senior\",\"Adult\",\"Middle Aged\",\"Senior\",\"Adult\",\"Adult\",\"Middle Aged\",\"Middle Aged\",\"Adult\",\"Middle Aged\",\"Senior\",\"Adult\",\"Adult\",\"Senior\",\"Senior\",\"Senior\",\"Senior\",\"Middle Aged\",\"Middle Aged\",\"Adult\",\"Senior\",\"Middle Aged\",\"Senior\",\"Middle Aged\",\"Middle Aged\",\"Senior\",\"Middle Aged\",\"Middle Aged\",\"Senior\",\"Middle Aged\",\"Senior\",\"Senior\",\"Senior\",\"Middle Aged\",\"Senior\",\"Middle Aged\",\"Middle Aged\",\"Adult\",\"Middle Aged\",\"Middle Aged\",\"Adult\",\"Middle Aged\",\"Middle Aged\",\"Senior\",\"Middle Aged\",\"Middle Aged\",\"Adult\",\"Senior\",\"Adult\",\"Adult\",\"Middle Aged\",\"Middle Aged\",\"Middle Aged\",\"Senior\",\"Middle Aged\",\"Middle Aged\",\"Adult\",\"Adult\",\"Senior\",\"Senior\",\"Middle Aged\",\"Senior\",\"Young Adult\",\"Middle Aged\",\"Middle Aged\",\"Senior\",\"Senior\",\"Senior\",\"Senior\",\"Senior\",\"Senior\",\"Senior\",\"Senior\",\"Adult\",\"Middle Aged\",\"Senior\",\"Adult\",\"Adult\",\"Adult\",\"Senior\",\"Senior\",\"Senior\",\"Senior\",\"Senior\",\"Middle Aged\",\"Middle Aged\",\"Senior\",\"Adult\",\"Middle Aged\",\"Senior\",\"Senior\",\"Senior\",\"Middle Aged\",\"Adult\",\"Adult\",\"Adult\",\"Middle Aged\",\"Adult\",\"Middle Aged\",\"Middle Aged\",\"Middle Aged\",\"Middle Aged\",\"Adult\",\"Adult\",\"Senior\",\"Middle Aged\",\"Middle Aged\",\"Middle Aged\",\"Adult\",\"Middle Aged\",\"Middle Aged\",\"Senior\",\"Middle Aged\",\"Middle Aged\",\"Middle Aged\",\"Adult\",\"Senior\",\"Adult\",\"Senior\",\"Adult\",\"Senior\",\"Middle Aged\",\"Adult\",\"Young Adult\",\"Senior\",\"Middle Aged\",\"Middle Aged\",\"Middle Aged\",\"Middle Aged\",\"Senior\",\"Middle Aged\",\"Middle Aged\",\"Senior\",\"Adult\",\"Middle Aged\",\"Adult\",\"Middle Aged\",\"Middle Aged\",\"Middle Aged\",\"Middle Aged\",\"Senior\",\"Middle Aged\",\"Middle Aged\",\"Senior\",\"Senior\",\"Adult\",\"Middle Aged\",\"Adult\",\"Adult\",\"Middle Aged\",\"Middle Aged\",\"Adult\",\"Senior\",\"Middle Aged\",\"Adult\",\"Adult\",\"Senior\",\"Middle Aged\",\"Senior\",\"Middle Aged\",\"Senior\",\"Middle Aged\",\"Adult\",\"Middle Aged\",\"Senior\",\"Senior\",\"Young Adult\",\"Senior\",\"Middle Aged\",\"Adult\",\"Senior\",\"Middle Aged\",\"Adult\",\"Middle Aged\",\"Adult\",\"Middle Aged\",\"Senior\",\"Adult\",\"Middle Aged\",\"Senior\",\"Adult\",\"Adult\",\"Middle Aged\",\"Middle Aged\",\"Middle Aged\",\"Senior\",\"Middle Aged\",\"Middle Aged\",\"Adult\",\"Senior\",\"Middle Aged\",\"Middle Aged\",\"Middle Aged\",\"Senior\",\"Middle Aged\",\"Senior\",\"Middle Aged\",\"Middle Aged\",\"Adult\",\"Middle Aged\",\"Middle Aged\",\"Adult\",\"Middle Aged\",\"Middle Aged\",\"Middle Aged\",\"Middle Aged\",\"Senior\",\"Senior\",\"Senior\",\"Middle Aged\",\"Senior\",\"Adult\",\"Senior\",\"Adult\",\"Middle Aged\",\"Adult\",\"Senior\",\"Adult\",\"Adult\",\"Senior\",\"Adult\",\"Middle Aged\",\"Senior\",\"Adult\",\"Adult\",\"Senior\",\"Middle Aged\",\"Senior\",\"Middle Aged\",\"Senior\",\"Senior\",\"Senior\",\"Adult\",\"Middle Aged\",\"Middle Aged\",\"Middle Aged\",\"Middle Aged\",\"Adult\",\"Senior\",\"Senior\",\"Senior\",\"Middle Aged\",\"Middle Aged\",\"Adult\",\"Middle Aged\",\"Middle Aged\",\"Senior\",\"Adult\",\"Senior\",\"Middle Aged\",\"Middle Aged\",\"Senior\",\"Middle Aged\",\"Middle Aged\",\"Middle Aged\",\"Senior\",\"Adult\",\"Adult\",\"Senior\",\"Senior\",\"Senior\",\"Middle Aged\",\"Young Adult\",\"Middle Aged\",\"Senior\",\"Adult\",\"Senior\",\"Senior\",\"Senior\",\"Senior\",\"Senior\",\"Senior\",\"Adult\",\"Middle Aged\",\"Senior\",\"Senior\",\"Senior\",\"Senior\",\"Senior\",\"Senior\",\"Senior\",\"Middle Aged\",\"Adult\",\"Senior\",\"Senior\",\"Middle Aged\",\"Middle Aged\",\"Middle Aged\",\"Adult\",\"Senior\",\"Senior\",\"Middle Aged\",\"Adult\",\"Middle Aged\",\"Adult\",\"Senior\",\"Middle Aged\",\"Senior\",\"Senior\",\"Middle Aged\",\"Adult\",\"Adult\",\"Senior\",\"Adult\",\"Senior\",\"Adult\",\"Middle Aged\",\"Middle Aged\",\"Middle Aged\",\"Middle Aged\",\"Middle Aged\",\"Adult\",\"Middle Aged\",\"Middle Aged\",\"Senior\",\"Senior\",\"Middle Aged\",\"Senior\",\"Senior\",\"Senior\",\"Senior\",\"Adult\",\"Middle Aged\",\"Senior\",\"Adult\",\"Middle Aged\",\"Senior\",\"Senior\",\"Adult\",\"Senior\",\"Middle Aged\",\"Middle Aged\",\"Middle Aged\",\"Senior\",\"Adult\",\"Middle Aged\",\"Senior\",\"Middle Aged\",\"Senior\",\"Middle Aged\",\"Adult\",\"Middle Aged\",\"Adult\",\"Senior\",\"Senior\",\"Senior\",\"Middle Aged\",\"Senior\",\"Young Adult\",\"Senior\",\"Senior\",\"Senior\",\"Senior\",\"Adult\",\"Senior\",\"Middle Aged\",\"Middle Aged\",\"Senior\",\"Adult\",\"Adult\",\"Adult\",\"Middle Aged\",\"Middle Aged\",\"Senior\",\"Senior\",\"Middle Aged\",\"Senior\",\"Adult\",\"Senior\",\"Senior\",\"Middle Aged\",\"Middle Aged\",\"Middle Aged\",\"Middle Aged\",\"Middle Aged\",\"Senior\",\"Middle Aged\",\"Senior\",\"Middle Aged\",\"Middle Aged\",\"Senior\",\"Adult\",\"Senior\",\"Adult\",\"Senior\",\"Senior\",\"Adult\",\"Adult\",\"Middle Aged\",\"Senior\",\"Senior\",\"Senior\",\"Adult\",\"Adult\",\"Adult\",\"Adult\",\"Senior\",\"Middle Aged\",\"Middle Aged\",\"Middle Aged\",\"Adult\",\"Middle Aged\",\"Senior\",\"Senior\",\"Middle Aged\",\"Senior\",\"Senior\",\"Young Adult\",\"Senior\",\"Middle Aged\",\"Adult\",\"Middle Aged\",\"Senior\",\"Middle Aged\",\"Middle Aged\",\"Adult\",\"Senior\",\"Middle Aged\",\"Middle Aged\",\"Adult\",\"Middle Aged\",\"Adult\",\"Adult\",\"Adult\",\"Senior\",\"Middle Aged\",\"Middle Aged\",\"Adult\",\"Middle Aged\",\"Middle Aged\",\"Senior\",\"Middle Aged\",\"Senior\",\"Adult\",\"Middle Aged\",\"Middle Aged\",\"Middle Aged\",\"Middle Aged\",\"Middle Aged\",\"Senior\",\"Senior\",\"Young Adult\",\"Middle Aged\",\"Senior\",\"Senior\",\"Adult\",\"Adult\",\"Senior\",\"Adult\",\"Senior\",\"Middle Aged\",\"Middle Aged\",\"Senior\",\"Middle Aged\",\"Senior\",\"Adult\",\"Senior\",\"Middle Aged\",\"Middle Aged\",\"Middle Aged\",\"Senior\",\"Senior\",\"Middle Aged\",\"Senior\",\"Senior\",\"Middle Aged\",\"Senior\",\"Middle Aged\",\"Senior\",\"Senior\",\"Senior\",\"Senior\",\"Adult\",\"Senior\",\"Senior\",\"Adult\",\"Adult\",\"Young Adult\",\"Adult\",\"Middle Aged\",\"Middle Aged\",\"Middle Aged\",\"Senior\",\"Adult\",\"Senior\",\"Middle Aged\",\"Adult\",\"Adult\",\"Senior\",\"Middle Aged\",\"Middle Aged\",\"Senior\",\"Senior\",\"Middle Aged\",\"Middle Aged\",\"Adult\",\"Middle Aged\",\"Middle Aged\",\"Adult\",\"Senior\",\"Middle Aged\",\"Middle Aged\",\"Middle Aged\",\"Adult\",\"Senior\",\"Middle Aged\",\"Adult\",\"Middle Aged\",\"Middle Aged\",\"Middle Aged\",\"Middle Aged\",\"Senior\",\"Adult\",\"Middle Aged\",\"Middle Aged\",\"Senior\",\"Young Adult\",\"Senior\",\"Senior\",\"Middle Aged\",\"Adult\",\"Adult\",\"Adult\",\"Senior\",\"Senior\",\"Senior\",\"Senior\",\"Middle Aged\",\"Senior\",\"Senior\",\"Adult\",\"Senior\",\"Middle Aged\",\"Adult\",\"Middle Aged\",\"Middle Aged\",\"Senior\",\"Senior\",\"Middle Aged\",\"Senior\",\"Middle Aged\",\"Adult\",\"Adult\",\"Middle Aged\",\"Middle Aged\",\"Middle Aged\",\"Senior\",\"Senior\",\"Senior\",\"Senior\",\"Middle Aged\",\"Middle Aged\",\"Senior\",\"Middle Aged\",\"Adult\",\"Senior\",\"Middle Aged\",\"Middle Aged\",\"Senior\",\"Adult\",\"Senior\",\"Senior\",\"Middle Aged\",\"Adult\",\"Middle Aged\",\"Adult\",\"Middle Aged\",\"Adult\",\"Middle Aged\",\"Senior\",\"Senior\",\"Senior\",\"Middle Aged\",\"Middle Aged\",\"Middle Aged\",\"Senior\",\"Middle Aged\",\"Senior\",\"Senior\",\"Adult\",\"Middle Aged\",\"Middle Aged\",\"Senior\",\"Adult\",\"Senior\",\"Middle Aged\",\"Senior\",\"Middle Aged\",\"Adult\",\"Senior\",\"Middle Aged\",\"Adult\",\"Senior\",\"Middle Aged\",\"Senior\",\"Senior\",\"Adult\",\"Middle Aged\",\"Middle Aged\",\"Middle Aged\",\"Middle Aged\",\"Senior\",\"Adult\",\"Senior\",\"Senior\",\"Senior\",\"Senior\",\"Middle Aged\",\"Middle Aged\",\"Senior\",\"Middle Aged\",\"Middle Aged\",\"Middle Aged\",\"Adult\",\"Senior\",\"Middle Aged\",\"Senior\",\"Adult\",\"Middle Aged\",\"Middle Aged\",\"Middle Aged\",\"Middle Aged\",\"Senior\",\"Senior\",\"Middle Aged\",\"Middle Aged\",\"Senior\",\"Senior\",\"Senior\",\"Senior\",\"Adult\",\"Senior\",\"Adult\",\"Senior\",\"Senior\",\"Adult\",\"Adult\",\"Senior\",\"Senior\",\"Middle Aged\",\"Senior\",\"Middle Aged\",\"Middle Aged\",\"Middle Aged\",\"Adult\",\"Middle Aged\",\"Middle Aged\",\"Adult\",\"Middle Aged\",\"Senior\",\"Middle Aged\",\"Middle Aged\",\"Senior\",\"Middle Aged\",\"Middle Aged\",\"Senior\",\"Middle Aged\",\"Middle Aged\",\"Senior\",\"Senior\",\"Senior\",\"Adult\",\"Middle Aged\",\"Senior\",\"Middle Aged\",\"Young Adult\",\"Senior\",\"Adult\",\"Adult\",\"Middle Aged\",\"Middle Aged\",\"Senior\",\"Adult\",\"Senior\",\"Middle Aged\",\"Middle Aged\",\"Middle Aged\",\"Senior\",\"Senior\",\"Senior\",\"Senior\",\"Middle Aged\",\"Adult\",\"Senior\",\"Senior\",\"Senior\",\"Adult\",\"Middle Aged\",\"Adult\",\"Adult\",\"Middle Aged\",\"Senior\",\"Senior\",\"Middle Aged\",\"Senior\",\"Middle Aged\",\"Adult\",\"Middle Aged\",\"Senior\",\"Senior\",\"Middle Aged\",\"Adult\",\"Senior\",\"Senior\",\"Middle Aged\",\"Middle Aged\",\"Senior\",\"Senior\",\"Senior\",\"Middle Aged\",\"Middle Aged\",\"Adult\",\"Senior\",\"Middle Aged\",\"Middle Aged\",\"Senior\",\"Middle Aged\",\"Adult\",\"Senior\",\"Adult\",\"Senior\",\"Adult\",\"Adult\",\"Middle Aged\",\"Middle Aged\",\"Adult\",\"Senior\",\"Senior\",\"Senior\",\"Adult\",\"Senior\",\"Middle Aged\",\"Middle Aged\",\"Middle Aged\",\"Adult\",\"Senior\",\"Adult\",\"Senior\",\"Adult\",\"Senior\",\"Senior\",\"Senior\",\"Senior\",\"Middle Aged\",\"Adult\",\"Senior\",\"Middle Aged\",\"Senior\",\"Adult\",\"Middle Aged\",\"Senior\",\"Middle Aged\",\"Middle Aged\",\"Adult\",\"Middle Aged\",\"Middle Aged\",\"Middle Aged\",\"Senior\",\"Senior\",\"Young Adult\",\"Senior\",\"Adult\",\"Senior\",\"Adult\",\"Adult\",\"Adult\",\"Middle Aged\",\"Senior\",\"Senior\",\"Middle Aged\",\"Senior\",\"Middle Aged\",\"Young Adult\",\"Senior\",\"Middle Aged\",\"Middle Aged\",\"Senior\",\"Middle Aged\",\"Adult\",\"Middle Aged\",\"Senior\",\"Middle Aged\",\"Senior\",\"Middle Aged\",\"Young Adult\",\"Senior\",\"Senior\",\"Senior\",\"Middle Aged\",\"Middle Aged\",\"Adult\",\"Senior\",\"Middle Aged\",\"Middle Aged\",\"Middle Aged\",\"Middle Aged\",\"Middle Aged\",\"Senior\",\"Senior\",\"Adult\",\"Adult\",\"Senior\",\"Senior\",\"Middle Aged\",\"Adult\",\"Middle Aged\",\"Adult\",\"Senior\",\"Middle Aged\",\"Middle Aged\",\"Middle Aged\",\"Senior\",\"Senior\",\"Adult\",\"Senior\",\"Adult\",\"Adult\",\"Senior\",\"Adult\",\"Senior\",\"Adult\",\"Senior\",\"Adult\",\"Middle Aged\",\"Middle Aged\",\"Adult\",\"Senior\",\"Senior\",\"Middle Aged\",\"Middle Aged\",\"Adult\",\"Adult\",\"Middle Aged\",\"Senior\",\"Middle Aged\",\"Senior\",\"Senior\",\"Middle Aged\",\"Middle Aged\",\"Senior\",\"Senior\",\"Adult\",\"Middle Aged\",\"Young Adult\",\"Senior\",\"Middle Aged\",\"Middle Aged\",\"Senior\",\"Senior\",\"Middle Aged\",\"Middle Aged\",\"Middle Aged\",\"Senior\",\"Middle Aged\",\"Adult\",\"Adult\",\"Middle Aged\",\"Senior\",\"Adult\",\"Middle Aged\",\"Senior\",\"Adult\",\"Middle Aged\",\"Senior\",\"Senior\",\"Middle Aged\",\"Senior\",\"Middle Aged\",\"Adult\",\"Senior\",\"Senior\",\"Middle Aged\",\"Senior\",\"Senior\",\"Adult\",\"Senior\",\"Middle Aged\",\"Senior\",\"Middle Aged\",\"Middle Aged\",\"Middle Aged\",\"Middle Aged\",\"Senior\",\"Middle Aged\",\"Adult\",\"Adult\",\"Senior\",\"Middle Aged\",\"Adult\",\"Senior\",\"Middle Aged\",\"Senior\",\"Senior\",\"Senior\",\"Senior\",\"Senior\",\"Middle Aged\",\"Middle Aged\",\"Middle Aged\",\"Middle Aged\",\"Adult\",\"Adult\",\"Senior\",\"Middle Aged\",\"Middle Aged\",\"Adult\",\"Adult\",\"Middle Aged\",\"Middle Aged\",\"Senior\",\"Senior\",\"Adult\",\"Senior\",\"Adult\",\"Middle Aged\",\"Middle Aged\",\"Adult\",\"Middle Aged\",\"Senior\",\"Adult\",\"Senior\",\"Senior\",\"Middle Aged\",\"Senior\",\"Adult\",\"Senior\",\"Young Adult\",\"Senior\",\"Senior\",\"Senior\",\"Adult\",\"Senior\",\"Adult\",\"Senior\",\"Middle Aged\",\"Adult\",\"Senior\",\"Senior\",\"Middle Aged\",\"Middle Aged\",\"Adult\",\"Middle Aged\",\"Adult\",\"Senior\",\"Senior\",\"Middle Aged\",\"Senior\",\"Senior\",\"Adult\",\"Senior\",\"Middle Aged\",\"Adult\",\"Senior\",\"Senior\",\"Senior\",\"Senior\",\"Senior\",\"Adult\",\"Middle Aged\",\"Senior\",\"Adult\",\"Middle Aged\",\"Senior\",\"Middle Aged\",\"Senior\",\"Senior\",\"Adult\",\"Adult\",\"Middle Aged\",\"Senior\",\"Middle Aged\",\"Adult\",\"Middle Aged\",\"Adult\",\"Middle Aged\",\"Senior\",\"Senior\",\"Middle Aged\",\"Middle Aged\",\"Senior\",\"Senior\",\"Senior\",\"Adult\",\"Adult\",\"Senior\",\"Adult\",\"Adult\",\"Adult\",\"Senior\",\"Senior\",\"Senior\",\"Middle Aged\",\"Adult\",\"Senior\",\"Middle Aged\",\"Senior\",\"Senior\",\"Adult\",\"Adult\",\"Adult\",\"Adult\",\"Middle Aged\",\"Middle Aged\",\"Adult\",\"Adult\",\"Senior\",\"Middle Aged\",\"Adult\",\"Middle Aged\",\"Senior\",\"Middle Aged\",\"Senior\",\"Adult\",\"Senior\",\"Middle Aged\",\"Middle Aged\",\"Middle Aged\",\"Senior\",\"Senior\",\"Middle Aged\",\"Senior\",\"Adult\",\"Adult\",\"Senior\",\"Senior\",\"Senior\",\"Senior\",\"Adult\",\"Senior\",\"Middle Aged\",\"Adult\",\"Middle Aged\",\"Senior\",\"Middle Aged\",\"Senior\",\"Adult\",\"Middle Aged\",\"Senior\",\"Adult\",\"Middle Aged\",\"Senior\",\"Adult\",\"Middle Aged\",\"Senior\",\"Middle Aged\",\"Middle Aged\",\"Adult\",\"Senior\",\"Senior\",\"Senior\",\"Middle Aged\",\"Middle Aged\",\"Middle Aged\",\"Adult\",\"Adult\",\"Middle Aged\",\"Adult\",\"Senior\",\"Middle Aged\",\"Senior\",\"Senior\",\"Middle Aged\",\"Adult\",\"Adult\",\"Adult\",\"Senior\",\"Middle Aged\",\"Middle Aged\",\"Middle Aged\",\"Senior\",\"Adult\",\"Middle Aged\",\"Senior\",\"Adult\",\"Middle Aged\",\"Adult\",\"Middle Aged\",\"Senior\",\"Young Adult\",\"Adult\",\"Middle Aged\",\"Senior\",\"Middle Aged\",\"Middle Aged\",\"Adult\",\"Senior\",\"Adult\",\"Senior\",\"Middle Aged\",\"Middle Aged\",\"Middle Aged\",\"Senior\",\"Adult\",\"Senior\",\"Senior\",\"Adult\",\"Senior\",\"Middle Aged\",\"Middle Aged\",\"Adult\",\"Middle Aged\",\"Middle Aged\",\"Senior\",\"Adult\",\"Adult\",\"Middle Aged\",\"Adult\",\"Senior\",\"Adult\",\"Middle Aged\",\"Middle Aged\",\"Middle Aged\",\"Senior\",\"Senior\",\"Middle Aged\",\"Senior\",\"Middle Aged\",\"Adult\",\"Senior\",\"Adult\",\"Senior\",\"Middle Aged\",\"Senior\",\"Young Adult\",\"Middle Aged\",\"Adult\",\"Senior\",\"Middle Aged\",\"Senior\",\"Senior\",\"Senior\",\"Senior\",\"Middle Aged\",\"Adult\",\"Adult\",\"Middle Aged\",\"Middle Aged\",\"Middle Aged\",\"Senior\",\"Senior\",\"Middle Aged\",\"Middle Aged\",\"Senior\",\"Senior\",\"Adult\",\"Adult\",\"Middle Aged\",\"Senior\",\"Senior\",\"Middle Aged\",\"Senior\",\"Senior\",\"Adult\",\"Senior\",\"Young Adult\",\"Adult\",\"Senior\",\"Senior\",\"Middle Aged\",\"Senior\",\"Senior\",\"Senior\",\"Senior\",\"Middle Aged\",\"Adult\",\"Senior\",\"Senior\",\"Middle Aged\",\"Senior\",\"Middle Aged\",\"Middle Aged\",\"Senior\",\"Adult\",\"Middle Aged\",\"Adult\",\"Middle Aged\",\"Middle Aged\",\"Middle Aged\",\"Senior\",\"Middle Aged\",\"Middle Aged\",\"Middle Aged\",\"Adult\",\"Adult\",\"Middle Aged\",\"Middle Aged\",\"Senior\",\"Adult\",\"Middle Aged\",\"Middle Aged\",\"Adult\",\"Adult\",\"Middle Aged\",\"Adult\",\"Adult\",\"Senior\",\"Adult\",\"Senior\",\"Senior\",\"Middle Aged\",\"Middle Aged\",\"Senior\",\"Senior\",\"Senior\",\"Adult\",\"Senior\",\"Middle Aged\",\"Middle Aged\",\"Middle Aged\",\"Senior\",\"Middle Aged\",\"Middle Aged\",\"Senior\",\"Middle Aged\",\"Adult\",\"Senior\",\"Middle Aged\",\"Senior\",\"Adult\",\"Adult\",\"Middle Aged\",\"Adult\",\"Senior\",\"Senior\",\"Middle Aged\",\"Adult\",\"Adult\",\"Middle Aged\",\"Senior\",\"Adult\",\"Adult\",\"Middle Aged\",\"Adult\",\"Senior\",\"Adult\",\"Senior\",\"Senior\",\"Senior\",\"Middle Aged\",\"Senior\",\"Middle Aged\",\"Young Adult\",\"Senior\",\"Senior\",\"Middle Aged\",\"Adult\",\"Adult\",\"Senior\",\"Senior\",\"Adult\",\"Middle Aged\",\"Senior\",\"Middle Aged\",\"Senior\",\"Adult\",\"Senior\",\"Senior\",\"Senior\",\"Adult\",\"Senior\",\"Middle Aged\",\"Middle Aged\",\"Adult\",\"Middle Aged\",\"Middle Aged\",\"Senior\",\"Middle Aged\",\"Middle Aged\",\"Senior\",\"Adult\",\"Senior\",\"Middle Aged\",\"Adult\",\"Senior\",\"Adult\",\"Adult\",\"Adult\",\"Middle Aged\",\"Middle Aged\",\"Young Adult\",\"Senior\",\"Senior\",\"Senior\",\"Senior\",\"Middle Aged\",\"Senior\",\"Senior\",\"Adult\",\"Middle Aged\",\"Middle Aged\",\"Middle Aged\",\"Adult\",\"Middle Aged\",\"Middle Aged\",\"Middle Aged\",\"Senior\",\"Young Adult\",\"Senior\",\"Senior\",\"Middle Aged\",\"Middle Aged\",\"Middle Aged\",\"Middle Aged\",\"Middle Aged\",\"Middle Aged\",\"Adult\",\"Senior\",\"Senior\",\"Adult\",\"Young Adult\",\"Senior\",\"Senior\",\"Middle Aged\",\"Adult\",\"Middle Aged\",\"Adult\",\"Middle Aged\",\"Young Adult\",\"Adult\",\"Adult\",\"Senior\",\"Adult\",\"Middle Aged\",\"Senior\",\"Senior\",\"Adult\",\"Senior\",\"Middle Aged\",\"Senior\",\"Middle Aged\",\"Middle Aged\",\"Middle Aged\",\"Senior\",\"Middle Aged\",\"Middle Aged\",\"Senior\",\"Senior\",\"Middle Aged\",\"Senior\",\"Adult\",\"Senior\",\"Senior\",\"Middle Aged\",\"Senior\",\"Middle Aged\",\"Senior\",\"Middle Aged\",\"Young Adult\",\"Middle Aged\",\"Senior\",\"Senior\",\"Senior\",\"Middle Aged\",\"Middle Aged\",\"Senior\",\"Senior\",\"Senior\",\"Senior\",\"Middle Aged\",\"Middle Aged\",\"Middle Aged\",\"Adult\",\"Senior\",\"Middle Aged\",\"Senior\",\"Senior\",\"Senior\",\"Senior\",\"Middle Aged\",\"Adult\",\"Middle Aged\",\"Senior\",\"Senior\",\"Senior\",\"Middle Aged\",\"Adult\",\"Middle Aged\",\"Young Adult\",\"Adult\",\"Middle Aged\",\"Middle Aged\",\"Adult\",\"Senior\",\"Middle Aged\",\"Senior\",\"Senior\",\"Adult\",\"Senior\",\"Adult\",\"Adult\",\"Middle Aged\",\"Adult\",\"Senior\",\"Adult\",\"Middle Aged\",\"Middle Aged\",\"Senior\",\"Senior\",\"Senior\",\"Adult\",\"Senior\",\"Middle Aged\",\"Middle Aged\",\"Adult\",\"Adult\",\"Senior\",\"Senior\",\"Senior\",\"Middle Aged\",\"Senior\",\"Middle Aged\",\"Middle Aged\",\"Adult\",\"Middle Aged\",\"Middle Aged\",\"Adult\",\"Adult\",\"Senior\",\"Middle Aged\",\"Adult\",\"Adult\",\"Senior\",\"Adult\",\"Senior\",\"Middle Aged\",\"Adult\",\"Middle Aged\",\"Middle Aged\",\"Senior\",\"Middle Aged\",\"Middle Aged\",\"Senior\",\"Middle Aged\",\"Adult\",\"Middle Aged\",\"Adult\",\"Adult\",\"Middle Aged\",\"Senior\",\"Middle Aged\",\"Senior\",\"Senior\",\"Middle Aged\",\"Senior\",\"Adult\",\"Senior\",\"Middle Aged\",\"Senior\",\"Adult\",\"Senior\",\"Middle Aged\",\"Senior\",\"Senior\",\"Middle Aged\",\"Middle Aged\",\"Middle Aged\",\"Senior\",\"Middle Aged\",\"Adult\",\"Senior\",\"Senior\",\"Middle Aged\",\"Adult\",\"Adult\",\"Senior\",\"Adult\",\"Adult\",\"Middle Aged\",\"Middle Aged\",\"Senior\",\"Senior\",\"Senior\",\"Senior\",\"Adult\",\"Middle Aged\",\"Senior\",\"Middle Aged\",\"Senior\",\"Adult\",\"Middle Aged\",\"Young Adult\",\"Senior\",\"Young Adult\",\"Middle Aged\",\"Adult\",\"Senior\",\"Middle Aged\",\"Senior\",\"Middle Aged\",\"Middle Aged\",\"Middle Aged\",\"Middle Aged\",\"Adult\",\"Senior\",\"Senior\",\"Middle Aged\",\"Senior\",\"Middle Aged\",\"Senior\",\"Senior\",\"Senior\",\"Senior\",\"Senior\",\"Middle Aged\",\"Middle Aged\",\"Adult\",\"Middle Aged\",\"Senior\",\"Senior\",\"Adult\",\"Middle Aged\",\"Senior\",\"Middle Aged\",\"Senior\",\"Senior\",\"Middle Aged\",\"Middle Aged\",\"Middle Aged\",\"Middle Aged\",\"Middle Aged\",\"Senior\",\"Adult\",\"Middle Aged\",\"Senior\",\"Senior\",\"Adult\",\"Senior\",\"Senior\",\"Senior\",\"Senior\",\"Adult\",\"Middle Aged\",\"Adult\",\"Middle Aged\",\"Adult\",\"Middle Aged\",\"Senior\",\"Senior\",\"Middle Aged\",\"Middle Aged\",\"Senior\",\"Senior\",\"Middle Aged\",\"Middle Aged\",\"Middle Aged\",\"Middle Aged\",\"Middle Aged\",\"Senior\",\"Middle Aged\",\"Senior\",\"Senior\",\"Senior\",\"Middle Aged\",\"Adult\",\"Adult\",\"Senior\",\"Adult\",\"Middle Aged\",\"Adult\",\"Adult\",\"Senior\",\"Senior\",\"Senior\",\"Adult\",\"Senior\",\"Young Adult\",\"Adult\",\"Senior\",\"Adult\",\"Adult\",\"Senior\",\"Middle Aged\",\"Middle Aged\",\"Adult\",\"Young Adult\",\"Middle Aged\",\"Senior\",\"Middle Aged\",\"Senior\",\"Senior\",\"Senior\",\"Senior\",\"Senior\",\"Middle Aged\",\"Senior\",\"Middle Aged\",\"Senior\",\"Middle Aged\",\"Adult\",\"Adult\",\"Adult\",\"Young Adult\",\"Senior\",\"Senior\",\"Senior\",\"Middle Aged\",\"Senior\",\"Middle Aged\",\"Adult\",\"Middle Aged\",\"Middle Aged\",\"Senior\",\"Senior\",\"Senior\",\"Middle Aged\",\"Senior\",\"Senior\",\"Middle Aged\",\"Senior\",\"Adult\",\"Middle Aged\",\"Adult\",\"Senior\",\"Young Adult\",\"Middle Aged\",\"Adult\",\"Senior\",\"Adult\",\"Middle Aged\",\"Adult\",\"Senior\",\"Adult\",\"Middle Aged\",\"Middle Aged\",\"Middle Aged\",\"Senior\",\"Middle Aged\",\"Young Adult\",\"Senior\",\"Adult\",\"Senior\",\"Senior\",\"Middle Aged\",\"Adult\",\"Senior\",\"Senior\",\"Senior\",\"Middle Aged\",\"Middle Aged\",\"Middle Aged\",\"Adult\",\"Senior\",\"Middle Aged\",\"Middle Aged\",\"Senior\",\"Middle Aged\",\"Senior\",\"Senior\",\"Middle Aged\",\"Adult\",\"Middle Aged\",\"Senior\",\"Senior\",\"Senior\",\"Senior\",\"Middle Aged\",\"Middle Aged\",\"Senior\",\"Adult\",\"Adult\",\"Middle Aged\",\"Senior\",\"Senior\",\"Middle Aged\",\"Middle Aged\",\"Senior\",\"Middle Aged\",\"Middle Aged\",\"Senior\",\"Middle Aged\",\"Senior\",\"Senior\",\"Middle Aged\",\"Senior\",\"Senior\",\"Adult\",\"Senior\",\"Senior\",\"Adult\",\"Adult\",\"Senior\",\"Middle Aged\",\"Adult\",\"Middle Aged\",\"Middle Aged\",\"Senior\",\"Senior\",\"Middle Aged\",\"Senior\",\"Adult\",\"Adult\",\"Senior\",\"Senior\",\"Middle Aged\",\"Middle Aged\",\"Middle Aged\",\"Middle Aged\",\"Middle Aged\",\"Middle Aged\",\"Middle Aged\",\"Senior\",\"Senior\",\"Middle Aged\",\"Adult\",\"Middle Aged\",\"Adult\",\"Senior\",\"Middle Aged\",\"Senior\",\"Middle Aged\",\"Young Adult\",\"Senior\",\"Adult\",\"Senior\",\"Middle Aged\",\"Adult\",\"Senior\",\"Middle Aged\",\"Middle Aged\",\"Senior\",\"Senior\",\"Senior\",\"Senior\",\"Senior\",\"Middle Aged\",\"Middle Aged\",\"Senior\",\"Senior\",\"Middle Aged\",\"Senior\",\"Middle Aged\",\"Middle Aged\",\"Middle Aged\",\"Adult\",\"Adult\",\"Senior\",\"Adult\",\"Middle Aged\",\"Senior\",\"Senior\",\"Senior\",\"Middle Aged\",\"Middle Aged\",\"Senior\",\"Middle Aged\",\"Senior\",\"Senior\",\"Adult\",\"Middle Aged\",\"Middle Aged\",\"Middle Aged\",\"Middle Aged\",\"Senior\",\"Middle Aged\",\"Senior\",\"Middle Aged\",\"Senior\",\"Middle Aged\",\"Adult\",\"Senior\",\"Adult\",\"Senior\",\"Senior\",\"Adult\",\"Senior\",\"Adult\",\"Middle Aged\",\"Senior\",\"Senior\",\"Middle Aged\",\"Adult\",\"Senior\",\"Senior\",\"Senior\",\"Middle Aged\",\"Senior\",\"Senior\",\"Middle Aged\",\"Middle Aged\",\"Middle Aged\",\"Middle Aged\",\"Senior\",\"Senior\",\"Middle Aged\",\"Middle Aged\",\"Adult\",\"Adult\",\"Middle Aged\",\"Middle Aged\",\"Middle Aged\",\"Senior\",\"Senior\",\"Senior\",\"Middle Aged\",\"Middle Aged\",\"Senior\",\"Adult\",\"Middle Aged\",\"Adult\",\"Senior\",\"Middle Aged\",\"Adult\",\"Middle Aged\",\"Middle Aged\",\"Middle Aged\",\"Senior\",\"Middle Aged\",\"Adult\",\"Adult\",\"Senior\",\"Senior\",\"Senior\",\"Middle Aged\",\"Senior\",\"Senior\",\"Senior\",\"Middle Aged\",\"Middle Aged\",\"Senior\",\"Middle Aged\",\"Middle Aged\",\"Senior\",\"Adult\",\"Senior\",\"Senior\",\"Senior\",\"Middle Aged\",\"Middle Aged\",\"Senior\",\"Middle Aged\",\"Senior\",\"Senior\",\"Senior\",\"Senior\",\"Middle Aged\",\"Adult\",\"Adult\",\"Adult\",\"Adult\",\"Senior\",\"Middle Aged\",\"Middle Aged\",\"Adult\",\"Senior\",\"Middle Aged\",\"Senior\",\"Adult\",\"Middle Aged\",\"Senior\",\"Middle Aged\",\"Middle Aged\",\"Middle Aged\",\"Middle Aged\",\"Adult\",\"Middle Aged\",\"Senior\",\"Senior\",\"Middle Aged\",\"Middle Aged\",\"Middle Aged\",\"Middle Aged\",\"Middle Aged\",\"Middle Aged\",\"Adult\",\"Young Adult\",\"Middle Aged\",\"Adult\",\"Senior\",\"Senior\",\"Middle Aged\",\"Adult\",\"Middle Aged\",\"Adult\",\"Adult\",\"Middle Aged\",\"Middle Aged\",\"Middle Aged\",\"Adult\",\"Adult\",\"Middle Aged\",\"Senior\",\"Adult\",\"Adult\",\"Adult\",\"Middle Aged\",\"Middle Aged\",\"Adult\",\"Middle Aged\",\"Adult\",\"Middle Aged\",\"Middle Aged\",\"Senior\",\"Middle Aged\",\"Middle Aged\",\"Middle Aged\",\"Middle Aged\",\"Adult\",\"Middle Aged\",\"Adult\",\"Senior\",\"Senior\",\"Adult\",\"Middle Aged\",\"Senior\",\"Middle Aged\",\"Senior\",\"Middle Aged\",\"Middle Aged\",\"Senior\",\"Adult\",\"Middle Aged\",\"Middle Aged\",\"Senior\",\"Adult\",\"Middle Aged\",\"Adult\",\"Middle Aged\",\"Senior\",\"Senior\",\"Middle Aged\",\"Adult\",\"Middle Aged\",\"Middle Aged\",\"Senior\",\"Middle Aged\",\"Adult\",\"Adult\",\"Middle Aged\",\"Adult\",\"Young Adult\",\"Middle Aged\",\"Adult\",\"Middle Aged\",\"Senior\",\"Senior\",\"Senior\",\"Middle Aged\",\"Senior\",\"Middle Aged\",\"Middle Aged\",\"Middle Aged\",\"Adult\",\"Middle Aged\",\"Middle Aged\",\"Middle Aged\",\"Senior\",\"Young Adult\",\"Young Adult\",\"Senior\",\"Middle Aged\",\"Middle Aged\",\"Middle Aged\",\"Middle Aged\",\"Senior\",\"Middle Aged\",\"Middle Aged\",\"Adult\",\"Middle Aged\",\"Senior\",\"Adult\",\"Middle Aged\",\"Middle Aged\",\"Middle Aged\",\"Adult\",\"Senior\",\"Middle Aged\",\"Senior\",\"Senior\",\"Middle Aged\",\"Senior\",\"Middle Aged\",\"Adult\",\"Middle Aged\",\"Senior\",\"Middle Aged\",\"Adult\",\"Adult\",\"Adult\",\"Senior\",\"Senior\",\"Adult\",\"Middle Aged\",\"Adult\",\"Senior\",\"Senior\",\"Adult\",\"Adult\",\"Young Adult\",\"Middle Aged\",\"Middle Aged\",\"Middle Aged\",\"Senior\",\"Senior\",\"Adult\",\"Senior\",\"Middle Aged\",\"Adult\",\"Middle Aged\",\"Middle Aged\",\"Senior\",\"Middle Aged\",\"Middle Aged\",\"Senior\",\"Middle Aged\",\"Senior\",\"Young Adult\",\"Middle Aged\",\"Middle Aged\",\"Senior\",\"Adult\",\"Senior\",\"Adult\",\"Adult\",\"Middle Aged\",\"Senior\",\"Adult\",\"Adult\",\"Adult\",\"Senior\",\"Middle Aged\",\"Senior\",\"Adult\",\"Middle Aged\",\"Senior\",\"Senior\",\"Adult\",\"Middle Aged\",\"Middle Aged\",\"Middle Aged\",\"Senior\",\"Middle Aged\",\"Senior\",\"Adult\",\"Middle Aged\",\"Middle Aged\",\"Senior\",\"Senior\",\"Middle Aged\",\"Middle Aged\",\"Middle Aged\",\"Middle Aged\",\"Adult\",\"Middle Aged\",\"Senior\",\"Adult\",\"Senior\",\"Senior\",\"Adult\",\"Senior\",\"Middle Aged\",\"Adult\",\"Adult\",\"Middle Aged\",\"Senior\",\"Senior\",\"Senior\",\"Middle Aged\",\"Senior\",\"Senior\",\"Senior\",\"Adult\",\"Senior\",\"Senior\",\"Senior\",\"Adult\",\"Middle Aged\",\"Middle Aged\",\"Adult\",\"Senior\",\"Senior\",\"Senior\",\"Adult\",\"Senior\",\"Adult\",\"Adult\",\"Senior\",\"Senior\",\"Middle Aged\",\"Middle Aged\",\"Senior\",\"Senior\",\"Adult\",\"Middle Aged\",\"Adult\",\"Middle Aged\",\"Middle Aged\",\"Senior\",\"Middle Aged\",\"Senior\",\"Adult\",\"Middle Aged\",\"Adult\",\"Middle Aged\",\"Adult\",\"Adult\",\"Senior\",\"Middle Aged\",\"Middle Aged\",\"Senior\",\"Middle Aged\",\"Senior\",\"Middle Aged\",\"Middle Aged\",\"Senior\",\"Senior\",\"Middle Aged\",\"Middle Aged\",\"Middle Aged\",\"Senior\",\"Adult\",\"Senior\",\"Senior\",\"Senior\",\"Adult\",\"Adult\",\"Middle Aged\",\"Middle Aged\",\"Senior\",\"Senior\",\"Adult\",\"Adult\",\"Senior\",\"Adult\",\"Adult\",\"Adult\",\"Middle Aged\",\"Middle Aged\",\"Adult\",\"Middle Aged\",\"Middle Aged\",\"Senior\",\"Senior\",\"Adult\",\"Senior\",\"Senior\",\"Adult\",\"Middle Aged\",\"Senior\",\"Senior\",\"Middle Aged\",\"Adult\",\"Senior\",\"Middle Aged\",\"Middle Aged\",\"Senior\",\"Middle Aged\",\"Middle Aged\",\"Senior\",\"Adult\",\"Middle Aged\",\"Senior\",\"Middle Aged\",\"Senior\",\"Senior\",\"Adult\",\"Senior\",\"Middle Aged\",\"Senior\",\"Adult\",\"Middle Aged\",\"Adult\",\"Senior\",\"Senior\",\"Senior\",\"Middle Aged\",\"Senior\",\"Adult\",\"Senior\",\"Senior\",\"Middle Aged\",\"Young Adult\",\"Middle Aged\",\"Adult\",\"Senior\",\"Senior\",\"Senior\",\"Adult\",\"Adult\",\"Senior\",\"Adult\",\"Senior\",\"Senior\",\"Adult\",\"Young Adult\",\"Middle Aged\",\"Senior\",\"Middle Aged\",\"Senior\",\"Middle Aged\",\"Senior\",\"Middle Aged\",\"Senior\",\"Senior\",\"Senior\",\"Senior\",\"Senior\",\"Senior\",\"Middle Aged\",\"Adult\",\"Middle Aged\",\"Middle Aged\",\"Senior\",\"Middle Aged\",\"Young Adult\",\"Senior\",\"Senior\",\"Middle Aged\",\"Middle Aged\",\"Senior\",\"Senior\",\"Adult\",\"Senior\",\"Senior\",\"Adult\",\"Adult\",\"Middle Aged\",\"Senior\",\"Middle Aged\",\"Senior\",\"Middle Aged\",\"Middle Aged\",\"Middle Aged\",\"Senior\",\"Adult\",\"Middle Aged\",\"Senior\",\"Adult\",\"Adult\",\"Middle Aged\",\"Senior\",\"Middle Aged\",\"Middle Aged\",\"Adult\",\"Senior\",\"Middle Aged\",\"Adult\",\"Middle Aged\",\"Senior\",\"Senior\",\"Middle Aged\",\"Middle Aged\",\"Senior\",\"Middle Aged\",\"Young Adult\",\"Middle Aged\",\"Adult\",\"Middle Aged\",\"Senior\",\"Adult\",\"Middle Aged\",\"Middle Aged\",\"Senior\",\"Middle Aged\",\"Middle Aged\",\"Middle Aged\",\"Senior\",\"Adult\",\"Senior\",\"Senior\",\"Senior\",\"Adult\",\"Adult\",\"Senior\",\"Middle Aged\",\"Middle Aged\",\"Senior\",\"Middle Aged\",\"Senior\",\"Senior\",\"Middle Aged\",\"Adult\",\"Middle Aged\",\"Adult\",\"Senior\",\"Middle Aged\",\"Middle Aged\",\"Middle Aged\",\"Senior\",\"Senior\",\"Adult\",\"Senior\",\"Adult\",\"Senior\",\"Senior\",\"Senior\",\"Middle Aged\",\"Senior\",\"Adult\",\"Senior\",\"Adult\",\"Senior\",\"Adult\",\"Senior\",\"Middle Aged\",\"Senior\",\"Senior\",\"Middle Aged\",\"Adult\",\"Middle Aged\",\"Senior\",\"Adult\",\"Senior\",\"Senior\",\"Senior\",\"Senior\",\"Adult\",\"Senior\",\"Senior\",\"Senior\",\"Middle Aged\",\"Middle Aged\",\"Senior\",\"Middle Aged\",\"Middle Aged\",\"Senior\",\"Senior\",\"Middle Aged\",\"Senior\",\"Senior\",\"Young Adult\",\"Middle Aged\",\"Senior\",\"Middle Aged\",\"Senior\",\"Senior\",\"Adult\",\"Middle Aged\",\"Senior\",\"Middle Aged\",\"Adult\",\"Adult\",\"Middle Aged\",\"Senior\",\"Adult\",\"Senior\",\"Adult\",\"Senior\",\"Adult\",\"Senior\",\"Adult\",\"Senior\",\"Middle Aged\",\"Adult\",\"Adult\",\"Young Adult\",\"Adult\",\"Adult\",\"Middle Aged\",\"Middle Aged\",\"Adult\",\"Adult\",\"Middle Aged\",\"Senior\",\"Senior\",\"Adult\",\"Adult\",\"Senior\",\"Adult\",\"Senior\",\"Adult\",\"Adult\",\"Senior\",\"Senior\",\"Senior\",\"Middle Aged\",\"Adult\",\"Middle Aged\",\"Adult\",\"Middle Aged\",\"Adult\",\"Senior\",\"Middle Aged\",\"Middle Aged\",\"Senior\",\"Middle Aged\",\"Adult\",\"Middle Aged\",\"Senior\",\"Senior\",\"Middle Aged\",\"Adult\",\"Middle Aged\",\"Middle Aged\",\"Middle Aged\",\"Senior\",\"Middle Aged\",\"Adult\",\"Senior\",\"Senior\",\"Middle Aged\",\"Senior\",\"Middle Aged\",\"Senior\",\"Senior\",\"Adult\",\"Middle Aged\",\"Middle Aged\",\"Middle Aged\",\"Senior\",\"Senior\",\"Middle Aged\",\"Senior\",\"Middle Aged\",\"Senior\",\"Adult\",\"Adult\",\"Middle Aged\",\"Senior\",\"Senior\",\"Senior\",\"Senior\",\"Adult\",\"Middle Aged\",\"Senior\",\"Middle Aged\",\"Senior\",\"Adult\",\"Middle Aged\",\"Adult\",\"Senior\",\"Adult\",\"Middle Aged\",\"Young Adult\",\"Adult\",\"Senior\",\"Senior\",\"Adult\",\"Adult\",\"Senior\",\"Senior\",\"Senior\",\"Middle Aged\",\"Middle Aged\",\"Adult\",\"Middle Aged\",\"Adult\",\"Senior\",\"Adult\",\"Middle Aged\",\"Senior\",\"Middle Aged\",\"Middle Aged\",\"Senior\",\"Middle Aged\",\"Middle Aged\",\"Adult\",\"Senior\",\"Adult\",\"Senior\",\"Middle Aged\",\"Adult\",\"Middle Aged\",\"Young Adult\",\"Adult\",\"Senior\",\"Senior\",\"Adult\",\"Middle Aged\",\"Senior\",\"Senior\",\"Senior\",\"Middle Aged\",\"Middle Aged\",\"Middle Aged\",\"Senior\",\"Middle Aged\",\"Middle Aged\",\"Senior\",\"Adult\",\"Senior\",\"Senior\",\"Senior\",\"Middle Aged\",\"Senior\",\"Middle Aged\",\"Middle Aged\",\"Senior\",\"Young Adult\",\"Middle Aged\",\"Senior\",\"Middle Aged\",\"Middle Aged\",\"Senior\",\"Senior\",\"Senior\",\"Middle Aged\",\"Senior\",\"Middle Aged\",\"Adult\",\"Middle Aged\",\"Senior\",\"Senior\",\"Middle Aged\",\"Senior\",\"Adult\",\"Middle Aged\",\"Middle Aged\",\"Senior\",\"Middle Aged\",\"Middle Aged\",\"Middle Aged\",\"Senior\",\"Senior\",\"Senior\",\"Adult\",\"Senior\",\"Senior\",\"Adult\",\"Middle Aged\",\"Senior\",\"Young Adult\",\"Middle Aged\",\"Senior\",\"Middle Aged\",\"Senior\",\"Adult\",\"Senior\",\"Senior\",\"Middle Aged\",\"Middle Aged\",\"Middle Aged\",\"Middle Aged\",\"Adult\",\"Middle Aged\",\"Senior\",\"Adult\",\"Middle Aged\",\"Senior\",\"Adult\",\"Middle Aged\",\"Senior\",\"Middle Aged\",\"Adult\",\"Adult\",\"Senior\",\"Senior\",\"Middle Aged\",\"Adult\",\"Middle Aged\",\"Middle Aged\",\"Middle Aged\",\"Senior\",\"Senior\",\"Senior\",\"Senior\",\"Middle Aged\",\"Adult\",\"Adult\",\"Senior\",\"Middle Aged\",\"Adult\",\"Middle Aged\",\"Senior\",\"Middle Aged\",\"Senior\",\"Senior\",\"Senior\",\"Middle Aged\",\"Middle Aged\",\"Middle Aged\",\"Adult\",\"Senior\",\"Middle Aged\",\"Middle Aged\",\"Middle Aged\",\"Adult\",\"Senior\",\"Senior\",\"Middle Aged\",\"Senior\",\"Adult\",\"Senior\",\"Adult\",\"Middle Aged\",\"Senior\",\"Middle Aged\",\"Middle Aged\",\"Senior\",\"Middle Aged\",\"Middle Aged\",\"Adult\",\"Senior\",\"Middle Aged\",\"Senior\",\"Senior\",\"Adult\",\"Middle Aged\",\"Senior\",\"Adult\",\"Senior\",\"Adult\",\"Middle Aged\",\"Adult\",\"Senior\",\"Senior\",\"Middle Aged\",\"Middle Aged\",\"Adult\",\"Senior\",\"Middle Aged\",\"Senior\",\"Adult\",\"Middle Aged\",\"Adult\",\"Middle Aged\",\"Middle Aged\",\"Middle Aged\",\"Adult\",\"Middle Aged\",\"Middle Aged\",\"Senior\",\"Senior\",\"Adult\",\"Middle Aged\",\"Adult\",\"Middle Aged\",\"Adult\",\"Middle Aged\",\"Middle Aged\",\"Middle Aged\",\"Adult\",\"Senior\",\"Senior\",\"Adult\",\"Senior\",\"Middle Aged\",\"Adult\",\"Middle Aged\",\"Adult\",\"Middle Aged\",\"Senior\",\"Senior\",\"Middle Aged\",\"Middle Aged\",\"Middle Aged\",\"Middle Aged\",\"Middle Aged\",\"Senior\",\"Adult\",\"Middle Aged\",\"Senior\",\"Middle Aged\",\"Adult\",\"Adult\",\"Middle Aged\",\"Senior\",\"Middle Aged\",\"Senior\",\"Adult\",\"Middle Aged\",\"Middle Aged\",\"Middle Aged\",\"Senior\",\"Senior\",\"Adult\",\"Adult\",\"Middle Aged\",\"Middle Aged\",\"Middle Aged\",\"Middle Aged\",\"Middle Aged\",\"Senior\",\"Senior\",\"Senior\",\"Middle Aged\",\"Senior\",\"Middle Aged\",\"Senior\",\"Senior\",\"Middle Aged\",\"Middle Aged\",\"Senior\",\"Middle Aged\",\"Adult\",\"Middle Aged\",\"Adult\",\"Adult\",\"Middle Aged\",\"Adult\",\"Senior\",\"Senior\",\"Adult\",\"Middle Aged\",\"Senior\",\"Middle Aged\",\"Senior\",\"Adult\",\"Middle Aged\",\"Senior\",\"Middle Aged\",\"Middle Aged\",\"Senior\",\"Senior\",\"Senior\",\"Middle Aged\",\"Senior\",\"Senior\",\"Middle Aged\",\"Middle Aged\",\"Senior\",\"Adult\",\"Senior\",\"Middle Aged\",\"Middle Aged\",\"Middle Aged\",\"Senior\",\"Adult\",\"Senior\",\"Senior\",\"Middle Aged\",\"Young Adult\",\"Middle Aged\",\"Adult\",\"Middle Aged\",\"Senior\",\"Senior\",\"Adult\",\"Middle Aged\",\"Middle Aged\",\"Adult\",\"Middle Aged\",\"Adult\",\"Senior\",\"Middle Aged\",\"Adult\",\"Adult\",\"Senior\",\"Senior\",\"Middle Aged\",\"Senior\",\"Middle Aged\",\"Senior\",\"Senior\",\"Senior\",\"Senior\",\"Middle Aged\",\"Senior\",\"Adult\",\"Adult\",\"Senior\",\"Senior\",\"Middle Aged\",\"Senior\",\"Senior\",\"Senior\",\"Young Adult\",\"Middle Aged\",\"Senior\",\"Middle Aged\",\"Adult\",\"Middle Aged\",\"Senior\",\"Adult\",\"Senior\",\"Middle Aged\",\"Middle Aged\",\"Middle Aged\",\"Middle Aged\",\"Middle Aged\",\"Middle Aged\",\"Adult\",\"Senior\",\"Senior\",\"Middle Aged\",\"Middle Aged\",\"Middle Aged\",\"Middle Aged\",\"Senior\",\"Adult\",\"Adult\",\"Middle Aged\",\"Senior\",\"Senior\",\"Middle Aged\",\"Senior\",\"Senior\",\"Adult\",\"Adult\",\"Senior\",\"Adult\",\"Senior\",\"Senior\",\"Senior\",\"Middle Aged\",\"Middle Aged\",\"Senior\",\"Senior\",\"Senior\",\"Adult\",\"Middle Aged\",\"Adult\",\"Middle Aged\",\"Senior\",\"Middle Aged\",\"Middle Aged\",\"Adult\",\"Senior\",\"Senior\",\"Adult\",\"Adult\",\"Senior\",\"Senior\",\"Middle Aged\",\"Senior\",\"Middle Aged\",\"Middle Aged\",\"Middle Aged\",\"Senior\",\"Adult\",\"Middle Aged\",\"Middle Aged\",\"Senior\",\"Senior\",\"Middle Aged\",\"Senior\",\"Adult\",\"Adult\",\"Adult\",\"Middle Aged\",\"Adult\",\"Adult\",\"Middle Aged\",\"Middle Aged\",\"Senior\",\"Senior\",\"Middle Aged\",\"Senior\",\"Adult\",\"Senior\",\"Senior\",\"Middle Aged\",\"Senior\",\"Senior\",\"Senior\",\"Senior\",\"Senior\",\"Middle Aged\",\"Middle Aged\",\"Senior\",\"Middle Aged\",\"Senior\",\"Senior\",\"Middle Aged\",\"Middle Aged\",\"Middle Aged\",\"Middle Aged\",\"Middle Aged\",\"Adult\",\"Senior\",\"Adult\",\"Senior\",\"Adult\",\"Middle Aged\",\"Middle Aged\",\"Young Adult\",\"Senior\",\"Senior\",\"Middle Aged\",\"Senior\",\"Adult\",\"Adult\",\"Young Adult\",\"Adult\",\"Adult\",\"Senior\",\"Adult\",\"Senior\",\"Senior\",\"Middle Aged\",\"Middle Aged\",\"Middle Aged\",\"Adult\",\"Adult\",\"Middle Aged\",\"Middle Aged\",\"Senior\",\"Senior\",\"Senior\",\"Senior\",\"Middle Aged\",\"Middle Aged\",\"Middle Aged\",\"Senior\",\"Senior\",\"Senior\",\"Young Adult\",\"Middle Aged\",\"Middle Aged\",\"Middle Aged\",\"Senior\",\"Senior\",\"Middle Aged\",\"Senior\",\"Middle Aged\",\"Adult\",\"Middle Aged\",\"Senior\",\"Adult\",\"Senior\",\"Middle Aged\",\"Senior\",\"Adult\",\"Adult\",\"Senior\",\"Senior\",\"Senior\",\"Middle Aged\",\"Senior\",\"Senior\",\"Senior\",\"Middle Aged\",\"Middle Aged\",\"Senior\",\"Senior\",\"Senior\",\"Adult\",\"Senior\",\"Adult\",\"Adult\",\"Senior\",\"Middle Aged\",\"Middle Aged\",\"Middle Aged\",\"Middle Aged\",\"Senior\",\"Middle Aged\",\"Adult\",\"Middle Aged\",\"Senior\",\"Middle Aged\",\"Senior\",\"Senior\",\"Adult\",\"Middle Aged\",\"Senior\",\"Middle Aged\",\"Senior\",\"Middle Aged\",\"Middle Aged\",\"Middle Aged\",\"Adult\",\"Senior\",\"Senior\",\"Adult\",\"Middle Aged\",\"Senior\",\"Middle Aged\",\"Middle Aged\",\"Middle Aged\",\"Senior\",\"Senior\",\"Senior\",\"Senior\",\"Adult\",\"Adult\",\"Adult\",\"Adult\",\"Senior\",\"Middle Aged\",\"Adult\",\"Senior\",\"Senior\",\"Middle Aged\",\"Middle Aged\",\"Senior\",\"Middle Aged\",\"Middle Aged\",\"Middle Aged\",\"Senior\",\"Adult\",\"Middle Aged\",\"Middle Aged\",\"Middle Aged\",\"Adult\",\"Adult\",\"Senior\",\"Middle Aged\",\"Senior\",\"Senior\",\"Middle Aged\",\"Middle Aged\",\"Middle Aged\",\"Senior\",\"Senior\",\"Senior\",\"Middle Aged\",\"Adult\",\"Adult\",\"Middle Aged\",\"Senior\",\"Senior\",\"Middle Aged\",\"Adult\",\"Senior\",\"Middle Aged\",\"Senior\",\"Adult\",\"Senior\",\"Adult\",\"Senior\",\"Senior\",\"Adult\",\"Senior\",\"Senior\",\"Middle Aged\",\"Adult\",\"Middle Aged\",\"Middle Aged\",\"Adult\",\"Adult\",\"Middle Aged\",\"Senior\",\"Young Adult\",\"Senior\",\"Middle Aged\",\"Middle Aged\",\"Adult\",\"Senior\",\"Senior\",\"Senior\",\"Middle Aged\",\"Middle Aged\",\"Adult\",\"Middle Aged\",\"Adult\",\"Senior\",\"Middle Aged\",\"Senior\",\"Senior\",\"Middle Aged\",\"Adult\",\"Middle Aged\",\"Middle Aged\",\"Middle Aged\",\"Middle Aged\",\"Middle Aged\",\"Senior\",\"Adult\",\"Senior\",\"Senior\",\"Middle Aged\",\"Middle Aged\",\"Adult\",\"Adult\",\"Adult\",\"Middle Aged\",\"Senior\",\"Senior\",\"Adult\",\"Senior\",\"Adult\",\"Adult\",\"Adult\",\"Adult\",\"Middle Aged\",\"Middle Aged\",\"Middle Aged\",\"Senior\",\"Middle Aged\",\"Middle Aged\",\"Middle Aged\",\"Middle Aged\",\"Middle Aged\",\"Senior\",\"Middle Aged\",\"Adult\",\"Middle Aged\",\"Middle Aged\",\"Senior\",\"Middle Aged\",\"Middle Aged\",\"Middle Aged\",\"Middle Aged\",\"Adult\",\"Middle Aged\",\"Adult\",\"Middle Aged\",\"Senior\",\"Senior\",\"Adult\",\"Senior\",\"Adult\",\"Middle Aged\",\"Middle Aged\",\"Senior\",\"Middle Aged\",\"Senior\",\"Middle Aged\",\"Adult\",\"Middle Aged\",\"Senior\",\"Middle Aged\",\"Senior\",\"Middle Aged\",\"Middle Aged\",\"Middle Aged\",\"Middle Aged\",\"Senior\",\"Senior\",\"Middle Aged\",\"Middle Aged\",\"Adult\",\"Adult\",\"Senior\",\"Middle Aged\",\"Middle Aged\",\"Middle Aged\",\"Adult\",\"Adult\",\"Senior\",\"Adult\",\"Senior\",\"Middle Aged\",\"Middle Aged\",\"Adult\",\"Middle Aged\",\"Adult\",\"Senior\",\"Middle Aged\",\"Adult\",\"Middle Aged\",\"Adult\",\"Senior\",\"Senior\",\"Adult\",\"Adult\",\"Senior\",\"Adult\",\"Middle Aged\",\"Middle Aged\",\"Middle Aged\",\"Middle Aged\",\"Middle Aged\",\"Middle Aged\",\"Adult\",\"Senior\",\"Middle Aged\",\"Middle Aged\",\"Senior\",\"Middle Aged\",\"Senior\",\"Senior\",\"Adult\",\"Adult\",\"Middle Aged\",\"Middle Aged\",\"Senior\",\"Adult\",\"Middle Aged\",\"Senior\",\"Middle Aged\",\"Senior\",\"Senior\",\"Young Adult\",\"Middle Aged\",\"Adult\",\"Middle Aged\",\"Adult\",\"Middle Aged\",\"Senior\",\"Middle Aged\",\"Middle Aged\",\"Senior\",\"Senior\",\"Senior\",\"Middle Aged\",\"Senior\",\"Middle Aged\",\"Adult\",\"Middle Aged\",\"Adult\",\"Middle Aged\",\"Young Adult\",\"Middle Aged\",\"Middle Aged\",\"Adult\",\"Middle Aged\",\"Middle Aged\",\"Senior\",\"Middle Aged\",\"Middle Aged\",\"Senior\",\"Senior\",\"Middle Aged\",\"Middle Aged\",\"Adult\",\"Senior\",\"Senior\",\"Adult\",\"Middle Aged\",\"Middle Aged\",\"Senior\",\"Adult\",\"Senior\",\"Middle Aged\",\"Senior\",\"Adult\",\"Middle Aged\",\"Middle Aged\",\"Senior\",\"Adult\",\"Middle Aged\",\"Middle Aged\",\"Middle Aged\",\"Adult\",\"Middle Aged\",\"Senior\",\"Middle Aged\",\"Middle Aged\",\"Senior\",\"Middle Aged\",\"Young Adult\",\"Middle Aged\",\"Senior\",\"Middle Aged\",\"Middle Aged\",\"Senior\",\"Middle Aged\",\"Adult\",\"Adult\",\"Adult\",\"Middle Aged\",\"Adult\",\"Middle Aged\",\"Middle Aged\",\"Middle Aged\",\"Senior\",\"Adult\",\"Middle Aged\",\"Senior\",\"Middle Aged\",\"Adult\",\"Adult\",\"Middle Aged\",\"Senior\",\"Senior\",\"Senior\",\"Senior\",\"Middle Aged\",\"Senior\",\"Senior\",\"Senior\",\"Senior\",\"Senior\",\"Adult\",\"Adult\",\"Senior\",\"Senior\",\"Senior\",\"Senior\",\"Middle Aged\",\"Senior\",\"Senior\",\"Senior\",\"Middle Aged\",\"Senior\",\"Senior\",\"Adult\",\"Senior\",\"Middle Aged\",\"Adult\",\"Senior\",\"Senior\",\"Senior\",\"Young Adult\",\"Young Adult\",\"Senior\",\"Middle Aged\",\"Middle Aged\",\"Senior\",\"Middle Aged\",\"Adult\",\"Middle Aged\",\"Adult\",\"Middle Aged\",\"Adult\",\"Senior\",\"Adult\",\"Middle Aged\",\"Adult\",\"Senior\",\"Adult\",\"Senior\",\"Middle Aged\",\"Middle Aged\",\"Senior\",\"Adult\",\"Adult\",\"Senior\",\"Middle Aged\",\"Middle Aged\",\"Middle Aged\",\"Middle Aged\",\"Adult\",\"Middle Aged\",\"Adult\",\"Middle Aged\",\"Senior\",\"Senior\",\"Adult\",\"Adult\",\"Adult\",\"Adult\",\"Adult\",\"Middle Aged\",\"Senior\",\"Middle Aged\",\"Senior\",\"Middle Aged\",\"Senior\",\"Senior\",\"Middle Aged\",\"Middle Aged\",\"Adult\",\"Adult\",\"Young Adult\",\"Senior\",\"Middle Aged\",\"Senior\",\"Middle Aged\",\"Middle Aged\",\"Middle Aged\",\"Middle Aged\",\"Adult\",\"Middle Aged\",\"Senior\",\"Middle Aged\",\"Middle Aged\",\"Middle Aged\",\"Adult\",\"Middle Aged\",\"Senior\",\"Middle Aged\",\"Senior\",\"Senior\",\"Senior\",\"Middle Aged\",\"Adult\",\"Middle Aged\",\"Senior\",\"Senior\",\"Middle Aged\",\"Middle Aged\",\"Middle Aged\",\"Adult\",\"Middle Aged\",\"Senior\",\"Middle Aged\",\"Senior\",\"Middle Aged\",\"Middle Aged\",\"Senior\",\"Middle Aged\",\"Middle Aged\",\"Senior\",\"Senior\",\"Adult\",\"Adult\",\"Senior\",\"Adult\",\"Adult\",\"Middle Aged\",\"Senior\",\"Adult\",\"Adult\",\"Adult\",\"Senior\",\"Senior\",\"Senior\",\"Senior\",\"Adult\",\"Senior\",\"Senior\",\"Senior\",\"Adult\",\"Middle Aged\",\"Senior\",\"Senior\",\"Middle Aged\",\"Middle Aged\",\"Senior\",\"Adult\",\"Middle Aged\",\"Senior\",\"Senior\",\"Adult\",\"Adult\",\"Middle Aged\",\"Adult\",\"Adult\",\"Middle Aged\",\"Senior\",\"Middle Aged\",\"Senior\",\"Middle Aged\",\"Adult\",\"Senior\",\"Senior\",\"Senior\",\"Middle Aged\",\"Middle Aged\",\"Senior\",\"Senior\",\"Adult\",\"Senior\",\"Adult\",\"Middle Aged\",\"Senior\",\"Adult\",\"Senior\",\"Adult\",\"Adult\",\"Middle Aged\",\"Middle Aged\",\"Middle Aged\",\"Senior\",\"Senior\",\"Senior\",\"Middle Aged\",\"Young Adult\",\"Senior\",\"Senior\",\"Middle Aged\",\"Middle Aged\",\"Adult\",\"Adult\",\"Senior\",\"Adult\",\"Adult\",\"Adult\",\"Young Adult\",\"Middle Aged\",\"Middle Aged\",\"Senior\",\"Adult\",\"Middle Aged\",\"Senior\",\"Middle Aged\",\"Adult\",\"Middle Aged\",\"Middle Aged\",\"Middle Aged\",\"Adult\",\"Middle Aged\",\"Middle Aged\",\"Middle Aged\",\"Senior\",\"Senior\",\"Senior\",\"Adult\",\"Senior\",\"Senior\",\"Adult\",\"Middle Aged\",\"Adult\",\"Middle Aged\",\"Middle Aged\",\"Adult\",\"Middle Aged\",\"Middle Aged\",\"Senior\",\"Senior\",\"Senior\",\"Senior\",\"Middle Aged\",\"Senior\",\"Senior\",\"Senior\",\"Adult\",\"Middle Aged\",\"Adult\",\"Senior\",\"Senior\",\"Middle Aged\",\"Senior\",\"Adult\",\"Adult\",\"Middle Aged\",\"Adult\",\"Senior\",\"Middle Aged\",\"Adult\",\"Middle Aged\",\"Adult\",\"Senior\",\"Senior\",\"Senior\",\"Middle Aged\",\"Middle Aged\",\"Senior\",\"Senior\",\"Middle Aged\",\"Middle Aged\",\"Middle Aged\",\"Senior\",\"Adult\",\"Middle Aged\",\"Middle Aged\",\"Senior\",\"Middle Aged\",\"Middle Aged\",\"Middle Aged\",\"Senior\",\"Senior\",\"Senior\",\"Adult\",\"Adult\",\"Senior\",\"Middle Aged\",\"Middle Aged\",\"Middle Aged\",\"Young Adult\",\"Middle Aged\",\"Middle Aged\",\"Senior\",\"Middle Aged\",\"Middle Aged\",\"Middle Aged\",\"Senior\",\"Middle Aged\",\"Middle Aged\",\"Adult\",\"Senior\",\"Senior\",\"Middle Aged\",\"Middle Aged\",\"Adult\",\"Senior\",\"Middle Aged\",\"Senior\",\"Middle Aged\",\"Middle Aged\",\"Senior\",\"Middle Aged\",\"Senior\",\"Adult\",\"Middle Aged\",\"Senior\",\"Middle Aged\",\"Middle Aged\",\"Senior\",\"Senior\",\"Middle Aged\",\"Middle Aged\",\"Senior\",\"Adult\",\"Senior\",\"Middle Aged\",\"Senior\",\"Adult\",\"Senior\",\"Senior\",\"Senior\",\"Adult\",\"Middle Aged\",\"Adult\",\"Middle Aged\",\"Senior\",\"Senior\",\"Senior\",\"Middle Aged\",\"Middle Aged\",\"Middle Aged\",\"Adult\",\"Senior\",\"Senior\",\"Senior\",\"Senior\",\"Middle Aged\",\"Senior\",\"Adult\",\"Senior\",\"Middle Aged\",\"Young Adult\",\"Adult\",\"Senior\",\"Senior\",\"Middle Aged\",\"Middle Aged\",\"Senior\",\"Senior\",\"Senior\",\"Adult\",\"Senior\",\"Adult\",\"Middle Aged\",\"Senior\",\"Middle Aged\",\"Middle Aged\",\"Middle Aged\",\"Middle Aged\",\"Middle Aged\",\"Middle Aged\",\"Middle Aged\",\"Senior\",\"Middle Aged\",\"Middle Aged\",\"Middle Aged\",\"Adult\",\"Senior\",\"Middle Aged\",\"Senior\",\"Middle Aged\",\"Middle Aged\",\"Senior\"],\"xaxis\":\"x\",\"yaxis\":\"y\",\"type\":\"histogram\"}],                        {\"template\":{\"data\":{\"histogram2dcontour\":[{\"type\":\"histogram2dcontour\",\"colorbar\":{\"outlinewidth\":0,\"ticks\":\"\"},\"colorscale\":[[0.0,\"#0d0887\"],[0.1111111111111111,\"#46039f\"],[0.2222222222222222,\"#7201a8\"],[0.3333333333333333,\"#9c179e\"],[0.4444444444444444,\"#bd3786\"],[0.5555555555555556,\"#d8576b\"],[0.6666666666666666,\"#ed7953\"],[0.7777777777777778,\"#fb9f3a\"],[0.8888888888888888,\"#fdca26\"],[1.0,\"#f0f921\"]]}],\"choropleth\":[{\"type\":\"choropleth\",\"colorbar\":{\"outlinewidth\":0,\"ticks\":\"\"}}],\"histogram2d\":[{\"type\":\"histogram2d\",\"colorbar\":{\"outlinewidth\":0,\"ticks\":\"\"},\"colorscale\":[[0.0,\"#0d0887\"],[0.1111111111111111,\"#46039f\"],[0.2222222222222222,\"#7201a8\"],[0.3333333333333333,\"#9c179e\"],[0.4444444444444444,\"#bd3786\"],[0.5555555555555556,\"#d8576b\"],[0.6666666666666666,\"#ed7953\"],[0.7777777777777778,\"#fb9f3a\"],[0.8888888888888888,\"#fdca26\"],[1.0,\"#f0f921\"]]}],\"heatmap\":[{\"type\":\"heatmap\",\"colorbar\":{\"outlinewidth\":0,\"ticks\":\"\"},\"colorscale\":[[0.0,\"#0d0887\"],[0.1111111111111111,\"#46039f\"],[0.2222222222222222,\"#7201a8\"],[0.3333333333333333,\"#9c179e\"],[0.4444444444444444,\"#bd3786\"],[0.5555555555555556,\"#d8576b\"],[0.6666666666666666,\"#ed7953\"],[0.7777777777777778,\"#fb9f3a\"],[0.8888888888888888,\"#fdca26\"],[1.0,\"#f0f921\"]]}],\"heatmapgl\":[{\"type\":\"heatmapgl\",\"colorbar\":{\"outlinewidth\":0,\"ticks\":\"\"},\"colorscale\":[[0.0,\"#0d0887\"],[0.1111111111111111,\"#46039f\"],[0.2222222222222222,\"#7201a8\"],[0.3333333333333333,\"#9c179e\"],[0.4444444444444444,\"#bd3786\"],[0.5555555555555556,\"#d8576b\"],[0.6666666666666666,\"#ed7953\"],[0.7777777777777778,\"#fb9f3a\"],[0.8888888888888888,\"#fdca26\"],[1.0,\"#f0f921\"]]}],\"contourcarpet\":[{\"type\":\"contourcarpet\",\"colorbar\":{\"outlinewidth\":0,\"ticks\":\"\"}}],\"contour\":[{\"type\":\"contour\",\"colorbar\":{\"outlinewidth\":0,\"ticks\":\"\"},\"colorscale\":[[0.0,\"#0d0887\"],[0.1111111111111111,\"#46039f\"],[0.2222222222222222,\"#7201a8\"],[0.3333333333333333,\"#9c179e\"],[0.4444444444444444,\"#bd3786\"],[0.5555555555555556,\"#d8576b\"],[0.6666666666666666,\"#ed7953\"],[0.7777777777777778,\"#fb9f3a\"],[0.8888888888888888,\"#fdca26\"],[1.0,\"#f0f921\"]]}],\"surface\":[{\"type\":\"surface\",\"colorbar\":{\"outlinewidth\":0,\"ticks\":\"\"},\"colorscale\":[[0.0,\"#0d0887\"],[0.1111111111111111,\"#46039f\"],[0.2222222222222222,\"#7201a8\"],[0.3333333333333333,\"#9c179e\"],[0.4444444444444444,\"#bd3786\"],[0.5555555555555556,\"#d8576b\"],[0.6666666666666666,\"#ed7953\"],[0.7777777777777778,\"#fb9f3a\"],[0.8888888888888888,\"#fdca26\"],[1.0,\"#f0f921\"]]}],\"mesh3d\":[{\"type\":\"mesh3d\",\"colorbar\":{\"outlinewidth\":0,\"ticks\":\"\"}}],\"scatter\":[{\"fillpattern\":{\"fillmode\":\"overlay\",\"size\":10,\"solidity\":0.2},\"type\":\"scatter\"}],\"parcoords\":[{\"type\":\"parcoords\",\"line\":{\"colorbar\":{\"outlinewidth\":0,\"ticks\":\"\"}}}],\"scatterpolargl\":[{\"type\":\"scatterpolargl\",\"marker\":{\"colorbar\":{\"outlinewidth\":0,\"ticks\":\"\"}}}],\"bar\":[{\"error_x\":{\"color\":\"#2a3f5f\"},\"error_y\":{\"color\":\"#2a3f5f\"},\"marker\":{\"line\":{\"color\":\"#E5ECF6\",\"width\":0.5},\"pattern\":{\"fillmode\":\"overlay\",\"size\":10,\"solidity\":0.2}},\"type\":\"bar\"}],\"scattergeo\":[{\"type\":\"scattergeo\",\"marker\":{\"colorbar\":{\"outlinewidth\":0,\"ticks\":\"\"}}}],\"scatterpolar\":[{\"type\":\"scatterpolar\",\"marker\":{\"colorbar\":{\"outlinewidth\":0,\"ticks\":\"\"}}}],\"histogram\":[{\"marker\":{\"pattern\":{\"fillmode\":\"overlay\",\"size\":10,\"solidity\":0.2}},\"type\":\"histogram\"}],\"scattergl\":[{\"type\":\"scattergl\",\"marker\":{\"colorbar\":{\"outlinewidth\":0,\"ticks\":\"\"}}}],\"scatter3d\":[{\"type\":\"scatter3d\",\"line\":{\"colorbar\":{\"outlinewidth\":0,\"ticks\":\"\"}},\"marker\":{\"colorbar\":{\"outlinewidth\":0,\"ticks\":\"\"}}}],\"scattermapbox\":[{\"type\":\"scattermapbox\",\"marker\":{\"colorbar\":{\"outlinewidth\":0,\"ticks\":\"\"}}}],\"scatterternary\":[{\"type\":\"scatterternary\",\"marker\":{\"colorbar\":{\"outlinewidth\":0,\"ticks\":\"\"}}}],\"scattercarpet\":[{\"type\":\"scattercarpet\",\"marker\":{\"colorbar\":{\"outlinewidth\":0,\"ticks\":\"\"}}}],\"carpet\":[{\"aaxis\":{\"endlinecolor\":\"#2a3f5f\",\"gridcolor\":\"white\",\"linecolor\":\"white\",\"minorgridcolor\":\"white\",\"startlinecolor\":\"#2a3f5f\"},\"baxis\":{\"endlinecolor\":\"#2a3f5f\",\"gridcolor\":\"white\",\"linecolor\":\"white\",\"minorgridcolor\":\"white\",\"startlinecolor\":\"#2a3f5f\"},\"type\":\"carpet\"}],\"table\":[{\"cells\":{\"fill\":{\"color\":\"#EBF0F8\"},\"line\":{\"color\":\"white\"}},\"header\":{\"fill\":{\"color\":\"#C8D4E3\"},\"line\":{\"color\":\"white\"}},\"type\":\"table\"}],\"barpolar\":[{\"marker\":{\"line\":{\"color\":\"#E5ECF6\",\"width\":0.5},\"pattern\":{\"fillmode\":\"overlay\",\"size\":10,\"solidity\":0.2}},\"type\":\"barpolar\"}],\"pie\":[{\"automargin\":true,\"type\":\"pie\"}]},\"layout\":{\"autotypenumbers\":\"strict\",\"colorway\":[\"#636efa\",\"#EF553B\",\"#00cc96\",\"#ab63fa\",\"#FFA15A\",\"#19d3f3\",\"#FF6692\",\"#B6E880\",\"#FF97FF\",\"#FECB52\"],\"font\":{\"color\":\"#2a3f5f\"},\"hovermode\":\"closest\",\"hoverlabel\":{\"align\":\"left\"},\"paper_bgcolor\":\"white\",\"plot_bgcolor\":\"#E5ECF6\",\"polar\":{\"bgcolor\":\"#E5ECF6\",\"angularaxis\":{\"gridcolor\":\"white\",\"linecolor\":\"white\",\"ticks\":\"\"},\"radialaxis\":{\"gridcolor\":\"white\",\"linecolor\":\"white\",\"ticks\":\"\"}},\"ternary\":{\"bgcolor\":\"#E5ECF6\",\"aaxis\":{\"gridcolor\":\"white\",\"linecolor\":\"white\",\"ticks\":\"\"},\"baxis\":{\"gridcolor\":\"white\",\"linecolor\":\"white\",\"ticks\":\"\"},\"caxis\":{\"gridcolor\":\"white\",\"linecolor\":\"white\",\"ticks\":\"\"}},\"coloraxis\":{\"colorbar\":{\"outlinewidth\":0,\"ticks\":\"\"}},\"colorscale\":{\"sequential\":[[0.0,\"#0d0887\"],[0.1111111111111111,\"#46039f\"],[0.2222222222222222,\"#7201a8\"],[0.3333333333333333,\"#9c179e\"],[0.4444444444444444,\"#bd3786\"],[0.5555555555555556,\"#d8576b\"],[0.6666666666666666,\"#ed7953\"],[0.7777777777777778,\"#fb9f3a\"],[0.8888888888888888,\"#fdca26\"],[1.0,\"#f0f921\"]],\"sequentialminus\":[[0.0,\"#0d0887\"],[0.1111111111111111,\"#46039f\"],[0.2222222222222222,\"#7201a8\"],[0.3333333333333333,\"#9c179e\"],[0.4444444444444444,\"#bd3786\"],[0.5555555555555556,\"#d8576b\"],[0.6666666666666666,\"#ed7953\"],[0.7777777777777778,\"#fb9f3a\"],[0.8888888888888888,\"#fdca26\"],[1.0,\"#f0f921\"]],\"diverging\":[[0,\"#8e0152\"],[0.1,\"#c51b7d\"],[0.2,\"#de77ae\"],[0.3,\"#f1b6da\"],[0.4,\"#fde0ef\"],[0.5,\"#f7f7f7\"],[0.6,\"#e6f5d0\"],[0.7,\"#b8e186\"],[0.8,\"#7fbc41\"],[0.9,\"#4d9221\"],[1,\"#276419\"]]},\"xaxis\":{\"gridcolor\":\"white\",\"linecolor\":\"white\",\"ticks\":\"\",\"title\":{\"standoff\":15},\"zerolinecolor\":\"white\",\"automargin\":true,\"zerolinewidth\":2},\"yaxis\":{\"gridcolor\":\"white\",\"linecolor\":\"white\",\"ticks\":\"\",\"title\":{\"standoff\":15},\"zerolinecolor\":\"white\",\"automargin\":true,\"zerolinewidth\":2},\"scene\":{\"xaxis\":{\"backgroundcolor\":\"#E5ECF6\",\"gridcolor\":\"white\",\"linecolor\":\"white\",\"showbackground\":true,\"ticks\":\"\",\"zerolinecolor\":\"white\",\"gridwidth\":2},\"yaxis\":{\"backgroundcolor\":\"#E5ECF6\",\"gridcolor\":\"white\",\"linecolor\":\"white\",\"showbackground\":true,\"ticks\":\"\",\"zerolinecolor\":\"white\",\"gridwidth\":2},\"zaxis\":{\"backgroundcolor\":\"#E5ECF6\",\"gridcolor\":\"white\",\"linecolor\":\"white\",\"showbackground\":true,\"ticks\":\"\",\"zerolinecolor\":\"white\",\"gridwidth\":2}},\"shapedefaults\":{\"line\":{\"color\":\"#2a3f5f\"}},\"annotationdefaults\":{\"arrowcolor\":\"#2a3f5f\",\"arrowhead\":0,\"arrowwidth\":1},\"geo\":{\"bgcolor\":\"white\",\"landcolor\":\"#E5ECF6\",\"subunitcolor\":\"white\",\"showland\":true,\"showlakes\":true,\"lakecolor\":\"white\"},\"title\":{\"x\":0.05},\"mapbox\":{\"style\":\"light\"}}},\"xaxis\":{\"anchor\":\"y\",\"domain\":[0.0,1.0],\"title\":{\"text\":\"Age_category\"}},\"yaxis\":{\"anchor\":\"x\",\"domain\":[0.0,1.0],\"title\":{\"text\":\"count\"}},\"legend\":{\"tracegroupgap\":0},\"title\":{\"text\":\"Age Distribution by Category\"},\"barmode\":\"relative\"},                        {\"responsive\": true}                    ).then(function(){\n",
              "                            \n",
              "var gd = document.getElementById('971c686c-4257-41cc-9a43-f9a7f9fb6cab');\n",
              "var x = new MutationObserver(function (mutations, observer) {{\n",
              "        var display = window.getComputedStyle(gd).display;\n",
              "        if (!display || display === 'none') {{\n",
              "            console.log([gd, 'removed!']);\n",
              "            Plotly.purge(gd);\n",
              "            observer.disconnect();\n",
              "        }}\n",
              "}});\n",
              "\n",
              "// Listen for the removal of the full notebook cells\n",
              "var notebookContainer = gd.closest('#notebook-container');\n",
              "if (notebookContainer) {{\n",
              "    x.observe(notebookContainer, {childList: true});\n",
              "}}\n",
              "\n",
              "// Listen for the clearing of the current output cell\n",
              "var outputEl = gd.closest('.output');\n",
              "if (outputEl) {{\n",
              "    x.observe(outputEl, {childList: true});\n",
              "}}\n",
              "\n",
              "                        })                };                            </script>        </div>\n",
              "</body>\n",
              "</html>"
            ]
          },
          "metadata": {}
        }
      ]
    },
    {
      "cell_type": "markdown",
      "source": [
        "2.How does the average purchase amount vary across different product categories"
      ],
      "metadata": {
        "id": "OyM-1drosx3h"
      }
    },
    {
      "cell_type": "code",
      "source": [
        "shop.columns"
      ],
      "metadata": {
        "colab": {
          "base_uri": "https://localhost:8080/"
        },
        "id": "tpXOM_1luVry",
        "outputId": "acaa0370-08a1-4b74-b0dc-1f77e38e6732"
      },
      "execution_count": null,
      "outputs": [
        {
          "output_type": "execute_result",
          "data": {
            "text/plain": [
              "Index(['Customer ID', 'Age', 'Gender', 'Item Purchased', 'Category',\n",
              "       'Purchase Amount (USD)', 'Location', 'Size', 'Color', 'Season',\n",
              "       'Review Rating', 'Subscription Status', 'Shipping Type',\n",
              "       'Discount Applied', 'Promo Code Used', 'Previous Purchases',\n",
              "       'Payment Method', 'Frequency of Purchases', 'Age_category'],\n",
              "      dtype='object')"
            ]
          },
          "metadata": {},
          "execution_count": 25
        }
      ]
    },
    {
      "cell_type": "code",
      "source": [
        "shop['Category'].unique()"
      ],
      "metadata": {
        "colab": {
          "base_uri": "https://localhost:8080/"
        },
        "id": "6WwVGkE6uekC",
        "outputId": "35b6dd03-0fb9-4fed-e88f-c73ad8b13cf0"
      },
      "execution_count": null,
      "outputs": [
        {
          "output_type": "execute_result",
          "data": {
            "text/plain": [
              "array(['Clothing', 'Footwear', 'Outerwear', 'Accessories'], dtype=object)"
            ]
          },
          "metadata": {},
          "execution_count": 26
        }
      ]
    },
    {
      "cell_type": "code",
      "source": [
        "shop.groupby('Category')['Purchase Amount (USD)'].mean()"
      ],
      "metadata": {
        "colab": {
          "base_uri": "https://localhost:8080/",
          "height": 241
        },
        "id": "98LCc76FumL9",
        "outputId": "3e1748ea-fa29-4b45-cd36-2d0cdbaf07a9"
      },
      "execution_count": null,
      "outputs": [
        {
          "output_type": "execute_result",
          "data": {
            "text/plain": [
              "Category\n",
              "Accessories    59.838710\n",
              "Clothing       60.025331\n",
              "Footwear       60.255426\n",
              "Outerwear      57.172840\n",
              "Name: Purchase Amount (USD), dtype: float64"
            ],
            "text/html": [
              "<div>\n",
              "<style scoped>\n",
              "    .dataframe tbody tr th:only-of-type {\n",
              "        vertical-align: middle;\n",
              "    }\n",
              "\n",
              "    .dataframe tbody tr th {\n",
              "        vertical-align: top;\n",
              "    }\n",
              "\n",
              "    .dataframe thead th {\n",
              "        text-align: right;\n",
              "    }\n",
              "</style>\n",
              "<table border=\"1\" class=\"dataframe\">\n",
              "  <thead>\n",
              "    <tr style=\"text-align: right;\">\n",
              "      <th></th>\n",
              "      <th>Purchase Amount (USD)</th>\n",
              "    </tr>\n",
              "    <tr>\n",
              "      <th>Category</th>\n",
              "      <th></th>\n",
              "    </tr>\n",
              "  </thead>\n",
              "  <tbody>\n",
              "    <tr>\n",
              "      <th>Accessories</th>\n",
              "      <td>59.838710</td>\n",
              "    </tr>\n",
              "    <tr>\n",
              "      <th>Clothing</th>\n",
              "      <td>60.025331</td>\n",
              "    </tr>\n",
              "    <tr>\n",
              "      <th>Footwear</th>\n",
              "      <td>60.255426</td>\n",
              "    </tr>\n",
              "    <tr>\n",
              "      <th>Outerwear</th>\n",
              "      <td>57.172840</td>\n",
              "    </tr>\n",
              "  </tbody>\n",
              "</table>\n",
              "</div><br><label><b>dtype:</b> float64</label>"
            ]
          },
          "metadata": {},
          "execution_count": 27
        }
      ]
    },
    {
      "cell_type": "markdown",
      "source": [
        "#3 Which gender has the highest number of purchases?"
      ],
      "metadata": {
        "id": "0TNjew7YtBle"
      }
    },
    {
      "cell_type": "code",
      "source": [
        "shop.columns"
      ],
      "metadata": {
        "colab": {
          "base_uri": "https://localhost:8080/"
        },
        "id": "RSN9Ulcru1Yy",
        "outputId": "dc4fc0e3-c760-4302-83ed-2515a3a6630f"
      },
      "execution_count": null,
      "outputs": [
        {
          "output_type": "execute_result",
          "data": {
            "text/plain": [
              "Index(['Customer ID', 'Age', 'Gender', 'Item Purchased', 'Category',\n",
              "       'Purchase Amount (USD)', 'Location', 'Size', 'Color', 'Season',\n",
              "       'Review Rating', 'Subscription Status', 'Shipping Type',\n",
              "       'Discount Applied', 'Promo Code Used', 'Previous Purchases',\n",
              "       'Payment Method', 'Frequency of Purchases', 'Age_category'],\n",
              "      dtype='object')"
            ]
          },
          "metadata": {},
          "execution_count": 28
        }
      ]
    },
    {
      "cell_type": "code",
      "source": [
        "sns.barplot(shop,x='Gender',y='Purchase Amount (USD)')"
      ],
      "metadata": {
        "colab": {
          "base_uri": "https://localhost:8080/",
          "height": 466
        },
        "id": "ncIt000Pv0x6",
        "outputId": "d947225d-56f7-4d19-b570-dd6d7e9b6b75"
      },
      "execution_count": null,
      "outputs": [
        {
          "output_type": "execute_result",
          "data": {
            "text/plain": [
              "<Axes: xlabel='Gender', ylabel='Purchase Amount (USD)'>"
            ]
          },
          "metadata": {},
          "execution_count": 29
        },
        {
          "output_type": "display_data",
          "data": {
            "text/plain": [
              "<Figure size 640x480 with 1 Axes>"
            ],
            "image/png": "[encoded data removed]"
          },
          "metadata": {}
        }
      ]
    },
    {
      "cell_type": "markdown",
      "source": [
        "#4.what are the most commonly purchased items in each category?"
      ],
      "metadata": {
        "id": "egoie54YtVfb"
      }
    },
    {
      "cell_type": "code",
      "source": [
        "shop.columns"
      ],
      "metadata": {
        "colab": {
          "base_uri": "https://localhost:8080/"
        },
        "id": "9qoRL49bxEv9",
        "outputId": "62c39b7a-2e86-4199-d755-a9d8c53c62f1"
      },
      "execution_count": null,
      "outputs": [
        {
          "output_type": "execute_result",
          "data": {
            "text/plain": [
              "Index(['Customer ID', 'Age', 'Gender', 'Item Purchased', 'Category',\n",
              "       'Purchase Amount (USD)', 'Location', 'Size', 'Color', 'Season',\n",
              "       'Review Rating', 'Subscription Status', 'Shipping Type',\n",
              "       'Discount Applied', 'Promo Code Used', 'Previous Purchases',\n",
              "       'Payment Method', 'Frequency of Purchases', 'Age_category'],\n",
              "      dtype='object')"
            ]
          },
          "metadata": {},
          "execution_count": 30
        }
      ]
    },
    {
      "cell_type": "code",
      "source": [
        "shop.groupby('Category')['Item Purchased'].value_counts()"
      ],
      "metadata": {
        "colab": {
          "base_uri": "https://localhost:8080/",
          "height": 899
        },
        "id": "c2dzmmLpxEs_",
        "outputId": "eff693b8-5911-4f97-8c6d-8fce4f8afa56"
      },
      "execution_count": null,
      "outputs": [
        {
          "output_type": "execute_result",
          "data": {
            "text/plain": [
              "Category     Item Purchased\n",
              "Accessories  Jewelry           171\n",
              "             Belt              161\n",
              "             Sunglasses        161\n",
              "             Scarf             157\n",
              "             Hat               154\n",
              "             Handbag           153\n",
              "             Backpack          143\n",
              "             Gloves            140\n",
              "Clothing     Blouse            171\n",
              "             Pants             171\n",
              "             Shirt             169\n",
              "             Dress             166\n",
              "             Sweater           164\n",
              "             Socks             159\n",
              "             Skirt             158\n",
              "             Shorts            157\n",
              "             Hoodie            151\n",
              "             T-shirt           147\n",
              "             Jeans             124\n",
              "Footwear     Sandals           160\n",
              "             Shoes             150\n",
              "             Sneakers          145\n",
              "             Boots             144\n",
              "Outerwear    Jacket            163\n",
              "             Coat              161\n",
              "Name: count, dtype: int64"
            ],
            "text/html": [
              "<div>\n",
              "<style scoped>\n",
              "    .dataframe tbody tr th:only-of-type {\n",
              "        vertical-align: middle;\n",
              "    }\n",
              "\n",
              "    .dataframe tbody tr th {\n",
              "        vertical-align: top;\n",
              "    }\n",
              "\n",
              "    .dataframe thead th {\n",
              "        text-align: right;\n",
              "    }\n",
              "</style>\n",
              "<table border=\"1\" class=\"dataframe\">\n",
              "  <thead>\n",
              "    <tr style=\"text-align: right;\">\n",
              "      <th></th>\n",
              "      <th></th>\n",
              "      <th>count</th>\n",
              "    </tr>\n",
              "    <tr>\n",
              "      <th>Category</th>\n",
              "      <th>Item Purchased</th>\n",
              "      <th></th>\n",
              "    </tr>\n",
              "  </thead>\n",
              "  <tbody>\n",
              "    <tr>\n",
              "      <th rowspan=\"8\" valign=\"top\">Accessories</th>\n",
              "      <th>Jewelry</th>\n",
              "      <td>171</td>\n",
              "    </tr>\n",
              "    <tr>\n",
              "      <th>Belt</th>\n",
              "      <td>161</td>\n",
              "    </tr>\n",
              "    <tr>\n",
              "      <th>Sunglasses</th>\n",
              "      <td>161</td>\n",
              "    </tr>\n",
              "    <tr>\n",
              "      <th>Scarf</th>\n",
              "      <td>157</td>\n",
              "    </tr>\n",
              "    <tr>\n",
              "      <th>Hat</th>\n",
              "      <td>154</td>\n",
              "    </tr>\n",
              "    <tr>\n",
              "      <th>Handbag</th>\n",
              "      <td>153</td>\n",
              "    </tr>\n",
              "    <tr>\n",
              "      <th>Backpack</th>\n",
              "      <td>143</td>\n",
              "    </tr>\n",
              "    <tr>\n",
              "      <th>Gloves</th>\n",
              "      <td>140</td>\n",
              "    </tr>\n",
              "    <tr>\n",
              "      <th rowspan=\"11\" valign=\"top\">Clothing</th>\n",
              "      <th>Blouse</th>\n",
              "      <td>171</td>\n",
              "    </tr>\n",
              "    <tr>\n",
              "      <th>Pants</th>\n",
              "      <td>171</td>\n",
              "    </tr>\n",
              "    <tr>\n",
              "      <th>Shirt</th>\n",
              "      <td>169</td>\n",
              "    </tr>\n",
              "    <tr>\n",
              "      <th>Dress</th>\n",
              "      <td>166</td>\n",
              "    </tr>\n",
              "    <tr>\n",
              "      <th>Sweater</th>\n",
              "      <td>164</td>\n",
              "    </tr>\n",
              "    <tr>\n",
              "      <th>Socks</th>\n",
              "      <td>159</td>\n",
              "    </tr>\n",
              "    <tr>\n",
              "      <th>Skirt</th>\n",
              "      <td>158</td>\n",
              "    </tr>\n",
              "    <tr>\n",
              "      <th>Shorts</th>\n",
              "      <td>157</td>\n",
              "    </tr>\n",
              "    <tr>\n",
              "      <th>Hoodie</th>\n",
              "      <td>151</td>\n",
              "    </tr>\n",
              "    <tr>\n",
              "      <th>T-shirt</th>\n",
              "      <td>147</td>\n",
              "    </tr>\n",
              "    <tr>\n",
              "      <th>Jeans</th>\n",
              "      <td>124</td>\n",
              "    </tr>\n",
              "    <tr>\n",
              "      <th rowspan=\"4\" valign=\"top\">Footwear</th>\n",
              "      <th>Sandals</th>\n",
              "      <td>160</td>\n",
              "    </tr>\n",
              "    <tr>\n",
              "      <th>Shoes</th>\n",
              "      <td>150</td>\n",
              "    </tr>\n",
              "    <tr>\n",
              "      <th>Sneakers</th>\n",
              "      <td>145</td>\n",
              "    </tr>\n",
              "    <tr>\n",
              "      <th>Boots</th>\n",
              "      <td>144</td>\n",
              "    </tr>\n",
              "    <tr>\n",
              "      <th rowspan=\"2\" valign=\"top\">Outerwear</th>\n",
              "      <th>Jacket</th>\n",
              "      <td>163</td>\n",
              "    </tr>\n",
              "    <tr>\n",
              "      <th>Coat</th>\n",
              "      <td>161</td>\n",
              "    </tr>\n",
              "  </tbody>\n",
              "</table>\n",
              "</div><br><label><b>dtype:</b> int64</label>"
            ]
          },
          "metadata": {},
          "execution_count": 31
        }
      ]
    },
    {
      "cell_type": "code",
      "source": [
        "fig=px.histogram(shop,x='Item Purchased',color='Category')\n",
        "fig.show()"
      ],
      "metadata": {
        "colab": {
          "base_uri": "https://localhost:8080/",
          "height": 542
        },
        "id": "imvMI_IlxEpO",
        "outputId": "ea05fe98-94c6-4900-c974-b3a5b1ac2082"
      },
      "execution_count": null,
      "outputs": [
        {
          "output_type": "display_data",
          "data": {
            "text/html": [
              "<html>\n",
              "<head><meta charset=\"utf-8\" /></head>\n",
              "<body>\n",
              "    <div>            <script src=\"https://cdnjs.cloudflare.com/ajax/libs/mathjax/2.7.5/MathJax.js?config=TeX-AMS-MML_SVG\"></script><script type=\"text/javascript\">if (window.MathJax && window.MathJax.Hub && window.MathJax.Hub.Config) {window.MathJax.Hub.Config({SVG: {font: \"STIX-Web\"}});}</script>                <script type=\"text/javascript\">window.PlotlyConfig = {MathJaxConfig: 'local'};</script>\n",
              "        <script charset=\"utf-8\" src=\"https://cdn.plot.ly/plotly-2.35.2.min.js\"></script>                <div id=\"678aa5d9-c541-4c7f-a028-7261f825cf9f\" class=\"plotly-graph-div\" style=\"height:525px; width:100%;\"></div>            <script type=\"text/javascript\">                                    window.PLOTLYENV=window.PLOTLYENV || {};                                    if (document.getElementById(\"678aa5d9-c541-4c7f-a028-7261f825cf9f\")) {                    Plotly.newPlot(                        \"678aa5d9-c541-4c7f-a028-7261f825cf9f\",                        [{\"alignmentgroup\":\"True\",\"bingroup\":\"x\",\"hovertemplate\":\"Category=Clothing\\u003cbr\\u003eItem Purchased=%{x}\\u003cbr\\u003ecount=%{y}\\u003cextra\\u003e\\u003c\\u002fextra\\u003e\",\"legendgroup\":\"Clothing\",\"marker\":{\"color\":\"#636efa\",\"pattern\":{\"shape\":\"\"}},\"name\":\"Clothing\",\"offsetgroup\":\"Clothing\",\"orientation\":\"v\",\"showlegend\":true,\"x\":[\"Blouse\",\"Sweater\",\"Jeans\",\"Blouse\",\"Shirt\",\"Shorts\",\"Shorts\",\"Dress\",\"Skirt\",\"Dress\",\"Sweater\",\"Pants\",\"Pants\",\"Pants\",\"Pants\",\"Pants\",\"Hoodie\",\"Shorts\",\"Dress\",\"Dress\",\"Pants\",\"T-shirt\",\"Blouse\",\"T-shirt\",\"Jeans\",\"Dress\",\"Pants\",\"Socks\",\"Shirt\",\"Shirt\",\"Hoodie\",\"Blouse\",\"Skirt\",\"T-shirt\",\"Skirt\",\"Hoodie\",\"Sweater\",\"Blouse\",\"Dress\",\"Dress\",\"Pants\",\"Dress\",\"Skirt\",\"Pants\",\"Dress\",\"Hoodie\",\"T-shirt\",\"Sweater\",\"Skirt\",\"Jeans\",\"Hoodie\",\"Socks\",\"Socks\",\"T-shirt\",\"Skirt\",\"Sweater\",\"Shorts\",\"Sweater\",\"Sweater\",\"Shorts\",\"Shorts\",\"Sweater\",\"Dress\",\"Skirt\",\"Sweater\",\"Blouse\",\"Skirt\",\"Shirt\",\"Skirt\",\"Pants\",\"Shirt\",\"Hoodie\",\"Dress\",\"Socks\",\"Shorts\",\"Shirt\",\"Skirt\",\"Shirt\",\"Shorts\",\"Hoodie\",\"Skirt\",\"Pants\",\"Skirt\",\"T-shirt\",\"Hoodie\",\"Blouse\",\"Dress\",\"Blouse\",\"Shirt\",\"T-shirt\",\"Skirt\",\"Skirt\",\"Shorts\",\"T-shirt\",\"Pants\",\"Socks\",\"Jeans\",\"Socks\",\"Blouse\",\"Sweater\",\"Dress\",\"Skirt\",\"Pants\",\"Sweater\",\"Hoodie\",\"Sweater\",\"Skirt\",\"Shorts\",\"Jeans\",\"Jeans\",\"Pants\",\"Shorts\",\"Pants\",\"Sweater\",\"Blouse\",\"Jeans\",\"Skirt\",\"Shirt\",\"Sweater\",\"Skirt\",\"Sweater\",\"Skirt\",\"T-shirt\",\"T-shirt\",\"Dress\",\"Skirt\",\"T-shirt\",\"Skirt\",\"Sweater\",\"Dress\",\"Sweater\",\"Dress\",\"Pants\",\"Jeans\",\"Pants\",\"Dress\",\"Pants\",\"Sweater\",\"Shorts\",\"Hoodie\",\"Shirt\",\"Pants\",\"Socks\",\"Sweater\",\"Shirt\",\"Shirt\",\"Sweater\",\"Blouse\",\"Sweater\",\"Sweater\",\"Hoodie\",\"Shorts\",\"Shorts\",\"Skirt\",\"Jeans\",\"Blouse\",\"Sweater\",\"Skirt\",\"Jeans\",\"Pants\",\"Pants\",\"T-shirt\",\"Shorts\",\"Socks\",\"Dress\",\"Sweater\",\"Dress\",\"T-shirt\",\"Jeans\",\"Sweater\",\"Shorts\",\"Sweater\",\"T-shirt\",\"Dress\",\"T-shirt\",\"T-shirt\",\"Jeans\",\"Hoodie\",\"Shorts\",\"Sweater\",\"Jeans\",\"Sweater\",\"Shorts\",\"Socks\",\"Shirt\",\"Pants\",\"Sweater\",\"Jeans\",\"Pants\",\"Shirt\",\"Shirt\",\"Skirt\",\"Pants\",\"Shirt\",\"Hoodie\",\"Dress\",\"Shirt\",\"Shorts\",\"Pants\",\"Blouse\",\"Blouse\",\"Shorts\",\"Skirt\",\"Jeans\",\"Shorts\",\"Dress\",\"Jeans\",\"Sweater\",\"Sweater\",\"Hoodie\",\"Hoodie\",\"Sweater\",\"Socks\",\"Shirt\",\"Dress\",\"T-shirt\",\"Pants\",\"T-shirt\",\"Shorts\",\"T-shirt\",\"Shirt\",\"Shirt\",\"Skirt\",\"Hoodie\",\"Blouse\",\"Shorts\",\"Shirt\",\"Pants\",\"T-shirt\",\"Shorts\",\"Pants\",\"T-shirt\",\"Blouse\",\"Socks\",\"Dress\",\"Skirt\",\"Hoodie\",\"T-shirt\",\"Shirt\",\"Jeans\",\"Hoodie\",\"Blouse\",\"Pants\",\"Skirt\",\"T-shirt\",\"Pants\",\"Jeans\",\"Skirt\",\"Sweater\",\"Sweater\",\"Shorts\",\"Socks\",\"Socks\",\"Hoodie\",\"Socks\",\"Shirt\",\"Hoodie\",\"Dress\",\"Hoodie\",\"Sweater\",\"Shorts\",\"Socks\",\"Pants\",\"Sweater\",\"Hoodie\",\"Sweater\",\"Dress\",\"Skirt\",\"Blouse\",\"Skirt\",\"Sweater\",\"Hoodie\",\"Blouse\",\"Hoodie\",\"Pants\",\"Jeans\",\"Shorts\",\"Shirt\",\"Dress\",\"Pants\",\"Pants\",\"Hoodie\",\"T-shirt\",\"Sweater\",\"Socks\",\"Shirt\",\"Pants\",\"Socks\",\"Blouse\",\"Shirt\",\"Blouse\",\"Sweater\",\"Hoodie\",\"Shorts\",\"Shorts\",\"Dress\",\"Shorts\",\"Pants\",\"Shirt\",\"Dress\",\"Hoodie\",\"Pants\",\"Jeans\",\"Shirt\",\"Blouse\",\"Hoodie\",\"Jeans\",\"Socks\",\"Shirt\",\"Shorts\",\"Blouse\",\"Sweater\",\"T-shirt\",\"Shorts\",\"Sweater\",\"Jeans\",\"Shirt\",\"Dress\",\"Shirt\",\"Dress\",\"Shorts\",\"Jeans\",\"T-shirt\",\"Pants\",\"T-shirt\",\"Shorts\",\"T-shirt\",\"Hoodie\",\"Dress\",\"Sweater\",\"Skirt\",\"Socks\",\"Sweater\",\"Jeans\",\"Shirt\",\"Socks\",\"Socks\",\"Dress\",\"Hoodie\",\"T-shirt\",\"Jeans\",\"Shorts\",\"Pants\",\"Sweater\",\"Pants\",\"Socks\",\"Socks\",\"Socks\",\"Pants\",\"Shorts\",\"Dress\",\"Jeans\",\"T-shirt\",\"Shirt\",\"Sweater\",\"Shirt\",\"Hoodie\",\"Shirt\",\"Blouse\",\"Dress\",\"Socks\",\"Socks\",\"Shorts\",\"Hoodie\",\"Shirt\",\"Shirt\",\"Sweater\",\"Shirt\",\"Hoodie\",\"Hoodie\",\"Jeans\",\"Dress\",\"Pants\",\"Socks\",\"Shirt\",\"Shorts\",\"Hoodie\",\"Skirt\",\"Jeans\",\"Blouse\",\"Dress\",\"Hoodie\",\"Jeans\",\"Skirt\",\"Skirt\",\"Dress\",\"Shorts\",\"Skirt\",\"Shorts\",\"Hoodie\",\"Shirt\",\"Sweater\",\"T-shirt\",\"Dress\",\"Pants\",\"Sweater\",\"Hoodie\",\"Pants\",\"Hoodie\",\"Dress\",\"Dress\",\"Jeans\",\"Sweater\",\"Shorts\",\"Shirt\",\"Shirt\",\"Socks\",\"Jeans\",\"Jeans\",\"Dress\",\"T-shirt\",\"Skirt\",\"Jeans\",\"Hoodie\",\"Shorts\",\"Blouse\",\"T-shirt\",\"Dress\",\"Blouse\",\"Jeans\",\"Dress\",\"Dress\",\"Shirt\",\"Skirt\",\"Dress\",\"Hoodie\",\"Shorts\",\"Jeans\",\"Skirt\",\"Sweater\",\"T-shirt\",\"Pants\",\"Shorts\",\"Pants\",\"Socks\",\"Socks\",\"Dress\",\"Pants\",\"Hoodie\",\"Jeans\",\"Dress\",\"Shirt\",\"T-shirt\",\"Shirt\",\"Hoodie\",\"Pants\",\"Socks\",\"Blouse\",\"Pants\",\"Jeans\",\"Shirt\",\"Jeans\",\"Jeans\",\"Sweater\",\"Socks\",\"Socks\",\"Socks\",\"Blouse\",\"Shorts\",\"Sweater\",\"Sweater\",\"Hoodie\",\"T-shirt\",\"Dress\",\"Shirt\",\"Skirt\",\"Shorts\",\"Sweater\",\"T-shirt\",\"Jeans\",\"Pants\",\"Sweater\",\"Sweater\",\"Pants\",\"Sweater\",\"Hoodie\",\"T-shirt\",\"Skirt\",\"Shorts\",\"Hoodie\",\"Hoodie\",\"Hoodie\",\"Skirt\",\"T-shirt\",\"Sweater\",\"Shirt\",\"Hoodie\",\"Shirt\",\"Hoodie\",\"T-shirt\",\"Skirt\",\"Shirt\",\"Pants\",\"Jeans\",\"T-shirt\",\"Jeans\",\"Pants\",\"Blouse\",\"Shirt\",\"Dress\",\"T-shirt\",\"Shorts\",\"Pants\",\"Dress\",\"T-shirt\",\"Dress\",\"Socks\",\"Skirt\",\"Socks\",\"Dress\",\"Skirt\",\"Dress\",\"T-shirt\",\"Skirt\",\"Shorts\",\"Pants\",\"Jeans\",\"Jeans\",\"Blouse\",\"Shirt\",\"Shirt\",\"T-shirt\",\"Hoodie\",\"Socks\",\"Pants\",\"Hoodie\",\"Blouse\",\"Pants\",\"Sweater\",\"Socks\",\"Jeans\",\"Pants\",\"Shorts\",\"Blouse\",\"Socks\",\"Pants\",\"Sweater\",\"Dress\",\"Pants\",\"Hoodie\",\"Socks\",\"Blouse\",\"Socks\",\"Dress\",\"Hoodie\",\"T-shirt\",\"Jeans\",\"Shorts\",\"Dress\",\"Skirt\",\"Shirt\",\"Shirt\",\"Hoodie\",\"Sweater\",\"Shirt\",\"Blouse\",\"T-shirt\",\"Hoodie\",\"Jeans\",\"Sweater\",\"Blouse\",\"Shorts\",\"Hoodie\",\"Pants\",\"Shirt\",\"Shirt\",\"Dress\",\"Jeans\",\"Skirt\",\"Sweater\",\"Shirt\",\"Jeans\",\"Pants\",\"T-shirt\",\"Shirt\",\"Blouse\",\"Pants\",\"Sweater\",\"Dress\",\"Blouse\",\"Hoodie\",\"T-shirt\",\"Shorts\",\"Pants\",\"Shorts\",\"T-shirt\",\"Pants\",\"Shorts\",\"Sweater\",\"Socks\",\"Hoodie\",\"Pants\",\"Sweater\",\"Hoodie\",\"T-shirt\",\"Dress\",\"Hoodie\",\"Sweater\",\"Socks\",\"Pants\",\"Shorts\",\"Hoodie\",\"Skirt\",\"Dress\",\"Blouse\",\"Shirt\",\"Pants\",\"Blouse\",\"T-shirt\",\"Blouse\",\"Dress\",\"Blouse\",\"Pants\",\"Dress\",\"Socks\",\"Shirt\",\"Blouse\",\"Skirt\",\"Shorts\",\"Blouse\",\"Socks\",\"Shorts\",\"Shirt\",\"Jeans\",\"Dress\",\"Dress\",\"Pants\",\"Blouse\",\"Skirt\",\"Pants\",\"Hoodie\",\"Sweater\",\"Pants\",\"Hoodie\",\"Sweater\",\"Jeans\",\"Hoodie\",\"Socks\",\"Dress\",\"Pants\",\"Shirt\",\"Sweater\",\"Shorts\",\"Shorts\",\"Sweater\",\"Blouse\",\"Skirt\",\"Shorts\",\"Skirt\",\"Shirt\",\"T-shirt\",\"T-shirt\",\"Sweater\",\"Jeans\",\"Jeans\",\"Pants\",\"Shirt\",\"Dress\",\"Blouse\",\"Dress\",\"Blouse\",\"Dress\",\"Socks\",\"Jeans\",\"Jeans\",\"Shorts\",\"Socks\",\"Socks\",\"T-shirt\",\"Blouse\",\"Dress\",\"Shorts\",\"Blouse\",\"Jeans\",\"Dress\",\"Blouse\",\"Blouse\",\"Shorts\",\"Shorts\",\"Hoodie\",\"Pants\",\"Skirt\",\"Pants\",\"Skirt\",\"T-shirt\",\"Skirt\",\"Shirt\",\"Dress\",\"Pants\",\"Blouse\",\"Sweater\",\"Socks\",\"Jeans\",\"Skirt\",\"Dress\",\"Shirt\",\"Shirt\",\"Shorts\",\"Sweater\",\"T-shirt\",\"Shorts\",\"Shirt\",\"Socks\",\"Pants\",\"Skirt\",\"T-shirt\",\"Blouse\",\"Shorts\",\"Sweater\",\"Skirt\",\"Dress\",\"Blouse\",\"Sweater\",\"Socks\",\"Dress\",\"Hoodie\",\"Pants\",\"T-shirt\",\"Sweater\",\"Sweater\",\"Blouse\",\"Skirt\",\"T-shirt\",\"Shirt\",\"Skirt\",\"Blouse\",\"T-shirt\",\"Pants\",\"Hoodie\",\"Blouse\",\"Pants\",\"Jeans\",\"Pants\",\"Dress\",\"Socks\",\"Shirt\",\"Blouse\",\"Skirt\",\"Shirt\",\"Shirt\",\"Shirt\",\"Sweater\",\"Hoodie\",\"Jeans\",\"Shorts\",\"Skirt\",\"Pants\",\"T-shirt\",\"T-shirt\",\"Jeans\",\"Dress\",\"Blouse\",\"Hoodie\",\"T-shirt\",\"Sweater\",\"Shorts\",\"T-shirt\",\"Blouse\",\"Jeans\",\"Shorts\",\"Shirt\",\"Blouse\",\"Jeans\",\"Dress\",\"Shorts\",\"Pants\",\"Pants\",\"Skirt\",\"Skirt\",\"Skirt\",\"Hoodie\",\"Sweater\",\"Skirt\",\"Dress\",\"Dress\",\"Sweater\",\"Skirt\",\"Hoodie\",\"Dress\",\"Hoodie\",\"Sweater\",\"Socks\",\"Shirt\",\"Sweater\",\"T-shirt\",\"Pants\",\"Sweater\",\"Blouse\",\"Blouse\",\"Jeans\",\"Jeans\",\"Skirt\",\"Dress\",\"Hoodie\",\"Sweater\",\"Shorts\",\"Sweater\",\"T-shirt\",\"Jeans\",\"Shorts\",\"Jeans\",\"T-shirt\",\"Socks\",\"Shirt\",\"Shorts\",\"Shirt\",\"Socks\",\"Pants\",\"T-shirt\",\"T-shirt\",\"Blouse\",\"Skirt\",\"Pants\",\"Shirt\",\"Socks\",\"Shorts\",\"Jeans\",\"Skirt\",\"Skirt\",\"Sweater\",\"Blouse\",\"Sweater\",\"Shirt\",\"T-shirt\",\"T-shirt\",\"Pants\",\"T-shirt\",\"Skirt\",\"Blouse\",\"Blouse\",\"Jeans\",\"T-shirt\",\"Sweater\",\"Pants\",\"Skirt\",\"Socks\",\"T-shirt\",\"Blouse\",\"Blouse\",\"Shorts\",\"Hoodie\",\"Hoodie\",\"Skirt\",\"Dress\",\"Hoodie\",\"Jeans\",\"Pants\",\"Shorts\",\"Socks\",\"Pants\",\"T-shirt\",\"Skirt\",\"Sweater\",\"Sweater\",\"Skirt\",\"Shorts\",\"Hoodie\",\"Skirt\",\"Skirt\",\"Blouse\",\"Shirt\",\"Pants\",\"Jeans\",\"Pants\",\"Hoodie\",\"Blouse\",\"Socks\",\"Jeans\",\"Pants\",\"Socks\",\"Hoodie\",\"Hoodie\",\"Pants\",\"Shirt\",\"T-shirt\",\"Dress\",\"Skirt\",\"Hoodie\",\"Socks\",\"Shorts\",\"Jeans\",\"Shorts\",\"Pants\",\"Sweater\",\"Dress\",\"Shirt\",\"Dress\",\"Skirt\",\"Jeans\",\"Skirt\",\"Pants\",\"Hoodie\",\"Blouse\",\"Pants\",\"Socks\",\"Shirt\",\"Shirt\",\"Skirt\",\"Sweater\",\"Jeans\",\"Skirt\",\"Socks\",\"Shirt\",\"Sweater\",\"Socks\",\"Socks\",\"Shirt\",\"Socks\",\"Blouse\",\"Jeans\",\"Shorts\",\"T-shirt\",\"Blouse\",\"Blouse\",\"T-shirt\",\"Jeans\",\"Pants\",\"T-shirt\",\"Sweater\",\"Socks\",\"Shirt\",\"Shorts\",\"Sweater\",\"Shorts\",\"Pants\",\"T-shirt\",\"Sweater\",\"Dress\",\"Jeans\",\"Jeans\",\"Blouse\",\"Jeans\",\"Dress\",\"Socks\",\"Jeans\",\"Dress\",\"Socks\",\"Hoodie\",\"Dress\",\"T-shirt\",\"T-shirt\",\"Sweater\",\"Shirt\",\"Pants\",\"Pants\",\"Hoodie\",\"Socks\",\"Dress\",\"Shirt\",\"Dress\",\"Socks\",\"Skirt\",\"Skirt\",\"Shorts\",\"Skirt\",\"Socks\",\"Sweater\",\"Dress\",\"Skirt\",\"Skirt\",\"T-shirt\",\"Shirt\",\"Jeans\",\"Shorts\",\"Shirt\",\"Skirt\",\"Shirt\",\"Blouse\",\"Dress\",\"Shorts\",\"Pants\",\"Skirt\",\"Sweater\",\"Shorts\",\"Skirt\",\"Dress\",\"Socks\",\"Blouse\",\"Shorts\",\"Shorts\",\"Blouse\",\"Blouse\",\"Blouse\",\"Shirt\",\"Socks\",\"Jeans\",\"Dress\",\"Pants\",\"Dress\",\"Dress\",\"Jeans\",\"Sweater\",\"Sweater\",\"Pants\",\"Pants\",\"Blouse\",\"Shorts\",\"Pants\",\"Shirt\",\"Pants\",\"Blouse\",\"Socks\",\"T-shirt\",\"Skirt\",\"Shirt\",\"Shorts\",\"Socks\",\"T-shirt\",\"Hoodie\",\"Blouse\",\"Skirt\",\"T-shirt\",\"Jeans\",\"Dress\",\"Sweater\",\"Skirt\",\"Blouse\",\"Dress\",\"Dress\",\"Shorts\",\"Jeans\",\"Hoodie\",\"Blouse\",\"Socks\",\"Blouse\",\"Shorts\",\"T-shirt\",\"Sweater\",\"Socks\",\"Pants\",\"Hoodie\",\"Skirt\",\"Dress\",\"T-shirt\",\"Dress\",\"Socks\",\"Hoodie\",\"Skirt\",\"Skirt\",\"Pants\",\"Shirt\",\"Shirt\",\"Blouse\",\"Skirt\",\"Socks\",\"T-shirt\",\"Blouse\",\"Sweater\",\"Blouse\",\"Skirt\",\"Shirt\",\"Sweater\",\"Jeans\",\"Socks\",\"Socks\",\"Sweater\",\"Socks\",\"Hoodie\",\"Blouse\",\"Sweater\",\"Blouse\",\"Socks\",\"Dress\",\"Shirt\",\"Shirt\",\"Jeans\",\"Socks\",\"Blouse\",\"Shirt\",\"Dress\",\"Shorts\",\"Shorts\",\"Jeans\",\"Shorts\",\"Hoodie\",\"Shorts\",\"Socks\",\"Pants\",\"Sweater\",\"T-shirt\",\"Hoodie\",\"T-shirt\",\"T-shirt\",\"Jeans\",\"Socks\",\"Blouse\",\"Shirt\",\"Pants\",\"T-shirt\",\"Socks\",\"Shirt\",\"Sweater\",\"Jeans\",\"T-shirt\",\"Socks\",\"Jeans\",\"Pants\",\"Blouse\",\"Shorts\",\"Shorts\",\"Skirt\",\"Blouse\",\"Shirt\",\"Socks\",\"T-shirt\",\"Dress\",\"Socks\",\"Dress\",\"Socks\",\"Skirt\",\"Hoodie\",\"Blouse\",\"Jeans\",\"Blouse\",\"Socks\",\"Hoodie\",\"Shorts\",\"Skirt\",\"Shorts\",\"Dress\",\"Socks\",\"Socks\",\"Blouse\",\"Shorts\",\"Shirt\",\"Sweater\",\"Shorts\",\"Pants\",\"Skirt\",\"Socks\",\"Pants\",\"Pants\",\"T-shirt\",\"Shorts\",\"Hoodie\",\"Hoodie\",\"Shorts\",\"Socks\",\"T-shirt\",\"Dress\",\"Blouse\",\"T-shirt\",\"Shorts\",\"Hoodie\",\"Socks\",\"Blouse\",\"Jeans\",\"Dress\",\"Dress\",\"Jeans\",\"Socks\",\"Pants\",\"Shorts\",\"Pants\",\"Skirt\",\"Blouse\",\"Shirt\",\"Dress\",\"Dress\",\"Sweater\",\"Hoodie\",\"Jeans\",\"T-shirt\",\"Shorts\",\"Pants\",\"Blouse\",\"Dress\",\"Skirt\",\"Shirt\",\"Hoodie\",\"Skirt\",\"Skirt\",\"Hoodie\",\"Pants\",\"Shirt\",\"Blouse\",\"Skirt\",\"Pants\",\"T-shirt\",\"Pants\",\"Socks\",\"Shorts\",\"Blouse\",\"Shorts\",\"Dress\",\"Pants\",\"Skirt\",\"T-shirt\",\"Hoodie\",\"Shorts\",\"Shorts\",\"Shorts\",\"Socks\",\"Dress\",\"Socks\",\"Dress\",\"Blouse\",\"Pants\",\"Hoodie\",\"T-shirt\",\"Sweater\",\"Dress\",\"Dress\",\"Shirt\",\"Sweater\",\"Shorts\",\"Hoodie\",\"Shirt\",\"Skirt\",\"Socks\",\"Jeans\",\"Skirt\",\"Hoodie\",\"Shirt\",\"Dress\",\"Shirt\",\"Hoodie\",\"Jeans\",\"Dress\",\"Sweater\",\"Blouse\",\"Skirt\",\"T-shirt\",\"Sweater\",\"Dress\",\"Dress\",\"Blouse\",\"Shirt\",\"Pants\",\"Socks\",\"Blouse\",\"Skirt\",\"Skirt\",\"Blouse\",\"Sweater\",\"Socks\",\"Shorts\",\"Hoodie\",\"T-shirt\",\"Shirt\",\"Shirt\",\"T-shirt\",\"Hoodie\",\"Blouse\",\"Hoodie\",\"Skirt\",\"Shorts\",\"Jeans\",\"Hoodie\",\"Shirt\",\"T-shirt\",\"Blouse\",\"Skirt\",\"Shorts\",\"Shirt\",\"Skirt\",\"Dress\",\"Blouse\",\"Skirt\",\"Hoodie\",\"Jeans\",\"T-shirt\",\"Pants\",\"T-shirt\",\"Dress\",\"Sweater\",\"Socks\",\"Sweater\",\"Blouse\",\"Dress\",\"Jeans\",\"Shorts\",\"Shirt\",\"T-shirt\",\"Sweater\",\"Skirt\",\"Blouse\",\"Socks\",\"Shorts\",\"Sweater\",\"Shirt\",\"Pants\",\"Hoodie\",\"Socks\",\"Dress\",\"Blouse\",\"Skirt\",\"Blouse\",\"Socks\",\"Hoodie\",\"Jeans\",\"T-shirt\",\"Dress\",\"Hoodie\",\"Blouse\",\"Blouse\",\"Blouse\",\"Blouse\",\"Socks\",\"Sweater\",\"Shirt\",\"Shorts\",\"Shirt\",\"Shirt\",\"Shirt\",\"Sweater\",\"Shirt\",\"Socks\",\"T-shirt\",\"Skirt\",\"Sweater\",\"Skirt\",\"Socks\",\"Shirt\",\"Pants\",\"Pants\",\"Jeans\",\"Dress\",\"T-shirt\",\"Dress\",\"Skirt\",\"Hoodie\",\"Pants\",\"Sweater\",\"Shorts\",\"Shorts\",\"Jeans\",\"Pants\",\"Dress\",\"Pants\",\"Skirt\",\"Socks\",\"Shirt\",\"Dress\",\"Socks\",\"Sweater\",\"Jeans\",\"Sweater\",\"Hoodie\",\"Blouse\",\"Skirt\",\"Shorts\",\"Dress\",\"Skirt\",\"T-shirt\",\"Blouse\",\"Jeans\",\"Blouse\",\"Shirt\",\"Hoodie\",\"Dress\",\"Dress\",\"Blouse\",\"Sweater\",\"Hoodie\",\"Blouse\",\"Socks\",\"Sweater\",\"T-shirt\",\"Skirt\",\"Jeans\",\"Sweater\",\"Shirt\",\"Shorts\",\"Sweater\",\"Hoodie\",\"T-shirt\",\"Pants\",\"Sweater\",\"Shirt\",\"Dress\",\"Shirt\",\"Dress\",\"Socks\",\"Shirt\",\"Pants\",\"Shirt\",\"Shirt\",\"Pants\",\"Skirt\",\"Blouse\",\"Socks\",\"Blouse\",\"Shirt\",\"Hoodie\",\"Shorts\",\"Shirt\",\"Hoodie\",\"Socks\",\"Pants\",\"Sweater\",\"T-shirt\",\"Skirt\",\"Blouse\",\"Hoodie\",\"Shirt\",\"Sweater\",\"Shorts\",\"Blouse\",\"T-shirt\",\"Socks\",\"Shirt\",\"Dress\",\"Pants\",\"Dress\",\"Shirt\",\"Dress\",\"Jeans\",\"T-shirt\",\"Socks\",\"Skirt\",\"Pants\",\"Socks\",\"Shorts\",\"Sweater\",\"Skirt\",\"Blouse\",\"Blouse\",\"Jeans\",\"Hoodie\",\"Sweater\",\"Sweater\",\"Socks\",\"Pants\",\"Hoodie\",\"Socks\",\"Socks\",\"Pants\",\"Skirt\",\"Hoodie\",\"Skirt\",\"T-shirt\",\"Shirt\",\"Hoodie\",\"Blouse\",\"Pants\",\"T-shirt\",\"T-shirt\",\"Socks\",\"Hoodie\",\"Sweater\",\"Pants\",\"T-shirt\",\"Sweater\",\"Shorts\",\"Shirt\",\"T-shirt\",\"Shorts\",\"Pants\",\"Hoodie\",\"Dress\",\"Blouse\",\"Socks\",\"Socks\",\"Sweater\",\"Pants\",\"Skirt\",\"Dress\",\"Pants\",\"T-shirt\",\"Skirt\",\"Sweater\",\"Blouse\",\"Blouse\",\"Shorts\",\"Pants\",\"Blouse\",\"Hoodie\",\"Jeans\",\"Socks\",\"Socks\",\"Shorts\",\"Blouse\",\"Sweater\",\"T-shirt\",\"Shorts\",\"T-shirt\",\"Jeans\",\"Shirt\",\"Blouse\",\"Skirt\",\"T-shirt\",\"Shorts\",\"Jeans\",\"T-shirt\",\"Shirt\",\"Dress\",\"Skirt\",\"Blouse\",\"Jeans\",\"Hoodie\",\"T-shirt\",\"Sweater\",\"Skirt\",\"T-shirt\",\"Sweater\",\"Hoodie\",\"Socks\",\"Blouse\",\"Shirt\",\"Shorts\",\"Dress\",\"Sweater\",\"Hoodie\",\"T-shirt\",\"Pants\",\"Sweater\",\"Pants\",\"Socks\",\"Hoodie\",\"Dress\",\"Dress\",\"Pants\",\"Blouse\",\"Jeans\",\"Pants\",\"Hoodie\",\"Blouse\",\"Sweater\",\"Dress\",\"Socks\",\"Shirt\",\"Blouse\",\"Socks\",\"T-shirt\",\"Skirt\",\"Socks\",\"Socks\",\"Pants\",\"Socks\",\"Shirt\",\"Sweater\",\"Skirt\",\"Dress\",\"Pants\",\"Blouse\",\"Shorts\",\"Blouse\",\"Shirt\",\"T-shirt\",\"Hoodie\",\"Hoodie\",\"Jeans\",\"Socks\",\"Socks\",\"Blouse\",\"Dress\",\"Pants\",\"Sweater\",\"Socks\",\"Hoodie\",\"Dress\",\"Shirt\",\"Shorts\",\"Sweater\",\"Dress\",\"Pants\",\"Pants\",\"Shorts\",\"Socks\",\"Shirt\",\"Shirt\",\"Shirt\",\"Pants\",\"T-shirt\",\"Shirt\",\"Blouse\",\"Dress\",\"Skirt\",\"Shirt\",\"Shorts\",\"Pants\",\"Pants\",\"Sweater\",\"Blouse\",\"T-shirt\",\"Pants\",\"Shorts\",\"Shorts\",\"Blouse\",\"Socks\",\"Blouse\",\"T-shirt\",\"Dress\",\"Blouse\",\"Sweater\",\"Shorts\",\"Socks\",\"Blouse\",\"Jeans\",\"Dress\",\"Skirt\",\"Shorts\",\"Jeans\",\"Socks\",\"Blouse\",\"Dress\",\"Shorts\",\"Blouse\",\"Hoodie\",\"Sweater\",\"Dress\",\"Blouse\",\"Hoodie\",\"Hoodie\",\"Dress\",\"T-shirt\",\"Skirt\",\"Jeans\",\"Hoodie\",\"Jeans\",\"Socks\",\"T-shirt\",\"Dress\",\"Hoodie\",\"Dress\",\"Blouse\",\"Blouse\",\"T-shirt\",\"Socks\",\"Dress\",\"Blouse\",\"Shorts\",\"Skirt\",\"Skirt\",\"Jeans\",\"Sweater\",\"T-shirt\",\"Shorts\",\"Socks\",\"Pants\",\"Blouse\",\"Socks\",\"Socks\",\"Shirt\",\"Shirt\",\"Socks\",\"Skirt\",\"Shorts\",\"Shirt\",\"Blouse\",\"Blouse\",\"Sweater\",\"Skirt\",\"Blouse\",\"Hoodie\",\"Skirt\",\"Skirt\",\"Hoodie\",\"Socks\",\"Blouse\",\"Shirt\",\"T-shirt\",\"Pants\",\"Pants\",\"Dress\",\"Socks\",\"Shirt\",\"Socks\",\"Hoodie\",\"Jeans\",\"Shorts\",\"Pants\",\"Shirt\",\"Shirt\",\"Pants\",\"Hoodie\",\"Socks\",\"Sweater\",\"Blouse\",\"Hoodie\",\"Skirt\",\"Skirt\",\"Skirt\",\"Socks\",\"Shorts\",\"Shirt\",\"Socks\",\"Shorts\",\"Sweater\",\"Pants\",\"T-shirt\",\"Pants\",\"Sweater\",\"Shorts\",\"Jeans\",\"Socks\",\"Jeans\",\"Blouse\",\"Shirt\",\"Shorts\",\"Sweater\",\"Blouse\",\"Blouse\",\"Socks\",\"Skirt\",\"Skirt\",\"Pants\",\"Dress\",\"Pants\",\"Shirt\",\"Shorts\",\"Shorts\",\"Blouse\",\"Pants\",\"Hoodie\",\"Skirt\",\"Hoodie\",\"Dress\",\"Jeans\",\"Jeans\",\"Shorts\",\"Sweater\",\"Blouse\",\"Sweater\",\"Hoodie\",\"T-shirt\",\"Shirt\",\"T-shirt\",\"Shorts\",\"Shirt\",\"T-shirt\",\"Shorts\",\"Dress\",\"T-shirt\",\"Sweater\",\"Hoodie\",\"Skirt\",\"Shirt\",\"Pants\",\"Socks\",\"Shirt\",\"Dress\",\"Shirt\",\"Dress\",\"Skirt\",\"Hoodie\"],\"xaxis\":\"x\",\"yaxis\":\"y\",\"type\":\"histogram\"},{\"alignmentgroup\":\"True\",\"bingroup\":\"x\",\"hovertemplate\":\"Category=Footwear\\u003cbr\\u003eItem Purchased=%{x}\\u003cbr\\u003ecount=%{y}\\u003cextra\\u003e\\u003c\\u002fextra\\u003e\",\"legendgroup\":\"Footwear\",\"marker\":{\"color\":\"#EF553B\",\"pattern\":{\"shape\":\"\"}},\"name\":\"Footwear\",\"offsetgroup\":\"Footwear\",\"orientation\":\"v\",\"showlegend\":true,\"x\":[\"Sandals\",\"Sneakers\",\"Shoes\",\"Sneakers\",\"Boots\",\"Sandals\",\"Shoes\",\"Shoes\",\"Sneakers\",\"Shoes\",\"Boots\",\"Sneakers\",\"Shoes\",\"Sandals\",\"Sandals\",\"Sneakers\",\"Shoes\",\"Shoes\",\"Boots\",\"Sneakers\",\"Shoes\",\"Shoes\",\"Boots\",\"Sandals\",\"Sneakers\",\"Shoes\",\"Shoes\",\"Boots\",\"Sneakers\",\"Sandals\",\"Sneakers\",\"Shoes\",\"Sandals\",\"Sandals\",\"Boots\",\"Shoes\",\"Sneakers\",\"Sandals\",\"Shoes\",\"Sandals\",\"Shoes\",\"Sneakers\",\"Sandals\",\"Sneakers\",\"Sandals\",\"Shoes\",\"Sandals\",\"Sneakers\",\"Sneakers\",\"Sneakers\",\"Shoes\",\"Sneakers\",\"Shoes\",\"Boots\",\"Shoes\",\"Sneakers\",\"Boots\",\"Boots\",\"Sneakers\",\"Sneakers\",\"Sandals\",\"Sandals\",\"Shoes\",\"Boots\",\"Boots\",\"Shoes\",\"Boots\",\"Sneakers\",\"Shoes\",\"Sandals\",\"Sneakers\",\"Boots\",\"Sneakers\",\"Boots\",\"Shoes\",\"Boots\",\"Shoes\",\"Shoes\",\"Boots\",\"Sandals\",\"Sneakers\",\"Sandals\",\"Sandals\",\"Boots\",\"Sandals\",\"Sneakers\",\"Sneakers\",\"Shoes\",\"Sneakers\",\"Sneakers\",\"Sandals\",\"Sandals\",\"Boots\",\"Boots\",\"Shoes\",\"Shoes\",\"Boots\",\"Shoes\",\"Sandals\",\"Shoes\",\"Sandals\",\"Shoes\",\"Boots\",\"Sandals\",\"Sneakers\",\"Sandals\",\"Boots\",\"Sandals\",\"Sneakers\",\"Sandals\",\"Boots\",\"Boots\",\"Boots\",\"Boots\",\"Boots\",\"Sandals\",\"Boots\",\"Shoes\",\"Sneakers\",\"Sneakers\",\"Shoes\",\"Sneakers\",\"Sandals\",\"Boots\",\"Shoes\",\"Boots\",\"Sneakers\",\"Boots\",\"Sneakers\",\"Shoes\",\"Boots\",\"Sandals\",\"Boots\",\"Sandals\",\"Shoes\",\"Sandals\",\"Shoes\",\"Sneakers\",\"Boots\",\"Sandals\",\"Sandals\",\"Boots\",\"Sneakers\",\"Sneakers\",\"Sneakers\",\"Sneakers\",\"Boots\",\"Sneakers\",\"Shoes\",\"Boots\",\"Sneakers\",\"Boots\",\"Boots\",\"Sandals\",\"Boots\",\"Sneakers\",\"Boots\",\"Shoes\",\"Shoes\",\"Sandals\",\"Shoes\",\"Sandals\",\"Shoes\",\"Shoes\",\"Sandals\",\"Shoes\",\"Sandals\",\"Boots\",\"Sneakers\",\"Sneakers\",\"Shoes\",\"Boots\",\"Sneakers\",\"Sneakers\",\"Shoes\",\"Sneakers\",\"Sandals\",\"Shoes\",\"Boots\",\"Sneakers\",\"Sneakers\",\"Shoes\",\"Sandals\",\"Sneakers\",\"Sandals\",\"Shoes\",\"Sneakers\",\"Boots\",\"Boots\",\"Shoes\",\"Boots\",\"Boots\",\"Sandals\",\"Boots\",\"Sandals\",\"Sandals\",\"Sneakers\",\"Boots\",\"Boots\",\"Sandals\",\"Boots\",\"Sandals\",\"Sneakers\",\"Sandals\",\"Sneakers\",\"Shoes\",\"Shoes\",\"Boots\",\"Shoes\",\"Boots\",\"Sneakers\",\"Sneakers\",\"Shoes\",\"Sneakers\",\"Sandals\",\"Sneakers\",\"Shoes\",\"Sneakers\",\"Sandals\",\"Boots\",\"Sandals\",\"Sandals\",\"Sneakers\",\"Boots\",\"Boots\",\"Sandals\",\"Sandals\",\"Boots\",\"Boots\",\"Sneakers\",\"Shoes\",\"Boots\",\"Sneakers\",\"Sandals\",\"Sneakers\",\"Sneakers\",\"Boots\",\"Sneakers\",\"Shoes\",\"Shoes\",\"Sandals\",\"Shoes\",\"Sneakers\",\"Sneakers\",\"Sneakers\",\"Sneakers\",\"Boots\",\"Sneakers\",\"Boots\",\"Sneakers\",\"Shoes\",\"Boots\",\"Sandals\",\"Sandals\",\"Sneakers\",\"Shoes\",\"Boots\",\"Boots\",\"Boots\",\"Shoes\",\"Sneakers\",\"Shoes\",\"Sneakers\",\"Boots\",\"Shoes\",\"Sandals\",\"Boots\",\"Sandals\",\"Sandals\",\"Shoes\",\"Sneakers\",\"Sneakers\",\"Sneakers\",\"Sneakers\",\"Boots\",\"Shoes\",\"Boots\",\"Sandals\",\"Sandals\",\"Sandals\",\"Sneakers\",\"Sandals\",\"Boots\",\"Sandals\",\"Sandals\",\"Boots\",\"Sandals\",\"Sandals\",\"Sneakers\",\"Sandals\",\"Shoes\",\"Shoes\",\"Shoes\",\"Boots\",\"Sandals\",\"Sandals\",\"Shoes\",\"Sneakers\",\"Boots\",\"Sneakers\",\"Sneakers\",\"Shoes\",\"Sandals\",\"Boots\",\"Sandals\",\"Shoes\",\"Shoes\",\"Shoes\",\"Shoes\",\"Sneakers\",\"Boots\",\"Shoes\",\"Sneakers\",\"Sneakers\",\"Sandals\",\"Sandals\",\"Sneakers\",\"Shoes\",\"Shoes\",\"Boots\",\"Sandals\",\"Boots\",\"Sandals\",\"Shoes\",\"Sandals\",\"Shoes\",\"Sandals\",\"Shoes\",\"Sandals\",\"Boots\",\"Sandals\",\"Sandals\",\"Sandals\",\"Sandals\",\"Sneakers\",\"Shoes\",\"Boots\",\"Sandals\",\"Sneakers\",\"Sandals\",\"Shoes\",\"Shoes\",\"Shoes\",\"Sneakers\",\"Shoes\",\"Sneakers\",\"Boots\",\"Sneakers\",\"Sneakers\",\"Sandals\",\"Shoes\",\"Sandals\",\"Boots\",\"Boots\",\"Boots\",\"Sneakers\",\"Sandals\",\"Shoes\",\"Shoes\",\"Boots\",\"Sneakers\",\"Shoes\",\"Shoes\",\"Boots\",\"Sandals\",\"Sandals\",\"Boots\",\"Sneakers\",\"Shoes\",\"Sandals\",\"Sneakers\",\"Shoes\",\"Sneakers\",\"Sneakers\",\"Sneakers\",\"Sandals\",\"Sandals\",\"Sandals\",\"Boots\",\"Shoes\",\"Boots\",\"Shoes\",\"Sneakers\",\"Boots\",\"Sandals\",\"Sandals\",\"Shoes\",\"Boots\",\"Boots\",\"Shoes\",\"Boots\",\"Sneakers\",\"Shoes\",\"Shoes\",\"Sandals\",\"Shoes\",\"Shoes\",\"Sandals\",\"Shoes\",\"Sneakers\",\"Boots\",\"Boots\",\"Sneakers\",\"Sandals\",\"Boots\",\"Sandals\",\"Boots\",\"Shoes\",\"Sneakers\",\"Boots\",\"Sneakers\",\"Boots\",\"Boots\",\"Shoes\",\"Shoes\",\"Sneakers\",\"Shoes\",\"Sandals\",\"Shoes\",\"Sneakers\",\"Sneakers\",\"Shoes\",\"Boots\",\"Sandals\",\"Shoes\",\"Sneakers\",\"Boots\",\"Boots\",\"Boots\",\"Sandals\",\"Boots\",\"Boots\",\"Boots\",\"Shoes\",\"Shoes\",\"Boots\",\"Sandals\",\"Boots\",\"Sneakers\",\"Boots\",\"Sandals\",\"Sneakers\",\"Boots\",\"Boots\",\"Sandals\",\"Shoes\",\"Shoes\",\"Sneakers\",\"Sneakers\",\"Boots\",\"Boots\",\"Boots\",\"Sneakers\",\"Boots\",\"Sneakers\",\"Sandals\",\"Shoes\",\"Boots\",\"Sandals\",\"Shoes\",\"Sneakers\",\"Boots\",\"Boots\",\"Shoes\",\"Sneakers\",\"Shoes\",\"Shoes\",\"Boots\",\"Sandals\",\"Boots\",\"Shoes\",\"Boots\",\"Sneakers\",\"Sandals\",\"Sandals\",\"Shoes\",\"Sandals\",\"Sandals\",\"Sandals\",\"Boots\",\"Shoes\",\"Sneakers\",\"Boots\",\"Shoes\",\"Sandals\",\"Sandals\",\"Sneakers\",\"Boots\",\"Sneakers\",\"Boots\",\"Shoes\",\"Sneakers\",\"Sneakers\",\"Sneakers\",\"Shoes\",\"Sneakers\",\"Sandals\",\"Sneakers\",\"Sandals\",\"Shoes\",\"Shoes\",\"Sneakers\",\"Sandals\",\"Sandals\",\"Sneakers\",\"Shoes\",\"Shoes\",\"Sandals\",\"Sandals\",\"Boots\",\"Sandals\",\"Boots\",\"Sandals\",\"Shoes\",\"Sandals\",\"Boots\",\"Sandals\",\"Shoes\",\"Boots\",\"Boots\",\"Boots\",\"Sandals\",\"Shoes\",\"Sandals\",\"Sneakers\",\"Boots\",\"Sandals\",\"Sandals\",\"Boots\",\"Shoes\",\"Sandals\",\"Shoes\",\"Sneakers\",\"Sneakers\",\"Boots\",\"Shoes\",\"Shoes\",\"Sneakers\",\"Shoes\",\"Shoes\",\"Sandals\",\"Shoes\",\"Shoes\",\"Sneakers\",\"Sneakers\",\"Sandals\",\"Sandals\",\"Boots\",\"Shoes\",\"Sneakers\",\"Boots\",\"Sandals\",\"Sandals\",\"Sandals\",\"Sandals\",\"Sneakers\",\"Sneakers\",\"Sandals\",\"Sandals\",\"Boots\",\"Shoes\",\"Sandals\",\"Shoes\",\"Sandals\",\"Shoes\",\"Sandals\",\"Sandals\",\"Sandals\",\"Sandals\",\"Shoes\",\"Sandals\",\"Sandals\",\"Shoes\",\"Sandals\",\"Boots\",\"Shoes\",\"Sandals\",\"Shoes\",\"Sandals\",\"Sneakers\",\"Sneakers\",\"Sneakers\",\"Sneakers\",\"Boots\",\"Boots\",\"Boots\",\"Shoes\",\"Sneakers\",\"Sneakers\",\"Boots\",\"Sandals\",\"Sandals\",\"Sandals\",\"Sandals\",\"Sandals\",\"Shoes\",\"Sandals\",\"Sneakers\",\"Shoes\"],\"xaxis\":\"x\",\"yaxis\":\"y\",\"type\":\"histogram\"},{\"alignmentgroup\":\"True\",\"bingroup\":\"x\",\"hovertemplate\":\"Category=Outerwear\\u003cbr\\u003eItem Purchased=%{x}\\u003cbr\\u003ecount=%{y}\\u003cextra\\u003e\\u003c\\u002fextra\\u003e\",\"legendgroup\":\"Outerwear\",\"marker\":{\"color\":\"#00cc96\",\"pattern\":{\"shape\":\"\"}},\"name\":\"Outerwear\",\"offsetgroup\":\"Outerwear\",\"orientation\":\"v\",\"showlegend\":true,\"x\":[\"Coat\",\"Coat\",\"Coat\",\"Jacket\",\"Jacket\",\"Coat\",\"Coat\",\"Jacket\",\"Coat\",\"Coat\",\"Jacket\",\"Coat\",\"Jacket\",\"Jacket\",\"Coat\",\"Jacket\",\"Coat\",\"Coat\",\"Coat\",\"Jacket\",\"Coat\",\"Jacket\",\"Coat\",\"Coat\",\"Jacket\",\"Jacket\",\"Jacket\",\"Jacket\",\"Coat\",\"Coat\",\"Coat\",\"Coat\",\"Jacket\",\"Coat\",\"Coat\",\"Coat\",\"Coat\",\"Coat\",\"Jacket\",\"Coat\",\"Coat\",\"Coat\",\"Jacket\",\"Jacket\",\"Jacket\",\"Coat\",\"Jacket\",\"Coat\",\"Coat\",\"Coat\",\"Jacket\",\"Coat\",\"Jacket\",\"Coat\",\"Jacket\",\"Coat\",\"Coat\",\"Jacket\",\"Jacket\",\"Jacket\",\"Coat\",\"Coat\",\"Jacket\",\"Jacket\",\"Coat\",\"Jacket\",\"Jacket\",\"Jacket\",\"Jacket\",\"Jacket\",\"Coat\",\"Coat\",\"Coat\",\"Coat\",\"Jacket\",\"Coat\",\"Jacket\",\"Coat\",\"Jacket\",\"Jacket\",\"Jacket\",\"Coat\",\"Coat\",\"Coat\",\"Coat\",\"Jacket\",\"Coat\",\"Jacket\",\"Jacket\",\"Coat\",\"Coat\",\"Jacket\",\"Jacket\",\"Jacket\",\"Coat\",\"Coat\",\"Coat\",\"Jacket\",\"Coat\",\"Coat\",\"Coat\",\"Coat\",\"Coat\",\"Coat\",\"Jacket\",\"Coat\",\"Jacket\",\"Jacket\",\"Coat\",\"Coat\",\"Jacket\",\"Jacket\",\"Coat\",\"Coat\",\"Coat\",\"Coat\",\"Jacket\",\"Coat\",\"Jacket\",\"Jacket\",\"Jacket\",\"Coat\",\"Jacket\",\"Coat\",\"Coat\",\"Jacket\",\"Jacket\",\"Coat\",\"Coat\",\"Jacket\",\"Jacket\",\"Jacket\",\"Jacket\",\"Jacket\",\"Coat\",\"Jacket\",\"Jacket\",\"Coat\",\"Jacket\",\"Coat\",\"Coat\",\"Coat\",\"Jacket\",\"Coat\",\"Coat\",\"Coat\",\"Jacket\",\"Jacket\",\"Coat\",\"Coat\",\"Coat\",\"Jacket\",\"Jacket\",\"Jacket\",\"Coat\",\"Jacket\",\"Coat\",\"Jacket\",\"Jacket\",\"Jacket\",\"Jacket\",\"Jacket\",\"Jacket\",\"Coat\",\"Jacket\",\"Coat\",\"Jacket\",\"Coat\",\"Jacket\",\"Jacket\",\"Jacket\",\"Coat\",\"Coat\",\"Coat\",\"Jacket\",\"Coat\",\"Coat\",\"Coat\",\"Jacket\",\"Jacket\",\"Jacket\",\"Coat\",\"Coat\",\"Jacket\",\"Coat\",\"Coat\",\"Coat\",\"Coat\",\"Jacket\",\"Coat\",\"Coat\",\"Coat\",\"Jacket\",\"Jacket\",\"Coat\",\"Jacket\",\"Jacket\",\"Coat\",\"Jacket\",\"Jacket\",\"Jacket\",\"Jacket\",\"Jacket\",\"Coat\",\"Jacket\",\"Coat\",\"Coat\",\"Jacket\",\"Jacket\",\"Jacket\",\"Coat\",\"Coat\",\"Coat\",\"Jacket\",\"Jacket\",\"Coat\",\"Jacket\",\"Coat\",\"Jacket\",\"Jacket\",\"Jacket\",\"Jacket\",\"Jacket\",\"Coat\",\"Coat\",\"Coat\",\"Jacket\",\"Jacket\",\"Jacket\",\"Jacket\",\"Coat\",\"Jacket\",\"Jacket\",\"Jacket\",\"Jacket\",\"Jacket\",\"Coat\",\"Jacket\",\"Jacket\",\"Jacket\",\"Coat\",\"Coat\",\"Jacket\",\"Coat\",\"Coat\",\"Jacket\",\"Coat\",\"Coat\",\"Coat\",\"Coat\",\"Jacket\",\"Coat\",\"Jacket\",\"Coat\",\"Jacket\",\"Coat\",\"Coat\",\"Coat\",\"Jacket\",\"Jacket\",\"Jacket\",\"Coat\",\"Coat\",\"Jacket\",\"Jacket\",\"Coat\",\"Jacket\",\"Jacket\",\"Coat\",\"Jacket\",\"Coat\",\"Coat\",\"Coat\",\"Coat\",\"Coat\",\"Jacket\",\"Jacket\",\"Coat\",\"Coat\",\"Jacket\",\"Jacket\",\"Jacket\",\"Jacket\",\"Coat\",\"Jacket\",\"Jacket\",\"Jacket\",\"Jacket\",\"Coat\",\"Coat\",\"Jacket\",\"Coat\",\"Jacket\",\"Coat\",\"Jacket\",\"Coat\",\"Coat\",\"Coat\",\"Jacket\",\"Coat\",\"Jacket\",\"Jacket\",\"Coat\",\"Jacket\",\"Coat\",\"Jacket\",\"Jacket\",\"Coat\",\"Coat\",\"Coat\",\"Jacket\",\"Jacket\",\"Coat\",\"Coat\",\"Jacket\",\"Jacket\",\"Coat\",\"Jacket\",\"Jacket\",\"Jacket\",\"Jacket\",\"Jacket\",\"Coat\",\"Jacket\"],\"xaxis\":\"x\",\"yaxis\":\"y\",\"type\":\"histogram\"},{\"alignmentgroup\":\"True\",\"bingroup\":\"x\",\"hovertemplate\":\"Category=Accessories\\u003cbr\\u003eItem Purchased=%{x}\\u003cbr\\u003ecount=%{y}\\u003cextra\\u003e\\u003c\\u002fextra\\u003e\",\"legendgroup\":\"Accessories\",\"marker\":{\"color\":\"#ab63fa\",\"pattern\":{\"shape\":\"\"}},\"name\":\"Accessories\",\"offsetgroup\":\"Accessories\",\"orientation\":\"v\",\"showlegend\":true,\"x\":[\"Handbag\",\"Sunglasses\",\"Jewelry\",\"Handbag\",\"Jewelry\",\"Handbag\",\"Scarf\",\"Scarf\",\"Hat\",\"Jewelry\",\"Backpack\",\"Belt\",\"Scarf\",\"Sunglasses\",\"Backpack\",\"Handbag\",\"Belt\",\"Belt\",\"Gloves\",\"Scarf\",\"Hat\",\"Sunglasses\",\"Hat\",\"Scarf\",\"Gloves\",\"Sunglasses\",\"Sunglasses\",\"Backpack\",\"Backpack\",\"Belt\",\"Gloves\",\"Hat\",\"Hat\",\"Backpack\",\"Scarf\",\"Scarf\",\"Backpack\",\"Hat\",\"Gloves\",\"Jewelry\",\"Gloves\",\"Sunglasses\",\"Hat\",\"Gloves\",\"Gloves\",\"Backpack\",\"Sunglasses\",\"Handbag\",\"Handbag\",\"Gloves\",\"Jewelry\",\"Hat\",\"Backpack\",\"Gloves\",\"Backpack\",\"Hat\",\"Belt\",\"Backpack\",\"Scarf\",\"Jewelry\",\"Hat\",\"Hat\",\"Scarf\",\"Gloves\",\"Handbag\",\"Handbag\",\"Scarf\",\"Sunglasses\",\"Belt\",\"Hat\",\"Gloves\",\"Scarf\",\"Jewelry\",\"Gloves\",\"Sunglasses\",\"Jewelry\",\"Belt\",\"Sunglasses\",\"Belt\",\"Handbag\",\"Handbag\",\"Sunglasses\",\"Scarf\",\"Jewelry\",\"Handbag\",\"Gloves\",\"Hat\",\"Backpack\",\"Jewelry\",\"Sunglasses\",\"Jewelry\",\"Jewelry\",\"Backpack\",\"Belt\",\"Handbag\",\"Jewelry\",\"Scarf\",\"Handbag\",\"Sunglasses\",\"Hat\",\"Gloves\",\"Handbag\",\"Jewelry\",\"Handbag\",\"Backpack\",\"Jewelry\",\"Belt\",\"Scarf\",\"Hat\",\"Hat\",\"Hat\",\"Jewelry\",\"Jewelry\",\"Belt\",\"Hat\",\"Gloves\",\"Handbag\",\"Belt\",\"Scarf\",\"Jewelry\",\"Sunglasses\",\"Scarf\",\"Backpack\",\"Jewelry\",\"Sunglasses\",\"Jewelry\",\"Handbag\",\"Gloves\",\"Scarf\",\"Belt\",\"Scarf\",\"Backpack\",\"Gloves\",\"Jewelry\",\"Backpack\",\"Belt\",\"Scarf\",\"Backpack\",\"Hat\",\"Jewelry\",\"Belt\",\"Sunglasses\",\"Sunglasses\",\"Gloves\",\"Jewelry\",\"Jewelry\",\"Jewelry\",\"Gloves\",\"Hat\",\"Jewelry\",\"Sunglasses\",\"Backpack\",\"Backpack\",\"Scarf\",\"Scarf\",\"Jewelry\",\"Handbag\",\"Hat\",\"Belt\",\"Hat\",\"Backpack\",\"Handbag\",\"Scarf\",\"Jewelry\",\"Gloves\",\"Scarf\",\"Hat\",\"Belt\",\"Sunglasses\",\"Gloves\",\"Gloves\",\"Backpack\",\"Backpack\",\"Belt\",\"Sunglasses\",\"Gloves\",\"Scarf\",\"Jewelry\",\"Backpack\",\"Scarf\",\"Hat\",\"Belt\",\"Backpack\",\"Jewelry\",\"Hat\",\"Backpack\",\"Handbag\",\"Sunglasses\",\"Hat\",\"Scarf\",\"Backpack\",\"Scarf\",\"Hat\",\"Jewelry\",\"Gloves\",\"Backpack\",\"Backpack\",\"Backpack\",\"Sunglasses\",\"Jewelry\",\"Sunglasses\",\"Jewelry\",\"Backpack\",\"Handbag\",\"Backpack\",\"Gloves\",\"Hat\",\"Sunglasses\",\"Scarf\",\"Handbag\",\"Handbag\",\"Backpack\",\"Gloves\",\"Sunglasses\",\"Jewelry\",\"Sunglasses\",\"Hat\",\"Gloves\",\"Scarf\",\"Backpack\",\"Sunglasses\",\"Belt\",\"Scarf\",\"Handbag\",\"Backpack\",\"Scarf\",\"Jewelry\",\"Jewelry\",\"Jewelry\",\"Hat\",\"Sunglasses\",\"Sunglasses\",\"Sunglasses\",\"Sunglasses\",\"Sunglasses\",\"Hat\",\"Scarf\",\"Gloves\",\"Scarf\",\"Gloves\",\"Belt\",\"Gloves\",\"Jewelry\",\"Belt\",\"Gloves\",\"Backpack\",\"Hat\",\"Hat\",\"Handbag\",\"Scarf\",\"Hat\",\"Handbag\",\"Handbag\",\"Scarf\",\"Backpack\",\"Belt\",\"Belt\",\"Scarf\",\"Handbag\",\"Hat\",\"Handbag\",\"Sunglasses\",\"Sunglasses\",\"Belt\",\"Gloves\",\"Handbag\",\"Backpack\",\"Gloves\",\"Belt\",\"Hat\",\"Sunglasses\",\"Hat\",\"Handbag\",\"Belt\",\"Handbag\",\"Sunglasses\",\"Backpack\",\"Handbag\",\"Scarf\",\"Belt\",\"Gloves\",\"Backpack\",\"Hat\",\"Jewelry\",\"Belt\",\"Hat\",\"Scarf\",\"Hat\",\"Sunglasses\",\"Belt\",\"Belt\",\"Belt\",\"Handbag\",\"Hat\",\"Belt\",\"Hat\",\"Backpack\",\"Hat\",\"Sunglasses\",\"Hat\",\"Scarf\",\"Jewelry\",\"Sunglasses\",\"Sunglasses\",\"Belt\",\"Gloves\",\"Hat\",\"Belt\",\"Hat\",\"Handbag\",\"Scarf\",\"Handbag\",\"Sunglasses\",\"Jewelry\",\"Hat\",\"Backpack\",\"Backpack\",\"Gloves\",\"Scarf\",\"Backpack\",\"Belt\",\"Gloves\",\"Belt\",\"Scarf\",\"Handbag\",\"Sunglasses\",\"Handbag\",\"Jewelry\",\"Gloves\",\"Handbag\",\"Jewelry\",\"Belt\",\"Belt\",\"Sunglasses\",\"Scarf\",\"Hat\",\"Jewelry\",\"Hat\",\"Scarf\",\"Jewelry\",\"Sunglasses\",\"Scarf\",\"Belt\",\"Hat\",\"Backpack\",\"Jewelry\",\"Sunglasses\",\"Backpack\",\"Scarf\",\"Jewelry\",\"Jewelry\",\"Sunglasses\",\"Handbag\",\"Gloves\",\"Hat\",\"Sunglasses\",\"Hat\",\"Backpack\",\"Sunglasses\",\"Belt\",\"Jewelry\",\"Handbag\",\"Hat\",\"Scarf\",\"Gloves\",\"Jewelry\",\"Handbag\",\"Gloves\",\"Hat\",\"Jewelry\",\"Jewelry\",\"Handbag\",\"Belt\",\"Belt\",\"Handbag\",\"Scarf\",\"Scarf\",\"Backpack\",\"Jewelry\",\"Backpack\",\"Belt\",\"Jewelry\",\"Belt\",\"Hat\",\"Scarf\",\"Belt\",\"Scarf\",\"Belt\",\"Handbag\",\"Handbag\",\"Sunglasses\",\"Handbag\",\"Gloves\",\"Gloves\",\"Jewelry\",\"Hat\",\"Handbag\",\"Gloves\",\"Hat\",\"Scarf\",\"Hat\",\"Hat\",\"Jewelry\",\"Jewelry\",\"Hat\",\"Belt\",\"Gloves\",\"Gloves\",\"Belt\",\"Belt\",\"Belt\",\"Backpack\",\"Belt\",\"Sunglasses\",\"Hat\",\"Jewelry\",\"Backpack\",\"Gloves\",\"Handbag\",\"Handbag\",\"Belt\",\"Belt\",\"Sunglasses\",\"Belt\",\"Sunglasses\",\"Hat\",\"Backpack\",\"Backpack\",\"Scarf\",\"Hat\",\"Handbag\",\"Belt\",\"Belt\",\"Scarf\",\"Gloves\",\"Handbag\",\"Sunglasses\",\"Scarf\",\"Jewelry\",\"Scarf\",\"Hat\",\"Gloves\",\"Gloves\",\"Scarf\",\"Sunglasses\",\"Hat\",\"Backpack\",\"Sunglasses\",\"Backpack\",\"Jewelry\",\"Handbag\",\"Backpack\",\"Hat\",\"Belt\",\"Handbag\",\"Backpack\",\"Hat\",\"Scarf\",\"Belt\",\"Sunglasses\",\"Jewelry\",\"Belt\",\"Gloves\",\"Jewelry\",\"Gloves\",\"Jewelry\",\"Jewelry\",\"Hat\",\"Hat\",\"Belt\",\"Gloves\",\"Jewelry\",\"Gloves\",\"Jewelry\",\"Gloves\",\"Hat\",\"Jewelry\",\"Belt\",\"Jewelry\",\"Belt\",\"Gloves\",\"Belt\",\"Sunglasses\",\"Hat\",\"Backpack\",\"Belt\",\"Hat\",\"Backpack\",\"Backpack\",\"Sunglasses\",\"Belt\",\"Handbag\",\"Jewelry\",\"Belt\",\"Hat\",\"Sunglasses\",\"Handbag\",\"Backpack\",\"Sunglasses\",\"Scarf\",\"Hat\",\"Scarf\",\"Scarf\",\"Backpack\",\"Sunglasses\",\"Backpack\",\"Jewelry\",\"Jewelry\",\"Belt\",\"Scarf\",\"Belt\",\"Handbag\",\"Backpack\",\"Jewelry\",\"Hat\",\"Jewelry\",\"Sunglasses\",\"Belt\",\"Jewelry\",\"Jewelry\",\"Hat\",\"Handbag\",\"Hat\",\"Scarf\",\"Backpack\",\"Sunglasses\",\"Gloves\",\"Sunglasses\",\"Gloves\",\"Scarf\",\"Scarf\",\"Scarf\",\"Handbag\",\"Scarf\",\"Belt\",\"Belt\",\"Jewelry\",\"Gloves\",\"Gloves\",\"Sunglasses\",\"Handbag\",\"Handbag\",\"Sunglasses\",\"Gloves\",\"Handbag\",\"Handbag\",\"Hat\",\"Sunglasses\",\"Belt\",\"Handbag\",\"Backpack\",\"Jewelry\",\"Sunglasses\",\"Jewelry\",\"Scarf\",\"Sunglasses\",\"Backpack\",\"Belt\",\"Jewelry\",\"Handbag\",\"Jewelry\",\"Sunglasses\",\"Handbag\",\"Sunglasses\",\"Belt\",\"Jewelry\",\"Hat\",\"Jewelry\",\"Jewelry\",\"Backpack\",\"Belt\",\"Scarf\",\"Jewelry\",\"Handbag\",\"Backpack\",\"Gloves\",\"Gloves\",\"Hat\",\"Backpack\",\"Belt\",\"Handbag\",\"Backpack\",\"Belt\",\"Hat\",\"Sunglasses\",\"Hat\",\"Sunglasses\",\"Jewelry\",\"Jewelry\",\"Scarf\",\"Hat\",\"Gloves\",\"Handbag\",\"Scarf\",\"Gloves\",\"Jewelry\",\"Scarf\",\"Belt\",\"Gloves\",\"Backpack\",\"Gloves\",\"Gloves\",\"Scarf\",\"Backpack\",\"Jewelry\",\"Gloves\",\"Sunglasses\",\"Jewelry\",\"Sunglasses\",\"Jewelry\",\"Backpack\",\"Scarf\",\"Jewelry\",\"Backpack\",\"Backpack\",\"Gloves\",\"Backpack\",\"Sunglasses\",\"Jewelry\",\"Jewelry\",\"Gloves\",\"Hat\",\"Backpack\",\"Gloves\",\"Gloves\",\"Gloves\",\"Hat\",\"Belt\",\"Hat\",\"Backpack\",\"Gloves\",\"Handbag\",\"Sunglasses\",\"Sunglasses\",\"Scarf\",\"Gloves\",\"Belt\",\"Jewelry\",\"Backpack\",\"Sunglasses\",\"Backpack\",\"Belt\",\"Sunglasses\",\"Scarf\",\"Backpack\",\"Belt\",\"Backpack\",\"Handbag\",\"Jewelry\",\"Scarf\",\"Scarf\",\"Sunglasses\",\"Belt\",\"Jewelry\",\"Gloves\",\"Jewelry\",\"Jewelry\",\"Hat\",\"Backpack\",\"Sunglasses\",\"Handbag\",\"Backpack\",\"Belt\",\"Jewelry\",\"Jewelry\",\"Backpack\",\"Belt\",\"Scarf\",\"Gloves\",\"Scarf\",\"Sunglasses\",\"Scarf\",\"Hat\",\"Hat\",\"Gloves\",\"Jewelry\",\"Jewelry\",\"Sunglasses\",\"Belt\",\"Scarf\",\"Jewelry\",\"Scarf\",\"Backpack\",\"Backpack\",\"Hat\",\"Sunglasses\",\"Sunglasses\",\"Handbag\",\"Hat\",\"Sunglasses\",\"Scarf\",\"Handbag\",\"Handbag\",\"Gloves\",\"Handbag\",\"Gloves\",\"Backpack\",\"Belt\",\"Gloves\",\"Jewelry\",\"Handbag\",\"Belt\",\"Scarf\",\"Scarf\",\"Scarf\",\"Gloves\",\"Handbag\",\"Scarf\",\"Sunglasses\",\"Hat\",\"Belt\",\"Jewelry\",\"Sunglasses\",\"Belt\",\"Gloves\",\"Belt\",\"Scarf\",\"Gloves\",\"Jewelry\",\"Jewelry\",\"Gloves\",\"Belt\",\"Scarf\",\"Backpack\",\"Backpack\",\"Scarf\",\"Hat\",\"Gloves\",\"Hat\",\"Gloves\",\"Handbag\",\"Belt\",\"Jewelry\",\"Sunglasses\",\"Hat\",\"Gloves\",\"Handbag\",\"Belt\",\"Sunglasses\",\"Handbag\",\"Gloves\",\"Sunglasses\",\"Gloves\",\"Handbag\",\"Gloves\",\"Hat\",\"Backpack\",\"Scarf\",\"Scarf\",\"Belt\",\"Belt\",\"Handbag\",\"Backpack\",\"Scarf\",\"Handbag\",\"Scarf\",\"Sunglasses\",\"Sunglasses\",\"Gloves\",\"Backpack\",\"Gloves\",\"Scarf\",\"Hat\",\"Scarf\",\"Backpack\",\"Scarf\",\"Hat\",\"Sunglasses\",\"Sunglasses\",\"Scarf\",\"Scarf\",\"Jewelry\",\"Backpack\",\"Jewelry\",\"Backpack\",\"Jewelry\",\"Gloves\",\"Handbag\",\"Jewelry\",\"Backpack\",\"Scarf\",\"Scarf\",\"Hat\",\"Gloves\",\"Belt\",\"Handbag\",\"Scarf\",\"Hat\",\"Gloves\",\"Belt\",\"Handbag\",\"Handbag\",\"Handbag\",\"Sunglasses\",\"Backpack\",\"Scarf\",\"Backpack\",\"Gloves\",\"Handbag\",\"Backpack\",\"Handbag\",\"Hat\",\"Handbag\",\"Belt\",\"Handbag\",\"Jewelry\",\"Gloves\",\"Jewelry\",\"Sunglasses\",\"Belt\",\"Scarf\",\"Belt\",\"Scarf\",\"Jewelry\",\"Scarf\",\"Backpack\",\"Belt\",\"Jewelry\",\"Jewelry\",\"Belt\",\"Backpack\",\"Scarf\",\"Handbag\",\"Sunglasses\",\"Sunglasses\",\"Hat\",\"Sunglasses\",\"Sunglasses\",\"Scarf\",\"Backpack\",\"Gloves\",\"Jewelry\",\"Backpack\",\"Jewelry\",\"Belt\",\"Backpack\",\"Sunglasses\",\"Gloves\",\"Handbag\",\"Backpack\",\"Scarf\",\"Scarf\",\"Sunglasses\",\"Sunglasses\",\"Belt\",\"Gloves\",\"Scarf\",\"Gloves\",\"Sunglasses\",\"Handbag\",\"Jewelry\",\"Belt\",\"Sunglasses\",\"Hat\",\"Backpack\",\"Belt\",\"Backpack\",\"Handbag\",\"Belt\",\"Sunglasses\",\"Hat\",\"Scarf\",\"Backpack\",\"Sunglasses\",\"Sunglasses\",\"Scarf\",\"Hat\",\"Backpack\",\"Belt\",\"Gloves\",\"Gloves\",\"Handbag\",\"Backpack\",\"Jewelry\",\"Sunglasses\",\"Belt\",\"Gloves\",\"Sunglasses\",\"Belt\",\"Hat\",\"Hat\",\"Handbag\",\"Gloves\",\"Backpack\",\"Scarf\",\"Belt\",\"Sunglasses\",\"Gloves\",\"Handbag\",\"Gloves\",\"Scarf\",\"Jewelry\",\"Sunglasses\",\"Backpack\",\"Backpack\",\"Hat\",\"Handbag\",\"Handbag\",\"Scarf\",\"Jewelry\",\"Scarf\",\"Scarf\",\"Hat\",\"Backpack\",\"Jewelry\",\"Belt\",\"Hat\",\"Backpack\",\"Jewelry\",\"Jewelry\",\"Backpack\",\"Backpack\",\"Hat\",\"Sunglasses\",\"Belt\",\"Jewelry\",\"Scarf\",\"Sunglasses\",\"Sunglasses\",\"Backpack\",\"Belt\",\"Sunglasses\",\"Sunglasses\",\"Handbag\",\"Sunglasses\",\"Handbag\",\"Jewelry\",\"Jewelry\",\"Backpack\",\"Hat\",\"Gloves\",\"Handbag\",\"Sunglasses\",\"Handbag\",\"Belt\",\"Jewelry\",\"Jewelry\",\"Scarf\",\"Belt\",\"Jewelry\",\"Handbag\",\"Scarf\",\"Belt\",\"Jewelry\",\"Handbag\",\"Scarf\",\"Gloves\",\"Gloves\",\"Belt\",\"Belt\",\"Belt\",\"Jewelry\",\"Sunglasses\",\"Belt\",\"Sunglasses\",\"Belt\",\"Belt\",\"Belt\",\"Belt\",\"Scarf\",\"Sunglasses\",\"Sunglasses\",\"Backpack\",\"Backpack\",\"Handbag\",\"Belt\",\"Jewelry\",\"Handbag\",\"Handbag\",\"Belt\",\"Jewelry\",\"Handbag\",\"Sunglasses\",\"Gloves\",\"Backpack\",\"Handbag\",\"Backpack\",\"Sunglasses\",\"Belt\",\"Belt\",\"Jewelry\",\"Handbag\",\"Belt\",\"Belt\",\"Scarf\",\"Handbag\",\"Sunglasses\",\"Hat\",\"Hat\",\"Jewelry\",\"Handbag\",\"Belt\",\"Handbag\",\"Scarf\",\"Handbag\",\"Jewelry\",\"Sunglasses\",\"Gloves\",\"Sunglasses\",\"Gloves\",\"Sunglasses\",\"Handbag\",\"Belt\",\"Belt\",\"Belt\",\"Handbag\",\"Belt\",\"Jewelry\",\"Hat\",\"Backpack\",\"Sunglasses\",\"Jewelry\",\"Belt\",\"Handbag\",\"Sunglasses\",\"Jewelry\",\"Gloves\",\"Sunglasses\",\"Belt\",\"Gloves\",\"Handbag\",\"Scarf\",\"Jewelry\",\"Sunglasses\",\"Sunglasses\",\"Handbag\",\"Sunglasses\",\"Scarf\",\"Jewelry\",\"Belt\",\"Jewelry\",\"Belt\",\"Belt\",\"Sunglasses\",\"Handbag\",\"Gloves\",\"Backpack\",\"Backpack\",\"Sunglasses\",\"Hat\",\"Scarf\",\"Belt\",\"Sunglasses\",\"Belt\",\"Scarf\",\"Hat\",\"Handbag\",\"Scarf\",\"Hat\",\"Handbag\",\"Backpack\",\"Belt\",\"Handbag\",\"Belt\",\"Hat\",\"Belt\",\"Handbag\",\"Scarf\",\"Handbag\",\"Hat\",\"Hat\",\"Scarf\",\"Hat\",\"Handbag\",\"Gloves\",\"Backpack\",\"Sunglasses\",\"Hat\",\"Gloves\",\"Hat\",\"Handbag\",\"Jewelry\",\"Handbag\",\"Belt\",\"Sunglasses\",\"Handbag\",\"Scarf\",\"Gloves\",\"Belt\",\"Hat\",\"Handbag\",\"Hat\",\"Jewelry\",\"Scarf\",\"Sunglasses\",\"Backpack\",\"Gloves\",\"Gloves\",\"Jewelry\",\"Hat\",\"Scarf\",\"Hat\",\"Jewelry\",\"Belt\",\"Belt\",\"Gloves\",\"Handbag\",\"Hat\",\"Handbag\",\"Jewelry\",\"Jewelry\",\"Scarf\",\"Jewelry\",\"Backpack\",\"Scarf\",\"Sunglasses\",\"Handbag\",\"Handbag\",\"Gloves\",\"Gloves\",\"Scarf\",\"Handbag\",\"Backpack\",\"Handbag\",\"Jewelry\",\"Handbag\",\"Jewelry\",\"Hat\",\"Backpack\",\"Sunglasses\",\"Scarf\",\"Sunglasses\",\"Handbag\",\"Handbag\",\"Jewelry\",\"Hat\",\"Scarf\",\"Scarf\",\"Gloves\",\"Sunglasses\",\"Backpack\",\"Gloves\",\"Handbag\",\"Scarf\",\"Belt\",\"Scarf\",\"Gloves\",\"Sunglasses\",\"Belt\",\"Scarf\",\"Sunglasses\",\"Scarf\",\"Hat\",\"Gloves\",\"Hat\",\"Gloves\",\"Belt\",\"Gloves\",\"Scarf\",\"Jewelry\",\"Hat\",\"Scarf\",\"Belt\",\"Hat\",\"Hat\",\"Gloves\",\"Backpack\",\"Sunglasses\",\"Scarf\",\"Backpack\",\"Jewelry\",\"Handbag\",\"Handbag\",\"Jewelry\",\"Backpack\",\"Jewelry\",\"Handbag\",\"Handbag\",\"Hat\",\"Jewelry\",\"Backpack\",\"Sunglasses\",\"Gloves\",\"Sunglasses\",\"Jewelry\",\"Backpack\",\"Handbag\",\"Sunglasses\",\"Gloves\",\"Jewelry\",\"Hat\",\"Hat\",\"Sunglasses\",\"Hat\",\"Gloves\",\"Belt\",\"Hat\",\"Jewelry\",\"Sunglasses\",\"Backpack\",\"Jewelry\",\"Sunglasses\",\"Backpack\",\"Jewelry\",\"Handbag\",\"Gloves\",\"Gloves\",\"Belt\",\"Gloves\",\"Hat\",\"Handbag\",\"Sunglasses\",\"Scarf\",\"Sunglasses\",\"Scarf\",\"Gloves\",\"Sunglasses\",\"Jewelry\",\"Scarf\",\"Handbag\",\"Hat\",\"Scarf\",\"Belt\",\"Hat\",\"Scarf\",\"Belt\",\"Hat\",\"Jewelry\",\"Hat\",\"Backpack\",\"Hat\",\"Jewelry\",\"Jewelry\",\"Scarf\",\"Hat\",\"Sunglasses\",\"Hat\",\"Sunglasses\",\"Scarf\",\"Hat\",\"Hat\",\"Hat\",\"Scarf\",\"Hat\",\"Jewelry\",\"Jewelry\",\"Hat\",\"Backpack\",\"Belt\",\"Handbag\"],\"xaxis\":\"x\",\"yaxis\":\"y\",\"type\":\"histogram\"}],                        {\"template\":{\"data\":{\"histogram2dcontour\":[{\"type\":\"histogram2dcontour\",\"colorbar\":{\"outlinewidth\":0,\"ticks\":\"\"},\"colorscale\":[[0.0,\"#0d0887\"],[0.1111111111111111,\"#46039f\"],[0.2222222222222222,\"#7201a8\"],[0.3333333333333333,\"#9c179e\"],[0.4444444444444444,\"#bd3786\"],[0.5555555555555556,\"#d8576b\"],[0.6666666666666666,\"#ed7953\"],[0.7777777777777778,\"#fb9f3a\"],[0.8888888888888888,\"#fdca26\"],[1.0,\"#f0f921\"]]}],\"choropleth\":[{\"type\":\"choropleth\",\"colorbar\":{\"outlinewidth\":0,\"ticks\":\"\"}}],\"histogram2d\":[{\"type\":\"histogram2d\",\"colorbar\":{\"outlinewidth\":0,\"ticks\":\"\"},\"colorscale\":[[0.0,\"#0d0887\"],[0.1111111111111111,\"#46039f\"],[0.2222222222222222,\"#7201a8\"],[0.3333333333333333,\"#9c179e\"],[0.4444444444444444,\"#bd3786\"],[0.5555555555555556,\"#d8576b\"],[0.6666666666666666,\"#ed7953\"],[0.7777777777777778,\"#fb9f3a\"],[0.8888888888888888,\"#fdca26\"],[1.0,\"#f0f921\"]]}],\"heatmap\":[{\"type\":\"heatmap\",\"colorbar\":{\"outlinewidth\":0,\"ticks\":\"\"},\"colorscale\":[[0.0,\"#0d0887\"],[0.1111111111111111,\"#46039f\"],[0.2222222222222222,\"#7201a8\"],[0.3333333333333333,\"#9c179e\"],[0.4444444444444444,\"#bd3786\"],[0.5555555555555556,\"#d8576b\"],[0.6666666666666666,\"#ed7953\"],[0.7777777777777778,\"#fb9f3a\"],[0.8888888888888888,\"#fdca26\"],[1.0,\"#f0f921\"]]}],\"heatmapgl\":[{\"type\":\"heatmapgl\",\"colorbar\":{\"outlinewidth\":0,\"ticks\":\"\"},\"colorscale\":[[0.0,\"#0d0887\"],[0.1111111111111111,\"#46039f\"],[0.2222222222222222,\"#7201a8\"],[0.3333333333333333,\"#9c179e\"],[0.4444444444444444,\"#bd3786\"],[0.5555555555555556,\"#d8576b\"],[0.6666666666666666,\"#ed7953\"],[0.7777777777777778,\"#fb9f3a\"],[0.8888888888888888,\"#fdca26\"],[1.0,\"#f0f921\"]]}],\"contourcarpet\":[{\"type\":\"contourcarpet\",\"colorbar\":{\"outlinewidth\":0,\"ticks\":\"\"}}],\"contour\":[{\"type\":\"contour\",\"colorbar\":{\"outlinewidth\":0,\"ticks\":\"\"},\"colorscale\":[[0.0,\"#0d0887\"],[0.1111111111111111,\"#46039f\"],[0.2222222222222222,\"#7201a8\"],[0.3333333333333333,\"#9c179e\"],[0.4444444444444444,\"#bd3786\"],[0.5555555555555556,\"#d8576b\"],[0.6666666666666666,\"#ed7953\"],[0.7777777777777778,\"#fb9f3a\"],[0.8888888888888888,\"#fdca26\"],[1.0,\"#f0f921\"]]}],\"surface\":[{\"type\":\"surface\",\"colorbar\":{\"outlinewidth\":0,\"ticks\":\"\"},\"colorscale\":[[0.0,\"#0d0887\"],[0.1111111111111111,\"#46039f\"],[0.2222222222222222,\"#7201a8\"],[0.3333333333333333,\"#9c179e\"],[0.4444444444444444,\"#bd3786\"],[0.5555555555555556,\"#d8576b\"],[0.6666666666666666,\"#ed7953\"],[0.7777777777777778,\"#fb9f3a\"],[0.8888888888888888,\"#fdca26\"],[1.0,\"#f0f921\"]]}],\"mesh3d\":[{\"type\":\"mesh3d\",\"colorbar\":{\"outlinewidth\":0,\"ticks\":\"\"}}],\"scatter\":[{\"fillpattern\":{\"fillmode\":\"overlay\",\"size\":10,\"solidity\":0.2},\"type\":\"scatter\"}],\"parcoords\":[{\"type\":\"parcoords\",\"line\":{\"colorbar\":{\"outlinewidth\":0,\"ticks\":\"\"}}}],\"scatterpolargl\":[{\"type\":\"scatterpolargl\",\"marker\":{\"colorbar\":{\"outlinewidth\":0,\"ticks\":\"\"}}}],\"bar\":[{\"error_x\":{\"color\":\"#2a3f5f\"},\"error_y\":{\"color\":\"#2a3f5f\"},\"marker\":{\"line\":{\"color\":\"#E5ECF6\",\"width\":0.5},\"pattern\":{\"fillmode\":\"overlay\",\"size\":10,\"solidity\":0.2}},\"type\":\"bar\"}],\"scattergeo\":[{\"type\":\"scattergeo\",\"marker\":{\"colorbar\":{\"outlinewidth\":0,\"ticks\":\"\"}}}],\"scatterpolar\":[{\"type\":\"scatterpolar\",\"marker\":{\"colorbar\":{\"outlinewidth\":0,\"ticks\":\"\"}}}],\"histogram\":[{\"marker\":{\"pattern\":{\"fillmode\":\"overlay\",\"size\":10,\"solidity\":0.2}},\"type\":\"histogram\"}],\"scattergl\":[{\"type\":\"scattergl\",\"marker\":{\"colorbar\":{\"outlinewidth\":0,\"ticks\":\"\"}}}],\"scatter3d\":[{\"type\":\"scatter3d\",\"line\":{\"colorbar\":{\"outlinewidth\":0,\"ticks\":\"\"}},\"marker\":{\"colorbar\":{\"outlinewidth\":0,\"ticks\":\"\"}}}],\"scattermapbox\":[{\"type\":\"scattermapbox\",\"marker\":{\"colorbar\":{\"outlinewidth\":0,\"ticks\":\"\"}}}],\"scatterternary\":[{\"type\":\"scatterternary\",\"marker\":{\"colorbar\":{\"outlinewidth\":0,\"ticks\":\"\"}}}],\"scattercarpet\":[{\"type\":\"scattercarpet\",\"marker\":{\"colorbar\":{\"outlinewidth\":0,\"ticks\":\"\"}}}],\"carpet\":[{\"aaxis\":{\"endlinecolor\":\"#2a3f5f\",\"gridcolor\":\"white\",\"linecolor\":\"white\",\"minorgridcolor\":\"white\",\"startlinecolor\":\"#2a3f5f\"},\"baxis\":{\"endlinecolor\":\"#2a3f5f\",\"gridcolor\":\"white\",\"linecolor\":\"white\",\"minorgridcolor\":\"white\",\"startlinecolor\":\"#2a3f5f\"},\"type\":\"carpet\"}],\"table\":[{\"cells\":{\"fill\":{\"color\":\"#EBF0F8\"},\"line\":{\"color\":\"white\"}},\"header\":{\"fill\":{\"color\":\"#C8D4E3\"},\"line\":{\"color\":\"white\"}},\"type\":\"table\"}],\"barpolar\":[{\"marker\":{\"line\":{\"color\":\"#E5ECF6\",\"width\":0.5},\"pattern\":{\"fillmode\":\"overlay\",\"size\":10,\"solidity\":0.2}},\"type\":\"barpolar\"}],\"pie\":[{\"automargin\":true,\"type\":\"pie\"}]},\"layout\":{\"autotypenumbers\":\"strict\",\"colorway\":[\"#636efa\",\"#EF553B\",\"#00cc96\",\"#ab63fa\",\"#FFA15A\",\"#19d3f3\",\"#FF6692\",\"#B6E880\",\"#FF97FF\",\"#FECB52\"],\"font\":{\"color\":\"#2a3f5f\"},\"hovermode\":\"closest\",\"hoverlabel\":{\"align\":\"left\"},\"paper_bgcolor\":\"white\",\"plot_bgcolor\":\"#E5ECF6\",\"polar\":{\"bgcolor\":\"#E5ECF6\",\"angularaxis\":{\"gridcolor\":\"white\",\"linecolor\":\"white\",\"ticks\":\"\"},\"radialaxis\":{\"gridcolor\":\"white\",\"linecolor\":\"white\",\"ticks\":\"\"}},\"ternary\":{\"bgcolor\":\"#E5ECF6\",\"aaxis\":{\"gridcolor\":\"white\",\"linecolor\":\"white\",\"ticks\":\"\"},\"baxis\":{\"gridcolor\":\"white\",\"linecolor\":\"white\",\"ticks\":\"\"},\"caxis\":{\"gridcolor\":\"white\",\"linecolor\":\"white\",\"ticks\":\"\"}},\"coloraxis\":{\"colorbar\":{\"outlinewidth\":0,\"ticks\":\"\"}},\"colorscale\":{\"sequential\":[[0.0,\"#0d0887\"],[0.1111111111111111,\"#46039f\"],[0.2222222222222222,\"#7201a8\"],[0.3333333333333333,\"#9c179e\"],[0.4444444444444444,\"#bd3786\"],[0.5555555555555556,\"#d8576b\"],[0.6666666666666666,\"#ed7953\"],[0.7777777777777778,\"#fb9f3a\"],[0.8888888888888888,\"#fdca26\"],[1.0,\"#f0f921\"]],\"sequentialminus\":[[0.0,\"#0d0887\"],[0.1111111111111111,\"#46039f\"],[0.2222222222222222,\"#7201a8\"],[0.3333333333333333,\"#9c179e\"],[0.4444444444444444,\"#bd3786\"],[0.5555555555555556,\"#d8576b\"],[0.6666666666666666,\"#ed7953\"],[0.7777777777777778,\"#fb9f3a\"],[0.8888888888888888,\"#fdca26\"],[1.0,\"#f0f921\"]],\"diverging\":[[0,\"#8e0152\"],[0.1,\"#c51b7d\"],[0.2,\"#de77ae\"],[0.3,\"#f1b6da\"],[0.4,\"#fde0ef\"],[0.5,\"#f7f7f7\"],[0.6,\"#e6f5d0\"],[0.7,\"#b8e186\"],[0.8,\"#7fbc41\"],[0.9,\"#4d9221\"],[1,\"#276419\"]]},\"xaxis\":{\"gridcolor\":\"white\",\"linecolor\":\"white\",\"ticks\":\"\",\"title\":{\"standoff\":15},\"zerolinecolor\":\"white\",\"automargin\":true,\"zerolinewidth\":2},\"yaxis\":{\"gridcolor\":\"white\",\"linecolor\":\"white\",\"ticks\":\"\",\"title\":{\"standoff\":15},\"zerolinecolor\":\"white\",\"automargin\":true,\"zerolinewidth\":2},\"scene\":{\"xaxis\":{\"backgroundcolor\":\"#E5ECF6\",\"gridcolor\":\"white\",\"linecolor\":\"white\",\"showbackground\":true,\"ticks\":\"\",\"zerolinecolor\":\"white\",\"gridwidth\":2},\"yaxis\":{\"backgroundcolor\":\"#E5ECF6\",\"gridcolor\":\"white\",\"linecolor\":\"white\",\"showbackground\":true,\"ticks\":\"\",\"zerolinecolor\":\"white\",\"gridwidth\":2},\"zaxis\":{\"backgroundcolor\":\"#E5ECF6\",\"gridcolor\":\"white\",\"linecolor\":\"white\",\"showbackground\":true,\"ticks\":\"\",\"zerolinecolor\":\"white\",\"gridwidth\":2}},\"shapedefaults\":{\"line\":{\"color\":\"#2a3f5f\"}},\"annotationdefaults\":{\"arrowcolor\":\"#2a3f5f\",\"arrowhead\":0,\"arrowwidth\":1},\"geo\":{\"bgcolor\":\"white\",\"landcolor\":\"#E5ECF6\",\"subunitcolor\":\"white\",\"showland\":true,\"showlakes\":true,\"lakecolor\":\"white\"},\"title\":{\"x\":0.05},\"mapbox\":{\"style\":\"light\"}}},\"xaxis\":{\"anchor\":\"y\",\"domain\":[0.0,1.0],\"title\":{\"text\":\"Item Purchased\"}},\"yaxis\":{\"anchor\":\"x\",\"domain\":[0.0,1.0],\"title\":{\"text\":\"count\"}},\"legend\":{\"title\":{\"text\":\"Category\"},\"tracegroupgap\":0},\"margin\":{\"t\":60},\"barmode\":\"relative\"},                        {\"responsive\": true}                    ).then(function(){\n",
              "                            \n",
              "var gd = document.getElementById('678aa5d9-c541-4c7f-a028-7261f825cf9f');\n",
              "var x = new MutationObserver(function (mutations, observer) {{\n",
              "        var display = window.getComputedStyle(gd).display;\n",
              "        if (!display || display === 'none') {{\n",
              "            console.log([gd, 'removed!']);\n",
              "            Plotly.purge(gd);\n",
              "            observer.disconnect();\n",
              "        }}\n",
              "}});\n",
              "\n",
              "// Listen for the removal of the full notebook cells\n",
              "var notebookContainer = gd.closest('#notebook-container');\n",
              "if (notebookContainer) {{\n",
              "    x.observe(notebookContainer, {childList: true});\n",
              "}}\n",
              "\n",
              "// Listen for the clearing of the current output cell\n",
              "var outputEl = gd.closest('.output');\n",
              "if (outputEl) {{\n",
              "    x.observe(outputEl, {childList: true});\n",
              "}}\n",
              "\n",
              "                        })                };                            </script>        </div>\n",
              "</body>\n",
              "</html>"
            ]
          },
          "metadata": {}
        }
      ]
    },
    {
      "cell_type": "markdown",
      "source": [
        "#5. Are there any specific seasons or months where customers spending is significantly higher?"
      ],
      "metadata": {
        "id": "OiReC1H9tdED"
      }
    },
    {
      "cell_type": "code",
      "source": [
        "shop['Season'].unique()"
      ],
      "metadata": {
        "colab": {
          "base_uri": "https://localhost:8080/"
        },
        "id": "9AOsWW88xEiP",
        "outputId": "d26cc2bc-59f0-497f-cac7-1b97b8d2da8d"
      },
      "execution_count": null,
      "outputs": [
        {
          "output_type": "execute_result",
          "data": {
            "text/plain": [
              "array(['Winter', 'Spring', 'Summer', 'Fall'], dtype=object)"
            ]
          },
          "metadata": {},
          "execution_count": 35
        }
      ]
    },
    {
      "cell_type": "code",
      "source": [
        "shop['Season'].value_counts()"
      ],
      "metadata": {
        "colab": {
          "base_uri": "https://localhost:8080/",
          "height": 241
        },
        "id": "7esbO6xZtlb2",
        "outputId": "1211b886-88ea-4c4a-ab66-e25504d668ac"
      },
      "execution_count": null,
      "outputs": [
        {
          "output_type": "execute_result",
          "data": {
            "text/plain": [
              "Season\n",
              "Spring    999\n",
              "Fall      975\n",
              "Winter    971\n",
              "Summer    955\n",
              "Name: count, dtype: int64"
            ],
            "text/html": [
              "<div>\n",
              "<style scoped>\n",
              "    .dataframe tbody tr th:only-of-type {\n",
              "        vertical-align: middle;\n",
              "    }\n",
              "\n",
              "    .dataframe tbody tr th {\n",
              "        vertical-align: top;\n",
              "    }\n",
              "\n",
              "    .dataframe thead th {\n",
              "        text-align: right;\n",
              "    }\n",
              "</style>\n",
              "<table border=\"1\" class=\"dataframe\">\n",
              "  <thead>\n",
              "    <tr style=\"text-align: right;\">\n",
              "      <th></th>\n",
              "      <th>count</th>\n",
              "    </tr>\n",
              "    <tr>\n",
              "      <th>Season</th>\n",
              "      <th></th>\n",
              "    </tr>\n",
              "  </thead>\n",
              "  <tbody>\n",
              "    <tr>\n",
              "      <th>Spring</th>\n",
              "      <td>999</td>\n",
              "    </tr>\n",
              "    <tr>\n",
              "      <th>Fall</th>\n",
              "      <td>975</td>\n",
              "    </tr>\n",
              "    <tr>\n",
              "      <th>Winter</th>\n",
              "      <td>971</td>\n",
              "    </tr>\n",
              "    <tr>\n",
              "      <th>Summer</th>\n",
              "      <td>955</td>\n",
              "    </tr>\n",
              "  </tbody>\n",
              "</table>\n",
              "</div><br><label><b>dtype:</b> int64</label>"
            ]
          },
          "metadata": {},
          "execution_count": 20
        }
      ]
    },
    {
      "cell_type": "code",
      "source": [
        "fig=px.histogram(shop,x='Season',range_y=[800,1200])\n",
        "fig.show()"
      ],
      "metadata": {
        "colab": {
          "base_uri": "https://localhost:8080/",
          "height": 542
        },
        "id": "i1qbkVMUtlWW",
        "outputId": "1bcbf2b8-a3ec-4fd6-9c82-9d34b985a41c"
      },
      "execution_count": null,
      "outputs": [
        {
          "output_type": "display_data",
          "data": {
            "text/html": [
              "<html>\n",
              "<head><meta charset=\"utf-8\" /></head>\n",
              "<body>\n",
              "    <div>            <script src=\"https://cdnjs.cloudflare.com/ajax/libs/mathjax/2.7.5/MathJax.js?config=TeX-AMS-MML_SVG\"></script><script type=\"text/javascript\">if (window.MathJax && window.MathJax.Hub && window.MathJax.Hub.Config) {window.MathJax.Hub.Config({SVG: {font: \"STIX-Web\"}});}</script>                <script type=\"text/javascript\">window.PlotlyConfig = {MathJaxConfig: 'local'};</script>\n",
              "        <script charset=\"utf-8\" src=\"https://cdn.plot.ly/plotly-2.35.2.min.js\"></script>                <div id=\"97e6599b-96f6-481f-a1ee-f046636e5363\" class=\"plotly-graph-div\" style=\"height:525px; width:100%;\"></div>            <script type=\"text/javascript\">                                    window.PLOTLYENV=window.PLOTLYENV || {};                                    if (document.getElementById(\"97e6599b-96f6-481f-a1ee-f046636e5363\")) {                    Plotly.newPlot(                        \"97e6599b-96f6-481f-a1ee-f046636e5363\",                        [{\"alignmentgroup\":\"True\",\"bingroup\":\"x\",\"hovertemplate\":\"Season=%{x}\\u003cbr\\u003ecount=%{y}\\u003cextra\\u003e\\u003c\\u002fextra\\u003e\",\"legendgroup\":\"\",\"marker\":{\"color\":\"#636efa\",\"pattern\":{\"shape\":\"\"}},\"name\":\"\",\"offsetgroup\":\"\",\"orientation\":\"v\",\"showlegend\":false,\"x\":[\"Winter\",\"Winter\",\"Spring\",\"Spring\",\"Spring\",\"Summer\",\"Fall\",\"Winter\",\"Summer\",\"Spring\",\"Fall\",\"Winter\",\"Winter\",\"Spring\",\"Winter\",\"Winter\",\"Spring\",\"Winter\",\"Summer\",\"Summer\",\"Winter\",\"Winter\",\"Summer\",\"Winter\",\"Fall\",\"Summer\",\"Spring\",\"Summer\",\"Fall\",\"Fall\",\"Winter\",\"Winter\",\"Summer\",\"Summer\",\"Spring\",\"Summer\",\"Winter\",\"Summer\",\"Winter\",\"Summer\",\"Winter\",\"Spring\",\"Spring\",\"Fall\",\"Summer\",\"Fall\",\"Summer\",\"Winter\",\"Summer\",\"Spring\",\"Spring\",\"Winter\",\"Summer\",\"Winter\",\"Summer\",\"Winter\",\"Summer\",\"Summer\",\"Summer\",\"Spring\",\"Summer\",\"Winter\",\"Spring\",\"Winter\",\"Fall\",\"Spring\",\"Winter\",\"Winter\",\"Summer\",\"Summer\",\"Fall\",\"Summer\",\"Winter\",\"Spring\",\"Spring\",\"Summer\",\"Summer\",\"Summer\",\"Spring\",\"Winter\",\"Summer\",\"Summer\",\"Spring\",\"Summer\",\"Spring\",\"Winter\",\"Spring\",\"Fall\",\"Fall\",\"Fall\",\"Summer\",\"Winter\",\"Winter\",\"Fall\",\"Spring\",\"Fall\",\"Spring\",\"Winter\",\"Spring\",\"Summer\",\"Fall\",\"Spring\",\"Winter\",\"Winter\",\"Spring\",\"Fall\",\"Summer\",\"Winter\",\"Spring\",\"Spring\",\"Summer\",\"Summer\",\"Spring\",\"Winter\",\"Summer\",\"Spring\",\"Spring\",\"Summer\",\"Fall\",\"Fall\",\"Summer\",\"Winter\",\"Spring\",\"Fall\",\"Spring\",\"Winter\",\"Spring\",\"Winter\",\"Spring\",\"Summer\",\"Fall\",\"Summer\",\"Fall\",\"Winter\",\"Fall\",\"Fall\",\"Winter\",\"Spring\",\"Winter\",\"Fall\",\"Fall\",\"Fall\",\"Fall\",\"Fall\",\"Fall\",\"Fall\",\"Fall\",\"Summer\",\"Fall\",\"Summer\",\"Fall\",\"Fall\",\"Summer\",\"Winter\",\"Fall\",\"Spring\",\"Fall\",\"Fall\",\"Fall\",\"Fall\",\"Summer\",\"Fall\",\"Summer\",\"Summer\",\"Spring\",\"Winter\",\"Fall\",\"Fall\",\"Summer\",\"Summer\",\"Fall\",\"Summer\",\"Summer\",\"Fall\",\"Winter\",\"Fall\",\"Spring\",\"Fall\",\"Fall\",\"Fall\",\"Fall\",\"Summer\",\"Summer\",\"Spring\",\"Spring\",\"Summer\",\"Summer\",\"Spring\",\"Spring\",\"Fall\",\"Fall\",\"Fall\",\"Summer\",\"Fall\",\"Spring\",\"Fall\",\"Summer\",\"Fall\",\"Winter\",\"Summer\",\"Summer\",\"Fall\",\"Spring\",\"Fall\",\"Fall\",\"Winter\",\"Summer\",\"Summer\",\"Spring\",\"Winter\",\"Fall\",\"Fall\",\"Fall\",\"Fall\",\"Summer\",\"Spring\",\"Spring\",\"Winter\",\"Spring\",\"Spring\",\"Spring\",\"Summer\",\"Spring\",\"Spring\",\"Summer\",\"Spring\",\"Spring\",\"Winter\",\"Spring\",\"Spring\",\"Fall\",\"Spring\",\"Winter\",\"Fall\",\"Summer\",\"Winter\",\"Winter\",\"Summer\",\"Fall\",\"Summer\",\"Winter\",\"Winter\",\"Summer\",\"Winter\",\"Spring\",\"Summer\",\"Spring\",\"Spring\",\"Winter\",\"Fall\",\"Fall\",\"Winter\",\"Summer\",\"Winter\",\"Winter\",\"Spring\",\"Spring\",\"Summer\",\"Spring\",\"Fall\",\"Winter\",\"Winter\",\"Summer\",\"Summer\",\"Fall\",\"Spring\",\"Summer\",\"Spring\",\"Spring\",\"Winter\",\"Fall\",\"Summer\",\"Summer\",\"Spring\",\"Spring\",\"Winter\",\"Fall\",\"Winter\",\"Spring\",\"Summer\",\"Fall\",\"Spring\",\"Summer\",\"Fall\",\"Summer\",\"Summer\",\"Summer\",\"Spring\",\"Winter\",\"Fall\",\"Winter\",\"Fall\",\"Spring\",\"Spring\",\"Spring\",\"Winter\",\"Spring\",\"Summer\",\"Winter\",\"Summer\",\"Spring\",\"Spring\",\"Summer\",\"Summer\",\"Winter\",\"Fall\",\"Summer\",\"Winter\",\"Fall\",\"Spring\",\"Winter\",\"Winter\",\"Spring\",\"Spring\",\"Summer\",\"Spring\",\"Fall\",\"Fall\",\"Winter\",\"Spring\",\"Summer\",\"Summer\",\"Winter\",\"Winter\",\"Summer\",\"Winter\",\"Fall\",\"Summer\",\"Fall\",\"Summer\",\"Winter\",\"Fall\",\"Winter\",\"Winter\",\"Fall\",\"Spring\",\"Fall\",\"Winter\",\"Winter\",\"Spring\",\"Summer\",\"Summer\",\"Spring\",\"Summer\",\"Winter\",\"Winter\",\"Spring\",\"Fall\",\"Fall\",\"Winter\",\"Spring\",\"Winter\",\"Fall\",\"Fall\",\"Fall\",\"Fall\",\"Spring\",\"Spring\",\"Summer\",\"Winter\",\"Summer\",\"Spring\",\"Fall\",\"Winter\",\"Summer\",\"Summer\",\"Spring\",\"Spring\",\"Spring\",\"Summer\",\"Winter\",\"Winter\",\"Summer\",\"Summer\",\"Spring\",\"Summer\",\"Fall\",\"Spring\",\"Winter\",\"Fall\",\"Fall\",\"Winter\",\"Winter\",\"Fall\",\"Fall\",\"Fall\",\"Spring\",\"Summer\",\"Summer\",\"Spring\",\"Winter\",\"Spring\",\"Spring\",\"Fall\",\"Spring\",\"Winter\",\"Fall\",\"Fall\",\"Winter\",\"Fall\",\"Winter\",\"Fall\",\"Fall\",\"Winter\",\"Spring\",\"Summer\",\"Spring\",\"Spring\",\"Spring\",\"Winter\",\"Spring\",\"Summer\",\"Summer\",\"Summer\",\"Winter\",\"Winter\",\"Spring\",\"Fall\",\"Spring\",\"Winter\",\"Spring\",\"Winter\",\"Fall\",\"Spring\",\"Winter\",\"Winter\",\"Winter\",\"Winter\",\"Winter\",\"Winter\",\"Summer\",\"Winter\",\"Fall\",\"Fall\",\"Spring\",\"Winter\",\"Summer\",\"Summer\",\"Winter\",\"Summer\",\"Winter\",\"Winter\",\"Fall\",\"Summer\",\"Summer\",\"Fall\",\"Summer\",\"Spring\",\"Summer\",\"Summer\",\"Summer\",\"Summer\",\"Summer\",\"Winter\",\"Summer\",\"Fall\",\"Fall\",\"Spring\",\"Winter\",\"Winter\",\"Summer\",\"Winter\",\"Fall\",\"Summer\",\"Winter\",\"Summer\",\"Winter\",\"Spring\",\"Fall\",\"Fall\",\"Summer\",\"Winter\",\"Winter\",\"Spring\",\"Summer\",\"Summer\",\"Spring\",\"Summer\",\"Winter\",\"Winter\",\"Summer\",\"Fall\",\"Winter\",\"Fall\",\"Summer\",\"Spring\",\"Fall\",\"Winter\",\"Spring\",\"Summer\",\"Winter\",\"Summer\",\"Fall\",\"Summer\",\"Winter\",\"Fall\",\"Fall\",\"Winter\",\"Spring\",\"Winter\",\"Fall\",\"Spring\",\"Fall\",\"Summer\",\"Winter\",\"Spring\",\"Fall\",\"Spring\",\"Winter\",\"Summer\",\"Fall\",\"Fall\",\"Winter\",\"Fall\",\"Winter\",\"Spring\",\"Fall\",\"Fall\",\"Fall\",\"Summer\",\"Spring\",\"Winter\",\"Spring\",\"Spring\",\"Summer\",\"Spring\",\"Winter\",\"Winter\",\"Winter\",\"Fall\",\"Winter\",\"Fall\",\"Winter\",\"Spring\",\"Fall\",\"Spring\",\"Fall\",\"Summer\",\"Spring\",\"Winter\",\"Spring\",\"Fall\",\"Spring\",\"Spring\",\"Summer\",\"Summer\",\"Winter\",\"Winter\",\"Winter\",\"Fall\",\"Summer\",\"Fall\",\"Fall\",\"Winter\",\"Summer\",\"Fall\",\"Winter\",\"Spring\",\"Fall\",\"Fall\",\"Fall\",\"Fall\",\"Summer\",\"Fall\",\"Winter\",\"Fall\",\"Spring\",\"Winter\",\"Summer\",\"Fall\",\"Fall\",\"Spring\",\"Summer\",\"Summer\",\"Fall\",\"Fall\",\"Winter\",\"Fall\",\"Fall\",\"Winter\",\"Spring\",\"Winter\",\"Spring\",\"Spring\",\"Spring\",\"Fall\",\"Winter\",\"Fall\",\"Fall\",\"Fall\",\"Fall\",\"Fall\",\"Fall\",\"Winter\",\"Winter\",\"Summer\",\"Summer\",\"Summer\",\"Winter\",\"Spring\",\"Spring\",\"Summer\",\"Summer\",\"Winter\",\"Fall\",\"Winter\",\"Spring\",\"Fall\",\"Fall\",\"Fall\",\"Summer\",\"Winter\",\"Fall\",\"Fall\",\"Winter\",\"Summer\",\"Spring\",\"Fall\",\"Spring\",\"Summer\",\"Fall\",\"Fall\",\"Spring\",\"Fall\",\"Fall\",\"Fall\",\"Spring\",\"Winter\",\"Fall\",\"Spring\",\"Fall\",\"Summer\",\"Winter\",\"Spring\",\"Summer\",\"Fall\",\"Summer\",\"Winter\",\"Summer\",\"Spring\",\"Summer\",\"Winter\",\"Spring\",\"Winter\",\"Summer\",\"Summer\",\"Spring\",\"Summer\",\"Winter\",\"Spring\",\"Spring\",\"Summer\",\"Winter\",\"Winter\",\"Summer\",\"Fall\",\"Summer\",\"Winter\",\"Fall\",\"Spring\",\"Fall\",\"Fall\",\"Fall\",\"Fall\",\"Winter\",\"Spring\",\"Winter\",\"Winter\",\"Fall\",\"Spring\",\"Spring\",\"Winter\",\"Winter\",\"Spring\",\"Winter\",\"Spring\",\"Winter\",\"Summer\",\"Fall\",\"Fall\",\"Spring\",\"Winter\",\"Summer\",\"Winter\",\"Summer\",\"Winter\",\"Fall\",\"Winter\",\"Summer\",\"Summer\",\"Spring\",\"Summer\",\"Spring\",\"Spring\",\"Fall\",\"Summer\",\"Fall\",\"Summer\",\"Winter\",\"Fall\",\"Winter\",\"Fall\",\"Winter\",\"Summer\",\"Spring\",\"Summer\",\"Summer\",\"Spring\",\"Summer\",\"Summer\",\"Spring\",\"Spring\",\"Summer\",\"Summer\",\"Fall\",\"Spring\",\"Spring\",\"Spring\",\"Summer\",\"Summer\",\"Fall\",\"Summer\",\"Summer\",\"Fall\",\"Fall\",\"Winter\",\"Summer\",\"Winter\",\"Winter\",\"Summer\",\"Summer\",\"Spring\",\"Spring\",\"Fall\",\"Winter\",\"Fall\",\"Spring\",\"Spring\",\"Winter\",\"Summer\",\"Summer\",\"Summer\",\"Summer\",\"Fall\",\"Spring\",\"Fall\",\"Winter\",\"Spring\",\"Fall\",\"Winter\",\"Fall\",\"Fall\",\"Fall\",\"Fall\",\"Spring\",\"Spring\",\"Summer\",\"Fall\",\"Summer\",\"Winter\",\"Fall\",\"Fall\",\"Fall\",\"Spring\",\"Fall\",\"Summer\",\"Winter\",\"Fall\",\"Spring\",\"Spring\",\"Spring\",\"Fall\",\"Fall\",\"Winter\",\"Summer\",\"Winter\",\"Spring\",\"Spring\",\"Summer\",\"Spring\",\"Spring\",\"Winter\",\"Summer\",\"Winter\",\"Winter\",\"Spring\",\"Winter\",\"Spring\",\"Summer\",\"Fall\",\"Summer\",\"Summer\",\"Spring\",\"Summer\",\"Winter\",\"Summer\",\"Fall\",\"Fall\",\"Spring\",\"Summer\",\"Summer\",\"Fall\",\"Winter\",\"Winter\",\"Summer\",\"Summer\",\"Summer\",\"Winter\",\"Fall\",\"Fall\",\"Fall\",\"Winter\",\"Summer\",\"Summer\",\"Winter\",\"Spring\",\"Summer\",\"Spring\",\"Winter\",\"Winter\",\"Spring\",\"Spring\",\"Winter\",\"Winter\",\"Spring\",\"Fall\",\"Winter\",\"Fall\",\"Fall\",\"Spring\",\"Fall\",\"Summer\",\"Fall\",\"Fall\",\"Summer\",\"Summer\",\"Winter\",\"Spring\",\"Spring\",\"Spring\",\"Summer\",\"Summer\",\"Spring\",\"Summer\",\"Winter\",\"Winter\",\"Spring\",\"Fall\",\"Fall\",\"Spring\",\"Winter\",\"Summer\",\"Spring\",\"Winter\",\"Spring\",\"Spring\",\"Summer\",\"Fall\",\"Fall\",\"Winter\",\"Spring\",\"Spring\",\"Winter\",\"Summer\",\"Winter\",\"Winter\",\"Summer\",\"Spring\",\"Summer\",\"Spring\",\"Fall\",\"Spring\",\"Spring\",\"Summer\",\"Fall\",\"Summer\",\"Summer\",\"Winter\",\"Summer\",\"Spring\",\"Spring\",\"Summer\",\"Fall\",\"Fall\",\"Winter\",\"Fall\",\"Summer\",\"Winter\",\"Spring\",\"Fall\",\"Spring\",\"Summer\",\"Summer\",\"Spring\",\"Spring\",\"Spring\",\"Spring\",\"Spring\",\"Spring\",\"Summer\",\"Fall\",\"Summer\",\"Summer\",\"Winter\",\"Spring\",\"Spring\",\"Spring\",\"Winter\",\"Winter\",\"Fall\",\"Spring\",\"Winter\",\"Winter\",\"Fall\",\"Summer\",\"Winter\",\"Spring\",\"Spring\",\"Spring\",\"Winter\",\"Summer\",\"Summer\",\"Fall\",\"Spring\",\"Winter\",\"Winter\",\"Spring\",\"Summer\",\"Winter\",\"Fall\",\"Fall\",\"Winter\",\"Winter\",\"Spring\",\"Spring\",\"Fall\",\"Summer\",\"Summer\",\"Fall\",\"Winter\",\"Spring\",\"Winter\",\"Winter\",\"Winter\",\"Spring\",\"Summer\",\"Spring\",\"Winter\",\"Summer\",\"Summer\",\"Winter\",\"Summer\",\"Fall\",\"Spring\",\"Fall\",\"Summer\",\"Spring\",\"Spring\",\"Winter\",\"Spring\",\"Spring\",\"Fall\",\"Spring\",\"Spring\",\"Spring\",\"Spring\",\"Spring\",\"Summer\",\"Summer\",\"Fall\",\"Winter\",\"Summer\",\"Winter\",\"Fall\",\"Spring\",\"Summer\",\"Fall\",\"Spring\",\"Summer\",\"Fall\",\"Spring\",\"Spring\",\"Summer\",\"Winter\",\"Summer\",\"Fall\",\"Spring\",\"Summer\",\"Winter\",\"Spring\",\"Spring\",\"Spring\",\"Winter\",\"Winter\",\"Fall\",\"Spring\",\"Summer\",\"Spring\",\"Spring\",\"Spring\",\"Winter\",\"Fall\",\"Spring\",\"Fall\",\"Summer\",\"Winter\",\"Summer\",\"Spring\",\"Spring\",\"Summer\",\"Spring\",\"Spring\",\"Summer\",\"Summer\",\"Summer\",\"Summer\",\"Summer\",\"Fall\",\"Spring\",\"Winter\",\"Fall\",\"Winter\",\"Winter\",\"Winter\",\"Summer\",\"Winter\",\"Winter\",\"Summer\",\"Summer\",\"Spring\",\"Winter\",\"Spring\",\"Fall\",\"Spring\",\"Fall\",\"Fall\",\"Fall\",\"Spring\",\"Fall\",\"Fall\",\"Fall\",\"Summer\",\"Spring\",\"Spring\",\"Summer\",\"Fall\",\"Winter\",\"Fall\",\"Fall\",\"Fall\",\"Winter\",\"Fall\",\"Fall\",\"Spring\",\"Winter\",\"Spring\",\"Winter\",\"Spring\",\"Summer\",\"Winter\",\"Summer\",\"Summer\",\"Fall\",\"Summer\",\"Spring\",\"Spring\",\"Winter\",\"Summer\",\"Fall\",\"Fall\",\"Summer\",\"Summer\",\"Fall\",\"Spring\",\"Fall\",\"Summer\",\"Spring\",\"Winter\",\"Fall\",\"Summer\",\"Fall\",\"Spring\",\"Winter\",\"Summer\",\"Fall\",\"Winter\",\"Winter\",\"Winter\",\"Winter\",\"Spring\",\"Spring\",\"Spring\",\"Spring\",\"Winter\",\"Winter\",\"Summer\",\"Fall\",\"Summer\",\"Spring\",\"Fall\",\"Spring\",\"Fall\",\"Fall\",\"Spring\",\"Fall\",\"Spring\",\"Winter\",\"Fall\",\"Fall\",\"Winter\",\"Fall\",\"Summer\",\"Spring\",\"Summer\",\"Fall\",\"Fall\",\"Winter\",\"Spring\",\"Summer\",\"Spring\",\"Winter\",\"Fall\",\"Spring\",\"Fall\",\"Spring\",\"Summer\",\"Winter\",\"Spring\",\"Winter\",\"Winter\",\"Summer\",\"Spring\",\"Spring\",\"Winter\",\"Summer\",\"Winter\",\"Summer\",\"Winter\",\"Summer\",\"Spring\",\"Winter\",\"Winter\",\"Spring\",\"Winter\",\"Fall\",\"Summer\",\"Summer\",\"Winter\",\"Spring\",\"Spring\",\"Winter\",\"Spring\",\"Fall\",\"Summer\",\"Spring\",\"Fall\",\"Summer\",\"Fall\",\"Summer\",\"Fall\",\"Summer\",\"Fall\",\"Winter\",\"Summer\",\"Winter\",\"Winter\",\"Winter\",\"Summer\",\"Summer\",\"Fall\",\"Spring\",\"Spring\",\"Spring\",\"Winter\",\"Winter\",\"Spring\",\"Winter\",\"Spring\",\"Spring\",\"Summer\",\"Spring\",\"Summer\",\"Spring\",\"Spring\",\"Fall\",\"Spring\",\"Summer\",\"Fall\",\"Summer\",\"Summer\",\"Winter\",\"Winter\",\"Summer\",\"Fall\",\"Winter\",\"Winter\",\"Winter\",\"Fall\",\"Summer\",\"Fall\",\"Winter\",\"Summer\",\"Spring\",\"Winter\",\"Spring\",\"Spring\",\"Fall\",\"Summer\",\"Winter\",\"Winter\",\"Fall\",\"Spring\",\"Summer\",\"Spring\",\"Fall\",\"Winter\",\"Summer\",\"Fall\",\"Spring\",\"Winter\",\"Winter\",\"Winter\",\"Fall\",\"Winter\",\"Summer\",\"Fall\",\"Fall\",\"Spring\",\"Winter\",\"Winter\",\"Spring\",\"Spring\",\"Summer\",\"Winter\",\"Fall\",\"Spring\",\"Summer\",\"Spring\",\"Winter\",\"Spring\",\"Winter\",\"Winter\",\"Summer\",\"Spring\",\"Summer\",\"Fall\",\"Winter\",\"Spring\",\"Winter\",\"Winter\",\"Winter\",\"Spring\",\"Fall\",\"Winter\",\"Spring\",\"Fall\",\"Winter\",\"Spring\",\"Spring\",\"Fall\",\"Spring\",\"Summer\",\"Winter\",\"Winter\",\"Winter\",\"Spring\",\"Fall\",\"Spring\",\"Winter\",\"Spring\",\"Fall\",\"Spring\",\"Winter\",\"Spring\",\"Spring\",\"Fall\",\"Spring\",\"Spring\",\"Fall\",\"Fall\",\"Winter\",\"Spring\",\"Winter\",\"Winter\",\"Spring\",\"Fall\",\"Winter\",\"Winter\",\"Winter\",\"Fall\",\"Spring\",\"Spring\",\"Summer\",\"Fall\",\"Summer\",\"Fall\",\"Spring\",\"Summer\",\"Summer\",\"Fall\",\"Spring\",\"Fall\",\"Fall\",\"Summer\",\"Spring\",\"Spring\",\"Winter\",\"Summer\",\"Summer\",\"Summer\",\"Winter\",\"Fall\",\"Winter\",\"Summer\",\"Summer\",\"Spring\",\"Spring\",\"Spring\",\"Spring\",\"Spring\",\"Fall\",\"Winter\",\"Winter\",\"Spring\",\"Summer\",\"Summer\",\"Spring\",\"Winter\",\"Winter\",\"Fall\",\"Fall\",\"Spring\",\"Spring\",\"Winter\",\"Spring\",\"Fall\",\"Spring\",\"Spring\",\"Winter\",\"Winter\",\"Fall\",\"Fall\",\"Summer\",\"Spring\",\"Fall\",\"Fall\",\"Winter\",\"Summer\",\"Spring\",\"Spring\",\"Fall\",\"Summer\",\"Spring\",\"Winter\",\"Spring\",\"Summer\",\"Spring\",\"Summer\",\"Spring\",\"Winter\",\"Fall\",\"Fall\",\"Fall\",\"Summer\",\"Fall\",\"Winter\",\"Fall\",\"Fall\",\"Summer\",\"Winter\",\"Summer\",\"Spring\",\"Fall\",\"Winter\",\"Fall\",\"Spring\",\"Spring\",\"Spring\",\"Fall\",\"Fall\",\"Winter\",\"Winter\",\"Winter\",\"Spring\",\"Fall\",\"Fall\",\"Fall\",\"Winter\",\"Spring\",\"Fall\",\"Summer\",\"Winter\",\"Spring\",\"Spring\",\"Fall\",\"Spring\",\"Winter\",\"Summer\",\"Summer\",\"Winter\",\"Fall\",\"Fall\",\"Summer\",\"Spring\",\"Winter\",\"Winter\",\"Spring\",\"Spring\",\"Winter\",\"Spring\",\"Summer\",\"Summer\",\"Summer\",\"Fall\",\"Summer\",\"Winter\",\"Summer\",\"Spring\",\"Summer\",\"Summer\",\"Summer\",\"Spring\",\"Fall\",\"Fall\",\"Fall\",\"Winter\",\"Summer\",\"Summer\",\"Summer\",\"Fall\",\"Summer\",\"Fall\",\"Winter\",\"Winter\",\"Summer\",\"Fall\",\"Winter\",\"Winter\",\"Spring\",\"Summer\",\"Spring\",\"Summer\",\"Spring\",\"Fall\",\"Fall\",\"Fall\",\"Summer\",\"Summer\",\"Summer\",\"Winter\",\"Winter\",\"Fall\",\"Spring\",\"Winter\",\"Winter\",\"Fall\",\"Spring\",\"Spring\",\"Spring\",\"Winter\",\"Fall\",\"Summer\",\"Summer\",\"Summer\",\"Winter\",\"Winter\",\"Summer\",\"Winter\",\"Fall\",\"Winter\",\"Spring\",\"Spring\",\"Spring\",\"Fall\",\"Fall\",\"Spring\",\"Fall\",\"Summer\",\"Summer\",\"Spring\",\"Fall\",\"Spring\",\"Spring\",\"Summer\",\"Summer\",\"Spring\",\"Spring\",\"Summer\",\"Winter\",\"Summer\",\"Spring\",\"Summer\",\"Summer\",\"Fall\",\"Spring\",\"Winter\",\"Winter\",\"Spring\",\"Summer\",\"Fall\",\"Summer\",\"Spring\",\"Summer\",\"Fall\",\"Winter\",\"Summer\",\"Fall\",\"Winter\",\"Spring\",\"Summer\",\"Fall\",\"Winter\",\"Winter\",\"Spring\",\"Winter\",\"Fall\",\"Winter\",\"Spring\",\"Winter\",\"Fall\",\"Summer\",\"Summer\",\"Spring\",\"Summer\",\"Summer\",\"Winter\",\"Summer\",\"Fall\",\"Spring\",\"Winter\",\"Spring\",\"Spring\",\"Winter\",\"Summer\",\"Summer\",\"Fall\",\"Summer\",\"Spring\",\"Fall\",\"Spring\",\"Winter\",\"Winter\",\"Winter\",\"Fall\",\"Spring\",\"Winter\",\"Summer\",\"Summer\",\"Summer\",\"Spring\",\"Summer\",\"Summer\",\"Spring\",\"Spring\",\"Winter\",\"Winter\",\"Fall\",\"Fall\",\"Fall\",\"Fall\",\"Winter\",\"Summer\",\"Winter\",\"Fall\",\"Summer\",\"Fall\",\"Winter\",\"Spring\",\"Spring\",\"Summer\",\"Winter\",\"Winter\",\"Summer\",\"Summer\",\"Spring\",\"Spring\",\"Spring\",\"Spring\",\"Winter\",\"Summer\",\"Summer\",\"Fall\",\"Spring\",\"Summer\",\"Spring\",\"Fall\",\"Fall\",\"Summer\",\"Winter\",\"Summer\",\"Winter\",\"Winter\",\"Summer\",\"Spring\",\"Summer\",\"Spring\",\"Fall\",\"Winter\",\"Fall\",\"Winter\",\"Spring\",\"Spring\",\"Winter\",\"Summer\",\"Summer\",\"Winter\",\"Spring\",\"Fall\",\"Fall\",\"Fall\",\"Spring\",\"Winter\",\"Summer\",\"Summer\",\"Summer\",\"Fall\",\"Spring\",\"Winter\",\"Summer\",\"Winter\",\"Winter\",\"Summer\",\"Winter\",\"Summer\",\"Winter\",\"Winter\",\"Summer\",\"Winter\",\"Winter\",\"Spring\",\"Summer\",\"Summer\",\"Summer\",\"Spring\",\"Summer\",\"Summer\",\"Fall\",\"Spring\",\"Spring\",\"Summer\",\"Spring\",\"Summer\",\"Spring\",\"Summer\",\"Summer\",\"Summer\",\"Summer\",\"Summer\",\"Summer\",\"Summer\",\"Winter\",\"Winter\",\"Summer\",\"Winter\",\"Spring\",\"Spring\",\"Spring\",\"Spring\",\"Spring\",\"Fall\",\"Winter\",\"Summer\",\"Winter\",\"Summer\",\"Spring\",\"Fall\",\"Summer\",\"Winter\",\"Summer\",\"Winter\",\"Fall\",\"Winter\",\"Fall\",\"Fall\",\"Winter\",\"Spring\",\"Winter\",\"Summer\",\"Summer\",\"Fall\",\"Summer\",\"Winter\",\"Fall\",\"Spring\",\"Spring\",\"Winter\",\"Fall\",\"Winter\",\"Winter\",\"Winter\",\"Summer\",\"Summer\",\"Winter\",\"Fall\",\"Summer\",\"Fall\",\"Spring\",\"Fall\",\"Winter\",\"Spring\",\"Fall\",\"Winter\",\"Summer\",\"Spring\",\"Summer\",\"Summer\",\"Spring\",\"Fall\",\"Spring\",\"Winter\",\"Fall\",\"Spring\",\"Fall\",\"Winter\",\"Summer\",\"Spring\",\"Winter\",\"Summer\",\"Winter\",\"Winter\",\"Winter\",\"Spring\",\"Summer\",\"Spring\",\"Winter\",\"Spring\",\"Summer\",\"Spring\",\"Fall\",\"Winter\",\"Fall\",\"Fall\",\"Winter\",\"Summer\",\"Spring\",\"Winter\",\"Summer\",\"Summer\",\"Spring\",\"Winter\",\"Fall\",\"Winter\",\"Spring\",\"Winter\",\"Winter\",\"Winter\",\"Summer\",\"Winter\",\"Winter\",\"Fall\",\"Fall\",\"Winter\",\"Winter\",\"Fall\",\"Fall\",\"Spring\",\"Fall\",\"Fall\",\"Winter\",\"Spring\",\"Spring\",\"Fall\",\"Summer\",\"Winter\",\"Summer\",\"Spring\",\"Winter\",\"Fall\",\"Summer\",\"Winter\",\"Fall\",\"Fall\",\"Summer\",\"Summer\",\"Spring\",\"Spring\",\"Summer\",\"Winter\",\"Winter\",\"Winter\",\"Summer\",\"Fall\",\"Fall\",\"Winter\",\"Summer\",\"Fall\",\"Spring\",\"Fall\",\"Summer\",\"Spring\",\"Summer\",\"Winter\",\"Fall\",\"Fall\",\"Spring\",\"Fall\",\"Spring\",\"Spring\",\"Winter\",\"Fall\",\"Winter\",\"Spring\",\"Winter\",\"Summer\",\"Winter\",\"Spring\",\"Fall\",\"Summer\",\"Spring\",\"Fall\",\"Fall\",\"Summer\",\"Summer\",\"Spring\",\"Summer\",\"Winter\",\"Summer\",\"Summer\",\"Fall\",\"Spring\",\"Fall\",\"Spring\",\"Summer\",\"Fall\",\"Winter\",\"Winter\",\"Winter\",\"Spring\",\"Spring\",\"Spring\",\"Winter\",\"Summer\",\"Fall\",\"Spring\",\"Summer\",\"Fall\",\"Fall\",\"Winter\",\"Fall\",\"Winter\",\"Winter\",\"Winter\",\"Summer\",\"Fall\",\"Spring\",\"Winter\",\"Summer\",\"Summer\",\"Winter\",\"Winter\",\"Winter\",\"Fall\",\"Winter\",\"Spring\",\"Spring\",\"Spring\",\"Summer\",\"Summer\",\"Spring\",\"Summer\",\"Summer\",\"Fall\",\"Winter\",\"Spring\",\"Fall\",\"Summer\",\"Winter\",\"Fall\",\"Spring\",\"Spring\",\"Spring\",\"Fall\",\"Summer\",\"Fall\",\"Fall\",\"Winter\",\"Fall\",\"Fall\",\"Summer\",\"Spring\",\"Fall\",\"Winter\",\"Winter\",\"Spring\",\"Summer\",\"Winter\",\"Spring\",\"Fall\",\"Winter\",\"Spring\",\"Spring\",\"Summer\",\"Fall\",\"Summer\",\"Fall\",\"Fall\",\"Fall\",\"Winter\",\"Fall\",\"Winter\",\"Summer\",\"Winter\",\"Spring\",\"Summer\",\"Spring\",\"Summer\",\"Spring\",\"Fall\",\"Winter\",\"Spring\",\"Fall\",\"Spring\",\"Winter\",\"Winter\",\"Fall\",\"Fall\",\"Winter\",\"Winter\",\"Summer\",\"Summer\",\"Spring\",\"Fall\",\"Summer\",\"Summer\",\"Fall\",\"Winter\",\"Spring\",\"Summer\",\"Summer\",\"Fall\",\"Spring\",\"Spring\",\"Spring\",\"Summer\",\"Winter\",\"Spring\",\"Summer\",\"Summer\",\"Spring\",\"Winter\",\"Fall\",\"Winter\",\"Fall\",\"Summer\",\"Winter\",\"Winter\",\"Summer\",\"Summer\",\"Winter\",\"Winter\",\"Summer\",\"Summer\",\"Summer\",\"Spring\",\"Winter\",\"Winter\",\"Winter\",\"Spring\",\"Winter\",\"Fall\",\"Summer\",\"Summer\",\"Fall\",\"Spring\",\"Summer\",\"Fall\",\"Winter\",\"Fall\",\"Spring\",\"Winter\",\"Spring\",\"Spring\",\"Summer\",\"Fall\",\"Winter\",\"Fall\",\"Spring\",\"Summer\",\"Spring\",\"Spring\",\"Winter\",\"Summer\",\"Summer\",\"Summer\",\"Summer\",\"Spring\",\"Summer\",\"Summer\",\"Winter\",\"Spring\",\"Spring\",\"Summer\",\"Winter\",\"Spring\",\"Fall\",\"Spring\",\"Summer\",\"Fall\",\"Fall\",\"Winter\",\"Winter\",\"Winter\",\"Summer\",\"Spring\",\"Fall\",\"Winter\",\"Fall\",\"Summer\",\"Spring\",\"Summer\",\"Summer\",\"Spring\",\"Fall\",\"Winter\",\"Summer\",\"Summer\",\"Winter\",\"Winter\",\"Fall\",\"Winter\",\"Winter\",\"Winter\",\"Winter\",\"Winter\",\"Fall\",\"Summer\",\"Winter\",\"Fall\",\"Fall\",\"Spring\",\"Summer\",\"Spring\",\"Winter\",\"Summer\",\"Spring\",\"Summer\",\"Winter\",\"Summer\",\"Spring\",\"Spring\",\"Spring\",\"Winter\",\"Spring\",\"Summer\",\"Spring\",\"Fall\",\"Winter\",\"Summer\",\"Winter\",\"Fall\",\"Summer\",\"Spring\",\"Winter\",\"Spring\",\"Spring\",\"Fall\",\"Spring\",\"Spring\",\"Winter\",\"Spring\",\"Fall\",\"Summer\",\"Fall\",\"Fall\",\"Summer\",\"Spring\",\"Fall\",\"Fall\",\"Summer\",\"Fall\",\"Spring\",\"Fall\",\"Winter\",\"Winter\",\"Summer\",\"Fall\",\"Fall\",\"Fall\",\"Spring\",\"Summer\",\"Fall\",\"Spring\",\"Summer\",\"Fall\",\"Summer\",\"Fall\",\"Summer\",\"Summer\",\"Spring\",\"Spring\",\"Winter\",\"Fall\",\"Fall\",\"Spring\",\"Spring\",\"Fall\",\"Summer\",\"Winter\",\"Summer\",\"Summer\",\"Spring\",\"Winter\",\"Spring\",\"Summer\",\"Spring\",\"Spring\",\"Fall\",\"Winter\",\"Winter\",\"Fall\",\"Spring\",\"Spring\",\"Fall\",\"Spring\",\"Winter\",\"Winter\",\"Summer\",\"Summer\",\"Fall\",\"Spring\",\"Fall\",\"Winter\",\"Fall\",\"Spring\",\"Fall\",\"Fall\",\"Winter\",\"Spring\",\"Fall\",\"Fall\",\"Summer\",\"Fall\",\"Fall\",\"Summer\",\"Winter\",\"Winter\",\"Summer\",\"Winter\",\"Fall\",\"Winter\",\"Fall\",\"Winter\",\"Winter\",\"Fall\",\"Winter\",\"Winter\",\"Summer\",\"Fall\",\"Winter\",\"Winter\",\"Spring\",\"Fall\",\"Summer\",\"Fall\",\"Spring\",\"Fall\",\"Winter\",\"Winter\",\"Spring\",\"Fall\",\"Winter\",\"Summer\",\"Summer\",\"Spring\",\"Winter\",\"Summer\",\"Spring\",\"Winter\",\"Spring\",\"Fall\",\"Fall\",\"Summer\",\"Fall\",\"Summer\",\"Spring\",\"Spring\",\"Winter\",\"Winter\",\"Summer\",\"Fall\",\"Summer\",\"Fall\",\"Winter\",\"Spring\",\"Spring\",\"Winter\",\"Winter\",\"Spring\",\"Winter\",\"Fall\",\"Spring\",\"Summer\",\"Winter\",\"Spring\",\"Summer\",\"Fall\",\"Spring\",\"Summer\",\"Summer\",\"Summer\",\"Summer\",\"Spring\",\"Summer\",\"Winter\",\"Winter\",\"Fall\",\"Spring\",\"Fall\",\"Summer\",\"Summer\",\"Summer\",\"Winter\",\"Winter\",\"Fall\",\"Fall\",\"Winter\",\"Winter\",\"Fall\",\"Winter\",\"Fall\",\"Fall\",\"Fall\",\"Summer\",\"Fall\",\"Winter\",\"Spring\",\"Spring\",\"Summer\",\"Fall\",\"Fall\",\"Spring\",\"Fall\",\"Spring\",\"Summer\",\"Winter\",\"Spring\",\"Winter\",\"Summer\",\"Winter\",\"Summer\",\"Winter\",\"Summer\",\"Spring\",\"Winter\",\"Summer\",\"Fall\",\"Fall\",\"Summer\",\"Winter\",\"Spring\",\"Summer\",\"Fall\",\"Summer\",\"Spring\",\"Winter\",\"Spring\",\"Fall\",\"Fall\",\"Winter\",\"Spring\",\"Fall\",\"Spring\",\"Winter\",\"Winter\",\"Summer\",\"Fall\",\"Fall\",\"Spring\",\"Spring\",\"Fall\",\"Spring\",\"Summer\",\"Spring\",\"Winter\",\"Spring\",\"Winter\",\"Summer\",\"Summer\",\"Fall\",\"Spring\",\"Summer\",\"Summer\",\"Fall\",\"Winter\",\"Fall\",\"Summer\",\"Spring\",\"Summer\",\"Fall\",\"Fall\",\"Winter\",\"Spring\",\"Spring\",\"Fall\",\"Winter\",\"Spring\",\"Fall\",\"Summer\",\"Spring\",\"Summer\",\"Summer\",\"Winter\",\"Summer\",\"Spring\",\"Winter\",\"Summer\",\"Winter\",\"Fall\",\"Winter\",\"Fall\",\"Spring\",\"Spring\",\"Summer\",\"Summer\",\"Winter\",\"Winter\",\"Winter\",\"Summer\",\"Spring\",\"Winter\",\"Spring\",\"Winter\",\"Spring\",\"Winter\",\"Winter\",\"Summer\",\"Winter\",\"Winter\",\"Fall\",\"Spring\",\"Summer\",\"Spring\",\"Fall\",\"Spring\",\"Summer\",\"Summer\",\"Winter\",\"Fall\",\"Fall\",\"Spring\",\"Summer\",\"Summer\",\"Fall\",\"Summer\",\"Fall\",\"Winter\",\"Winter\",\"Fall\",\"Spring\",\"Fall\",\"Winter\",\"Fall\",\"Fall\",\"Fall\",\"Summer\",\"Winter\",\"Summer\",\"Fall\",\"Spring\",\"Spring\",\"Fall\",\"Spring\",\"Fall\",\"Winter\",\"Winter\",\"Winter\",\"Winter\",\"Winter\",\"Summer\",\"Winter\",\"Spring\",\"Winter\",\"Spring\",\"Spring\",\"Winter\",\"Fall\",\"Spring\",\"Fall\",\"Summer\",\"Spring\",\"Fall\",\"Summer\",\"Spring\",\"Spring\",\"Winter\",\"Fall\",\"Summer\",\"Summer\",\"Fall\",\"Spring\",\"Winter\",\"Winter\",\"Spring\",\"Winter\",\"Fall\",\"Winter\",\"Spring\",\"Fall\",\"Winter\",\"Spring\",\"Winter\",\"Winter\",\"Winter\",\"Fall\",\"Winter\",\"Fall\",\"Winter\",\"Summer\",\"Fall\",\"Spring\",\"Summer\",\"Summer\",\"Winter\",\"Fall\",\"Summer\",\"Fall\",\"Summer\",\"Fall\",\"Fall\",\"Fall\",\"Winter\",\"Spring\",\"Winter\",\"Summer\",\"Winter\",\"Summer\",\"Fall\",\"Spring\",\"Spring\",\"Summer\",\"Summer\",\"Fall\",\"Winter\",\"Spring\",\"Spring\",\"Fall\",\"Fall\",\"Winter\",\"Winter\",\"Summer\",\"Spring\",\"Fall\",\"Winter\",\"Spring\",\"Fall\",\"Summer\",\"Spring\",\"Fall\",\"Fall\",\"Fall\",\"Fall\",\"Fall\",\"Winter\",\"Spring\",\"Winter\",\"Spring\",\"Winter\",\"Fall\",\"Fall\",\"Fall\",\"Winter\",\"Summer\",\"Spring\",\"Summer\",\"Winter\",\"Spring\",\"Summer\",\"Spring\",\"Winter\",\"Fall\",\"Fall\",\"Spring\",\"Summer\",\"Winter\",\"Fall\",\"Summer\",\"Summer\",\"Spring\",\"Winter\",\"Fall\",\"Summer\",\"Fall\",\"Winter\",\"Fall\",\"Summer\",\"Spring\",\"Spring\",\"Spring\",\"Summer\",\"Winter\",\"Spring\",\"Spring\",\"Summer\",\"Fall\",\"Winter\",\"Spring\",\"Summer\",\"Summer\",\"Fall\",\"Summer\",\"Fall\",\"Fall\",\"Spring\",\"Summer\",\"Winter\",\"Summer\",\"Spring\",\"Fall\",\"Spring\",\"Spring\",\"Winter\",\"Summer\",\"Summer\",\"Winter\",\"Spring\",\"Summer\",\"Spring\",\"Spring\",\"Fall\",\"Spring\",\"Summer\",\"Fall\",\"Winter\",\"Spring\",\"Spring\",\"Winter\",\"Spring\",\"Fall\",\"Fall\",\"Spring\",\"Spring\",\"Summer\",\"Summer\",\"Summer\",\"Fall\",\"Winter\",\"Spring\",\"Summer\",\"Summer\",\"Fall\",\"Summer\",\"Spring\",\"Winter\",\"Spring\",\"Spring\",\"Spring\",\"Summer\",\"Summer\",\"Winter\",\"Fall\",\"Fall\",\"Winter\",\"Spring\",\"Summer\",\"Summer\",\"Fall\",\"Fall\",\"Spring\",\"Fall\",\"Winter\",\"Spring\",\"Spring\",\"Spring\",\"Winter\",\"Winter\",\"Fall\",\"Fall\",\"Spring\",\"Winter\",\"Spring\",\"Spring\",\"Winter\",\"Fall\",\"Summer\",\"Summer\",\"Fall\",\"Winter\",\"Fall\",\"Fall\",\"Summer\",\"Summer\",\"Winter\",\"Fall\",\"Fall\",\"Summer\",\"Fall\",\"Winter\",\"Winter\",\"Summer\",\"Winter\",\"Summer\",\"Spring\",\"Summer\",\"Fall\",\"Fall\",\"Summer\",\"Spring\",\"Summer\",\"Fall\",\"Winter\",\"Fall\",\"Winter\",\"Fall\",\"Spring\",\"Spring\",\"Spring\",\"Spring\",\"Spring\",\"Fall\",\"Summer\",\"Spring\",\"Fall\",\"Winter\",\"Fall\",\"Spring\",\"Fall\",\"Spring\",\"Spring\",\"Fall\",\"Winter\",\"Winter\",\"Winter\",\"Spring\",\"Fall\",\"Summer\",\"Summer\",\"Fall\",\"Fall\",\"Summer\",\"Winter\",\"Spring\",\"Summer\",\"Fall\",\"Fall\",\"Summer\",\"Spring\",\"Winter\",\"Spring\",\"Spring\",\"Winter\",\"Summer\",\"Winter\",\"Summer\",\"Spring\",\"Spring\",\"Spring\",\"Summer\",\"Summer\",\"Spring\",\"Fall\",\"Summer\",\"Summer\",\"Summer\",\"Fall\",\"Fall\",\"Summer\",\"Winter\",\"Summer\",\"Summer\",\"Summer\",\"Spring\",\"Fall\",\"Summer\",\"Fall\",\"Winter\",\"Winter\",\"Winter\",\"Summer\",\"Summer\",\"Spring\",\"Fall\",\"Winter\",\"Spring\",\"Summer\",\"Fall\",\"Winter\",\"Spring\",\"Spring\",\"Spring\",\"Spring\",\"Fall\",\"Summer\",\"Winter\",\"Summer\",\"Summer\",\"Winter\",\"Winter\",\"Fall\",\"Spring\",\"Fall\",\"Summer\",\"Winter\",\"Spring\",\"Summer\",\"Spring\",\"Fall\",\"Spring\",\"Winter\",\"Summer\",\"Fall\",\"Winter\",\"Summer\",\"Fall\",\"Winter\",\"Spring\",\"Spring\",\"Spring\",\"Fall\",\"Summer\",\"Winter\",\"Summer\",\"Spring\",\"Fall\",\"Fall\",\"Winter\",\"Winter\",\"Spring\",\"Winter\",\"Winter\",\"Fall\",\"Spring\",\"Spring\",\"Spring\",\"Summer\",\"Spring\",\"Summer\",\"Winter\",\"Winter\",\"Winter\",\"Summer\",\"Winter\",\"Summer\",\"Winter\",\"Summer\",\"Summer\",\"Spring\",\"Spring\",\"Spring\",\"Summer\",\"Winter\",\"Summer\",\"Fall\",\"Spring\",\"Fall\",\"Winter\",\"Summer\",\"Fall\",\"Winter\",\"Spring\",\"Spring\",\"Spring\",\"Fall\",\"Winter\",\"Spring\",\"Summer\",\"Winter\",\"Winter\",\"Fall\",\"Summer\",\"Summer\",\"Fall\",\"Fall\",\"Fall\",\"Fall\",\"Spring\",\"Summer\",\"Winter\",\"Spring\",\"Spring\",\"Fall\",\"Fall\",\"Summer\",\"Spring\",\"Spring\",\"Fall\",\"Fall\",\"Fall\",\"Fall\",\"Spring\",\"Winter\",\"Winter\",\"Spring\",\"Spring\",\"Spring\",\"Winter\",\"Summer\",\"Spring\",\"Spring\",\"Summer\",\"Fall\",\"Spring\",\"Fall\",\"Winter\",\"Spring\",\"Fall\",\"Winter\",\"Winter\",\"Winter\",\"Winter\",\"Spring\",\"Fall\",\"Winter\",\"Fall\",\"Winter\",\"Spring\",\"Fall\",\"Spring\",\"Spring\",\"Spring\",\"Summer\",\"Summer\",\"Fall\",\"Fall\",\"Summer\",\"Winter\",\"Fall\",\"Spring\",\"Winter\",\"Fall\",\"Spring\",\"Summer\",\"Summer\",\"Fall\",\"Summer\",\"Fall\",\"Winter\",\"Fall\",\"Fall\",\"Fall\",\"Fall\",\"Spring\",\"Winter\",\"Summer\",\"Fall\",\"Fall\",\"Winter\",\"Winter\",\"Summer\",\"Fall\",\"Summer\",\"Spring\",\"Winter\",\"Fall\",\"Summer\",\"Summer\",\"Summer\",\"Fall\",\"Winter\",\"Fall\",\"Spring\",\"Spring\",\"Summer\",\"Spring\",\"Winter\",\"Fall\",\"Winter\",\"Winter\",\"Spring\",\"Summer\",\"Fall\",\"Spring\",\"Fall\",\"Summer\",\"Fall\",\"Fall\",\"Fall\",\"Summer\",\"Summer\",\"Winter\",\"Summer\",\"Winter\",\"Summer\",\"Fall\",\"Spring\",\"Summer\",\"Fall\",\"Spring\",\"Summer\",\"Summer\",\"Winter\",\"Winter\",\"Winter\",\"Winter\",\"Spring\",\"Summer\",\"Summer\",\"Spring\",\"Winter\",\"Spring\",\"Fall\",\"Winter\",\"Winter\",\"Spring\",\"Spring\",\"Spring\",\"Summer\",\"Summer\",\"Fall\",\"Summer\",\"Spring\",\"Winter\",\"Winter\",\"Spring\",\"Spring\",\"Spring\",\"Winter\",\"Spring\",\"Summer\",\"Winter\",\"Winter\",\"Summer\",\"Fall\",\"Winter\",\"Winter\",\"Fall\",\"Fall\",\"Winter\",\"Winter\",\"Fall\",\"Winter\",\"Spring\",\"Fall\",\"Winter\",\"Spring\",\"Winter\",\"Spring\",\"Winter\",\"Summer\",\"Spring\",\"Winter\",\"Spring\",\"Fall\",\"Spring\",\"Summer\",\"Fall\",\"Spring\",\"Spring\",\"Spring\",\"Fall\",\"Winter\",\"Summer\",\"Spring\",\"Summer\",\"Spring\",\"Summer\",\"Summer\",\"Spring\",\"Spring\",\"Winter\",\"Spring\",\"Winter\",\"Fall\",\"Spring\",\"Summer\",\"Winter\",\"Winter\",\"Fall\",\"Fall\",\"Summer\",\"Summer\",\"Spring\",\"Fall\",\"Fall\",\"Spring\",\"Fall\",\"Summer\",\"Fall\",\"Summer\",\"Fall\",\"Fall\",\"Winter\",\"Fall\",\"Fall\",\"Summer\",\"Summer\",\"Winter\",\"Summer\",\"Winter\",\"Spring\",\"Fall\",\"Fall\",\"Winter\",\"Summer\",\"Winter\",\"Spring\",\"Summer\",\"Summer\",\"Winter\",\"Spring\",\"Summer\",\"Fall\",\"Summer\",\"Spring\",\"Spring\",\"Winter\",\"Summer\",\"Spring\",\"Spring\",\"Summer\",\"Winter\",\"Winter\",\"Summer\",\"Fall\",\"Fall\",\"Winter\",\"Spring\",\"Summer\",\"Winter\",\"Winter\",\"Winter\",\"Winter\",\"Summer\",\"Fall\",\"Summer\",\"Spring\",\"Spring\",\"Summer\",\"Summer\",\"Summer\",\"Winter\",\"Fall\",\"Summer\",\"Fall\",\"Summer\",\"Spring\",\"Summer\",\"Fall\",\"Winter\",\"Summer\",\"Summer\",\"Spring\",\"Summer\",\"Summer\",\"Spring\",\"Spring\",\"Spring\",\"Spring\",\"Summer\",\"Summer\",\"Spring\",\"Fall\",\"Winter\",\"Winter\",\"Fall\",\"Winter\",\"Winter\",\"Spring\",\"Fall\",\"Summer\",\"Summer\",\"Spring\",\"Summer\",\"Spring\",\"Winter\",\"Summer\",\"Fall\",\"Spring\",\"Spring\",\"Winter\",\"Spring\",\"Summer\",\"Fall\",\"Fall\",\"Winter\",\"Winter\",\"Fall\",\"Summer\",\"Spring\",\"Winter\",\"Spring\",\"Fall\",\"Spring\",\"Spring\",\"Winter\",\"Winter\",\"Winter\",\"Summer\",\"Spring\",\"Spring\",\"Fall\",\"Spring\",\"Winter\",\"Spring\",\"Summer\",\"Spring\",\"Winter\",\"Summer\",\"Spring\",\"Spring\",\"Fall\",\"Summer\",\"Winter\",\"Fall\",\"Summer\",\"Summer\",\"Fall\",\"Winter\",\"Fall\",\"Summer\",\"Fall\",\"Winter\",\"Summer\",\"Summer\",\"Winter\",\"Summer\",\"Fall\",\"Winter\",\"Winter\",\"Fall\",\"Winter\",\"Fall\",\"Spring\",\"Fall\",\"Summer\",\"Spring\",\"Fall\",\"Spring\",\"Fall\",\"Summer\",\"Winter\",\"Fall\",\"Fall\",\"Fall\",\"Fall\",\"Summer\",\"Spring\",\"Winter\",\"Winter\",\"Fall\",\"Summer\",\"Summer\",\"Fall\",\"Summer\",\"Spring\",\"Spring\",\"Spring\",\"Fall\",\"Spring\",\"Fall\",\"Winter\",\"Summer\",\"Winter\",\"Winter\",\"Summer\",\"Spring\",\"Spring\",\"Winter\",\"Winter\",\"Fall\",\"Winter\",\"Spring\",\"Fall\",\"Fall\",\"Fall\",\"Winter\",\"Fall\",\"Winter\",\"Fall\",\"Winter\",\"Winter\",\"Fall\",\"Winter\",\"Winter\",\"Summer\",\"Winter\",\"Spring\",\"Winter\",\"Fall\",\"Spring\",\"Fall\",\"Spring\",\"Spring\",\"Fall\",\"Summer\",\"Winter\",\"Fall\",\"Spring\",\"Fall\",\"Spring\",\"Spring\",\"Fall\",\"Summer\",\"Fall\",\"Winter\",\"Spring\",\"Fall\",\"Winter\",\"Winter\",\"Winter\",\"Summer\",\"Fall\",\"Winter\",\"Fall\",\"Winter\",\"Summer\",\"Spring\",\"Winter\",\"Spring\",\"Winter\",\"Winter\",\"Spring\",\"Fall\",\"Fall\",\"Spring\",\"Fall\",\"Fall\",\"Winter\",\"Summer\",\"Winter\",\"Fall\",\"Summer\",\"Winter\",\"Winter\",\"Winter\",\"Spring\",\"Summer\",\"Winter\",\"Fall\",\"Fall\",\"Summer\",\"Fall\",\"Winter\",\"Fall\",\"Spring\",\"Winter\",\"Fall\",\"Spring\",\"Fall\",\"Spring\",\"Fall\",\"Summer\",\"Winter\",\"Spring\",\"Fall\",\"Winter\",\"Summer\",\"Fall\",\"Summer\",\"Fall\",\"Fall\",\"Fall\",\"Summer\",\"Fall\",\"Summer\",\"Fall\",\"Fall\",\"Summer\",\"Summer\",\"Summer\",\"Summer\",\"Spring\",\"Winter\",\"Spring\",\"Fall\",\"Winter\",\"Fall\",\"Winter\",\"Fall\",\"Spring\",\"Fall\",\"Summer\",\"Winter\",\"Spring\",\"Fall\",\"Winter\",\"Winter\",\"Winter\",\"Winter\",\"Fall\",\"Winter\",\"Winter\",\"Spring\",\"Winter\",\"Summer\",\"Spring\",\"Summer\",\"Summer\",\"Spring\",\"Summer\",\"Fall\",\"Winter\",\"Winter\",\"Fall\",\"Spring\",\"Spring\",\"Fall\",\"Winter\",\"Spring\",\"Spring\",\"Summer\",\"Spring\",\"Fall\",\"Spring\",\"Spring\",\"Spring\",\"Summer\",\"Spring\",\"Fall\",\"Fall\",\"Spring\",\"Spring\",\"Summer\",\"Winter\",\"Summer\",\"Fall\",\"Summer\",\"Summer\",\"Winter\",\"Fall\",\"Summer\",\"Winter\",\"Summer\",\"Summer\",\"Fall\",\"Spring\",\"Summer\",\"Summer\",\"Summer\",\"Summer\",\"Summer\",\"Fall\",\"Winter\",\"Winter\",\"Winter\",\"Fall\",\"Fall\",\"Summer\",\"Spring\",\"Spring\",\"Winter\",\"Spring\",\"Summer\",\"Summer\",\"Spring\",\"Summer\",\"Winter\",\"Fall\",\"Winter\",\"Winter\",\"Fall\",\"Fall\",\"Summer\",\"Spring\",\"Winter\",\"Fall\",\"Summer\",\"Summer\",\"Summer\",\"Winter\",\"Fall\",\"Fall\",\"Spring\",\"Summer\",\"Fall\",\"Fall\",\"Spring\",\"Summer\",\"Winter\",\"Fall\",\"Fall\",\"Spring\",\"Spring\",\"Summer\",\"Winter\",\"Fall\",\"Fall\",\"Spring\",\"Summer\",\"Spring\",\"Winter\",\"Summer\",\"Winter\",\"Winter\",\"Spring\",\"Spring\",\"Fall\",\"Winter\",\"Winter\",\"Fall\",\"Summer\",\"Summer\",\"Winter\",\"Spring\",\"Fall\",\"Summer\",\"Winter\",\"Fall\",\"Spring\",\"Spring\",\"Fall\",\"Summer\",\"Fall\",\"Winter\",\"Fall\",\"Spring\",\"Winter\",\"Winter\",\"Summer\",\"Winter\",\"Winter\",\"Fall\",\"Winter\",\"Spring\",\"Summer\",\"Fall\",\"Summer\",\"Spring\",\"Spring\",\"Summer\",\"Summer\",\"Summer\",\"Winter\",\"Fall\",\"Winter\",\"Spring\",\"Fall\",\"Spring\",\"Summer\",\"Summer\",\"Winter\",\"Winter\",\"Summer\",\"Winter\",\"Spring\",\"Summer\",\"Summer\",\"Fall\",\"Winter\",\"Fall\",\"Winter\",\"Winter\",\"Summer\",\"Summer\",\"Spring\",\"Summer\",\"Summer\",\"Winter\",\"Winter\",\"Fall\",\"Summer\",\"Fall\",\"Fall\",\"Spring\",\"Summer\",\"Summer\",\"Fall\",\"Spring\",\"Fall\",\"Winter\",\"Spring\",\"Spring\",\"Fall\",\"Spring\",\"Winter\",\"Fall\",\"Fall\",\"Fall\",\"Summer\",\"Spring\",\"Fall\",\"Spring\",\"Spring\",\"Spring\",\"Fall\",\"Winter\",\"Spring\",\"Summer\",\"Fall\",\"Winter\",\"Fall\",\"Summer\",\"Spring\",\"Summer\",\"Spring\",\"Winter\",\"Spring\",\"Summer\",\"Spring\",\"Fall\",\"Summer\",\"Winter\",\"Summer\",\"Winter\",\"Winter\",\"Fall\",\"Winter\",\"Winter\",\"Fall\",\"Spring\",\"Summer\",\"Spring\",\"Winter\",\"Fall\",\"Winter\",\"Winter\",\"Spring\",\"Summer\",\"Spring\",\"Summer\",\"Fall\",\"Fall\",\"Fall\",\"Fall\",\"Spring\",\"Fall\",\"Winter\",\"Winter\",\"Spring\",\"Fall\",\"Winter\",\"Fall\",\"Summer\",\"Fall\",\"Spring\",\"Winter\",\"Winter\",\"Summer\",\"Winter\",\"Spring\",\"Winter\",\"Spring\",\"Winter\",\"Spring\",\"Summer\",\"Summer\",\"Winter\",\"Spring\",\"Spring\",\"Summer\",\"Winter\",\"Spring\",\"Winter\",\"Fall\",\"Fall\",\"Fall\",\"Summer\",\"Spring\",\"Spring\",\"Spring\",\"Spring\",\"Spring\",\"Winter\",\"Spring\",\"Winter\",\"Fall\",\"Spring\",\"Summer\",\"Summer\",\"Fall\",\"Summer\",\"Winter\",\"Spring\",\"Winter\",\"Spring\",\"Spring\",\"Spring\",\"Fall\",\"Summer\",\"Summer\",\"Fall\",\"Fall\",\"Spring\",\"Winter\",\"Summer\",\"Summer\",\"Spring\",\"Spring\",\"Summer\",\"Spring\",\"Fall\",\"Winter\",\"Summer\",\"Spring\",\"Fall\",\"Fall\",\"Fall\",\"Spring\",\"Winter\",\"Winter\",\"Fall\",\"Summer\",\"Fall\",\"Summer\",\"Summer\",\"Fall\",\"Winter\",\"Winter\",\"Summer\",\"Spring\",\"Spring\",\"Fall\",\"Winter\",\"Spring\",\"Spring\",\"Summer\",\"Spring\",\"Spring\",\"Summer\",\"Spring\",\"Spring\",\"Spring\",\"Summer\",\"Summer\",\"Spring\",\"Fall\",\"Fall\",\"Fall\",\"Fall\",\"Fall\",\"Summer\",\"Fall\",\"Spring\",\"Summer\",\"Fall\",\"Spring\",\"Winter\",\"Winter\",\"Fall\",\"Fall\",\"Winter\",\"Summer\",\"Summer\",\"Fall\",\"Winter\",\"Fall\",\"Winter\",\"Fall\",\"Winter\",\"Summer\",\"Summer\",\"Winter\",\"Fall\",\"Spring\",\"Spring\",\"Winter\",\"Fall\",\"Summer\",\"Winter\",\"Spring\",\"Summer\",\"Spring\",\"Fall\",\"Summer\",\"Fall\",\"Winter\",\"Summer\",\"Spring\",\"Winter\",\"Winter\",\"Fall\",\"Summer\",\"Spring\",\"Fall\",\"Spring\",\"Winter\",\"Fall\",\"Spring\",\"Winter\",\"Fall\",\"Fall\",\"Winter\",\"Winter\",\"Spring\",\"Summer\",\"Fall\",\"Fall\",\"Winter\",\"Fall\",\"Summer\",\"Fall\",\"Winter\",\"Summer\",\"Fall\",\"Summer\",\"Winter\",\"Winter\",\"Spring\",\"Fall\",\"Fall\",\"Summer\",\"Winter\",\"Fall\",\"Fall\",\"Winter\",\"Spring\",\"Summer\",\"Spring\",\"Summer\",\"Spring\",\"Fall\",\"Fall\",\"Summer\",\"Spring\",\"Summer\",\"Winter\",\"Fall\",\"Fall\",\"Winter\",\"Spring\",\"Fall\",\"Summer\",\"Spring\",\"Spring\",\"Fall\",\"Winter\",\"Summer\",\"Spring\",\"Fall\",\"Fall\",\"Fall\",\"Summer\",\"Fall\",\"Spring\",\"Spring\",\"Winter\",\"Fall\",\"Fall\",\"Summer\",\"Fall\",\"Summer\",\"Fall\",\"Fall\",\"Fall\",\"Spring\",\"Winter\",\"Winter\",\"Fall\",\"Summer\",\"Winter\",\"Spring\",\"Summer\",\"Spring\",\"Spring\",\"Fall\",\"Spring\",\"Spring\",\"Spring\",\"Winter\",\"Spring\",\"Fall\",\"Summer\",\"Spring\",\"Fall\",\"Fall\",\"Summer\",\"Spring\",\"Summer\",\"Spring\",\"Fall\",\"Winter\",\"Fall\",\"Fall\",\"Winter\",\"Winter\",\"Summer\",\"Fall\",\"Spring\",\"Fall\",\"Spring\",\"Spring\",\"Fall\",\"Summer\",\"Fall\",\"Winter\",\"Fall\",\"Summer\",\"Fall\",\"Summer\",\"Winter\",\"Summer\",\"Summer\",\"Winter\",\"Fall\",\"Summer\",\"Winter\",\"Spring\",\"Spring\",\"Fall\",\"Fall\",\"Spring\",\"Fall\",\"Winter\",\"Spring\",\"Summer\",\"Winter\",\"Winter\",\"Fall\",\"Fall\",\"Spring\",\"Summer\",\"Summer\",\"Spring\",\"Summer\",\"Fall\",\"Summer\",\"Spring\",\"Fall\",\"Summer\",\"Winter\",\"Winter\",\"Fall\",\"Spring\",\"Spring\",\"Spring\",\"Fall\",\"Fall\",\"Spring\",\"Spring\",\"Winter\",\"Winter\",\"Fall\",\"Winter\",\"Spring\",\"Summer\",\"Winter\",\"Fall\",\"Summer\",\"Fall\",\"Winter\",\"Spring\",\"Winter\",\"Summer\",\"Spring\",\"Summer\",\"Summer\",\"Fall\",\"Summer\",\"Summer\",\"Spring\",\"Spring\",\"Summer\",\"Spring\",\"Winter\",\"Summer\",\"Winter\",\"Winter\",\"Spring\",\"Spring\",\"Summer\",\"Spring\",\"Spring\",\"Fall\",\"Winter\",\"Winter\",\"Fall\",\"Winter\",\"Summer\",\"Fall\",\"Winter\",\"Winter\",\"Summer\",\"Summer\",\"Fall\",\"Fall\",\"Spring\",\"Summer\",\"Summer\",\"Summer\",\"Winter\",\"Fall\",\"Summer\",\"Spring\",\"Winter\",\"Summer\",\"Winter\",\"Spring\",\"Winter\",\"Summer\",\"Winter\",\"Spring\",\"Fall\",\"Fall\",\"Spring\",\"Summer\",\"Summer\",\"Winter\",\"Fall\",\"Spring\",\"Summer\",\"Winter\",\"Winter\",\"Spring\",\"Fall\",\"Fall\",\"Fall\",\"Winter\",\"Summer\",\"Spring\",\"Spring\",\"Spring\",\"Winter\",\"Winter\",\"Summer\",\"Fall\",\"Spring\",\"Summer\",\"Spring\",\"Spring\",\"Summer\",\"Spring\"],\"xaxis\":\"x\",\"yaxis\":\"y\",\"type\":\"histogram\"}],                        {\"template\":{\"data\":{\"histogram2dcontour\":[{\"type\":\"histogram2dcontour\",\"colorbar\":{\"outlinewidth\":0,\"ticks\":\"\"},\"colorscale\":[[0.0,\"#0d0887\"],[0.1111111111111111,\"#46039f\"],[0.2222222222222222,\"#7201a8\"],[0.3333333333333333,\"#9c179e\"],[0.4444444444444444,\"#bd3786\"],[0.5555555555555556,\"#d8576b\"],[0.6666666666666666,\"#ed7953\"],[0.7777777777777778,\"#fb9f3a\"],[0.8888888888888888,\"#fdca26\"],[1.0,\"#f0f921\"]]}],\"choropleth\":[{\"type\":\"choropleth\",\"colorbar\":{\"outlinewidth\":0,\"ticks\":\"\"}}],\"histogram2d\":[{\"type\":\"histogram2d\",\"colorbar\":{\"outlinewidth\":0,\"ticks\":\"\"},\"colorscale\":[[0.0,\"#0d0887\"],[0.1111111111111111,\"#46039f\"],[0.2222222222222222,\"#7201a8\"],[0.3333333333333333,\"#9c179e\"],[0.4444444444444444,\"#bd3786\"],[0.5555555555555556,\"#d8576b\"],[0.6666666666666666,\"#ed7953\"],[0.7777777777777778,\"#fb9f3a\"],[0.8888888888888888,\"#fdca26\"],[1.0,\"#f0f921\"]]}],\"heatmap\":[{\"type\":\"heatmap\",\"colorbar\":{\"outlinewidth\":0,\"ticks\":\"\"},\"colorscale\":[[0.0,\"#0d0887\"],[0.1111111111111111,\"#46039f\"],[0.2222222222222222,\"#7201a8\"],[0.3333333333333333,\"#9c179e\"],[0.4444444444444444,\"#bd3786\"],[0.5555555555555556,\"#d8576b\"],[0.6666666666666666,\"#ed7953\"],[0.7777777777777778,\"#fb9f3a\"],[0.8888888888888888,\"#fdca26\"],[1.0,\"#f0f921\"]]}],\"heatmapgl\":[{\"type\":\"heatmapgl\",\"colorbar\":{\"outlinewidth\":0,\"ticks\":\"\"},\"colorscale\":[[0.0,\"#0d0887\"],[0.1111111111111111,\"#46039f\"],[0.2222222222222222,\"#7201a8\"],[0.3333333333333333,\"#9c179e\"],[0.4444444444444444,\"#bd3786\"],[0.5555555555555556,\"#d8576b\"],[0.6666666666666666,\"#ed7953\"],[0.7777777777777778,\"#fb9f3a\"],[0.8888888888888888,\"#fdca26\"],[1.0,\"#f0f921\"]]}],\"contourcarpet\":[{\"type\":\"contourcarpet\",\"colorbar\":{\"outlinewidth\":0,\"ticks\":\"\"}}],\"contour\":[{\"type\":\"contour\",\"colorbar\":{\"outlinewidth\":0,\"ticks\":\"\"},\"colorscale\":[[0.0,\"#0d0887\"],[0.1111111111111111,\"#46039f\"],[0.2222222222222222,\"#7201a8\"],[0.3333333333333333,\"#9c179e\"],[0.4444444444444444,\"#bd3786\"],[0.5555555555555556,\"#d8576b\"],[0.6666666666666666,\"#ed7953\"],[0.7777777777777778,\"#fb9f3a\"],[0.8888888888888888,\"#fdca26\"],[1.0,\"#f0f921\"]]}],\"surface\":[{\"type\":\"surface\",\"colorbar\":{\"outlinewidth\":0,\"ticks\":\"\"},\"colorscale\":[[0.0,\"#0d0887\"],[0.1111111111111111,\"#46039f\"],[0.2222222222222222,\"#7201a8\"],[0.3333333333333333,\"#9c179e\"],[0.4444444444444444,\"#bd3786\"],[0.5555555555555556,\"#d8576b\"],[0.6666666666666666,\"#ed7953\"],[0.7777777777777778,\"#fb9f3a\"],[0.8888888888888888,\"#fdca26\"],[1.0,\"#f0f921\"]]}],\"mesh3d\":[{\"type\":\"mesh3d\",\"colorbar\":{\"outlinewidth\":0,\"ticks\":\"\"}}],\"scatter\":[{\"fillpattern\":{\"fillmode\":\"overlay\",\"size\":10,\"solidity\":0.2},\"type\":\"scatter\"}],\"parcoords\":[{\"type\":\"parcoords\",\"line\":{\"colorbar\":{\"outlinewidth\":0,\"ticks\":\"\"}}}],\"scatterpolargl\":[{\"type\":\"scatterpolargl\",\"marker\":{\"colorbar\":{\"outlinewidth\":0,\"ticks\":\"\"}}}],\"bar\":[{\"error_x\":{\"color\":\"#2a3f5f\"},\"error_y\":{\"color\":\"#2a3f5f\"},\"marker\":{\"line\":{\"color\":\"#E5ECF6\",\"width\":0.5},\"pattern\":{\"fillmode\":\"overlay\",\"size\":10,\"solidity\":0.2}},\"type\":\"bar\"}],\"scattergeo\":[{\"type\":\"scattergeo\",\"marker\":{\"colorbar\":{\"outlinewidth\":0,\"ticks\":\"\"}}}],\"scatterpolar\":[{\"type\":\"scatterpolar\",\"marker\":{\"colorbar\":{\"outlinewidth\":0,\"ticks\":\"\"}}}],\"histogram\":[{\"marker\":{\"pattern\":{\"fillmode\":\"overlay\",\"size\":10,\"solidity\":0.2}},\"type\":\"histogram\"}],\"scattergl\":[{\"type\":\"scattergl\",\"marker\":{\"colorbar\":{\"outlinewidth\":0,\"ticks\":\"\"}}}],\"scatter3d\":[{\"type\":\"scatter3d\",\"line\":{\"colorbar\":{\"outlinewidth\":0,\"ticks\":\"\"}},\"marker\":{\"colorbar\":{\"outlinewidth\":0,\"ticks\":\"\"}}}],\"scattermapbox\":[{\"type\":\"scattermapbox\",\"marker\":{\"colorbar\":{\"outlinewidth\":0,\"ticks\":\"\"}}}],\"scatterternary\":[{\"type\":\"scatterternary\",\"marker\":{\"colorbar\":{\"outlinewidth\":0,\"ticks\":\"\"}}}],\"scattercarpet\":[{\"type\":\"scattercarpet\",\"marker\":{\"colorbar\":{\"outlinewidth\":0,\"ticks\":\"\"}}}],\"carpet\":[{\"aaxis\":{\"endlinecolor\":\"#2a3f5f\",\"gridcolor\":\"white\",\"linecolor\":\"white\",\"minorgridcolor\":\"white\",\"startlinecolor\":\"#2a3f5f\"},\"baxis\":{\"endlinecolor\":\"#2a3f5f\",\"gridcolor\":\"white\",\"linecolor\":\"white\",\"minorgridcolor\":\"white\",\"startlinecolor\":\"#2a3f5f\"},\"type\":\"carpet\"}],\"table\":[{\"cells\":{\"fill\":{\"color\":\"#EBF0F8\"},\"line\":{\"color\":\"white\"}},\"header\":{\"fill\":{\"color\":\"#C8D4E3\"},\"line\":{\"color\":\"white\"}},\"type\":\"table\"}],\"barpolar\":[{\"marker\":{\"line\":{\"color\":\"#E5ECF6\",\"width\":0.5},\"pattern\":{\"fillmode\":\"overlay\",\"size\":10,\"solidity\":0.2}},\"type\":\"barpolar\"}],\"pie\":[{\"automargin\":true,\"type\":\"pie\"}]},\"layout\":{\"autotypenumbers\":\"strict\",\"colorway\":[\"#636efa\",\"#EF553B\",\"#00cc96\",\"#ab63fa\",\"#FFA15A\",\"#19d3f3\",\"#FF6692\",\"#B6E880\",\"#FF97FF\",\"#FECB52\"],\"font\":{\"color\":\"#2a3f5f\"},\"hovermode\":\"closest\",\"hoverlabel\":{\"align\":\"left\"},\"paper_bgcolor\":\"white\",\"plot_bgcolor\":\"#E5ECF6\",\"polar\":{\"bgcolor\":\"#E5ECF6\",\"angularaxis\":{\"gridcolor\":\"white\",\"linecolor\":\"white\",\"ticks\":\"\"},\"radialaxis\":{\"gridcolor\":\"white\",\"linecolor\":\"white\",\"ticks\":\"\"}},\"ternary\":{\"bgcolor\":\"#E5ECF6\",\"aaxis\":{\"gridcolor\":\"white\",\"linecolor\":\"white\",\"ticks\":\"\"},\"baxis\":{\"gridcolor\":\"white\",\"linecolor\":\"white\",\"ticks\":\"\"},\"caxis\":{\"gridcolor\":\"white\",\"linecolor\":\"white\",\"ticks\":\"\"}},\"coloraxis\":{\"colorbar\":{\"outlinewidth\":0,\"ticks\":\"\"}},\"colorscale\":{\"sequential\":[[0.0,\"#0d0887\"],[0.1111111111111111,\"#46039f\"],[0.2222222222222222,\"#7201a8\"],[0.3333333333333333,\"#9c179e\"],[0.4444444444444444,\"#bd3786\"],[0.5555555555555556,\"#d8576b\"],[0.6666666666666666,\"#ed7953\"],[0.7777777777777778,\"#fb9f3a\"],[0.8888888888888888,\"#fdca26\"],[1.0,\"#f0f921\"]],\"sequentialminus\":[[0.0,\"#0d0887\"],[0.1111111111111111,\"#46039f\"],[0.2222222222222222,\"#7201a8\"],[0.3333333333333333,\"#9c179e\"],[0.4444444444444444,\"#bd3786\"],[0.5555555555555556,\"#d8576b\"],[0.6666666666666666,\"#ed7953\"],[0.7777777777777778,\"#fb9f3a\"],[0.8888888888888888,\"#fdca26\"],[1.0,\"#f0f921\"]],\"diverging\":[[0,\"#8e0152\"],[0.1,\"#c51b7d\"],[0.2,\"#de77ae\"],[0.3,\"#f1b6da\"],[0.4,\"#fde0ef\"],[0.5,\"#f7f7f7\"],[0.6,\"#e6f5d0\"],[0.7,\"#b8e186\"],[0.8,\"#7fbc41\"],[0.9,\"#4d9221\"],[1,\"#276419\"]]},\"xaxis\":{\"gridcolor\":\"white\",\"linecolor\":\"white\",\"ticks\":\"\",\"title\":{\"standoff\":15},\"zerolinecolor\":\"white\",\"automargin\":true,\"zerolinewidth\":2},\"yaxis\":{\"gridcolor\":\"white\",\"linecolor\":\"white\",\"ticks\":\"\",\"title\":{\"standoff\":15},\"zerolinecolor\":\"white\",\"automargin\":true,\"zerolinewidth\":2},\"scene\":{\"xaxis\":{\"backgroundcolor\":\"#E5ECF6\",\"gridcolor\":\"white\",\"linecolor\":\"white\",\"showbackground\":true,\"ticks\":\"\",\"zerolinecolor\":\"white\",\"gridwidth\":2},\"yaxis\":{\"backgroundcolor\":\"#E5ECF6\",\"gridcolor\":\"white\",\"linecolor\":\"white\",\"showbackground\":true,\"ticks\":\"\",\"zerolinecolor\":\"white\",\"gridwidth\":2},\"zaxis\":{\"backgroundcolor\":\"#E5ECF6\",\"gridcolor\":\"white\",\"linecolor\":\"white\",\"showbackground\":true,\"ticks\":\"\",\"zerolinecolor\":\"white\",\"gridwidth\":2}},\"shapedefaults\":{\"line\":{\"color\":\"#2a3f5f\"}},\"annotationdefaults\":{\"arrowcolor\":\"#2a3f5f\",\"arrowhead\":0,\"arrowwidth\":1},\"geo\":{\"bgcolor\":\"white\",\"landcolor\":\"#E5ECF6\",\"subunitcolor\":\"white\",\"showland\":true,\"showlakes\":true,\"lakecolor\":\"white\"},\"title\":{\"x\":0.05},\"mapbox\":{\"style\":\"light\"}}},\"xaxis\":{\"anchor\":\"y\",\"domain\":[0.0,1.0],\"title\":{\"text\":\"Season\"}},\"yaxis\":{\"anchor\":\"x\",\"domain\":[0.0,1.0],\"title\":{\"text\":\"count\"},\"range\":[800,1200]},\"legend\":{\"tracegroupgap\":0},\"margin\":{\"t\":60},\"barmode\":\"relative\"},                        {\"responsive\": true}                    ).then(function(){\n",
              "                            \n",
              "var gd = document.getElementById('97e6599b-96f6-481f-a1ee-f046636e5363');\n",
              "var x = new MutationObserver(function (mutations, observer) {{\n",
              "        var display = window.getComputedStyle(gd).display;\n",
              "        if (!display || display === 'none') {{\n",
              "            console.log([gd, 'removed!']);\n",
              "            Plotly.purge(gd);\n",
              "            observer.disconnect();\n",
              "        }}\n",
              "}});\n",
              "\n",
              "// Listen for the removal of the full notebook cells\n",
              "var notebookContainer = gd.closest('#notebook-container');\n",
              "if (notebookContainer) {{\n",
              "    x.observe(notebookContainer, {childList: true});\n",
              "}}\n",
              "\n",
              "// Listen for the clearing of the current output cell\n",
              "var outputEl = gd.closest('.output');\n",
              "if (outputEl) {{\n",
              "    x.observe(outputEl, {childList: true});\n",
              "}}\n",
              "\n",
              "                        })                };                            </script>        </div>\n",
              "</body>\n",
              "</html>"
            ]
          },
          "metadata": {}
        }
      ]
    },
    {
      "cell_type": "markdown",
      "source": [
        "6.6.\tWhat is the average rating given by customers for each product category?"
      ],
      "metadata": {
        "id": "js4B_De3uBqp"
      }
    },
    {
      "cell_type": "code",
      "source": [
        "shop_groupby = shop.groupby('Category')['Review Rating'].mean().reset_index()\n",
        "print(shop_groupby)\n"
      ],
      "metadata": {
        "colab": {
          "base_uri": "https://localhost:8080/"
        },
        "id": "rO3-967ZuOSA",
        "outputId": "3d7a4b77-6136-4703-ca44-7a4c0b74b570"
      },
      "execution_count": null,
      "outputs": [
        {
          "output_type": "stream",
          "name": "stdout",
          "text": [
            "      Category  Review Rating\n",
            "0  Accessories       3.768629\n",
            "1     Clothing       3.723143\n",
            "2     Footwear       3.790651\n",
            "3    Outerwear       3.746914\n"
          ]
        }
      ]
    },
    {
      "cell_type": "code",
      "source": [
        "fig = px.bar(shop_groupby, x=\"Category\", y=\"Review Rating\")\n",
        "fig.show()"
      ],
      "metadata": {
        "colab": {
          "base_uri": "https://localhost:8080/",
          "height": 542
        },
        "id": "z-ED_XiiuOPv",
        "outputId": "f07c5a8a-49fa-4c80-e045-e1f56e488a41"
      },
      "execution_count": null,
      "outputs": [
        {
          "output_type": "display_data",
          "data": {
            "text/html": [
              "<html>\n",
              "<head><meta charset=\"utf-8\" /></head>\n",
              "<body>\n",
              "    <div>            <script src=\"https://cdnjs.cloudflare.com/ajax/libs/mathjax/2.7.5/MathJax.js?config=TeX-AMS-MML_SVG\"></script><script type=\"text/javascript\">if (window.MathJax && window.MathJax.Hub && window.MathJax.Hub.Config) {window.MathJax.Hub.Config({SVG: {font: \"STIX-Web\"}});}</script>                <script type=\"text/javascript\">window.PlotlyConfig = {MathJaxConfig: 'local'};</script>\n",
              "        <script charset=\"utf-8\" src=\"https://cdn.plot.ly/plotly-2.35.2.min.js\"></script>                <div id=\"4bf324ca-ae3c-4f6f-a305-d6f439ac3e47\" class=\"plotly-graph-div\" style=\"height:525px; width:100%;\"></div>            <script type=\"text/javascript\">                                    window.PLOTLYENV=window.PLOTLYENV || {};                                    if (document.getElementById(\"4bf324ca-ae3c-4f6f-a305-d6f439ac3e47\")) {                    Plotly.newPlot(                        \"4bf324ca-ae3c-4f6f-a305-d6f439ac3e47\",                        [{\"alignmentgroup\":\"True\",\"hovertemplate\":\"Category=%{x}\\u003cbr\\u003eReview Rating=%{y}\\u003cextra\\u003e\\u003c\\u002fextra\\u003e\",\"legendgroup\":\"\",\"marker\":{\"color\":\"#636efa\",\"pattern\":{\"shape\":\"\"}},\"name\":\"\",\"offsetgroup\":\"\",\"orientation\":\"v\",\"showlegend\":false,\"textposition\":\"auto\",\"x\":[\"Accessories\",\"Clothing\",\"Footwear\",\"Outerwear\"],\"xaxis\":\"x\",\"y\":[3.768629032258065,3.7231433506044906,3.790651085141903,3.746913580246914],\"yaxis\":\"y\",\"type\":\"bar\"}],                        {\"template\":{\"data\":{\"histogram2dcontour\":[{\"type\":\"histogram2dcontour\",\"colorbar\":{\"outlinewidth\":0,\"ticks\":\"\"},\"colorscale\":[[0.0,\"#0d0887\"],[0.1111111111111111,\"#46039f\"],[0.2222222222222222,\"#7201a8\"],[0.3333333333333333,\"#9c179e\"],[0.4444444444444444,\"#bd3786\"],[0.5555555555555556,\"#d8576b\"],[0.6666666666666666,\"#ed7953\"],[0.7777777777777778,\"#fb9f3a\"],[0.8888888888888888,\"#fdca26\"],[1.0,\"#f0f921\"]]}],\"choropleth\":[{\"type\":\"choropleth\",\"colorbar\":{\"outlinewidth\":0,\"ticks\":\"\"}}],\"histogram2d\":[{\"type\":\"histogram2d\",\"colorbar\":{\"outlinewidth\":0,\"ticks\":\"\"},\"colorscale\":[[0.0,\"#0d0887\"],[0.1111111111111111,\"#46039f\"],[0.2222222222222222,\"#7201a8\"],[0.3333333333333333,\"#9c179e\"],[0.4444444444444444,\"#bd3786\"],[0.5555555555555556,\"#d8576b\"],[0.6666666666666666,\"#ed7953\"],[0.7777777777777778,\"#fb9f3a\"],[0.8888888888888888,\"#fdca26\"],[1.0,\"#f0f921\"]]}],\"heatmap\":[{\"type\":\"heatmap\",\"colorbar\":{\"outlinewidth\":0,\"ticks\":\"\"},\"colorscale\":[[0.0,\"#0d0887\"],[0.1111111111111111,\"#46039f\"],[0.2222222222222222,\"#7201a8\"],[0.3333333333333333,\"#9c179e\"],[0.4444444444444444,\"#bd3786\"],[0.5555555555555556,\"#d8576b\"],[0.6666666666666666,\"#ed7953\"],[0.7777777777777778,\"#fb9f3a\"],[0.8888888888888888,\"#fdca26\"],[1.0,\"#f0f921\"]]}],\"heatmapgl\":[{\"type\":\"heatmapgl\",\"colorbar\":{\"outlinewidth\":0,\"ticks\":\"\"},\"colorscale\":[[0.0,\"#0d0887\"],[0.1111111111111111,\"#46039f\"],[0.2222222222222222,\"#7201a8\"],[0.3333333333333333,\"#9c179e\"],[0.4444444444444444,\"#bd3786\"],[0.5555555555555556,\"#d8576b\"],[0.6666666666666666,\"#ed7953\"],[0.7777777777777778,\"#fb9f3a\"],[0.8888888888888888,\"#fdca26\"],[1.0,\"#f0f921\"]]}],\"contourcarpet\":[{\"type\":\"contourcarpet\",\"colorbar\":{\"outlinewidth\":0,\"ticks\":\"\"}}],\"contour\":[{\"type\":\"contour\",\"colorbar\":{\"outlinewidth\":0,\"ticks\":\"\"},\"colorscale\":[[0.0,\"#0d0887\"],[0.1111111111111111,\"#46039f\"],[0.2222222222222222,\"#7201a8\"],[0.3333333333333333,\"#9c179e\"],[0.4444444444444444,\"#bd3786\"],[0.5555555555555556,\"#d8576b\"],[0.6666666666666666,\"#ed7953\"],[0.7777777777777778,\"#fb9f3a\"],[0.8888888888888888,\"#fdca26\"],[1.0,\"#f0f921\"]]}],\"surface\":[{\"type\":\"surface\",\"colorbar\":{\"outlinewidth\":0,\"ticks\":\"\"},\"colorscale\":[[0.0,\"#0d0887\"],[0.1111111111111111,\"#46039f\"],[0.2222222222222222,\"#7201a8\"],[0.3333333333333333,\"#9c179e\"],[0.4444444444444444,\"#bd3786\"],[0.5555555555555556,\"#d8576b\"],[0.6666666666666666,\"#ed7953\"],[0.7777777777777778,\"#fb9f3a\"],[0.8888888888888888,\"#fdca26\"],[1.0,\"#f0f921\"]]}],\"mesh3d\":[{\"type\":\"mesh3d\",\"colorbar\":{\"outlinewidth\":0,\"ticks\":\"\"}}],\"scatter\":[{\"fillpattern\":{\"fillmode\":\"overlay\",\"size\":10,\"solidity\":0.2},\"type\":\"scatter\"}],\"parcoords\":[{\"type\":\"parcoords\",\"line\":{\"colorbar\":{\"outlinewidth\":0,\"ticks\":\"\"}}}],\"scatterpolargl\":[{\"type\":\"scatterpolargl\",\"marker\":{\"colorbar\":{\"outlinewidth\":0,\"ticks\":\"\"}}}],\"bar\":[{\"error_x\":{\"color\":\"#2a3f5f\"},\"error_y\":{\"color\":\"#2a3f5f\"},\"marker\":{\"line\":{\"color\":\"#E5ECF6\",\"width\":0.5},\"pattern\":{\"fillmode\":\"overlay\",\"size\":10,\"solidity\":0.2}},\"type\":\"bar\"}],\"scattergeo\":[{\"type\":\"scattergeo\",\"marker\":{\"colorbar\":{\"outlinewidth\":0,\"ticks\":\"\"}}}],\"scatterpolar\":[{\"type\":\"scatterpolar\",\"marker\":{\"colorbar\":{\"outlinewidth\":0,\"ticks\":\"\"}}}],\"histogram\":[{\"marker\":{\"pattern\":{\"fillmode\":\"overlay\",\"size\":10,\"solidity\":0.2}},\"type\":\"histogram\"}],\"scattergl\":[{\"type\":\"scattergl\",\"marker\":{\"colorbar\":{\"outlinewidth\":0,\"ticks\":\"\"}}}],\"scatter3d\":[{\"type\":\"scatter3d\",\"line\":{\"colorbar\":{\"outlinewidth\":0,\"ticks\":\"\"}},\"marker\":{\"colorbar\":{\"outlinewidth\":0,\"ticks\":\"\"}}}],\"scattermapbox\":[{\"type\":\"scattermapbox\",\"marker\":{\"colorbar\":{\"outlinewidth\":0,\"ticks\":\"\"}}}],\"scatterternary\":[{\"type\":\"scatterternary\",\"marker\":{\"colorbar\":{\"outlinewidth\":0,\"ticks\":\"\"}}}],\"scattercarpet\":[{\"type\":\"scattercarpet\",\"marker\":{\"colorbar\":{\"outlinewidth\":0,\"ticks\":\"\"}}}],\"carpet\":[{\"aaxis\":{\"endlinecolor\":\"#2a3f5f\",\"gridcolor\":\"white\",\"linecolor\":\"white\",\"minorgridcolor\":\"white\",\"startlinecolor\":\"#2a3f5f\"},\"baxis\":{\"endlinecolor\":\"#2a3f5f\",\"gridcolor\":\"white\",\"linecolor\":\"white\",\"minorgridcolor\":\"white\",\"startlinecolor\":\"#2a3f5f\"},\"type\":\"carpet\"}],\"table\":[{\"cells\":{\"fill\":{\"color\":\"#EBF0F8\"},\"line\":{\"color\":\"white\"}},\"header\":{\"fill\":{\"color\":\"#C8D4E3\"},\"line\":{\"color\":\"white\"}},\"type\":\"table\"}],\"barpolar\":[{\"marker\":{\"line\":{\"color\":\"#E5ECF6\",\"width\":0.5},\"pattern\":{\"fillmode\":\"overlay\",\"size\":10,\"solidity\":0.2}},\"type\":\"barpolar\"}],\"pie\":[{\"automargin\":true,\"type\":\"pie\"}]},\"layout\":{\"autotypenumbers\":\"strict\",\"colorway\":[\"#636efa\",\"#EF553B\",\"#00cc96\",\"#ab63fa\",\"#FFA15A\",\"#19d3f3\",\"#FF6692\",\"#B6E880\",\"#FF97FF\",\"#FECB52\"],\"font\":{\"color\":\"#2a3f5f\"},\"hovermode\":\"closest\",\"hoverlabel\":{\"align\":\"left\"},\"paper_bgcolor\":\"white\",\"plot_bgcolor\":\"#E5ECF6\",\"polar\":{\"bgcolor\":\"#E5ECF6\",\"angularaxis\":{\"gridcolor\":\"white\",\"linecolor\":\"white\",\"ticks\":\"\"},\"radialaxis\":{\"gridcolor\":\"white\",\"linecolor\":\"white\",\"ticks\":\"\"}},\"ternary\":{\"bgcolor\":\"#E5ECF6\",\"aaxis\":{\"gridcolor\":\"white\",\"linecolor\":\"white\",\"ticks\":\"\"},\"baxis\":{\"gridcolor\":\"white\",\"linecolor\":\"white\",\"ticks\":\"\"},\"caxis\":{\"gridcolor\":\"white\",\"linecolor\":\"white\",\"ticks\":\"\"}},\"coloraxis\":{\"colorbar\":{\"outlinewidth\":0,\"ticks\":\"\"}},\"colorscale\":{\"sequential\":[[0.0,\"#0d0887\"],[0.1111111111111111,\"#46039f\"],[0.2222222222222222,\"#7201a8\"],[0.3333333333333333,\"#9c179e\"],[0.4444444444444444,\"#bd3786\"],[0.5555555555555556,\"#d8576b\"],[0.6666666666666666,\"#ed7953\"],[0.7777777777777778,\"#fb9f3a\"],[0.8888888888888888,\"#fdca26\"],[1.0,\"#f0f921\"]],\"sequentialminus\":[[0.0,\"#0d0887\"],[0.1111111111111111,\"#46039f\"],[0.2222222222222222,\"#7201a8\"],[0.3333333333333333,\"#9c179e\"],[0.4444444444444444,\"#bd3786\"],[0.5555555555555556,\"#d8576b\"],[0.6666666666666666,\"#ed7953\"],[0.7777777777777778,\"#fb9f3a\"],[0.8888888888888888,\"#fdca26\"],[1.0,\"#f0f921\"]],\"diverging\":[[0,\"#8e0152\"],[0.1,\"#c51b7d\"],[0.2,\"#de77ae\"],[0.3,\"#f1b6da\"],[0.4,\"#fde0ef\"],[0.5,\"#f7f7f7\"],[0.6,\"#e6f5d0\"],[0.7,\"#b8e186\"],[0.8,\"#7fbc41\"],[0.9,\"#4d9221\"],[1,\"#276419\"]]},\"xaxis\":{\"gridcolor\":\"white\",\"linecolor\":\"white\",\"ticks\":\"\",\"title\":{\"standoff\":15},\"zerolinecolor\":\"white\",\"automargin\":true,\"zerolinewidth\":2},\"yaxis\":{\"gridcolor\":\"white\",\"linecolor\":\"white\",\"ticks\":\"\",\"title\":{\"standoff\":15},\"zerolinecolor\":\"white\",\"automargin\":true,\"zerolinewidth\":2},\"scene\":{\"xaxis\":{\"backgroundcolor\":\"#E5ECF6\",\"gridcolor\":\"white\",\"linecolor\":\"white\",\"showbackground\":true,\"ticks\":\"\",\"zerolinecolor\":\"white\",\"gridwidth\":2},\"yaxis\":{\"backgroundcolor\":\"#E5ECF6\",\"gridcolor\":\"white\",\"linecolor\":\"white\",\"showbackground\":true,\"ticks\":\"\",\"zerolinecolor\":\"white\",\"gridwidth\":2},\"zaxis\":{\"backgroundcolor\":\"#E5ECF6\",\"gridcolor\":\"white\",\"linecolor\":\"white\",\"showbackground\":true,\"ticks\":\"\",\"zerolinecolor\":\"white\",\"gridwidth\":2}},\"shapedefaults\":{\"line\":{\"color\":\"#2a3f5f\"}},\"annotationdefaults\":{\"arrowcolor\":\"#2a3f5f\",\"arrowhead\":0,\"arrowwidth\":1},\"geo\":{\"bgcolor\":\"white\",\"landcolor\":\"#E5ECF6\",\"subunitcolor\":\"white\",\"showland\":true,\"showlakes\":true,\"lakecolor\":\"white\"},\"title\":{\"x\":0.05},\"mapbox\":{\"style\":\"light\"}}},\"xaxis\":{\"anchor\":\"y\",\"domain\":[0.0,1.0],\"title\":{\"text\":\"Category\"}},\"yaxis\":{\"anchor\":\"x\",\"domain\":[0.0,1.0],\"title\":{\"text\":\"Review Rating\"}},\"legend\":{\"tracegroupgap\":0},\"margin\":{\"t\":60},\"barmode\":\"relative\"},                        {\"responsive\": true}                    ).then(function(){\n",
              "                            \n",
              "var gd = document.getElementById('4bf324ca-ae3c-4f6f-a305-d6f439ac3e47');\n",
              "var x = new MutationObserver(function (mutations, observer) {{\n",
              "        var display = window.getComputedStyle(gd).display;\n",
              "        if (!display || display === 'none') {{\n",
              "            console.log([gd, 'removed!']);\n",
              "            Plotly.purge(gd);\n",
              "            observer.disconnect();\n",
              "        }}\n",
              "}});\n",
              "\n",
              "// Listen for the removal of the full notebook cells\n",
              "var notebookContainer = gd.closest('#notebook-container');\n",
              "if (notebookContainer) {{\n",
              "    x.observe(notebookContainer, {childList: true});\n",
              "}}\n",
              "\n",
              "// Listen for the clearing of the current output cell\n",
              "var outputEl = gd.closest('.output');\n",
              "if (outputEl) {{\n",
              "    x.observe(outputEl, {childList: true});\n",
              "}}\n",
              "\n",
              "                        })                };                            </script>        </div>\n",
              "</body>\n",
              "</html>"
            ]
          },
          "metadata": {}
        }
      ]
    },
    {
      "cell_type": "markdown",
      "source": [
        "7.7.\tAre there any notable differences in purchase behavior between subscribed and non-subscribed customers?"
      ],
      "metadata": {
        "id": "__3-CKj5ulVt"
      }
    },
    {
      "cell_type": "code",
      "source": [
        "shop.columns"
      ],
      "metadata": {
        "colab": {
          "base_uri": "https://localhost:8080/"
        },
        "id": "8abfrpO7uOKe",
        "outputId": "b8cab152-c1d2-4fe6-dd51-ebea6eeb4cec"
      },
      "execution_count": null,
      "outputs": [
        {
          "output_type": "execute_result",
          "data": {
            "text/plain": [
              "Index(['Customer ID', 'Age', 'Gender', 'Item Purchased', 'Category',\n",
              "       'Purchase Amount (USD)', 'Location', 'Size', 'Color', 'Season',\n",
              "       'Review Rating', 'Subscription Status', 'Shipping Type',\n",
              "       'Discount Applied', 'Promo Code Used', 'Previous Purchases',\n",
              "       'Payment Method', 'Frequency of Purchases'],\n",
              "      dtype='object')"
            ]
          },
          "metadata": {},
          "execution_count": 24
        }
      ]
    },
    {
      "cell_type": "code",
      "source": [
        "shop['Subscription Status'].value_counts()"
      ],
      "metadata": {
        "colab": {
          "base_uri": "https://localhost:8080/",
          "height": 178
        },
        "id": "_E94-A8Iuonb",
        "outputId": "c5b759eb-292a-4d2a-83d7-0f4388777f42"
      },
      "execution_count": null,
      "outputs": [
        {
          "output_type": "execute_result",
          "data": {
            "text/plain": [
              "Subscription Status\n",
              "No     2847\n",
              "Yes    1053\n",
              "Name: count, dtype: int64"
            ],
            "text/html": [
              "<div>\n",
              "<style scoped>\n",
              "    .dataframe tbody tr th:only-of-type {\n",
              "        vertical-align: middle;\n",
              "    }\n",
              "\n",
              "    .dataframe tbody tr th {\n",
              "        vertical-align: top;\n",
              "    }\n",
              "\n",
              "    .dataframe thead th {\n",
              "        text-align: right;\n",
              "    }\n",
              "</style>\n",
              "<table border=\"1\" class=\"dataframe\">\n",
              "  <thead>\n",
              "    <tr style=\"text-align: right;\">\n",
              "      <th></th>\n",
              "      <th>count</th>\n",
              "    </tr>\n",
              "    <tr>\n",
              "      <th>Subscription Status</th>\n",
              "      <th></th>\n",
              "    </tr>\n",
              "  </thead>\n",
              "  <tbody>\n",
              "    <tr>\n",
              "      <th>No</th>\n",
              "      <td>2847</td>\n",
              "    </tr>\n",
              "    <tr>\n",
              "      <th>Yes</th>\n",
              "      <td>1053</td>\n",
              "    </tr>\n",
              "  </tbody>\n",
              "</table>\n",
              "</div><br><label><b>dtype:</b> int64</label>"
            ]
          },
          "metadata": {},
          "execution_count": 25
        }
      ]
    },
    {
      "cell_type": "code",
      "source": [
        "sns.barplot(data=shop, x='Subscription Status', y='Purchase Amount (USD)')"
      ],
      "metadata": {
        "colab": {
          "base_uri": "https://localhost:8080/",
          "height": 466
        },
        "id": "V5x2rq5duokN",
        "outputId": "4cc2f573-58a7-48d8-f261-1cc724fc26d8"
      },
      "execution_count": null,
      "outputs": [
        {
          "output_type": "execute_result",
          "data": {
            "text/plain": [
              "<Axes: xlabel='Subscription Status', ylabel='Purchase Amount (USD)'>"
            ]
          },
          "metadata": {},
          "execution_count": 26
        },
        {
          "output_type": "display_data",
          "data": {
            "text/plain": [
              "<Figure size 640x480 with 1 Axes>"
            ],
            "image/png": "[encoded data removed]"
          },
          "metadata": {}
        }
      ]
    },
    {
      "cell_type": "code",
      "source": [
        "total_purchase = shop[\"Purchase Amount (USD)\"].sum()\n",
        "print(\"Total Purchase Amount (USD):\", total_purchase)\n"
      ],
      "metadata": {
        "colab": {
          "base_uri": "https://localhost:8080/"
        },
        "id": "8Pqbq9zWuog2",
        "outputId": "359f7d61-77c5-4224-e2e9-57d9e003496f"
      },
      "execution_count": null,
      "outputs": [
        {
          "output_type": "stream",
          "name": "stdout",
          "text": [
            "Total Purchase Amount (USD): 233081\n"
          ]
        }
      ]
    },
    {
      "cell_type": "code",
      "source": [
        "mean_purchase_by_status = shop.groupby('Subscription Status')['Purchase Amount (USD)'].mean()\n",
        "print(mean_purchase_by_status)\n"
      ],
      "metadata": {
        "colab": {
          "base_uri": "https://localhost:8080/"
        },
        "id": "DPUCY8hiuOHw",
        "outputId": "651d58f7-02ea-436d-a92c-f22de9499509"
      },
      "execution_count": null,
      "outputs": [
        {
          "output_type": "stream",
          "name": "stdout",
          "text": [
            "Subscription Status\n",
            "No     59.865121\n",
            "Yes    59.491928\n",
            "Name: Purchase Amount (USD), dtype: float64\n"
          ]
        }
      ]
    },
    {
      "cell_type": "markdown",
      "source": [
        "8.\tWhich payment method is the most popular among customers?"
      ],
      "metadata": {
        "id": "ngISCIirvaOn"
      }
    },
    {
      "cell_type": "code",
      "source": [
        "shop_groupby = shop.groupby('Payment Method')['Purchase Amount (USD)'].mean().sort_values(ascending=False)\n",
        "print(shop_groupby)\n"
      ],
      "metadata": {
        "colab": {
          "base_uri": "https://localhost:8080/"
        },
        "id": "hOboUgCGveNZ",
        "outputId": "cc0eb561-a11a-40d1-e034-494567107438"
      },
      "execution_count": null,
      "outputs": [
        {
          "output_type": "stream",
          "name": "stdout",
          "text": [
            "Payment Method\n",
            "Debit Card       60.915094\n",
            "Credit Card      60.074516\n",
            "Bank Transfer    59.712418\n",
            "Cash             59.704478\n",
            "PayPal           59.245199\n",
            "Venmo            58.949527\n",
            "Name: Purchase Amount (USD), dtype: float64\n"
          ]
        }
      ]
    },
    {
      "cell_type": "code",
      "source": [
        "# Group by 'Payment Method' and calculate the mean of 'Purchase Amount (USD)'\n",
        "shop_groupby = shop.groupby('Payment Method')['Purchase Amount (USD)'].mean().reset_index()\n",
        "\n",
        "# Create a bar chart\n",
        "fig = px.bar(shop_groupby, x='Payment Method', y='Purchase Amount (USD)',\n",
        "             title='Average Purchase Amount by Payment Method',\n",
        "             labels={'Purchase Amount (USD)': 'Average Purchase Amount (USD)'})\n",
        "\n",
        "# Show the chart\n",
        "fig.show()\n"
      ],
      "metadata": {
        "colab": {
          "base_uri": "https://localhost:8080/",
          "height": 542
        },
        "id": "YTn-CTdaveLE",
        "outputId": "00570430-ba7a-4516-9367-4b23b691fd1e"
      },
      "execution_count": null,
      "outputs": [
        {
          "output_type": "display_data",
          "data": {
            "text/html": [
              "<html>\n",
              "<head><meta charset=\"utf-8\" /></head>\n",
              "<body>\n",
              "    <div>            <script src=\"https://cdnjs.cloudflare.com/ajax/libs/mathjax/2.7.5/MathJax.js?config=TeX-AMS-MML_SVG\"></script><script type=\"text/javascript\">if (window.MathJax && window.MathJax.Hub && window.MathJax.Hub.Config) {window.MathJax.Hub.Config({SVG: {font: \"STIX-Web\"}});}</script>                <script type=\"text/javascript\">window.PlotlyConfig = {MathJaxConfig: 'local'};</script>\n",
              "        <script charset=\"utf-8\" src=\"https://cdn.plot.ly/plotly-2.35.2.min.js\"></script>                <div id=\"4f5e696e-0215-4579-90e2-b8f5e041771a\" class=\"plotly-graph-div\" style=\"height:525px; width:100%;\"></div>            <script type=\"text/javascript\">                                    window.PLOTLYENV=window.PLOTLYENV || {};                                    if (document.getElementById(\"4f5e696e-0215-4579-90e2-b8f5e041771a\")) {                    Plotly.newPlot(                        \"4f5e696e-0215-4579-90e2-b8f5e041771a\",                        [{\"alignmentgroup\":\"True\",\"hovertemplate\":\"Payment Method=%{x}\\u003cbr\\u003eAverage Purchase Amount (USD)=%{y}\\u003cextra\\u003e\\u003c\\u002fextra\\u003e\",\"legendgroup\":\"\",\"marker\":{\"color\":\"#636efa\",\"pattern\":{\"shape\":\"\"}},\"name\":\"\",\"offsetgroup\":\"\",\"orientation\":\"v\",\"showlegend\":false,\"textposition\":\"auto\",\"x\":[\"Bank Transfer\",\"Cash\",\"Credit Card\",\"Debit Card\",\"PayPal\",\"Venmo\"],\"xaxis\":\"x\",\"y\":[59.712418300653596,59.7044776119403,60.07451564828614,60.91509433962264,59.24519940915805,58.94952681388013],\"yaxis\":\"y\",\"type\":\"bar\"}],                        {\"template\":{\"data\":{\"histogram2dcontour\":[{\"type\":\"histogram2dcontour\",\"colorbar\":{\"outlinewidth\":0,\"ticks\":\"\"},\"colorscale\":[[0.0,\"#0d0887\"],[0.1111111111111111,\"#46039f\"],[0.2222222222222222,\"#7201a8\"],[0.3333333333333333,\"#9c179e\"],[0.4444444444444444,\"#bd3786\"],[0.5555555555555556,\"#d8576b\"],[0.6666666666666666,\"#ed7953\"],[0.7777777777777778,\"#fb9f3a\"],[0.8888888888888888,\"#fdca26\"],[1.0,\"#f0f921\"]]}],\"choropleth\":[{\"type\":\"choropleth\",\"colorbar\":{\"outlinewidth\":0,\"ticks\":\"\"}}],\"histogram2d\":[{\"type\":\"histogram2d\",\"colorbar\":{\"outlinewidth\":0,\"ticks\":\"\"},\"colorscale\":[[0.0,\"#0d0887\"],[0.1111111111111111,\"#46039f\"],[0.2222222222222222,\"#7201a8\"],[0.3333333333333333,\"#9c179e\"],[0.4444444444444444,\"#bd3786\"],[0.5555555555555556,\"#d8576b\"],[0.6666666666666666,\"#ed7953\"],[0.7777777777777778,\"#fb9f3a\"],[0.8888888888888888,\"#fdca26\"],[1.0,\"#f0f921\"]]}],\"heatmap\":[{\"type\":\"heatmap\",\"colorbar\":{\"outlinewidth\":0,\"ticks\":\"\"},\"colorscale\":[[0.0,\"#0d0887\"],[0.1111111111111111,\"#46039f\"],[0.2222222222222222,\"#7201a8\"],[0.3333333333333333,\"#9c179e\"],[0.4444444444444444,\"#bd3786\"],[0.5555555555555556,\"#d8576b\"],[0.6666666666666666,\"#ed7953\"],[0.7777777777777778,\"#fb9f3a\"],[0.8888888888888888,\"#fdca26\"],[1.0,\"#f0f921\"]]}],\"heatmapgl\":[{\"type\":\"heatmapgl\",\"colorbar\":{\"outlinewidth\":0,\"ticks\":\"\"},\"colorscale\":[[0.0,\"#0d0887\"],[0.1111111111111111,\"#46039f\"],[0.2222222222222222,\"#7201a8\"],[0.3333333333333333,\"#9c179e\"],[0.4444444444444444,\"#bd3786\"],[0.5555555555555556,\"#d8576b\"],[0.6666666666666666,\"#ed7953\"],[0.7777777777777778,\"#fb9f3a\"],[0.8888888888888888,\"#fdca26\"],[1.0,\"#f0f921\"]]}],\"contourcarpet\":[{\"type\":\"contourcarpet\",\"colorbar\":{\"outlinewidth\":0,\"ticks\":\"\"}}],\"contour\":[{\"type\":\"contour\",\"colorbar\":{\"outlinewidth\":0,\"ticks\":\"\"},\"colorscale\":[[0.0,\"#0d0887\"],[0.1111111111111111,\"#46039f\"],[0.2222222222222222,\"#7201a8\"],[0.3333333333333333,\"#9c179e\"],[0.4444444444444444,\"#bd3786\"],[0.5555555555555556,\"#d8576b\"],[0.6666666666666666,\"#ed7953\"],[0.7777777777777778,\"#fb9f3a\"],[0.8888888888888888,\"#fdca26\"],[1.0,\"#f0f921\"]]}],\"surface\":[{\"type\":\"surface\",\"colorbar\":{\"outlinewidth\":0,\"ticks\":\"\"},\"colorscale\":[[0.0,\"#0d0887\"],[0.1111111111111111,\"#46039f\"],[0.2222222222222222,\"#7201a8\"],[0.3333333333333333,\"#9c179e\"],[0.4444444444444444,\"#bd3786\"],[0.5555555555555556,\"#d8576b\"],[0.6666666666666666,\"#ed7953\"],[0.7777777777777778,\"#fb9f3a\"],[0.8888888888888888,\"#fdca26\"],[1.0,\"#f0f921\"]]}],\"mesh3d\":[{\"type\":\"mesh3d\",\"colorbar\":{\"outlinewidth\":0,\"ticks\":\"\"}}],\"scatter\":[{\"fillpattern\":{\"fillmode\":\"overlay\",\"size\":10,\"solidity\":0.2},\"type\":\"scatter\"}],\"parcoords\":[{\"type\":\"parcoords\",\"line\":{\"colorbar\":{\"outlinewidth\":0,\"ticks\":\"\"}}}],\"scatterpolargl\":[{\"type\":\"scatterpolargl\",\"marker\":{\"colorbar\":{\"outlinewidth\":0,\"ticks\":\"\"}}}],\"bar\":[{\"error_x\":{\"color\":\"#2a3f5f\"},\"error_y\":{\"color\":\"#2a3f5f\"},\"marker\":{\"line\":{\"color\":\"#E5ECF6\",\"width\":0.5},\"pattern\":{\"fillmode\":\"overlay\",\"size\":10,\"solidity\":0.2}},\"type\":\"bar\"}],\"scattergeo\":[{\"type\":\"scattergeo\",\"marker\":{\"colorbar\":{\"outlinewidth\":0,\"ticks\":\"\"}}}],\"scatterpolar\":[{\"type\":\"scatterpolar\",\"marker\":{\"colorbar\":{\"outlinewidth\":0,\"ticks\":\"\"}}}],\"histogram\":[{\"marker\":{\"pattern\":{\"fillmode\":\"overlay\",\"size\":10,\"solidity\":0.2}},\"type\":\"histogram\"}],\"scattergl\":[{\"type\":\"scattergl\",\"marker\":{\"colorbar\":{\"outlinewidth\":0,\"ticks\":\"\"}}}],\"scatter3d\":[{\"type\":\"scatter3d\",\"line\":{\"colorbar\":{\"outlinewidth\":0,\"ticks\":\"\"}},\"marker\":{\"colorbar\":{\"outlinewidth\":0,\"ticks\":\"\"}}}],\"scattermapbox\":[{\"type\":\"scattermapbox\",\"marker\":{\"colorbar\":{\"outlinewidth\":0,\"ticks\":\"\"}}}],\"scatterternary\":[{\"type\":\"scatterternary\",\"marker\":{\"colorbar\":{\"outlinewidth\":0,\"ticks\":\"\"}}}],\"scattercarpet\":[{\"type\":\"scattercarpet\",\"marker\":{\"colorbar\":{\"outlinewidth\":0,\"ticks\":\"\"}}}],\"carpet\":[{\"aaxis\":{\"endlinecolor\":\"#2a3f5f\",\"gridcolor\":\"white\",\"linecolor\":\"white\",\"minorgridcolor\":\"white\",\"startlinecolor\":\"#2a3f5f\"},\"baxis\":{\"endlinecolor\":\"#2a3f5f\",\"gridcolor\":\"white\",\"linecolor\":\"white\",\"minorgridcolor\":\"white\",\"startlinecolor\":\"#2a3f5f\"},\"type\":\"carpet\"}],\"table\":[{\"cells\":{\"fill\":{\"color\":\"#EBF0F8\"},\"line\":{\"color\":\"white\"}},\"header\":{\"fill\":{\"color\":\"#C8D4E3\"},\"line\":{\"color\":\"white\"}},\"type\":\"table\"}],\"barpolar\":[{\"marker\":{\"line\":{\"color\":\"#E5ECF6\",\"width\":0.5},\"pattern\":{\"fillmode\":\"overlay\",\"size\":10,\"solidity\":0.2}},\"type\":\"barpolar\"}],\"pie\":[{\"automargin\":true,\"type\":\"pie\"}]},\"layout\":{\"autotypenumbers\":\"strict\",\"colorway\":[\"#636efa\",\"#EF553B\",\"#00cc96\",\"#ab63fa\",\"#FFA15A\",\"#19d3f3\",\"#FF6692\",\"#B6E880\",\"#FF97FF\",\"#FECB52\"],\"font\":{\"color\":\"#2a3f5f\"},\"hovermode\":\"closest\",\"hoverlabel\":{\"align\":\"left\"},\"paper_bgcolor\":\"white\",\"plot_bgcolor\":\"#E5ECF6\",\"polar\":{\"bgcolor\":\"#E5ECF6\",\"angularaxis\":{\"gridcolor\":\"white\",\"linecolor\":\"white\",\"ticks\":\"\"},\"radialaxis\":{\"gridcolor\":\"white\",\"linecolor\":\"white\",\"ticks\":\"\"}},\"ternary\":{\"bgcolor\":\"#E5ECF6\",\"aaxis\":{\"gridcolor\":\"white\",\"linecolor\":\"white\",\"ticks\":\"\"},\"baxis\":{\"gridcolor\":\"white\",\"linecolor\":\"white\",\"ticks\":\"\"},\"caxis\":{\"gridcolor\":\"white\",\"linecolor\":\"white\",\"ticks\":\"\"}},\"coloraxis\":{\"colorbar\":{\"outlinewidth\":0,\"ticks\":\"\"}},\"colorscale\":{\"sequential\":[[0.0,\"#0d0887\"],[0.1111111111111111,\"#46039f\"],[0.2222222222222222,\"#7201a8\"],[0.3333333333333333,\"#9c179e\"],[0.4444444444444444,\"#bd3786\"],[0.5555555555555556,\"#d8576b\"],[0.6666666666666666,\"#ed7953\"],[0.7777777777777778,\"#fb9f3a\"],[0.8888888888888888,\"#fdca26\"],[1.0,\"#f0f921\"]],\"sequentialminus\":[[0.0,\"#0d0887\"],[0.1111111111111111,\"#46039f\"],[0.2222222222222222,\"#7201a8\"],[0.3333333333333333,\"#9c179e\"],[0.4444444444444444,\"#bd3786\"],[0.5555555555555556,\"#d8576b\"],[0.6666666666666666,\"#ed7953\"],[0.7777777777777778,\"#fb9f3a\"],[0.8888888888888888,\"#fdca26\"],[1.0,\"#f0f921\"]],\"diverging\":[[0,\"#8e0152\"],[0.1,\"#c51b7d\"],[0.2,\"#de77ae\"],[0.3,\"#f1b6da\"],[0.4,\"#fde0ef\"],[0.5,\"#f7f7f7\"],[0.6,\"#e6f5d0\"],[0.7,\"#b8e186\"],[0.8,\"#7fbc41\"],[0.9,\"#4d9221\"],[1,\"#276419\"]]},\"xaxis\":{\"gridcolor\":\"white\",\"linecolor\":\"white\",\"ticks\":\"\",\"title\":{\"standoff\":15},\"zerolinecolor\":\"white\",\"automargin\":true,\"zerolinewidth\":2},\"yaxis\":{\"gridcolor\":\"white\",\"linecolor\":\"white\",\"ticks\":\"\",\"title\":{\"standoff\":15},\"zerolinecolor\":\"white\",\"automargin\":true,\"zerolinewidth\":2},\"scene\":{\"xaxis\":{\"backgroundcolor\":\"#E5ECF6\",\"gridcolor\":\"white\",\"linecolor\":\"white\",\"showbackground\":true,\"ticks\":\"\",\"zerolinecolor\":\"white\",\"gridwidth\":2},\"yaxis\":{\"backgroundcolor\":\"#E5ECF6\",\"gridcolor\":\"white\",\"linecolor\":\"white\",\"showbackground\":true,\"ticks\":\"\",\"zerolinecolor\":\"white\",\"gridwidth\":2},\"zaxis\":{\"backgroundcolor\":\"#E5ECF6\",\"gridcolor\":\"white\",\"linecolor\":\"white\",\"showbackground\":true,\"ticks\":\"\",\"zerolinecolor\":\"white\",\"gridwidth\":2}},\"shapedefaults\":{\"line\":{\"color\":\"#2a3f5f\"}},\"annotationdefaults\":{\"arrowcolor\":\"#2a3f5f\",\"arrowhead\":0,\"arrowwidth\":1},\"geo\":{\"bgcolor\":\"white\",\"landcolor\":\"#E5ECF6\",\"subunitcolor\":\"white\",\"showland\":true,\"showlakes\":true,\"lakecolor\":\"white\"},\"title\":{\"x\":0.05},\"mapbox\":{\"style\":\"light\"}}},\"xaxis\":{\"anchor\":\"y\",\"domain\":[0.0,1.0],\"title\":{\"text\":\"Payment Method\"}},\"yaxis\":{\"anchor\":\"x\",\"domain\":[0.0,1.0],\"title\":{\"text\":\"Average Purchase Amount (USD)\"}},\"legend\":{\"tracegroupgap\":0},\"title\":{\"text\":\"Average Purchase Amount by Payment Method\"},\"barmode\":\"relative\"},                        {\"responsive\": true}                    ).then(function(){\n",
              "                            \n",
              "var gd = document.getElementById('4f5e696e-0215-4579-90e2-b8f5e041771a');\n",
              "var x = new MutationObserver(function (mutations, observer) {{\n",
              "        var display = window.getComputedStyle(gd).display;\n",
              "        if (!display || display === 'none') {{\n",
              "            console.log([gd, 'removed!']);\n",
              "            Plotly.purge(gd);\n",
              "            observer.disconnect();\n",
              "        }}\n",
              "}});\n",
              "\n",
              "// Listen for the removal of the full notebook cells\n",
              "var notebookContainer = gd.closest('#notebook-container');\n",
              "if (notebookContainer) {{\n",
              "    x.observe(notebookContainer, {childList: true});\n",
              "}}\n",
              "\n",
              "// Listen for the clearing of the current output cell\n",
              "var outputEl = gd.closest('.output');\n",
              "if (outputEl) {{\n",
              "    x.observe(outputEl, {childList: true});\n",
              "}}\n",
              "\n",
              "                        })                };                            </script>        </div>\n",
              "</body>\n",
              "</html>"
            ]
          },
          "metadata": {}
        }
      ]
    },
    {
      "cell_type": "markdown",
      "source": [
        "9.\tDo customers who use promo codes tend to spend more than those who don't?"
      ],
      "metadata": {
        "id": "wPVxhUZ3v9lX"
      }
    },
    {
      "cell_type": "code",
      "source": [
        "# Group by 'Promo Code Used' and calculate the sum of 'Purchase Amount (USD)'\n",
        "shop_groupby = shop.groupby('Promo Code Used')['Purchase Amount (USD)'].sum().reset_index()\n",
        "\n",
        "# Create a sunburst chart\n",
        "fig = px.sunburst(shop, path=['Gender', 'Promo Code Used'], values='Purchase Amount (USD)',\n",
        "                  title='Purchase Amount by Gender and Promo Code Used')\n",
        "\n",
        "# Show the chart\n",
        "fig.show()\n"
      ],
      "metadata": {
        "colab": {
          "base_uri": "https://localhost:8080/",
          "height": 542
        },
        "id": "3S2e-ytoveF4",
        "outputId": "25fb21fd-9f1d-4c34-fb3d-4be5a69a7385"
      },
      "execution_count": null,
      "outputs": [
        {
          "output_type": "display_data",
          "data": {
            "text/html": [
              "<html>\n",
              "<head><meta charset=\"utf-8\" /></head>\n",
              "<body>\n",
              "    <div>            <script src=\"https://cdnjs.cloudflare.com/ajax/libs/mathjax/2.7.5/MathJax.js?config=TeX-AMS-MML_SVG\"></script><script type=\"text/javascript\">if (window.MathJax && window.MathJax.Hub && window.MathJax.Hub.Config) {window.MathJax.Hub.Config({SVG: {font: \"STIX-Web\"}});}</script>                <script type=\"text/javascript\">window.PlotlyConfig = {MathJaxConfig: 'local'};</script>\n",
              "        <script charset=\"utf-8\" src=\"https://cdn.plot.ly/plotly-2.35.2.min.js\"></script>                <div id=\"a4d0c52a-56d5-43f0-806c-1e9769dbaf57\" class=\"plotly-graph-div\" style=\"height:525px; width:100%;\"></div>            <script type=\"text/javascript\">                                    window.PLOTLYENV=window.PLOTLYENV || {};                                    if (document.getElementById(\"a4d0c52a-56d5-43f0-806c-1e9769dbaf57\")) {                    Plotly.newPlot(                        \"a4d0c52a-56d5-43f0-806c-1e9769dbaf57\",                        [{\"branchvalues\":\"total\",\"domain\":{\"x\":[0.0,1.0],\"y\":[0.0,1.0]},\"hovertemplate\":\"labels=%{label}\\u003cbr\\u003ePurchase Amount (USD)=%{value}\\u003cbr\\u003eparent=%{parent}\\u003cbr\\u003eid=%{id}\\u003cextra\\u003e\\u003c\\u002fextra\\u003e\",\"ids\":[\"Female\\u002fNo\",\"Male\\u002fNo\",\"Male\\u002fYes\",\"Female\",\"Male\"],\"labels\":[\"No\",\"No\",\"Yes\",\"Female\",\"Male\"],\"name\":\"\",\"parents\":[\"Female\",\"Male\",\"Male\",\"\",\"\"],\"values\":[75191,58479,99411,75191,157890],\"type\":\"sunburst\"}],                        {\"template\":{\"data\":{\"histogram2dcontour\":[{\"type\":\"histogram2dcontour\",\"colorbar\":{\"outlinewidth\":0,\"ticks\":\"\"},\"colorscale\":[[0.0,\"#0d0887\"],[0.1111111111111111,\"#46039f\"],[0.2222222222222222,\"#7201a8\"],[0.3333333333333333,\"#9c179e\"],[0.4444444444444444,\"#bd3786\"],[0.5555555555555556,\"#d8576b\"],[0.6666666666666666,\"#ed7953\"],[0.7777777777777778,\"#fb9f3a\"],[0.8888888888888888,\"#fdca26\"],[1.0,\"#f0f921\"]]}],\"choropleth\":[{\"type\":\"choropleth\",\"colorbar\":{\"outlinewidth\":0,\"ticks\":\"\"}}],\"histogram2d\":[{\"type\":\"histogram2d\",\"colorbar\":{\"outlinewidth\":0,\"ticks\":\"\"},\"colorscale\":[[0.0,\"#0d0887\"],[0.1111111111111111,\"#46039f\"],[0.2222222222222222,\"#7201a8\"],[0.3333333333333333,\"#9c179e\"],[0.4444444444444444,\"#bd3786\"],[0.5555555555555556,\"#d8576b\"],[0.6666666666666666,\"#ed7953\"],[0.7777777777777778,\"#fb9f3a\"],[0.8888888888888888,\"#fdca26\"],[1.0,\"#f0f921\"]]}],\"heatmap\":[{\"type\":\"heatmap\",\"colorbar\":{\"outlinewidth\":0,\"ticks\":\"\"},\"colorscale\":[[0.0,\"#0d0887\"],[0.1111111111111111,\"#46039f\"],[0.2222222222222222,\"#7201a8\"],[0.3333333333333333,\"#9c179e\"],[0.4444444444444444,\"#bd3786\"],[0.5555555555555556,\"#d8576b\"],[0.6666666666666666,\"#ed7953\"],[0.7777777777777778,\"#fb9f3a\"],[0.8888888888888888,\"#fdca26\"],[1.0,\"#f0f921\"]]}],\"heatmapgl\":[{\"type\":\"heatmapgl\",\"colorbar\":{\"outlinewidth\":0,\"ticks\":\"\"},\"colorscale\":[[0.0,\"#0d0887\"],[0.1111111111111111,\"#46039f\"],[0.2222222222222222,\"#7201a8\"],[0.3333333333333333,\"#9c179e\"],[0.4444444444444444,\"#bd3786\"],[0.5555555555555556,\"#d8576b\"],[0.6666666666666666,\"#ed7953\"],[0.7777777777777778,\"#fb9f3a\"],[0.8888888888888888,\"#fdca26\"],[1.0,\"#f0f921\"]]}],\"contourcarpet\":[{\"type\":\"contourcarpet\",\"colorbar\":{\"outlinewidth\":0,\"ticks\":\"\"}}],\"contour\":[{\"type\":\"contour\",\"colorbar\":{\"outlinewidth\":0,\"ticks\":\"\"},\"colorscale\":[[0.0,\"#0d0887\"],[0.1111111111111111,\"#46039f\"],[0.2222222222222222,\"#7201a8\"],[0.3333333333333333,\"#9c179e\"],[0.4444444444444444,\"#bd3786\"],[0.5555555555555556,\"#d8576b\"],[0.6666666666666666,\"#ed7953\"],[0.7777777777777778,\"#fb9f3a\"],[0.8888888888888888,\"#fdca26\"],[1.0,\"#f0f921\"]]}],\"surface\":[{\"type\":\"surface\",\"colorbar\":{\"outlinewidth\":0,\"ticks\":\"\"},\"colorscale\":[[0.0,\"#0d0887\"],[0.1111111111111111,\"#46039f\"],[0.2222222222222222,\"#7201a8\"],[0.3333333333333333,\"#9c179e\"],[0.4444444444444444,\"#bd3786\"],[0.5555555555555556,\"#d8576b\"],[0.6666666666666666,\"#ed7953\"],[0.7777777777777778,\"#fb9f3a\"],[0.8888888888888888,\"#fdca26\"],[1.0,\"#f0f921\"]]}],\"mesh3d\":[{\"type\":\"mesh3d\",\"colorbar\":{\"outlinewidth\":0,\"ticks\":\"\"}}],\"scatter\":[{\"fillpattern\":{\"fillmode\":\"overlay\",\"size\":10,\"solidity\":0.2},\"type\":\"scatter\"}],\"parcoords\":[{\"type\":\"parcoords\",\"line\":{\"colorbar\":{\"outlinewidth\":0,\"ticks\":\"\"}}}],\"scatterpolargl\":[{\"type\":\"scatterpolargl\",\"marker\":{\"colorbar\":{\"outlinewidth\":0,\"ticks\":\"\"}}}],\"bar\":[{\"error_x\":{\"color\":\"#2a3f5f\"},\"error_y\":{\"color\":\"#2a3f5f\"},\"marker\":{\"line\":{\"color\":\"#E5ECF6\",\"width\":0.5},\"pattern\":{\"fillmode\":\"overlay\",\"size\":10,\"solidity\":0.2}},\"type\":\"bar\"}],\"scattergeo\":[{\"type\":\"scattergeo\",\"marker\":{\"colorbar\":{\"outlinewidth\":0,\"ticks\":\"\"}}}],\"scatterpolar\":[{\"type\":\"scatterpolar\",\"marker\":{\"colorbar\":{\"outlinewidth\":0,\"ticks\":\"\"}}}],\"histogram\":[{\"marker\":{\"pattern\":{\"fillmode\":\"overlay\",\"size\":10,\"solidity\":0.2}},\"type\":\"histogram\"}],\"scattergl\":[{\"type\":\"scattergl\",\"marker\":{\"colorbar\":{\"outlinewidth\":0,\"ticks\":\"\"}}}],\"scatter3d\":[{\"type\":\"scatter3d\",\"line\":{\"colorbar\":{\"outlinewidth\":0,\"ticks\":\"\"}},\"marker\":{\"colorbar\":{\"outlinewidth\":0,\"ticks\":\"\"}}}],\"scattermapbox\":[{\"type\":\"scattermapbox\",\"marker\":{\"colorbar\":{\"outlinewidth\":0,\"ticks\":\"\"}}}],\"scatterternary\":[{\"type\":\"scatterternary\",\"marker\":{\"colorbar\":{\"outlinewidth\":0,\"ticks\":\"\"}}}],\"scattercarpet\":[{\"type\":\"scattercarpet\",\"marker\":{\"colorbar\":{\"outlinewidth\":0,\"ticks\":\"\"}}}],\"carpet\":[{\"aaxis\":{\"endlinecolor\":\"#2a3f5f\",\"gridcolor\":\"white\",\"linecolor\":\"white\",\"minorgridcolor\":\"white\",\"startlinecolor\":\"#2a3f5f\"},\"baxis\":{\"endlinecolor\":\"#2a3f5f\",\"gridcolor\":\"white\",\"linecolor\":\"white\",\"minorgridcolor\":\"white\",\"startlinecolor\":\"#2a3f5f\"},\"type\":\"carpet\"}],\"table\":[{\"cells\":{\"fill\":{\"color\":\"#EBF0F8\"},\"line\":{\"color\":\"white\"}},\"header\":{\"fill\":{\"color\":\"#C8D4E3\"},\"line\":{\"color\":\"white\"}},\"type\":\"table\"}],\"barpolar\":[{\"marker\":{\"line\":{\"color\":\"#E5ECF6\",\"width\":0.5},\"pattern\":{\"fillmode\":\"overlay\",\"size\":10,\"solidity\":0.2}},\"type\":\"barpolar\"}],\"pie\":[{\"automargin\":true,\"type\":\"pie\"}]},\"layout\":{\"autotypenumbers\":\"strict\",\"colorway\":[\"#636efa\",\"#EF553B\",\"#00cc96\",\"#ab63fa\",\"#FFA15A\",\"#19d3f3\",\"#FF6692\",\"#B6E880\",\"#FF97FF\",\"#FECB52\"],\"font\":{\"color\":\"#2a3f5f\"},\"hovermode\":\"closest\",\"hoverlabel\":{\"align\":\"left\"},\"paper_bgcolor\":\"white\",\"plot_bgcolor\":\"#E5ECF6\",\"polar\":{\"bgcolor\":\"#E5ECF6\",\"angularaxis\":{\"gridcolor\":\"white\",\"linecolor\":\"white\",\"ticks\":\"\"},\"radialaxis\":{\"gridcolor\":\"white\",\"linecolor\":\"white\",\"ticks\":\"\"}},\"ternary\":{\"bgcolor\":\"#E5ECF6\",\"aaxis\":{\"gridcolor\":\"white\",\"linecolor\":\"white\",\"ticks\":\"\"},\"baxis\":{\"gridcolor\":\"white\",\"linecolor\":\"white\",\"ticks\":\"\"},\"caxis\":{\"gridcolor\":\"white\",\"linecolor\":\"white\",\"ticks\":\"\"}},\"coloraxis\":{\"colorbar\":{\"outlinewidth\":0,\"ticks\":\"\"}},\"colorscale\":{\"sequential\":[[0.0,\"#0d0887\"],[0.1111111111111111,\"#46039f\"],[0.2222222222222222,\"#7201a8\"],[0.3333333333333333,\"#9c179e\"],[0.4444444444444444,\"#bd3786\"],[0.5555555555555556,\"#d8576b\"],[0.6666666666666666,\"#ed7953\"],[0.7777777777777778,\"#fb9f3a\"],[0.8888888888888888,\"#fdca26\"],[1.0,\"#f0f921\"]],\"sequentialminus\":[[0.0,\"#0d0887\"],[0.1111111111111111,\"#46039f\"],[0.2222222222222222,\"#7201a8\"],[0.3333333333333333,\"#9c179e\"],[0.4444444444444444,\"#bd3786\"],[0.5555555555555556,\"#d8576b\"],[0.6666666666666666,\"#ed7953\"],[0.7777777777777778,\"#fb9f3a\"],[0.8888888888888888,\"#fdca26\"],[1.0,\"#f0f921\"]],\"diverging\":[[0,\"#8e0152\"],[0.1,\"#c51b7d\"],[0.2,\"#de77ae\"],[0.3,\"#f1b6da\"],[0.4,\"#fde0ef\"],[0.5,\"#f7f7f7\"],[0.6,\"#e6f5d0\"],[0.7,\"#b8e186\"],[0.8,\"#7fbc41\"],[0.9,\"#4d9221\"],[1,\"#276419\"]]},\"xaxis\":{\"gridcolor\":\"white\",\"linecolor\":\"white\",\"ticks\":\"\",\"title\":{\"standoff\":15},\"zerolinecolor\":\"white\",\"automargin\":true,\"zerolinewidth\":2},\"yaxis\":{\"gridcolor\":\"white\",\"linecolor\":\"white\",\"ticks\":\"\",\"title\":{\"standoff\":15},\"zerolinecolor\":\"white\",\"automargin\":true,\"zerolinewidth\":2},\"scene\":{\"xaxis\":{\"backgroundcolor\":\"#E5ECF6\",\"gridcolor\":\"white\",\"linecolor\":\"white\",\"showbackground\":true,\"ticks\":\"\",\"zerolinecolor\":\"white\",\"gridwidth\":2},\"yaxis\":{\"backgroundcolor\":\"#E5ECF6\",\"gridcolor\":\"white\",\"linecolor\":\"white\",\"showbackground\":true,\"ticks\":\"\",\"zerolinecolor\":\"white\",\"gridwidth\":2},\"zaxis\":{\"backgroundcolor\":\"#E5ECF6\",\"gridcolor\":\"white\",\"linecolor\":\"white\",\"showbackground\":true,\"ticks\":\"\",\"zerolinecolor\":\"white\",\"gridwidth\":2}},\"shapedefaults\":{\"line\":{\"color\":\"#2a3f5f\"}},\"annotationdefaults\":{\"arrowcolor\":\"#2a3f5f\",\"arrowhead\":0,\"arrowwidth\":1},\"geo\":{\"bgcolor\":\"white\",\"landcolor\":\"#E5ECF6\",\"subunitcolor\":\"white\",\"showland\":true,\"showlakes\":true,\"lakecolor\":\"white\"},\"title\":{\"x\":0.05},\"mapbox\":{\"style\":\"light\"}}},\"legend\":{\"tracegroupgap\":0},\"title\":{\"text\":\"Purchase Amount by Gender and Promo Code Used\"}},                        {\"responsive\": true}                    ).then(function(){\n",
              "                            \n",
              "var gd = document.getElementById('a4d0c52a-56d5-43f0-806c-1e9769dbaf57');\n",
              "var x = new MutationObserver(function (mutations, observer) {{\n",
              "        var display = window.getComputedStyle(gd).display;\n",
              "        if (!display || display === 'none') {{\n",
              "            console.log([gd, 'removed!']);\n",
              "            Plotly.purge(gd);\n",
              "            observer.disconnect();\n",
              "        }}\n",
              "}});\n",
              "\n",
              "// Listen for the removal of the full notebook cells\n",
              "var notebookContainer = gd.closest('#notebook-container');\n",
              "if (notebookContainer) {{\n",
              "    x.observe(notebookContainer, {childList: true});\n",
              "}}\n",
              "\n",
              "// Listen for the clearing of the current output cell\n",
              "var outputEl = gd.closest('.output');\n",
              "if (outputEl) {{\n",
              "    x.observe(outputEl, {childList: true});\n",
              "}}\n",
              "\n",
              "                        })                };                            </script>        </div>\n",
              "</body>\n",
              "</html>"
            ]
          },
          "metadata": {}
        }
      ]
    },
    {
      "cell_type": "code",
      "source": [
        "# Create a bar chart\n",
        "fig = px.bar(shop_groupby, x='Promo Code Used', y='Purchase Amount (USD)',\n",
        "             title='Total Purchase Amount by Promo Code Used')\n",
        "\n",
        "# Show the chart\n",
        "fig.show()"
      ],
      "metadata": {
        "colab": {
          "base_uri": "https://localhost:8080/",
          "height": 542
        },
        "id": "9NmxMZBuveDm",
        "outputId": "bc821455-8b3c-4ea2-8043-169a8bebd3c6"
      },
      "execution_count": null,
      "outputs": [
        {
          "output_type": "display_data",
          "data": {
            "text/html": [
              "<html>\n",
              "<head><meta charset=\"utf-8\" /></head>\n",
              "<body>\n",
              "    <div>            <script src=\"https://cdnjs.cloudflare.com/ajax/libs/mathjax/2.7.5/MathJax.js?config=TeX-AMS-MML_SVG\"></script><script type=\"text/javascript\">if (window.MathJax && window.MathJax.Hub && window.MathJax.Hub.Config) {window.MathJax.Hub.Config({SVG: {font: \"STIX-Web\"}});}</script>                <script type=\"text/javascript\">window.PlotlyConfig = {MathJaxConfig: 'local'};</script>\n",
              "        <script charset=\"utf-8\" src=\"https://cdn.plot.ly/plotly-2.35.2.min.js\"></script>                <div id=\"cbea9af0-f50a-4bba-ae8a-6dceb73a9881\" class=\"plotly-graph-div\" style=\"height:525px; width:100%;\"></div>            <script type=\"text/javascript\">                                    window.PLOTLYENV=window.PLOTLYENV || {};                                    if (document.getElementById(\"cbea9af0-f50a-4bba-ae8a-6dceb73a9881\")) {                    Plotly.newPlot(                        \"cbea9af0-f50a-4bba-ae8a-6dceb73a9881\",                        [{\"alignmentgroup\":\"True\",\"hovertemplate\":\"Promo Code Used=%{x}\\u003cbr\\u003ePurchase Amount (USD)=%{y}\\u003cextra\\u003e\\u003c\\u002fextra\\u003e\",\"legendgroup\":\"\",\"marker\":{\"color\":\"#636efa\",\"pattern\":{\"shape\":\"\"}},\"name\":\"\",\"offsetgroup\":\"\",\"orientation\":\"v\",\"showlegend\":false,\"textposition\":\"auto\",\"x\":[\"No\",\"Yes\"],\"xaxis\":\"x\",\"y\":[133670,99411],\"yaxis\":\"y\",\"type\":\"bar\"}],                        {\"template\":{\"data\":{\"histogram2dcontour\":[{\"type\":\"histogram2dcontour\",\"colorbar\":{\"outlinewidth\":0,\"ticks\":\"\"},\"colorscale\":[[0.0,\"#0d0887\"],[0.1111111111111111,\"#46039f\"],[0.2222222222222222,\"#7201a8\"],[0.3333333333333333,\"#9c179e\"],[0.4444444444444444,\"#bd3786\"],[0.5555555555555556,\"#d8576b\"],[0.6666666666666666,\"#ed7953\"],[0.7777777777777778,\"#fb9f3a\"],[0.8888888888888888,\"#fdca26\"],[1.0,\"#f0f921\"]]}],\"choropleth\":[{\"type\":\"choropleth\",\"colorbar\":{\"outlinewidth\":0,\"ticks\":\"\"}}],\"histogram2d\":[{\"type\":\"histogram2d\",\"colorbar\":{\"outlinewidth\":0,\"ticks\":\"\"},\"colorscale\":[[0.0,\"#0d0887\"],[0.1111111111111111,\"#46039f\"],[0.2222222222222222,\"#7201a8\"],[0.3333333333333333,\"#9c179e\"],[0.4444444444444444,\"#bd3786\"],[0.5555555555555556,\"#d8576b\"],[0.6666666666666666,\"#ed7953\"],[0.7777777777777778,\"#fb9f3a\"],[0.8888888888888888,\"#fdca26\"],[1.0,\"#f0f921\"]]}],\"heatmap\":[{\"type\":\"heatmap\",\"colorbar\":{\"outlinewidth\":0,\"ticks\":\"\"},\"colorscale\":[[0.0,\"#0d0887\"],[0.1111111111111111,\"#46039f\"],[0.2222222222222222,\"#7201a8\"],[0.3333333333333333,\"#9c179e\"],[0.4444444444444444,\"#bd3786\"],[0.5555555555555556,\"#d8576b\"],[0.6666666666666666,\"#ed7953\"],[0.7777777777777778,\"#fb9f3a\"],[0.8888888888888888,\"#fdca26\"],[1.0,\"#f0f921\"]]}],\"heatmapgl\":[{\"type\":\"heatmapgl\",\"colorbar\":{\"outlinewidth\":0,\"ticks\":\"\"},\"colorscale\":[[0.0,\"#0d0887\"],[0.1111111111111111,\"#46039f\"],[0.2222222222222222,\"#7201a8\"],[0.3333333333333333,\"#9c179e\"],[0.4444444444444444,\"#bd3786\"],[0.5555555555555556,\"#d8576b\"],[0.6666666666666666,\"#ed7953\"],[0.7777777777777778,\"#fb9f3a\"],[0.8888888888888888,\"#fdca26\"],[1.0,\"#f0f921\"]]}],\"contourcarpet\":[{\"type\":\"contourcarpet\",\"colorbar\":{\"outlinewidth\":0,\"ticks\":\"\"}}],\"contour\":[{\"type\":\"contour\",\"colorbar\":{\"outlinewidth\":0,\"ticks\":\"\"},\"colorscale\":[[0.0,\"#0d0887\"],[0.1111111111111111,\"#46039f\"],[0.2222222222222222,\"#7201a8\"],[0.3333333333333333,\"#9c179e\"],[0.4444444444444444,\"#bd3786\"],[0.5555555555555556,\"#d8576b\"],[0.6666666666666666,\"#ed7953\"],[0.7777777777777778,\"#fb9f3a\"],[0.8888888888888888,\"#fdca26\"],[1.0,\"#f0f921\"]]}],\"surface\":[{\"type\":\"surface\",\"colorbar\":{\"outlinewidth\":0,\"ticks\":\"\"},\"colorscale\":[[0.0,\"#0d0887\"],[0.1111111111111111,\"#46039f\"],[0.2222222222222222,\"#7201a8\"],[0.3333333333333333,\"#9c179e\"],[0.4444444444444444,\"#bd3786\"],[0.5555555555555556,\"#d8576b\"],[0.6666666666666666,\"#ed7953\"],[0.7777777777777778,\"#fb9f3a\"],[0.8888888888888888,\"#fdca26\"],[1.0,\"#f0f921\"]]}],\"mesh3d\":[{\"type\":\"mesh3d\",\"colorbar\":{\"outlinewidth\":0,\"ticks\":\"\"}}],\"scatter\":[{\"fillpattern\":{\"fillmode\":\"overlay\",\"size\":10,\"solidity\":0.2},\"type\":\"scatter\"}],\"parcoords\":[{\"type\":\"parcoords\",\"line\":{\"colorbar\":{\"outlinewidth\":0,\"ticks\":\"\"}}}],\"scatterpolargl\":[{\"type\":\"scatterpolargl\",\"marker\":{\"colorbar\":{\"outlinewidth\":0,\"ticks\":\"\"}}}],\"bar\":[{\"error_x\":{\"color\":\"#2a3f5f\"},\"error_y\":{\"color\":\"#2a3f5f\"},\"marker\":{\"line\":{\"color\":\"#E5ECF6\",\"width\":0.5},\"pattern\":{\"fillmode\":\"overlay\",\"size\":10,\"solidity\":0.2}},\"type\":\"bar\"}],\"scattergeo\":[{\"type\":\"scattergeo\",\"marker\":{\"colorbar\":{\"outlinewidth\":0,\"ticks\":\"\"}}}],\"scatterpolar\":[{\"type\":\"scatterpolar\",\"marker\":{\"colorbar\":{\"outlinewidth\":0,\"ticks\":\"\"}}}],\"histogram\":[{\"marker\":{\"pattern\":{\"fillmode\":\"overlay\",\"size\":10,\"solidity\":0.2}},\"type\":\"histogram\"}],\"scattergl\":[{\"type\":\"scattergl\",\"marker\":{\"colorbar\":{\"outlinewidth\":0,\"ticks\":\"\"}}}],\"scatter3d\":[{\"type\":\"scatter3d\",\"line\":{\"colorbar\":{\"outlinewidth\":0,\"ticks\":\"\"}},\"marker\":{\"colorbar\":{\"outlinewidth\":0,\"ticks\":\"\"}}}],\"scattermapbox\":[{\"type\":\"scattermapbox\",\"marker\":{\"colorbar\":{\"outlinewidth\":0,\"ticks\":\"\"}}}],\"scatterternary\":[{\"type\":\"scatterternary\",\"marker\":{\"colorbar\":{\"outlinewidth\":0,\"ticks\":\"\"}}}],\"scattercarpet\":[{\"type\":\"scattercarpet\",\"marker\":{\"colorbar\":{\"outlinewidth\":0,\"ticks\":\"\"}}}],\"carpet\":[{\"aaxis\":{\"endlinecolor\":\"#2a3f5f\",\"gridcolor\":\"white\",\"linecolor\":\"white\",\"minorgridcolor\":\"white\",\"startlinecolor\":\"#2a3f5f\"},\"baxis\":{\"endlinecolor\":\"#2a3f5f\",\"gridcolor\":\"white\",\"linecolor\":\"white\",\"minorgridcolor\":\"white\",\"startlinecolor\":\"#2a3f5f\"},\"type\":\"carpet\"}],\"table\":[{\"cells\":{\"fill\":{\"color\":\"#EBF0F8\"},\"line\":{\"color\":\"white\"}},\"header\":{\"fill\":{\"color\":\"#C8D4E3\"},\"line\":{\"color\":\"white\"}},\"type\":\"table\"}],\"barpolar\":[{\"marker\":{\"line\":{\"color\":\"#E5ECF6\",\"width\":0.5},\"pattern\":{\"fillmode\":\"overlay\",\"size\":10,\"solidity\":0.2}},\"type\":\"barpolar\"}],\"pie\":[{\"automargin\":true,\"type\":\"pie\"}]},\"layout\":{\"autotypenumbers\":\"strict\",\"colorway\":[\"#636efa\",\"#EF553B\",\"#00cc96\",\"#ab63fa\",\"#FFA15A\",\"#19d3f3\",\"#FF6692\",\"#B6E880\",\"#FF97FF\",\"#FECB52\"],\"font\":{\"color\":\"#2a3f5f\"},\"hovermode\":\"closest\",\"hoverlabel\":{\"align\":\"left\"},\"paper_bgcolor\":\"white\",\"plot_bgcolor\":\"#E5ECF6\",\"polar\":{\"bgcolor\":\"#E5ECF6\",\"angularaxis\":{\"gridcolor\":\"white\",\"linecolor\":\"white\",\"ticks\":\"\"},\"radialaxis\":{\"gridcolor\":\"white\",\"linecolor\":\"white\",\"ticks\":\"\"}},\"ternary\":{\"bgcolor\":\"#E5ECF6\",\"aaxis\":{\"gridcolor\":\"white\",\"linecolor\":\"white\",\"ticks\":\"\"},\"baxis\":{\"gridcolor\":\"white\",\"linecolor\":\"white\",\"ticks\":\"\"},\"caxis\":{\"gridcolor\":\"white\",\"linecolor\":\"white\",\"ticks\":\"\"}},\"coloraxis\":{\"colorbar\":{\"outlinewidth\":0,\"ticks\":\"\"}},\"colorscale\":{\"sequential\":[[0.0,\"#0d0887\"],[0.1111111111111111,\"#46039f\"],[0.2222222222222222,\"#7201a8\"],[0.3333333333333333,\"#9c179e\"],[0.4444444444444444,\"#bd3786\"],[0.5555555555555556,\"#d8576b\"],[0.6666666666666666,\"#ed7953\"],[0.7777777777777778,\"#fb9f3a\"],[0.8888888888888888,\"#fdca26\"],[1.0,\"#f0f921\"]],\"sequentialminus\":[[0.0,\"#0d0887\"],[0.1111111111111111,\"#46039f\"],[0.2222222222222222,\"#7201a8\"],[0.3333333333333333,\"#9c179e\"],[0.4444444444444444,\"#bd3786\"],[0.5555555555555556,\"#d8576b\"],[0.6666666666666666,\"#ed7953\"],[0.7777777777777778,\"#fb9f3a\"],[0.8888888888888888,\"#fdca26\"],[1.0,\"#f0f921\"]],\"diverging\":[[0,\"#8e0152\"],[0.1,\"#c51b7d\"],[0.2,\"#de77ae\"],[0.3,\"#f1b6da\"],[0.4,\"#fde0ef\"],[0.5,\"#f7f7f7\"],[0.6,\"#e6f5d0\"],[0.7,\"#b8e186\"],[0.8,\"#7fbc41\"],[0.9,\"#4d9221\"],[1,\"#276419\"]]},\"xaxis\":{\"gridcolor\":\"white\",\"linecolor\":\"white\",\"ticks\":\"\",\"title\":{\"standoff\":15},\"zerolinecolor\":\"white\",\"automargin\":true,\"zerolinewidth\":2},\"yaxis\":{\"gridcolor\":\"white\",\"linecolor\":\"white\",\"ticks\":\"\",\"title\":{\"standoff\":15},\"zerolinecolor\":\"white\",\"automargin\":true,\"zerolinewidth\":2},\"scene\":{\"xaxis\":{\"backgroundcolor\":\"#E5ECF6\",\"gridcolor\":\"white\",\"linecolor\":\"white\",\"showbackground\":true,\"ticks\":\"\",\"zerolinecolor\":\"white\",\"gridwidth\":2},\"yaxis\":{\"backgroundcolor\":\"#E5ECF6\",\"gridcolor\":\"white\",\"linecolor\":\"white\",\"showbackground\":true,\"ticks\":\"\",\"zerolinecolor\":\"white\",\"gridwidth\":2},\"zaxis\":{\"backgroundcolor\":\"#E5ECF6\",\"gridcolor\":\"white\",\"linecolor\":\"white\",\"showbackground\":true,\"ticks\":\"\",\"zerolinecolor\":\"white\",\"gridwidth\":2}},\"shapedefaults\":{\"line\":{\"color\":\"#2a3f5f\"}},\"annotationdefaults\":{\"arrowcolor\":\"#2a3f5f\",\"arrowhead\":0,\"arrowwidth\":1},\"geo\":{\"bgcolor\":\"white\",\"landcolor\":\"#E5ECF6\",\"subunitcolor\":\"white\",\"showland\":true,\"showlakes\":true,\"lakecolor\":\"white\"},\"title\":{\"x\":0.05},\"mapbox\":{\"style\":\"light\"}}},\"xaxis\":{\"anchor\":\"y\",\"domain\":[0.0,1.0],\"title\":{\"text\":\"Promo Code Used\"}},\"yaxis\":{\"anchor\":\"x\",\"domain\":[0.0,1.0],\"title\":{\"text\":\"Purchase Amount (USD)\"}},\"legend\":{\"tracegroupgap\":0},\"title\":{\"text\":\"Total Purchase Amount by Promo Code Used\"},\"barmode\":\"relative\"},                        {\"responsive\": true}                    ).then(function(){\n",
              "                            \n",
              "var gd = document.getElementById('cbea9af0-f50a-4bba-ae8a-6dceb73a9881');\n",
              "var x = new MutationObserver(function (mutations, observer) {{\n",
              "        var display = window.getComputedStyle(gd).display;\n",
              "        if (!display || display === 'none') {{\n",
              "            console.log([gd, 'removed!']);\n",
              "            Plotly.purge(gd);\n",
              "            observer.disconnect();\n",
              "        }}\n",
              "}});\n",
              "\n",
              "// Listen for the removal of the full notebook cells\n",
              "var notebookContainer = gd.closest('#notebook-container');\n",
              "if (notebookContainer) {{\n",
              "    x.observe(notebookContainer, {childList: true});\n",
              "}}\n",
              "\n",
              "// Listen for the clearing of the current output cell\n",
              "var outputEl = gd.closest('.output');\n",
              "if (outputEl) {{\n",
              "    x.observe(outputEl, {childList: true});\n",
              "}}\n",
              "\n",
              "                        })                };                            </script>        </div>\n",
              "</body>\n",
              "</html>"
            ]
          },
          "metadata": {}
        }
      ]
    },
    {
      "cell_type": "markdown",
      "source": [
        "10.\tHow does the frequency of purchases vary across different age groups?"
      ],
      "metadata": {
        "id": "z14UHVwewbK4"
      }
    },
    {
      "cell_type": "code",
      "source": [
        "shop.columns"
      ],
      "metadata": {
        "colab": {
          "base_uri": "https://localhost:8080/"
        },
        "id": "T1IcEvUuwk_v",
        "outputId": "6b4e5006-53d0-479c-d10e-f3a489e28e0c"
      },
      "execution_count": null,
      "outputs": [
        {
          "output_type": "execute_result",
          "data": {
            "text/plain": [
              "Index(['Customer ID', 'Age', 'Gender', 'Item Purchased', 'Category',\n",
              "       'Purchase Amount (USD)', 'Location', 'Size', 'Color', 'Season',\n",
              "       'Review Rating', 'Subscription Status', 'Shipping Type',\n",
              "       'Discount Applied', 'Promo Code Used', 'Previous Purchases',\n",
              "       'Payment Method', 'Frequency of Purchases'],\n",
              "      dtype='object')"
            ]
          },
          "metadata": {},
          "execution_count": 35
        }
      ]
    },
    {
      "cell_type": "code",
      "source": [
        "# Create 'Age_category' based on 'Age'\n",
        "shop['Age_category'] = pd.cut(shop['Age'], bins=[0, 18, 35, 50, 100], labels=['0-18', '19-35', '36-50', '50+'])\n",
        "\n",
        "# Now you can select the 'Age' and 'Age_category' columns\n",
        "print(shop[['Age', 'Age_category']])\n"
      ],
      "metadata": {
        "colab": {
          "base_uri": "https://localhost:8080/"
        },
        "id": "LpY5WHFoxMxr",
        "outputId": "853d2073-ce42-4737-c056-250698efa5e6"
      },
      "execution_count": null,
      "outputs": [
        {
          "output_type": "stream",
          "name": "stdout",
          "text": [
            "      Age Age_category\n",
            "0      55          50+\n",
            "1      19        19-35\n",
            "2      50        36-50\n",
            "3      21        19-35\n",
            "4      45        36-50\n",
            "...   ...          ...\n",
            "3895   40        36-50\n",
            "3896   52          50+\n",
            "3897   46        36-50\n",
            "3898   44        36-50\n",
            "3899   52          50+\n",
            "\n",
            "[3900 rows x 2 columns]\n"
          ]
        }
      ]
    },
    {
      "cell_type": "code",
      "source": [
        "shop[['Age', 'Age_category']]\n"
      ],
      "metadata": {
        "colab": {
          "base_uri": "https://localhost:8080/",
          "height": 423
        },
        "id": "BatCgvvCvd-r",
        "outputId": "86038d7e-4003-47bd-efb4-a3d59173ffa2"
      },
      "execution_count": null,
      "outputs": [
        {
          "output_type": "execute_result",
          "data": {
            "text/plain": [
              "      Age Age_category\n",
              "0      55          50+\n",
              "1      19        19-35\n",
              "2      50        36-50\n",
              "3      21        19-35\n",
              "4      45        36-50\n",
              "...   ...          ...\n",
              "3895   40        36-50\n",
              "3896   52          50+\n",
              "3897   46        36-50\n",
              "3898   44        36-50\n",
              "3899   52          50+\n",
              "\n",
              "[3900 rows x 2 columns]"
            ],
            "text/html": [
              "\n",
              "  <div id=\"df-b6494609-f8e1-47c8-9edd-e49948c046ca\" class=\"colab-df-container\">\n",
              "    <div>\n",
              "<style scoped>\n",
              "    .dataframe tbody tr th:only-of-type {\n",
              "        vertical-align: middle;\n",
              "    }\n",
              "\n",
              "    .dataframe tbody tr th {\n",
              "        vertical-align: top;\n",
              "    }\n",
              "\n",
              "    .dataframe thead th {\n",
              "        text-align: right;\n",
              "    }\n",
              "</style>\n",
              "<table border=\"1\" class=\"dataframe\">\n",
              "  <thead>\n",
              "    <tr style=\"text-align: right;\">\n",
              "      <th></th>\n",
              "      <th>Age</th>\n",
              "      <th>Age_category</th>\n",
              "    </tr>\n",
              "  </thead>\n",
              "  <tbody>\n",
              "    <tr>\n",
              "      <th>0</th>\n",
              "      <td>55</td>\n",
              "      <td>50+</td>\n",
              "    </tr>\n",
              "    <tr>\n",
              "      <th>1</th>\n",
              "      <td>19</td>\n",
              "      <td>19-35</td>\n",
              "    </tr>\n",
              "    <tr>\n",
              "      <th>2</th>\n",
              "      <td>50</td>\n",
              "      <td>36-50</td>\n",
              "    </tr>\n",
              "    <tr>\n",
              "      <th>3</th>\n",
              "      <td>21</td>\n",
              "      <td>19-35</td>\n",
              "    </tr>\n",
              "    <tr>\n",
              "      <th>4</th>\n",
              "      <td>45</td>\n",
              "      <td>36-50</td>\n",
              "    </tr>\n",
              "    <tr>\n",
              "      <th>...</th>\n",
              "      <td>...</td>\n",
              "      <td>...</td>\n",
              "    </tr>\n",
              "    <tr>\n",
              "      <th>3895</th>\n",
              "      <td>40</td>\n",
              "      <td>36-50</td>\n",
              "    </tr>\n",
              "    <tr>\n",
              "      <th>3896</th>\n",
              "      <td>52</td>\n",
              "      <td>50+</td>\n",
              "    </tr>\n",
              "    <tr>\n",
              "      <th>3897</th>\n",
              "      <td>46</td>\n",
              "      <td>36-50</td>\n",
              "    </tr>\n",
              "    <tr>\n",
              "      <th>3898</th>\n",
              "      <td>44</td>\n",
              "      <td>36-50</td>\n",
              "    </tr>\n",
              "    <tr>\n",
              "      <th>3899</th>\n",
              "      <td>52</td>\n",
              "      <td>50+</td>\n",
              "    </tr>\n",
              "  </tbody>\n",
              "</table>\n",
              "<p>3900 rows × 2 columns</p>\n",
              "</div>\n",
              "    <div class=\"colab-df-buttons\">\n",
              "\n",
              "  <div class=\"colab-df-container\">\n",
              "    <button class=\"colab-df-convert\" onclick=\"convertToInteractive('df-b6494609-f8e1-47c8-9edd-e49948c046ca')\"\n",
              "            title=\"Convert this dataframe to an interactive table.\"\n",
              "            style=\"display:none;\">\n",
              "\n",
              "  <svg xmlns=\"http://www.w3.org/2000/svg\" height=\"24px\" viewBox=\"0 -960 960 960\">\n",
              "    <path d=\"M120-120v-720h720v720H120Zm60-500h600v-160H180v160Zm220 220h160v-160H400v160Zm0 220h160v-160H400v160ZM180-400h160v-160H180v160Zm440 0h160v-160H620v160ZM180-180h160v-160H180v160Zm440 0h160v-160H620v160Z\"/>\n",
              "  </svg>\n",
              "    </button>\n",
              "\n",
              "  <style>\n",
              "    .colab-df-container {\n",
              "      display:flex;\n",
              "      gap: 12px;\n",
              "    }\n",
              "\n",
              "    .colab-df-convert {\n",
              "      background-color: #E8F0FE;\n",
              "      border: none;\n",
              "      border-radius: 50%;\n",
              "      cursor: pointer;\n",
              "      display: none;\n",
              "      fill: #1967D2;\n",
              "      height: 32px;\n",
              "      padding: 0 0 0 0;\n",
              "      width: 32px;\n",
              "    }\n",
              "\n",
              "    .colab-df-convert:hover {\n",
              "      background-color: #E2EBFA;\n",
              "      box-shadow: 0px 1px 2px rgba(60, 64, 67, 0.3), 0px 1px 3px 1px rgba(60, 64, 67, 0.15);\n",
              "      fill: #174EA6;\n",
              "    }\n",
              "\n",
              "    .colab-df-buttons div {\n",
              "      margin-bottom: 4px;\n",
              "    }\n",
              "\n",
              "    [theme=dark] .colab-df-convert {\n",
              "      background-color: #3B4455;\n",
              "      fill: #D2E3FC;\n",
              "    }\n",
              "\n",
              "    [theme=dark] .colab-df-convert:hover {\n",
              "      background-color: #434B5C;\n",
              "      box-shadow: 0px 1px 3px 1px rgba(0, 0, 0, 0.15);\n",
              "      filter: drop-shadow(0px 1px 2px rgba(0, 0, 0, 0.3));\n",
              "      fill: #FFFFFF;\n",
              "    }\n",
              "  </style>\n",
              "\n",
              "    <script>\n",
              "      const buttonEl =\n",
              "        document.querySelector('#df-b6494609-f8e1-47c8-9edd-e49948c046ca button.colab-df-convert');\n",
              "      buttonEl.style.display =\n",
              "        google.colab.kernel.accessAllowed ? 'block' : 'none';\n",
              "\n",
              "      async function convertToInteractive(key) {\n",
              "        const element = document.querySelector('#df-b6494609-f8e1-47c8-9edd-e49948c046ca');\n",
              "        const dataTable =\n",
              "          await google.colab.kernel.invokeFunction('convertToInteractive',\n",
              "                                                    [key], {});\n",
              "        if (!dataTable) return;\n",
              "\n",
              "        const docLinkHtml = 'Like what you see? Visit the ' +\n",
              "          '<a target=\"_blank\" href=https://colab.research.google.com/notebooks/data_table.ipynb>data table notebook</a>'\n",
              "          + ' to learn more about interactive tables.';\n",
              "        element.innerHTML = '';\n",
              "        dataTable['output_type'] = 'display_data';\n",
              "        await google.colab.output.renderOutput(dataTable, element);\n",
              "        const docLink = document.createElement('div');\n",
              "        docLink.innerHTML = docLinkHtml;\n",
              "        element.appendChild(docLink);\n",
              "      }\n",
              "    </script>\n",
              "  </div>\n",
              "\n",
              "\n",
              "<div id=\"df-e0765863-fb4b-4e6b-a139-adc36ec86095\">\n",
              "  <button class=\"colab-df-quickchart\" onclick=\"quickchart('df-e0765863-fb4b-4e6b-a139-adc36ec86095')\"\n",
              "            title=\"Suggest charts\"\n",
              "            style=\"display:none;\">\n",
              "\n",
              "<svg xmlns=\"http://www.w3.org/2000/svg\" height=\"24px\"viewBox=\"0 0 24 24\"\n",
              "     width=\"24px\">\n",
              "    <g>\n",
              "        <path d=\"M19 3H5c-1.1 0-2 .9-2 2v14c0 1.1.9 2 2 2h14c1.1 0 2-.9 2-2V5c0-1.1-.9-2-2-2zM9 17H7v-7h2v7zm4 0h-2V7h2v10zm4 0h-2v-4h2v4z\"/>\n",
              "    </g>\n",
              "</svg>\n",
              "  </button>\n",
              "\n",
              "<style>\n",
              "  .colab-df-quickchart {\n",
              "      --bg-color: #E8F0FE;\n",
              "      --fill-color: #1967D2;\n",
              "      --hover-bg-color: #E2EBFA;\n",
              "      --hover-fill-color: #174EA6;\n",
              "      --disabled-fill-color: #AAA;\n",
              "      --disabled-bg-color: #DDD;\n",
              "  }\n",
              "\n",
              "  [theme=dark] .colab-df-quickchart {\n",
              "      --bg-color: #3B4455;\n",
              "      --fill-color: #D2E3FC;\n",
              "      --hover-bg-color: #434B5C;\n",
              "      --hover-fill-color: #FFFFFF;\n",
              "      --disabled-bg-color: #3B4455;\n",
              "      --disabled-fill-color: #666;\n",
              "  }\n",
              "\n",
              "  .colab-df-quickchart {\n",
              "    background-color: var(--bg-color);\n",
              "    border: none;\n",
              "    border-radius: 50%;\n",
              "    cursor: pointer;\n",
              "    display: none;\n",
              "    fill: var(--fill-color);\n",
              "    height: 32px;\n",
              "    padding: 0;\n",
              "    width: 32px;\n",
              "  }\n",
              "\n",
              "  .colab-df-quickchart:hover {\n",
              "    background-color: var(--hover-bg-color);\n",
              "    box-shadow: 0 1px 2px rgba(60, 64, 67, 0.3), 0 1px 3px 1px rgba(60, 64, 67, 0.15);\n",
              "    fill: var(--button-hover-fill-color);\n",
              "  }\n",
              "\n",
              "  .colab-df-quickchart-complete:disabled,\n",
              "  .colab-df-quickchart-complete:disabled:hover {\n",
              "    background-color: var(--disabled-bg-color);\n",
              "    fill: var(--disabled-fill-color);\n",
              "    box-shadow: none;\n",
              "  }\n",
              "\n",
              "  .colab-df-spinner {\n",
              "    border: 2px solid var(--fill-color);\n",
              "    border-color: transparent;\n",
              "    border-bottom-color: var(--fill-color);\n",
              "    animation:\n",
              "      spin 1s steps(1) infinite;\n",
              "  }\n",
              "\n",
              "  @keyframes spin {\n",
              "    0% {\n",
              "      border-color: transparent;\n",
              "      border-bottom-color: var(--fill-color);\n",
              "      border-left-color: var(--fill-color);\n",
              "    }\n",
              "    20% {\n",
              "      border-color: transparent;\n",
              "      border-left-color: var(--fill-color);\n",
              "      border-top-color: var(--fill-color);\n",
              "    }\n",
              "    30% {\n",
              "      border-color: transparent;\n",
              "      border-left-color: var(--fill-color);\n",
              "      border-top-color: var(--fill-color);\n",
              "      border-right-color: var(--fill-color);\n",
              "    }\n",
              "    40% {\n",
              "      border-color: transparent;\n",
              "      border-right-color: var(--fill-color);\n",
              "      border-top-color: var(--fill-color);\n",
              "    }\n",
              "    60% {\n",
              "      border-color: transparent;\n",
              "      border-right-color: var(--fill-color);\n",
              "    }\n",
              "    80% {\n",
              "      border-color: transparent;\n",
              "      border-right-color: var(--fill-color);\n",
              "      border-bottom-color: var(--fill-color);\n",
              "    }\n",
              "    90% {\n",
              "      border-color: transparent;\n",
              "      border-bottom-color: var(--fill-color);\n",
              "    }\n",
              "  }\n",
              "</style>\n",
              "\n",
              "  <script>\n",
              "    async function quickchart(key) {\n",
              "      const quickchartButtonEl =\n",
              "        document.querySelector('#' + key + ' button');\n",
              "      quickchartButtonEl.disabled = true;  // To prevent multiple clicks.\n",
              "      quickchartButtonEl.classList.add('colab-df-spinner');\n",
              "      try {\n",
              "        const charts = await google.colab.kernel.invokeFunction(\n",
              "            'suggestCharts', [key], {});\n",
              "      } catch (error) {\n",
              "        console.error('Error during call to suggestCharts:', error);\n",
              "      }\n",
              "      quickchartButtonEl.classList.remove('colab-df-spinner');\n",
              "      quickchartButtonEl.classList.add('colab-df-quickchart-complete');\n",
              "    }\n",
              "    (() => {\n",
              "      let quickchartButtonEl =\n",
              "        document.querySelector('#df-e0765863-fb4b-4e6b-a139-adc36ec86095 button');\n",
              "      quickchartButtonEl.style.display =\n",
              "        google.colab.kernel.accessAllowed ? 'block' : 'none';\n",
              "    })();\n",
              "  </script>\n",
              "</div>\n",
              "\n",
              "    </div>\n",
              "  </div>\n"
            ],
            "application/vnd.google.colaboratory.intrinsic+json": {
              "type": "dataframe",
              "summary": "{\n  \"name\": \"shop[['Age', 'Age_category']]\",\n  \"rows\": 3900,\n  \"fields\": [\n    {\n      \"column\": \"Age\",\n      \"properties\": {\n        \"dtype\": \"number\",\n        \"std\": 15,\n        \"min\": 18,\n        \"max\": 70,\n        \"num_unique_values\": 53,\n        \"samples\": [\n          56,\n          24,\n          51\n        ],\n        \"semantic_type\": \"\",\n        \"description\": \"\"\n      }\n    },\n    {\n      \"column\": \"Age_category\",\n      \"properties\": {\n        \"dtype\": \"category\",\n        \"num_unique_values\": 4,\n        \"samples\": [\n          \"19-35\",\n          \"0-18\",\n          \"50+\"\n        ],\n        \"semantic_type\": \"\",\n        \"description\": \"\"\n      }\n    }\n  ]\n}"
            }
          },
          "metadata": {},
          "execution_count": 52
        }
      ]
    },
    {
      "cell_type": "code",
      "source": [
        "# Get unique values in the 'Age_category' column\n",
        "unique_age_categories = shop['Age_category'].unique()\n",
        "print(unique_age_categories)\n",
        "\n",
        "# Group by 'Frequency of Purchases' and calculate the sum of 'Age'\n",
        "shop_group = shop.groupby('Frequency of Purchases')['Age'].sum().reset_index()\n",
        "\n",
        "# Create a sunburst chart\n",
        "\n",
        "fig = px.sunburst(shop, path=['Frequency of Purchases', 'Age_category'], values='Age',\n",
        "                  title='Age Distribution by Frequency of Purchases')\n",
        "\n",
        "# Show the chart\n",
        "fig.show()\n"
      ],
      "metadata": {
        "colab": {
          "base_uri": "https://localhost:8080/",
          "height": 666
        },
        "id": "vjQufGpkvd8H",
        "outputId": "d93ca071-1066-4cf2-f03d-745bd73e516d"
      },
      "execution_count": null,
      "outputs": [
        {
          "output_type": "stream",
          "name": "stdout",
          "text": [
            "['50+', '19-35', '36-50', '0-18']\n",
            "Categories (4, object): ['0-18' < '19-35' < '36-50' < '50+']\n"
          ]
        },
        {
          "output_type": "stream",
          "name": "stderr",
          "text": [
            "/usr/local/lib/python3.11/dist-packages/plotly/express/_core.py:1727: FutureWarning:\n",
            "\n",
            "The default of observed=False is deprecated and will be changed to True in a future version of pandas. Pass observed=False to retain current behavior or observed=True to adopt the future default and silence this warning.\n",
            "\n"
          ]
        },
        {
          "output_type": "display_data",
          "data": {
            "text/html": [
              "<html>\n",
              "<head><meta charset=\"utf-8\" /></head>\n",
              "<body>\n",
              "    <div>            <script src=\"https://cdnjs.cloudflare.com/ajax/libs/mathjax/2.7.5/MathJax.js?config=TeX-AMS-MML_SVG\"></script><script type=\"text/javascript\">if (window.MathJax && window.MathJax.Hub && window.MathJax.Hub.Config) {window.MathJax.Hub.Config({SVG: {font: \"STIX-Web\"}});}</script>                <script type=\"text/javascript\">window.PlotlyConfig = {MathJaxConfig: 'local'};</script>\n",
              "        <script charset=\"utf-8\" src=\"https://cdn.plot.ly/plotly-2.35.2.min.js\"></script>                <div id=\"4c145292-a5eb-45ff-9124-25d78810b37d\" class=\"plotly-graph-div\" style=\"height:525px; width:100%;\"></div>            <script type=\"text/javascript\">                                    window.PLOTLYENV=window.PLOTLYENV || {};                                    if (document.getElementById(\"4c145292-a5eb-45ff-9124-25d78810b37d\")) {                    Plotly.newPlot(                        \"4c145292-a5eb-45ff-9124-25d78810b37d\",                        [{\"branchvalues\":\"total\",\"domain\":{\"x\":[0.0,1.0],\"y\":[0.0,1.0]},\"hovertemplate\":\"labels=%{label}\\u003cbr\\u003eAge=%{value}\\u003cbr\\u003eparent=%{parent}\\u003cbr\\u003eid=%{id}\\u003cextra\\u003e\\u003c\\u002fextra\\u003e\",\"ids\":[\"Annually\\u002f0-18\",\"Bi-Weekly\\u002f0-18\",\"Every 3 Months\\u002f0-18\",\"Fortnightly\\u002f0-18\",\"Monthly\\u002f0-18\",\"Quarterly\\u002f0-18\",\"Weekly\\u002f0-18\",\"Annually\\u002f19-35\",\"Bi-Weekly\\u002f19-35\",\"Every 3 Months\\u002f19-35\",\"Fortnightly\\u002f19-35\",\"Monthly\\u002f19-35\",\"Quarterly\\u002f19-35\",\"Weekly\\u002f19-35\",\"Annually\\u002f36-50\",\"Bi-Weekly\\u002f36-50\",\"Every 3 Months\\u002f36-50\",\"Fortnightly\\u002f36-50\",\"Monthly\\u002f36-50\",\"Quarterly\\u002f36-50\",\"Weekly\\u002f36-50\",\"Annually\\u002f50+\",\"Bi-Weekly\\u002f50+\",\"Every 3 Months\\u002f50+\",\"Fortnightly\\u002f50+\",\"Monthly\\u002f50+\",\"Quarterly\\u002f50+\",\"Weekly\\u002f50+\",\"Annually\",\"Bi-Weekly\",\"Every 3 Months\",\"Fortnightly\",\"Monthly\",\"Quarterly\",\"Weekly\"],\"labels\":[\"0-18\",\"0-18\",\"0-18\",\"0-18\",\"0-18\",\"0-18\",\"0-18\",\"19-35\",\"19-35\",\"19-35\",\"19-35\",\"19-35\",\"19-35\",\"19-35\",\"36-50\",\"36-50\",\"36-50\",\"36-50\",\"36-50\",\"36-50\",\"36-50\",\"50+\",\"50+\",\"50+\",\"50+\",\"50+\",\"50+\",\"50+\",\"Annually\",\"Bi-Weekly\",\"Every 3 Months\",\"Fortnightly\",\"Monthly\",\"Quarterly\",\"Weekly\"],\"name\":\"\",\"parents\":[\"Annually\",\"Bi-Weekly\",\"Every 3 Months\",\"Fortnightly\",\"Monthly\",\"Quarterly\",\"Weekly\",\"Annually\",\"Bi-Weekly\",\"Every 3 Months\",\"Fortnightly\",\"Monthly\",\"Quarterly\",\"Weekly\",\"Annually\",\"Bi-Weekly\",\"Every 3 Months\",\"Fortnightly\",\"Monthly\",\"Quarterly\",\"Weekly\",\"Annually\",\"Bi-Weekly\",\"Every 3 Months\",\"Fortnightly\",\"Monthly\",\"Quarterly\",\"Weekly\",\"\",\"\",\"\",\"\",\"\",\"\",\"\"],\"values\":[180,180,216,180,126,198,162,4559,5157,5226,4758,4754,4788,4393,6832,6354,7352,6820,7225,6229,7023,13978,11940,12556,11866,12384,13943,12488,25549,23631,25350,23624,24489,25158,24066],\"type\":\"sunburst\"}],                        {\"template\":{\"data\":{\"histogram2dcontour\":[{\"type\":\"histogram2dcontour\",\"colorbar\":{\"outlinewidth\":0,\"ticks\":\"\"},\"colorscale\":[[0.0,\"#0d0887\"],[0.1111111111111111,\"#46039f\"],[0.2222222222222222,\"#7201a8\"],[0.3333333333333333,\"#9c179e\"],[0.4444444444444444,\"#bd3786\"],[0.5555555555555556,\"#d8576b\"],[0.6666666666666666,\"#ed7953\"],[0.7777777777777778,\"#fb9f3a\"],[0.8888888888888888,\"#fdca26\"],[1.0,\"#f0f921\"]]}],\"choropleth\":[{\"type\":\"choropleth\",\"colorbar\":{\"outlinewidth\":0,\"ticks\":\"\"}}],\"histogram2d\":[{\"type\":\"histogram2d\",\"colorbar\":{\"outlinewidth\":0,\"ticks\":\"\"},\"colorscale\":[[0.0,\"#0d0887\"],[0.1111111111111111,\"#46039f\"],[0.2222222222222222,\"#7201a8\"],[0.3333333333333333,\"#9c179e\"],[0.4444444444444444,\"#bd3786\"],[0.5555555555555556,\"#d8576b\"],[0.6666666666666666,\"#ed7953\"],[0.7777777777777778,\"#fb9f3a\"],[0.8888888888888888,\"#fdca26\"],[1.0,\"#f0f921\"]]}],\"heatmap\":[{\"type\":\"heatmap\",\"colorbar\":{\"outlinewidth\":0,\"ticks\":\"\"},\"colorscale\":[[0.0,\"#0d0887\"],[0.1111111111111111,\"#46039f\"],[0.2222222222222222,\"#7201a8\"],[0.3333333333333333,\"#9c179e\"],[0.4444444444444444,\"#bd3786\"],[0.5555555555555556,\"#d8576b\"],[0.6666666666666666,\"#ed7953\"],[0.7777777777777778,\"#fb9f3a\"],[0.8888888888888888,\"#fdca26\"],[1.0,\"#f0f921\"]]}],\"heatmapgl\":[{\"type\":\"heatmapgl\",\"colorbar\":{\"outlinewidth\":0,\"ticks\":\"\"},\"colorscale\":[[0.0,\"#0d0887\"],[0.1111111111111111,\"#46039f\"],[0.2222222222222222,\"#7201a8\"],[0.3333333333333333,\"#9c179e\"],[0.4444444444444444,\"#bd3786\"],[0.5555555555555556,\"#d8576b\"],[0.6666666666666666,\"#ed7953\"],[0.7777777777777778,\"#fb9f3a\"],[0.8888888888888888,\"#fdca26\"],[1.0,\"#f0f921\"]]}],\"contourcarpet\":[{\"type\":\"contourcarpet\",\"colorbar\":{\"outlinewidth\":0,\"ticks\":\"\"}}],\"contour\":[{\"type\":\"contour\",\"colorbar\":{\"outlinewidth\":0,\"ticks\":\"\"},\"colorscale\":[[0.0,\"#0d0887\"],[0.1111111111111111,\"#46039f\"],[0.2222222222222222,\"#7201a8\"],[0.3333333333333333,\"#9c179e\"],[0.4444444444444444,\"#bd3786\"],[0.5555555555555556,\"#d8576b\"],[0.6666666666666666,\"#ed7953\"],[0.7777777777777778,\"#fb9f3a\"],[0.8888888888888888,\"#fdca26\"],[1.0,\"#f0f921\"]]}],\"surface\":[{\"type\":\"surface\",\"colorbar\":{\"outlinewidth\":0,\"ticks\":\"\"},\"colorscale\":[[0.0,\"#0d0887\"],[0.1111111111111111,\"#46039f\"],[0.2222222222222222,\"#7201a8\"],[0.3333333333333333,\"#9c179e\"],[0.4444444444444444,\"#bd3786\"],[0.5555555555555556,\"#d8576b\"],[0.6666666666666666,\"#ed7953\"],[0.7777777777777778,\"#fb9f3a\"],[0.8888888888888888,\"#fdca26\"],[1.0,\"#f0f921\"]]}],\"mesh3d\":[{\"type\":\"mesh3d\",\"colorbar\":{\"outlinewidth\":0,\"ticks\":\"\"}}],\"scatter\":[{\"fillpattern\":{\"fillmode\":\"overlay\",\"size\":10,\"solidity\":0.2},\"type\":\"scatter\"}],\"parcoords\":[{\"type\":\"parcoords\",\"line\":{\"colorbar\":{\"outlinewidth\":0,\"ticks\":\"\"}}}],\"scatterpolargl\":[{\"type\":\"scatterpolargl\",\"marker\":{\"colorbar\":{\"outlinewidth\":0,\"ticks\":\"\"}}}],\"bar\":[{\"error_x\":{\"color\":\"#2a3f5f\"},\"error_y\":{\"color\":\"#2a3f5f\"},\"marker\":{\"line\":{\"color\":\"#E5ECF6\",\"width\":0.5},\"pattern\":{\"fillmode\":\"overlay\",\"size\":10,\"solidity\":0.2}},\"type\":\"bar\"}],\"scattergeo\":[{\"type\":\"scattergeo\",\"marker\":{\"colorbar\":{\"outlinewidth\":0,\"ticks\":\"\"}}}],\"scatterpolar\":[{\"type\":\"scatterpolar\",\"marker\":{\"colorbar\":{\"outlinewidth\":0,\"ticks\":\"\"}}}],\"histogram\":[{\"marker\":{\"pattern\":{\"fillmode\":\"overlay\",\"size\":10,\"solidity\":0.2}},\"type\":\"histogram\"}],\"scattergl\":[{\"type\":\"scattergl\",\"marker\":{\"colorbar\":{\"outlinewidth\":0,\"ticks\":\"\"}}}],\"scatter3d\":[{\"type\":\"scatter3d\",\"line\":{\"colorbar\":{\"outlinewidth\":0,\"ticks\":\"\"}},\"marker\":{\"colorbar\":{\"outlinewidth\":0,\"ticks\":\"\"}}}],\"scattermapbox\":[{\"type\":\"scattermapbox\",\"marker\":{\"colorbar\":{\"outlinewidth\":0,\"ticks\":\"\"}}}],\"scatterternary\":[{\"type\":\"scatterternary\",\"marker\":{\"colorbar\":{\"outlinewidth\":0,\"ticks\":\"\"}}}],\"scattercarpet\":[{\"type\":\"scattercarpet\",\"marker\":{\"colorbar\":{\"outlinewidth\":0,\"ticks\":\"\"}}}],\"carpet\":[{\"aaxis\":{\"endlinecolor\":\"#2a3f5f\",\"gridcolor\":\"white\",\"linecolor\":\"white\",\"minorgridcolor\":\"white\",\"startlinecolor\":\"#2a3f5f\"},\"baxis\":{\"endlinecolor\":\"#2a3f5f\",\"gridcolor\":\"white\",\"linecolor\":\"white\",\"minorgridcolor\":\"white\",\"startlinecolor\":\"#2a3f5f\"},\"type\":\"carpet\"}],\"table\":[{\"cells\":{\"fill\":{\"color\":\"#EBF0F8\"},\"line\":{\"color\":\"white\"}},\"header\":{\"fill\":{\"color\":\"#C8D4E3\"},\"line\":{\"color\":\"white\"}},\"type\":\"table\"}],\"barpolar\":[{\"marker\":{\"line\":{\"color\":\"#E5ECF6\",\"width\":0.5},\"pattern\":{\"fillmode\":\"overlay\",\"size\":10,\"solidity\":0.2}},\"type\":\"barpolar\"}],\"pie\":[{\"automargin\":true,\"type\":\"pie\"}]},\"layout\":{\"autotypenumbers\":\"strict\",\"colorway\":[\"#636efa\",\"#EF553B\",\"#00cc96\",\"#ab63fa\",\"#FFA15A\",\"#19d3f3\",\"#FF6692\",\"#B6E880\",\"#FF97FF\",\"#FECB52\"],\"font\":{\"color\":\"#2a3f5f\"},\"hovermode\":\"closest\",\"hoverlabel\":{\"align\":\"left\"},\"paper_bgcolor\":\"white\",\"plot_bgcolor\":\"#E5ECF6\",\"polar\":{\"bgcolor\":\"#E5ECF6\",\"angularaxis\":{\"gridcolor\":\"white\",\"linecolor\":\"white\",\"ticks\":\"\"},\"radialaxis\":{\"gridcolor\":\"white\",\"linecolor\":\"white\",\"ticks\":\"\"}},\"ternary\":{\"bgcolor\":\"#E5ECF6\",\"aaxis\":{\"gridcolor\":\"white\",\"linecolor\":\"white\",\"ticks\":\"\"},\"baxis\":{\"gridcolor\":\"white\",\"linecolor\":\"white\",\"ticks\":\"\"},\"caxis\":{\"gridcolor\":\"white\",\"linecolor\":\"white\",\"ticks\":\"\"}},\"coloraxis\":{\"colorbar\":{\"outlinewidth\":0,\"ticks\":\"\"}},\"colorscale\":{\"sequential\":[[0.0,\"#0d0887\"],[0.1111111111111111,\"#46039f\"],[0.2222222222222222,\"#7201a8\"],[0.3333333333333333,\"#9c179e\"],[0.4444444444444444,\"#bd3786\"],[0.5555555555555556,\"#d8576b\"],[0.6666666666666666,\"#ed7953\"],[0.7777777777777778,\"#fb9f3a\"],[0.8888888888888888,\"#fdca26\"],[1.0,\"#f0f921\"]],\"sequentialminus\":[[0.0,\"#0d0887\"],[0.1111111111111111,\"#46039f\"],[0.2222222222222222,\"#7201a8\"],[0.3333333333333333,\"#9c179e\"],[0.4444444444444444,\"#bd3786\"],[0.5555555555555556,\"#d8576b\"],[0.6666666666666666,\"#ed7953\"],[0.7777777777777778,\"#fb9f3a\"],[0.8888888888888888,\"#fdca26\"],[1.0,\"#f0f921\"]],\"diverging\":[[0,\"#8e0152\"],[0.1,\"#c51b7d\"],[0.2,\"#de77ae\"],[0.3,\"#f1b6da\"],[0.4,\"#fde0ef\"],[0.5,\"#f7f7f7\"],[0.6,\"#e6f5d0\"],[0.7,\"#b8e186\"],[0.8,\"#7fbc41\"],[0.9,\"#4d9221\"],[1,\"#276419\"]]},\"xaxis\":{\"gridcolor\":\"white\",\"linecolor\":\"white\",\"ticks\":\"\",\"title\":{\"standoff\":15},\"zerolinecolor\":\"white\",\"automargin\":true,\"zerolinewidth\":2},\"yaxis\":{\"gridcolor\":\"white\",\"linecolor\":\"white\",\"ticks\":\"\",\"title\":{\"standoff\":15},\"zerolinecolor\":\"white\",\"automargin\":true,\"zerolinewidth\":2},\"scene\":{\"xaxis\":{\"backgroundcolor\":\"#E5ECF6\",\"gridcolor\":\"white\",\"linecolor\":\"white\",\"showbackground\":true,\"ticks\":\"\",\"zerolinecolor\":\"white\",\"gridwidth\":2},\"yaxis\":{\"backgroundcolor\":\"#E5ECF6\",\"gridcolor\":\"white\",\"linecolor\":\"white\",\"showbackground\":true,\"ticks\":\"\",\"zerolinecolor\":\"white\",\"gridwidth\":2},\"zaxis\":{\"backgroundcolor\":\"#E5ECF6\",\"gridcolor\":\"white\",\"linecolor\":\"white\",\"showbackground\":true,\"ticks\":\"\",\"zerolinecolor\":\"white\",\"gridwidth\":2}},\"shapedefaults\":{\"line\":{\"color\":\"#2a3f5f\"}},\"annotationdefaults\":{\"arrowcolor\":\"#2a3f5f\",\"arrowhead\":0,\"arrowwidth\":1},\"geo\":{\"bgcolor\":\"white\",\"landcolor\":\"#E5ECF6\",\"subunitcolor\":\"white\",\"showland\":true,\"showlakes\":true,\"lakecolor\":\"white\"},\"title\":{\"x\":0.05},\"mapbox\":{\"style\":\"light\"}}},\"legend\":{\"tracegroupgap\":0},\"title\":{\"text\":\"Age Distribution by Frequency of Purchases\"}},                        {\"responsive\": true}                    ).then(function(){\n",
              "                            \n",
              "var gd = document.getElementById('4c145292-a5eb-45ff-9124-25d78810b37d');\n",
              "var x = new MutationObserver(function (mutations, observer) {{\n",
              "        var display = window.getComputedStyle(gd).display;\n",
              "        if (!display || display === 'none') {{\n",
              "            console.log([gd, 'removed!']);\n",
              "            Plotly.purge(gd);\n",
              "            observer.disconnect();\n",
              "        }}\n",
              "}});\n",
              "\n",
              "// Listen for the removal of the full notebook cells\n",
              "var notebookContainer = gd.closest('#notebook-container');\n",
              "if (notebookContainer) {{\n",
              "    x.observe(notebookContainer, {childList: true});\n",
              "}}\n",
              "\n",
              "// Listen for the clearing of the current output cell\n",
              "var outputEl = gd.closest('.output');\n",
              "if (outputEl) {{\n",
              "    x.observe(outputEl, {childList: true});\n",
              "}}\n",
              "\n",
              "                        })                };                            </script>        </div>\n",
              "</body>\n",
              "</html>"
            ]
          },
          "metadata": {}
        }
      ]
    },
    {
      "cell_type": "markdown",
      "source": [
        "11.\tAre there any correlations between the size of the product and the purchase amount?"
      ],
      "metadata": {
        "id": "VbTirYRGxlYR"
      }
    },
    {
      "cell_type": "code",
      "source": [
        "shop.columns"
      ],
      "metadata": {
        "colab": {
          "base_uri": "https://localhost:8080/"
        },
        "id": "KbkcHhoUvd23",
        "outputId": "7443cf0e-11a2-4e42-86b5-9e60ba8050ea"
      },
      "execution_count": null,
      "outputs": [
        {
          "output_type": "execute_result",
          "data": {
            "text/plain": [
              "Index(['Customer ID', 'Age', 'Gender', 'Item Purchased', 'Category',\n",
              "       'Purchase Amount (USD)', 'Location', 'Size', 'Color', 'Season',\n",
              "       'Review Rating', 'Subscription Status', 'Shipping Type',\n",
              "       'Discount Applied', 'Promo Code Used', 'Previous Purchases',\n",
              "       'Payment Method', 'Frequency of Purchases', 'Age_category'],\n",
              "      dtype='object')"
            ]
          },
          "metadata": {},
          "execution_count": 54
        }
      ]
    },
    {
      "cell_type": "code",
      "source": [
        "# Group by 'Size' and calculate the sum of 'Purchase Amount (USD)'\n",
        "shop_group = shop.groupby('Size')['Purchase Amount (USD)'].sum().reset_index()\n",
        "\n",
        "# Create a bar chart\n",
        "fig = px.bar(shop_group, x='Size', y='Purchase Amount (USD)',\n",
        "             title='Total Purchase Amount by Size')\n",
        "\n",
        "# Show the chart\n",
        "fig.show()\n"
      ],
      "metadata": {
        "colab": {
          "base_uri": "https://localhost:8080/",
          "height": 542
        },
        "id": "CqMOmEecvd0I",
        "outputId": "3c2a7191-5675-4771-ba72-5f9c43a349be"
      },
      "execution_count": null,
      "outputs": [
        {
          "output_type": "display_data",
          "data": {
            "text/html": [
              "<html>\n",
              "<head><meta charset=\"utf-8\" /></head>\n",
              "<body>\n",
              "    <div>            <script src=\"https://cdnjs.cloudflare.com/ajax/libs/mathjax/2.7.5/MathJax.js?config=TeX-AMS-MML_SVG\"></script><script type=\"text/javascript\">if (window.MathJax && window.MathJax.Hub && window.MathJax.Hub.Config) {window.MathJax.Hub.Config({SVG: {font: \"STIX-Web\"}});}</script>                <script type=\"text/javascript\">window.PlotlyConfig = {MathJaxConfig: 'local'};</script>\n",
              "        <script charset=\"utf-8\" src=\"https://cdn.plot.ly/plotly-2.35.2.min.js\"></script>                <div id=\"7a614ecd-eb6e-4a01-9fcc-d397c29e71d9\" class=\"plotly-graph-div\" style=\"height:525px; width:100%;\"></div>            <script type=\"text/javascript\">                                    window.PLOTLYENV=window.PLOTLYENV || {};                                    if (document.getElementById(\"7a614ecd-eb6e-4a01-9fcc-d397c29e71d9\")) {                    Plotly.newPlot(                        \"7a614ecd-eb6e-4a01-9fcc-d397c29e71d9\",                        [{\"alignmentgroup\":\"True\",\"hovertemplate\":\"Size=%{x}\\u003cbr\\u003ePurchase Amount (USD)=%{y}\\u003cextra\\u003e\\u003c\\u002fextra\\u003e\",\"legendgroup\":\"\",\"marker\":{\"color\":\"#636efa\",\"pattern\":{\"shape\":\"\"}},\"name\":\"\",\"offsetgroup\":\"\",\"orientation\":\"v\",\"showlegend\":false,\"textposition\":\"auto\",\"x\":[\"L\",\"M\",\"S\",\"XL\"],\"xaxis\":\"x\",\"y\":[61667,105167,40468,25779],\"yaxis\":\"y\",\"type\":\"bar\"}],                        {\"template\":{\"data\":{\"histogram2dcontour\":[{\"type\":\"histogram2dcontour\",\"colorbar\":{\"outlinewidth\":0,\"ticks\":\"\"},\"colorscale\":[[0.0,\"#0d0887\"],[0.1111111111111111,\"#46039f\"],[0.2222222222222222,\"#7201a8\"],[0.3333333333333333,\"#9c179e\"],[0.4444444444444444,\"#bd3786\"],[0.5555555555555556,\"#d8576b\"],[0.6666666666666666,\"#ed7953\"],[0.7777777777777778,\"#fb9f3a\"],[0.8888888888888888,\"#fdca26\"],[1.0,\"#f0f921\"]]}],\"choropleth\":[{\"type\":\"choropleth\",\"colorbar\":{\"outlinewidth\":0,\"ticks\":\"\"}}],\"histogram2d\":[{\"type\":\"histogram2d\",\"colorbar\":{\"outlinewidth\":0,\"ticks\":\"\"},\"colorscale\":[[0.0,\"#0d0887\"],[0.1111111111111111,\"#46039f\"],[0.2222222222222222,\"#7201a8\"],[0.3333333333333333,\"#9c179e\"],[0.4444444444444444,\"#bd3786\"],[0.5555555555555556,\"#d8576b\"],[0.6666666666666666,\"#ed7953\"],[0.7777777777777778,\"#fb9f3a\"],[0.8888888888888888,\"#fdca26\"],[1.0,\"#f0f921\"]]}],\"heatmap\":[{\"type\":\"heatmap\",\"colorbar\":{\"outlinewidth\":0,\"ticks\":\"\"},\"colorscale\":[[0.0,\"#0d0887\"],[0.1111111111111111,\"#46039f\"],[0.2222222222222222,\"#7201a8\"],[0.3333333333333333,\"#9c179e\"],[0.4444444444444444,\"#bd3786\"],[0.5555555555555556,\"#d8576b\"],[0.6666666666666666,\"#ed7953\"],[0.7777777777777778,\"#fb9f3a\"],[0.8888888888888888,\"#fdca26\"],[1.0,\"#f0f921\"]]}],\"heatmapgl\":[{\"type\":\"heatmapgl\",\"colorbar\":{\"outlinewidth\":0,\"ticks\":\"\"},\"colorscale\":[[0.0,\"#0d0887\"],[0.1111111111111111,\"#46039f\"],[0.2222222222222222,\"#7201a8\"],[0.3333333333333333,\"#9c179e\"],[0.4444444444444444,\"#bd3786\"],[0.5555555555555556,\"#d8576b\"],[0.6666666666666666,\"#ed7953\"],[0.7777777777777778,\"#fb9f3a\"],[0.8888888888888888,\"#fdca26\"],[1.0,\"#f0f921\"]]}],\"contourcarpet\":[{\"type\":\"contourcarpet\",\"colorbar\":{\"outlinewidth\":0,\"ticks\":\"\"}}],\"contour\":[{\"type\":\"contour\",\"colorbar\":{\"outlinewidth\":0,\"ticks\":\"\"},\"colorscale\":[[0.0,\"#0d0887\"],[0.1111111111111111,\"#46039f\"],[0.2222222222222222,\"#7201a8\"],[0.3333333333333333,\"#9c179e\"],[0.4444444444444444,\"#bd3786\"],[0.5555555555555556,\"#d8576b\"],[0.6666666666666666,\"#ed7953\"],[0.7777777777777778,\"#fb9f3a\"],[0.8888888888888888,\"#fdca26\"],[1.0,\"#f0f921\"]]}],\"surface\":[{\"type\":\"surface\",\"colorbar\":{\"outlinewidth\":0,\"ticks\":\"\"},\"colorscale\":[[0.0,\"#0d0887\"],[0.1111111111111111,\"#46039f\"],[0.2222222222222222,\"#7201a8\"],[0.3333333333333333,\"#9c179e\"],[0.4444444444444444,\"#bd3786\"],[0.5555555555555556,\"#d8576b\"],[0.6666666666666666,\"#ed7953\"],[0.7777777777777778,\"#fb9f3a\"],[0.8888888888888888,\"#fdca26\"],[1.0,\"#f0f921\"]]}],\"mesh3d\":[{\"type\":\"mesh3d\",\"colorbar\":{\"outlinewidth\":0,\"ticks\":\"\"}}],\"scatter\":[{\"fillpattern\":{\"fillmode\":\"overlay\",\"size\":10,\"solidity\":0.2},\"type\":\"scatter\"}],\"parcoords\":[{\"type\":\"parcoords\",\"line\":{\"colorbar\":{\"outlinewidth\":0,\"ticks\":\"\"}}}],\"scatterpolargl\":[{\"type\":\"scatterpolargl\",\"marker\":{\"colorbar\":{\"outlinewidth\":0,\"ticks\":\"\"}}}],\"bar\":[{\"error_x\":{\"color\":\"#2a3f5f\"},\"error_y\":{\"color\":\"#2a3f5f\"},\"marker\":{\"line\":{\"color\":\"#E5ECF6\",\"width\":0.5},\"pattern\":{\"fillmode\":\"overlay\",\"size\":10,\"solidity\":0.2}},\"type\":\"bar\"}],\"scattergeo\":[{\"type\":\"scattergeo\",\"marker\":{\"colorbar\":{\"outlinewidth\":0,\"ticks\":\"\"}}}],\"scatterpolar\":[{\"type\":\"scatterpolar\",\"marker\":{\"colorbar\":{\"outlinewidth\":0,\"ticks\":\"\"}}}],\"histogram\":[{\"marker\":{\"pattern\":{\"fillmode\":\"overlay\",\"size\":10,\"solidity\":0.2}},\"type\":\"histogram\"}],\"scattergl\":[{\"type\":\"scattergl\",\"marker\":{\"colorbar\":{\"outlinewidth\":0,\"ticks\":\"\"}}}],\"scatter3d\":[{\"type\":\"scatter3d\",\"line\":{\"colorbar\":{\"outlinewidth\":0,\"ticks\":\"\"}},\"marker\":{\"colorbar\":{\"outlinewidth\":0,\"ticks\":\"\"}}}],\"scattermapbox\":[{\"type\":\"scattermapbox\",\"marker\":{\"colorbar\":{\"outlinewidth\":0,\"ticks\":\"\"}}}],\"scatterternary\":[{\"type\":\"scatterternary\",\"marker\":{\"colorbar\":{\"outlinewidth\":0,\"ticks\":\"\"}}}],\"scattercarpet\":[{\"type\":\"scattercarpet\",\"marker\":{\"colorbar\":{\"outlinewidth\":0,\"ticks\":\"\"}}}],\"carpet\":[{\"aaxis\":{\"endlinecolor\":\"#2a3f5f\",\"gridcolor\":\"white\",\"linecolor\":\"white\",\"minorgridcolor\":\"white\",\"startlinecolor\":\"#2a3f5f\"},\"baxis\":{\"endlinecolor\":\"#2a3f5f\",\"gridcolor\":\"white\",\"linecolor\":\"white\",\"minorgridcolor\":\"white\",\"startlinecolor\":\"#2a3f5f\"},\"type\":\"carpet\"}],\"table\":[{\"cells\":{\"fill\":{\"color\":\"#EBF0F8\"},\"line\":{\"color\":\"white\"}},\"header\":{\"fill\":{\"color\":\"#C8D4E3\"},\"line\":{\"color\":\"white\"}},\"type\":\"table\"}],\"barpolar\":[{\"marker\":{\"line\":{\"color\":\"#E5ECF6\",\"width\":0.5},\"pattern\":{\"fillmode\":\"overlay\",\"size\":10,\"solidity\":0.2}},\"type\":\"barpolar\"}],\"pie\":[{\"automargin\":true,\"type\":\"pie\"}]},\"layout\":{\"autotypenumbers\":\"strict\",\"colorway\":[\"#636efa\",\"#EF553B\",\"#00cc96\",\"#ab63fa\",\"#FFA15A\",\"#19d3f3\",\"#FF6692\",\"#B6E880\",\"#FF97FF\",\"#FECB52\"],\"font\":{\"color\":\"#2a3f5f\"},\"hovermode\":\"closest\",\"hoverlabel\":{\"align\":\"left\"},\"paper_bgcolor\":\"white\",\"plot_bgcolor\":\"#E5ECF6\",\"polar\":{\"bgcolor\":\"#E5ECF6\",\"angularaxis\":{\"gridcolor\":\"white\",\"linecolor\":\"white\",\"ticks\":\"\"},\"radialaxis\":{\"gridcolor\":\"white\",\"linecolor\":\"white\",\"ticks\":\"\"}},\"ternary\":{\"bgcolor\":\"#E5ECF6\",\"aaxis\":{\"gridcolor\":\"white\",\"linecolor\":\"white\",\"ticks\":\"\"},\"baxis\":{\"gridcolor\":\"white\",\"linecolor\":\"white\",\"ticks\":\"\"},\"caxis\":{\"gridcolor\":\"white\",\"linecolor\":\"white\",\"ticks\":\"\"}},\"coloraxis\":{\"colorbar\":{\"outlinewidth\":0,\"ticks\":\"\"}},\"colorscale\":{\"sequential\":[[0.0,\"#0d0887\"],[0.1111111111111111,\"#46039f\"],[0.2222222222222222,\"#7201a8\"],[0.3333333333333333,\"#9c179e\"],[0.4444444444444444,\"#bd3786\"],[0.5555555555555556,\"#d8576b\"],[0.6666666666666666,\"#ed7953\"],[0.7777777777777778,\"#fb9f3a\"],[0.8888888888888888,\"#fdca26\"],[1.0,\"#f0f921\"]],\"sequentialminus\":[[0.0,\"#0d0887\"],[0.1111111111111111,\"#46039f\"],[0.2222222222222222,\"#7201a8\"],[0.3333333333333333,\"#9c179e\"],[0.4444444444444444,\"#bd3786\"],[0.5555555555555556,\"#d8576b\"],[0.6666666666666666,\"#ed7953\"],[0.7777777777777778,\"#fb9f3a\"],[0.8888888888888888,\"#fdca26\"],[1.0,\"#f0f921\"]],\"diverging\":[[0,\"#8e0152\"],[0.1,\"#c51b7d\"],[0.2,\"#de77ae\"],[0.3,\"#f1b6da\"],[0.4,\"#fde0ef\"],[0.5,\"#f7f7f7\"],[0.6,\"#e6f5d0\"],[0.7,\"#b8e186\"],[0.8,\"#7fbc41\"],[0.9,\"#4d9221\"],[1,\"#276419\"]]},\"xaxis\":{\"gridcolor\":\"white\",\"linecolor\":\"white\",\"ticks\":\"\",\"title\":{\"standoff\":15},\"zerolinecolor\":\"white\",\"automargin\":true,\"zerolinewidth\":2},\"yaxis\":{\"gridcolor\":\"white\",\"linecolor\":\"white\",\"ticks\":\"\",\"title\":{\"standoff\":15},\"zerolinecolor\":\"white\",\"automargin\":true,\"zerolinewidth\":2},\"scene\":{\"xaxis\":{\"backgroundcolor\":\"#E5ECF6\",\"gridcolor\":\"white\",\"linecolor\":\"white\",\"showbackground\":true,\"ticks\":\"\",\"zerolinecolor\":\"white\",\"gridwidth\":2},\"yaxis\":{\"backgroundcolor\":\"#E5ECF6\",\"gridcolor\":\"white\",\"linecolor\":\"white\",\"showbackground\":true,\"ticks\":\"\",\"zerolinecolor\":\"white\",\"gridwidth\":2},\"zaxis\":{\"backgroundcolor\":\"#E5ECF6\",\"gridcolor\":\"white\",\"linecolor\":\"white\",\"showbackground\":true,\"ticks\":\"\",\"zerolinecolor\":\"white\",\"gridwidth\":2}},\"shapedefaults\":{\"line\":{\"color\":\"#2a3f5f\"}},\"annotationdefaults\":{\"arrowcolor\":\"#2a3f5f\",\"arrowhead\":0,\"arrowwidth\":1},\"geo\":{\"bgcolor\":\"white\",\"landcolor\":\"#E5ECF6\",\"subunitcolor\":\"white\",\"showland\":true,\"showlakes\":true,\"lakecolor\":\"white\"},\"title\":{\"x\":0.05},\"mapbox\":{\"style\":\"light\"}}},\"xaxis\":{\"anchor\":\"y\",\"domain\":[0.0,1.0],\"title\":{\"text\":\"Size\"}},\"yaxis\":{\"anchor\":\"x\",\"domain\":[0.0,1.0],\"title\":{\"text\":\"Purchase Amount (USD)\"}},\"legend\":{\"tracegroupgap\":0},\"title\":{\"text\":\"Total Purchase Amount by Size\"},\"barmode\":\"relative\"},                        {\"responsive\": true}                    ).then(function(){\n",
              "                            \n",
              "var gd = document.getElementById('7a614ecd-eb6e-4a01-9fcc-d397c29e71d9');\n",
              "var x = new MutationObserver(function (mutations, observer) {{\n",
              "        var display = window.getComputedStyle(gd).display;\n",
              "        if (!display || display === 'none') {{\n",
              "            console.log([gd, 'removed!']);\n",
              "            Plotly.purge(gd);\n",
              "            observer.disconnect();\n",
              "        }}\n",
              "}});\n",
              "\n",
              "// Listen for the removal of the full notebook cells\n",
              "var notebookContainer = gd.closest('#notebook-container');\n",
              "if (notebookContainer) {{\n",
              "    x.observe(notebookContainer, {childList: true});\n",
              "}}\n",
              "\n",
              "// Listen for the clearing of the current output cell\n",
              "var outputEl = gd.closest('.output');\n",
              "if (outputEl) {{\n",
              "    x.observe(outputEl, {childList: true});\n",
              "}}\n",
              "\n",
              "                        })                };                            </script>        </div>\n",
              "</body>\n",
              "</html>"
            ]
          },
          "metadata": {}
        }
      ]
    },
    {
      "cell_type": "markdown",
      "source": [
        "12.\tWhich shipping type is preferred by customers for different product categories?"
      ],
      "metadata": {
        "id": "vMzwfNiHx4xb"
      }
    },
    {
      "cell_type": "code",
      "source": [
        "# Group by 'Category', count occurrences of 'Shipping Type' for each category, and sort the values\n",
        "shop_group = shop.groupby('Category')['Shipping Type'].value_counts().sort_values(ascending=False).reset_index(name='Count')\n",
        "\n",
        "# Display the result\n",
        "print(shop_group)\n"
      ],
      "metadata": {
        "colab": {
          "base_uri": "https://localhost:8080/"
        },
        "id": "Sr2PoHscvds5",
        "outputId": "74f96f43-5fa1-4bff-a043-2d0891e563c3"
      },
      "execution_count": null,
      "outputs": [
        {
          "output_type": "stream",
          "name": "stdout",
          "text": [
            "       Category   Shipping Type  Count\n",
            "0      Clothing        Standard    297\n",
            "1      Clothing   Free Shipping    294\n",
            "2      Clothing    Next Day Air    293\n",
            "3      Clothing         Express    290\n",
            "4      Clothing    Store Pickup    282\n",
            "5      Clothing  2-Day Shipping    281\n",
            "6   Accessories    Store Pickup    217\n",
            "7   Accessories    Next Day Air    211\n",
            "8   Accessories        Standard    208\n",
            "9   Accessories  2-Day Shipping    206\n",
            "10  Accessories         Express    203\n",
            "11  Accessories   Free Shipping    195\n",
            "12     Footwear   Free Shipping    122\n",
            "13     Footwear        Standard    100\n",
            "14     Footwear    Store Pickup     98\n",
            "15     Footwear         Express     96\n",
            "16     Footwear    Next Day Air     93\n",
            "17     Footwear  2-Day Shipping     90\n",
            "18    Outerwear   Free Shipping     64\n",
            "19    Outerwear         Express     57\n",
            "20    Outerwear    Store Pickup     53\n",
            "21    Outerwear    Next Day Air     51\n",
            "22    Outerwear  2-Day Shipping     50\n",
            "23    Outerwear        Standard     49\n"
          ]
        }
      ]
    },
    {
      "cell_type": "markdown",
      "source": [
        "13.\tHow does the presence of a discount affect the purchase decision of customers?"
      ],
      "metadata": {
        "id": "2sXdG0cxyM9g"
      }
    },
    {
      "cell_type": "code",
      "source": [
        "shop.columns"
      ],
      "metadata": {
        "colab": {
          "base_uri": "https://localhost:8080/"
        },
        "id": "COAc8bbIyRb7",
        "outputId": "1ae59c5f-ceda-44ed-e496-a5de865187e4"
      },
      "execution_count": null,
      "outputs": [
        {
          "output_type": "execute_result",
          "data": {
            "text/plain": [
              "Index(['Customer ID', 'Age', 'Gender', 'Item Purchased', 'Category',\n",
              "       'Purchase Amount (USD)', 'Location', 'Size', 'Color', 'Season',\n",
              "       'Review Rating', 'Subscription Status', 'Shipping Type',\n",
              "       'Discount Applied', 'Promo Code Used', 'Previous Purchases',\n",
              "       'Payment Method', 'Frequency of Purchases', 'Age_category'],\n",
              "      dtype='object')"
            ]
          },
          "metadata": {},
          "execution_count": 57
        }
      ]
    },
    {
      "cell_type": "code",
      "source": [
        "# Group by 'Discount Applied' and calculate the sum of 'Purchase Amount (USD)'\n",
        "shop_group = shop.groupby('Discount Applied')['Purchase Amount (USD)'].sum().reset_index()\n",
        "\n",
        "# Create a histogram (though it's more common to use bar charts for this kind of data)\n",
        "fig = px.bar(shop_group, x='Discount Applied', y='Purchase Amount (USD)',\n",
        "             title='Total Purchase Amount by Discount Applied')\n",
        "\n",
        "# Show the chart\n",
        "fig.show()\n"
      ],
      "metadata": {
        "colab": {
          "base_uri": "https://localhost:8080/",
          "height": 542
        },
        "id": "X0HmxN0HyRZl",
        "outputId": "2bf6538e-f449-41f7-e5dc-ee39b7be7823"
      },
      "execution_count": null,
      "outputs": [
        {
          "output_type": "display_data",
          "data": {
            "text/html": [
              "<html>\n",
              "<head><meta charset=\"utf-8\" /></head>\n",
              "<body>\n",
              "    <div>            <script src=\"https://cdnjs.cloudflare.com/ajax/libs/mathjax/2.7.5/MathJax.js?config=TeX-AMS-MML_SVG\"></script><script type=\"text/javascript\">if (window.MathJax && window.MathJax.Hub && window.MathJax.Hub.Config) {window.MathJax.Hub.Config({SVG: {font: \"STIX-Web\"}});}</script>                <script type=\"text/javascript\">window.PlotlyConfig = {MathJaxConfig: 'local'};</script>\n",
              "        <script charset=\"utf-8\" src=\"https://cdn.plot.ly/plotly-2.35.2.min.js\"></script>                <div id=\"5642ccf7-1464-47c5-a4d4-4a44577349bb\" class=\"plotly-graph-div\" style=\"height:525px; width:100%;\"></div>            <script type=\"text/javascript\">                                    window.PLOTLYENV=window.PLOTLYENV || {};                                    if (document.getElementById(\"5642ccf7-1464-47c5-a4d4-4a44577349bb\")) {                    Plotly.newPlot(                        \"5642ccf7-1464-47c5-a4d4-4a44577349bb\",                        [{\"alignmentgroup\":\"True\",\"hovertemplate\":\"Discount Applied=%{x}\\u003cbr\\u003ePurchase Amount (USD)=%{y}\\u003cextra\\u003e\\u003c\\u002fextra\\u003e\",\"legendgroup\":\"\",\"marker\":{\"color\":\"#636efa\",\"pattern\":{\"shape\":\"\"}},\"name\":\"\",\"offsetgroup\":\"\",\"orientation\":\"v\",\"showlegend\":false,\"textposition\":\"auto\",\"x\":[\"No\",\"Yes\"],\"xaxis\":\"x\",\"y\":[133670,99411],\"yaxis\":\"y\",\"type\":\"bar\"}],                        {\"template\":{\"data\":{\"histogram2dcontour\":[{\"type\":\"histogram2dcontour\",\"colorbar\":{\"outlinewidth\":0,\"ticks\":\"\"},\"colorscale\":[[0.0,\"#0d0887\"],[0.1111111111111111,\"#46039f\"],[0.2222222222222222,\"#7201a8\"],[0.3333333333333333,\"#9c179e\"],[0.4444444444444444,\"#bd3786\"],[0.5555555555555556,\"#d8576b\"],[0.6666666666666666,\"#ed7953\"],[0.7777777777777778,\"#fb9f3a\"],[0.8888888888888888,\"#fdca26\"],[1.0,\"#f0f921\"]]}],\"choropleth\":[{\"type\":\"choropleth\",\"colorbar\":{\"outlinewidth\":0,\"ticks\":\"\"}}],\"histogram2d\":[{\"type\":\"histogram2d\",\"colorbar\":{\"outlinewidth\":0,\"ticks\":\"\"},\"colorscale\":[[0.0,\"#0d0887\"],[0.1111111111111111,\"#46039f\"],[0.2222222222222222,\"#7201a8\"],[0.3333333333333333,\"#9c179e\"],[0.4444444444444444,\"#bd3786\"],[0.5555555555555556,\"#d8576b\"],[0.6666666666666666,\"#ed7953\"],[0.7777777777777778,\"#fb9f3a\"],[0.8888888888888888,\"#fdca26\"],[1.0,\"#f0f921\"]]}],\"heatmap\":[{\"type\":\"heatmap\",\"colorbar\":{\"outlinewidth\":0,\"ticks\":\"\"},\"colorscale\":[[0.0,\"#0d0887\"],[0.1111111111111111,\"#46039f\"],[0.2222222222222222,\"#7201a8\"],[0.3333333333333333,\"#9c179e\"],[0.4444444444444444,\"#bd3786\"],[0.5555555555555556,\"#d8576b\"],[0.6666666666666666,\"#ed7953\"],[0.7777777777777778,\"#fb9f3a\"],[0.8888888888888888,\"#fdca26\"],[1.0,\"#f0f921\"]]}],\"heatmapgl\":[{\"type\":\"heatmapgl\",\"colorbar\":{\"outlinewidth\":0,\"ticks\":\"\"},\"colorscale\":[[0.0,\"#0d0887\"],[0.1111111111111111,\"#46039f\"],[0.2222222222222222,\"#7201a8\"],[0.3333333333333333,\"#9c179e\"],[0.4444444444444444,\"#bd3786\"],[0.5555555555555556,\"#d8576b\"],[0.6666666666666666,\"#ed7953\"],[0.7777777777777778,\"#fb9f3a\"],[0.8888888888888888,\"#fdca26\"],[1.0,\"#f0f921\"]]}],\"contourcarpet\":[{\"type\":\"contourcarpet\",\"colorbar\":{\"outlinewidth\":0,\"ticks\":\"\"}}],\"contour\":[{\"type\":\"contour\",\"colorbar\":{\"outlinewidth\":0,\"ticks\":\"\"},\"colorscale\":[[0.0,\"#0d0887\"],[0.1111111111111111,\"#46039f\"],[0.2222222222222222,\"#7201a8\"],[0.3333333333333333,\"#9c179e\"],[0.4444444444444444,\"#bd3786\"],[0.5555555555555556,\"#d8576b\"],[0.6666666666666666,\"#ed7953\"],[0.7777777777777778,\"#fb9f3a\"],[0.8888888888888888,\"#fdca26\"],[1.0,\"#f0f921\"]]}],\"surface\":[{\"type\":\"surface\",\"colorbar\":{\"outlinewidth\":0,\"ticks\":\"\"},\"colorscale\":[[0.0,\"#0d0887\"],[0.1111111111111111,\"#46039f\"],[0.2222222222222222,\"#7201a8\"],[0.3333333333333333,\"#9c179e\"],[0.4444444444444444,\"#bd3786\"],[0.5555555555555556,\"#d8576b\"],[0.6666666666666666,\"#ed7953\"],[0.7777777777777778,\"#fb9f3a\"],[0.8888888888888888,\"#fdca26\"],[1.0,\"#f0f921\"]]}],\"mesh3d\":[{\"type\":\"mesh3d\",\"colorbar\":{\"outlinewidth\":0,\"ticks\":\"\"}}],\"scatter\":[{\"fillpattern\":{\"fillmode\":\"overlay\",\"size\":10,\"solidity\":0.2},\"type\":\"scatter\"}],\"parcoords\":[{\"type\":\"parcoords\",\"line\":{\"colorbar\":{\"outlinewidth\":0,\"ticks\":\"\"}}}],\"scatterpolargl\":[{\"type\":\"scatterpolargl\",\"marker\":{\"colorbar\":{\"outlinewidth\":0,\"ticks\":\"\"}}}],\"bar\":[{\"error_x\":{\"color\":\"#2a3f5f\"},\"error_y\":{\"color\":\"#2a3f5f\"},\"marker\":{\"line\":{\"color\":\"#E5ECF6\",\"width\":0.5},\"pattern\":{\"fillmode\":\"overlay\",\"size\":10,\"solidity\":0.2}},\"type\":\"bar\"}],\"scattergeo\":[{\"type\":\"scattergeo\",\"marker\":{\"colorbar\":{\"outlinewidth\":0,\"ticks\":\"\"}}}],\"scatterpolar\":[{\"type\":\"scatterpolar\",\"marker\":{\"colorbar\":{\"outlinewidth\":0,\"ticks\":\"\"}}}],\"histogram\":[{\"marker\":{\"pattern\":{\"fillmode\":\"overlay\",\"size\":10,\"solidity\":0.2}},\"type\":\"histogram\"}],\"scattergl\":[{\"type\":\"scattergl\",\"marker\":{\"colorbar\":{\"outlinewidth\":0,\"ticks\":\"\"}}}],\"scatter3d\":[{\"type\":\"scatter3d\",\"line\":{\"colorbar\":{\"outlinewidth\":0,\"ticks\":\"\"}},\"marker\":{\"colorbar\":{\"outlinewidth\":0,\"ticks\":\"\"}}}],\"scattermapbox\":[{\"type\":\"scattermapbox\",\"marker\":{\"colorbar\":{\"outlinewidth\":0,\"ticks\":\"\"}}}],\"scatterternary\":[{\"type\":\"scatterternary\",\"marker\":{\"colorbar\":{\"outlinewidth\":0,\"ticks\":\"\"}}}],\"scattercarpet\":[{\"type\":\"scattercarpet\",\"marker\":{\"colorbar\":{\"outlinewidth\":0,\"ticks\":\"\"}}}],\"carpet\":[{\"aaxis\":{\"endlinecolor\":\"#2a3f5f\",\"gridcolor\":\"white\",\"linecolor\":\"white\",\"minorgridcolor\":\"white\",\"startlinecolor\":\"#2a3f5f\"},\"baxis\":{\"endlinecolor\":\"#2a3f5f\",\"gridcolor\":\"white\",\"linecolor\":\"white\",\"minorgridcolor\":\"white\",\"startlinecolor\":\"#2a3f5f\"},\"type\":\"carpet\"}],\"table\":[{\"cells\":{\"fill\":{\"color\":\"#EBF0F8\"},\"line\":{\"color\":\"white\"}},\"header\":{\"fill\":{\"color\":\"#C8D4E3\"},\"line\":{\"color\":\"white\"}},\"type\":\"table\"}],\"barpolar\":[{\"marker\":{\"line\":{\"color\":\"#E5ECF6\",\"width\":0.5},\"pattern\":{\"fillmode\":\"overlay\",\"size\":10,\"solidity\":0.2}},\"type\":\"barpolar\"}],\"pie\":[{\"automargin\":true,\"type\":\"pie\"}]},\"layout\":{\"autotypenumbers\":\"strict\",\"colorway\":[\"#636efa\",\"#EF553B\",\"#00cc96\",\"#ab63fa\",\"#FFA15A\",\"#19d3f3\",\"#FF6692\",\"#B6E880\",\"#FF97FF\",\"#FECB52\"],\"font\":{\"color\":\"#2a3f5f\"},\"hovermode\":\"closest\",\"hoverlabel\":{\"align\":\"left\"},\"paper_bgcolor\":\"white\",\"plot_bgcolor\":\"#E5ECF6\",\"polar\":{\"bgcolor\":\"#E5ECF6\",\"angularaxis\":{\"gridcolor\":\"white\",\"linecolor\":\"white\",\"ticks\":\"\"},\"radialaxis\":{\"gridcolor\":\"white\",\"linecolor\":\"white\",\"ticks\":\"\"}},\"ternary\":{\"bgcolor\":\"#E5ECF6\",\"aaxis\":{\"gridcolor\":\"white\",\"linecolor\":\"white\",\"ticks\":\"\"},\"baxis\":{\"gridcolor\":\"white\",\"linecolor\":\"white\",\"ticks\":\"\"},\"caxis\":{\"gridcolor\":\"white\",\"linecolor\":\"white\",\"ticks\":\"\"}},\"coloraxis\":{\"colorbar\":{\"outlinewidth\":0,\"ticks\":\"\"}},\"colorscale\":{\"sequential\":[[0.0,\"#0d0887\"],[0.1111111111111111,\"#46039f\"],[0.2222222222222222,\"#7201a8\"],[0.3333333333333333,\"#9c179e\"],[0.4444444444444444,\"#bd3786\"],[0.5555555555555556,\"#d8576b\"],[0.6666666666666666,\"#ed7953\"],[0.7777777777777778,\"#fb9f3a\"],[0.8888888888888888,\"#fdca26\"],[1.0,\"#f0f921\"]],\"sequentialminus\":[[0.0,\"#0d0887\"],[0.1111111111111111,\"#46039f\"],[0.2222222222222222,\"#7201a8\"],[0.3333333333333333,\"#9c179e\"],[0.4444444444444444,\"#bd3786\"],[0.5555555555555556,\"#d8576b\"],[0.6666666666666666,\"#ed7953\"],[0.7777777777777778,\"#fb9f3a\"],[0.8888888888888888,\"#fdca26\"],[1.0,\"#f0f921\"]],\"diverging\":[[0,\"#8e0152\"],[0.1,\"#c51b7d\"],[0.2,\"#de77ae\"],[0.3,\"#f1b6da\"],[0.4,\"#fde0ef\"],[0.5,\"#f7f7f7\"],[0.6,\"#e6f5d0\"],[0.7,\"#b8e186\"],[0.8,\"#7fbc41\"],[0.9,\"#4d9221\"],[1,\"#276419\"]]},\"xaxis\":{\"gridcolor\":\"white\",\"linecolor\":\"white\",\"ticks\":\"\",\"title\":{\"standoff\":15},\"zerolinecolor\":\"white\",\"automargin\":true,\"zerolinewidth\":2},\"yaxis\":{\"gridcolor\":\"white\",\"linecolor\":\"white\",\"ticks\":\"\",\"title\":{\"standoff\":15},\"zerolinecolor\":\"white\",\"automargin\":true,\"zerolinewidth\":2},\"scene\":{\"xaxis\":{\"backgroundcolor\":\"#E5ECF6\",\"gridcolor\":\"white\",\"linecolor\":\"white\",\"showbackground\":true,\"ticks\":\"\",\"zerolinecolor\":\"white\",\"gridwidth\":2},\"yaxis\":{\"backgroundcolor\":\"#E5ECF6\",\"gridcolor\":\"white\",\"linecolor\":\"white\",\"showbackground\":true,\"ticks\":\"\",\"zerolinecolor\":\"white\",\"gridwidth\":2},\"zaxis\":{\"backgroundcolor\":\"#E5ECF6\",\"gridcolor\":\"white\",\"linecolor\":\"white\",\"showbackground\":true,\"ticks\":\"\",\"zerolinecolor\":\"white\",\"gridwidth\":2}},\"shapedefaults\":{\"line\":{\"color\":\"#2a3f5f\"}},\"annotationdefaults\":{\"arrowcolor\":\"#2a3f5f\",\"arrowhead\":0,\"arrowwidth\":1},\"geo\":{\"bgcolor\":\"white\",\"landcolor\":\"#E5ECF6\",\"subunitcolor\":\"white\",\"showland\":true,\"showlakes\":true,\"lakecolor\":\"white\"},\"title\":{\"x\":0.05},\"mapbox\":{\"style\":\"light\"}}},\"xaxis\":{\"anchor\":\"y\",\"domain\":[0.0,1.0],\"title\":{\"text\":\"Discount Applied\"}},\"yaxis\":{\"anchor\":\"x\",\"domain\":[0.0,1.0],\"title\":{\"text\":\"Purchase Amount (USD)\"}},\"legend\":{\"tracegroupgap\":0},\"title\":{\"text\":\"Total Purchase Amount by Discount Applied\"},\"barmode\":\"relative\"},                        {\"responsive\": true}                    ).then(function(){\n",
              "                            \n",
              "var gd = document.getElementById('5642ccf7-1464-47c5-a4d4-4a44577349bb');\n",
              "var x = new MutationObserver(function (mutations, observer) {{\n",
              "        var display = window.getComputedStyle(gd).display;\n",
              "        if (!display || display === 'none') {{\n",
              "            console.log([gd, 'removed!']);\n",
              "            Plotly.purge(gd);\n",
              "            observer.disconnect();\n",
              "        }}\n",
              "}});\n",
              "\n",
              "// Listen for the removal of the full notebook cells\n",
              "var notebookContainer = gd.closest('#notebook-container');\n",
              "if (notebookContainer) {{\n",
              "    x.observe(notebookContainer, {childList: true});\n",
              "}}\n",
              "\n",
              "// Listen for the clearing of the current output cell\n",
              "var outputEl = gd.closest('.output');\n",
              "if (outputEl) {{\n",
              "    x.observe(outputEl, {childList: true});\n",
              "}}\n",
              "\n",
              "                        })                };                            </script>        </div>\n",
              "</body>\n",
              "</html>"
            ]
          },
          "metadata": {}
        }
      ]
    },
    {
      "cell_type": "code",
      "source": [
        "# Create a sunburst chart\n",
        "fig = px.sunburst(shop, path=['Gender', 'Discount Applied'],\n",
        "                  values='Purchase Amount (USD)', color='Gender',\n",
        "                  title='Purchase Amount by Gender and Discount Applied')\n",
        "\n",
        "# Show the chart\n",
        "fig.show()"
      ],
      "metadata": {
        "colab": {
          "base_uri": "https://localhost:8080/",
          "height": 542
        },
        "id": "sXKYdE7IyRXH",
        "outputId": "ec66ed81-b4f5-4152-daaf-561318dde50a"
      },
      "execution_count": null,
      "outputs": [
        {
          "output_type": "display_data",
          "data": {
            "text/html": [
              "<html>\n",
              "<head><meta charset=\"utf-8\" /></head>\n",
              "<body>\n",
              "    <div>            <script src=\"https://cdnjs.cloudflare.com/ajax/libs/mathjax/2.7.5/MathJax.js?config=TeX-AMS-MML_SVG\"></script><script type=\"text/javascript\">if (window.MathJax && window.MathJax.Hub && window.MathJax.Hub.Config) {window.MathJax.Hub.Config({SVG: {font: \"STIX-Web\"}});}</script>                <script type=\"text/javascript\">window.PlotlyConfig = {MathJaxConfig: 'local'};</script>\n",
              "        <script charset=\"utf-8\" src=\"https://cdn.plot.ly/plotly-2.35.2.min.js\"></script>                <div id=\"156d3d21-faaa-490e-bcb8-8613a0fa4250\" class=\"plotly-graph-div\" style=\"height:525px; width:100%;\"></div>            <script type=\"text/javascript\">                                    window.PLOTLYENV=window.PLOTLYENV || {};                                    if (document.getElementById(\"156d3d21-faaa-490e-bcb8-8613a0fa4250\")) {                    Plotly.newPlot(                        \"156d3d21-faaa-490e-bcb8-8613a0fa4250\",                        [{\"branchvalues\":\"total\",\"customdata\":[[\"Female\"],[\"Male\"],[\"Male\"],[\"Female\"],[\"Male\"]],\"domain\":{\"x\":[0.0,1.0],\"y\":[0.0,1.0]},\"hovertemplate\":\"labels=%{label}\\u003cbr\\u003ePurchase Amount (USD)=%{value}\\u003cbr\\u003eparent=%{parent}\\u003cbr\\u003eid=%{id}\\u003cbr\\u003eGender=%{customdata[0]}\\u003cextra\\u003e\\u003c\\u002fextra\\u003e\",\"ids\":[\"Female\\u002fNo\",\"Male\\u002fNo\",\"Male\\u002fYes\",\"Female\",\"Male\"],\"labels\":[\"No\",\"No\",\"Yes\",\"Female\",\"Male\"],\"marker\":{\"colors\":[\"#636efa\",\"#EF553B\",\"#EF553B\",\"#636efa\",\"#EF553B\"]},\"name\":\"\",\"parents\":[\"Female\",\"Male\",\"Male\",\"\",\"\"],\"values\":[75191,58479,99411,75191,157890],\"type\":\"sunburst\"}],                        {\"template\":{\"data\":{\"histogram2dcontour\":[{\"type\":\"histogram2dcontour\",\"colorbar\":{\"outlinewidth\":0,\"ticks\":\"\"},\"colorscale\":[[0.0,\"#0d0887\"],[0.1111111111111111,\"#46039f\"],[0.2222222222222222,\"#7201a8\"],[0.3333333333333333,\"#9c179e\"],[0.4444444444444444,\"#bd3786\"],[0.5555555555555556,\"#d8576b\"],[0.6666666666666666,\"#ed7953\"],[0.7777777777777778,\"#fb9f3a\"],[0.8888888888888888,\"#fdca26\"],[1.0,\"#f0f921\"]]}],\"choropleth\":[{\"type\":\"choropleth\",\"colorbar\":{\"outlinewidth\":0,\"ticks\":\"\"}}],\"histogram2d\":[{\"type\":\"histogram2d\",\"colorbar\":{\"outlinewidth\":0,\"ticks\":\"\"},\"colorscale\":[[0.0,\"#0d0887\"],[0.1111111111111111,\"#46039f\"],[0.2222222222222222,\"#7201a8\"],[0.3333333333333333,\"#9c179e\"],[0.4444444444444444,\"#bd3786\"],[0.5555555555555556,\"#d8576b\"],[0.6666666666666666,\"#ed7953\"],[0.7777777777777778,\"#fb9f3a\"],[0.8888888888888888,\"#fdca26\"],[1.0,\"#f0f921\"]]}],\"heatmap\":[{\"type\":\"heatmap\",\"colorbar\":{\"outlinewidth\":0,\"ticks\":\"\"},\"colorscale\":[[0.0,\"#0d0887\"],[0.1111111111111111,\"#46039f\"],[0.2222222222222222,\"#7201a8\"],[0.3333333333333333,\"#9c179e\"],[0.4444444444444444,\"#bd3786\"],[0.5555555555555556,\"#d8576b\"],[0.6666666666666666,\"#ed7953\"],[0.7777777777777778,\"#fb9f3a\"],[0.8888888888888888,\"#fdca26\"],[1.0,\"#f0f921\"]]}],\"heatmapgl\":[{\"type\":\"heatmapgl\",\"colorbar\":{\"outlinewidth\":0,\"ticks\":\"\"},\"colorscale\":[[0.0,\"#0d0887\"],[0.1111111111111111,\"#46039f\"],[0.2222222222222222,\"#7201a8\"],[0.3333333333333333,\"#9c179e\"],[0.4444444444444444,\"#bd3786\"],[0.5555555555555556,\"#d8576b\"],[0.6666666666666666,\"#ed7953\"],[0.7777777777777778,\"#fb9f3a\"],[0.8888888888888888,\"#fdca26\"],[1.0,\"#f0f921\"]]}],\"contourcarpet\":[{\"type\":\"contourcarpet\",\"colorbar\":{\"outlinewidth\":0,\"ticks\":\"\"}}],\"contour\":[{\"type\":\"contour\",\"colorbar\":{\"outlinewidth\":0,\"ticks\":\"\"},\"colorscale\":[[0.0,\"#0d0887\"],[0.1111111111111111,\"#46039f\"],[0.2222222222222222,\"#7201a8\"],[0.3333333333333333,\"#9c179e\"],[0.4444444444444444,\"#bd3786\"],[0.5555555555555556,\"#d8576b\"],[0.6666666666666666,\"#ed7953\"],[0.7777777777777778,\"#fb9f3a\"],[0.8888888888888888,\"#fdca26\"],[1.0,\"#f0f921\"]]}],\"surface\":[{\"type\":\"surface\",\"colorbar\":{\"outlinewidth\":0,\"ticks\":\"\"},\"colorscale\":[[0.0,\"#0d0887\"],[0.1111111111111111,\"#46039f\"],[0.2222222222222222,\"#7201a8\"],[0.3333333333333333,\"#9c179e\"],[0.4444444444444444,\"#bd3786\"],[0.5555555555555556,\"#d8576b\"],[0.6666666666666666,\"#ed7953\"],[0.7777777777777778,\"#fb9f3a\"],[0.8888888888888888,\"#fdca26\"],[1.0,\"#f0f921\"]]}],\"mesh3d\":[{\"type\":\"mesh3d\",\"colorbar\":{\"outlinewidth\":0,\"ticks\":\"\"}}],\"scatter\":[{\"fillpattern\":{\"fillmode\":\"overlay\",\"size\":10,\"solidity\":0.2},\"type\":\"scatter\"}],\"parcoords\":[{\"type\":\"parcoords\",\"line\":{\"colorbar\":{\"outlinewidth\":0,\"ticks\":\"\"}}}],\"scatterpolargl\":[{\"type\":\"scatterpolargl\",\"marker\":{\"colorbar\":{\"outlinewidth\":0,\"ticks\":\"\"}}}],\"bar\":[{\"error_x\":{\"color\":\"#2a3f5f\"},\"error_y\":{\"color\":\"#2a3f5f\"},\"marker\":{\"line\":{\"color\":\"#E5ECF6\",\"width\":0.5},\"pattern\":{\"fillmode\":\"overlay\",\"size\":10,\"solidity\":0.2}},\"type\":\"bar\"}],\"scattergeo\":[{\"type\":\"scattergeo\",\"marker\":{\"colorbar\":{\"outlinewidth\":0,\"ticks\":\"\"}}}],\"scatterpolar\":[{\"type\":\"scatterpolar\",\"marker\":{\"colorbar\":{\"outlinewidth\":0,\"ticks\":\"\"}}}],\"histogram\":[{\"marker\":{\"pattern\":{\"fillmode\":\"overlay\",\"size\":10,\"solidity\":0.2}},\"type\":\"histogram\"}],\"scattergl\":[{\"type\":\"scattergl\",\"marker\":{\"colorbar\":{\"outlinewidth\":0,\"ticks\":\"\"}}}],\"scatter3d\":[{\"type\":\"scatter3d\",\"line\":{\"colorbar\":{\"outlinewidth\":0,\"ticks\":\"\"}},\"marker\":{\"colorbar\":{\"outlinewidth\":0,\"ticks\":\"\"}}}],\"scattermapbox\":[{\"type\":\"scattermapbox\",\"marker\":{\"colorbar\":{\"outlinewidth\":0,\"ticks\":\"\"}}}],\"scatterternary\":[{\"type\":\"scatterternary\",\"marker\":{\"colorbar\":{\"outlinewidth\":0,\"ticks\":\"\"}}}],\"scattercarpet\":[{\"type\":\"scattercarpet\",\"marker\":{\"colorbar\":{\"outlinewidth\":0,\"ticks\":\"\"}}}],\"carpet\":[{\"aaxis\":{\"endlinecolor\":\"#2a3f5f\",\"gridcolor\":\"white\",\"linecolor\":\"white\",\"minorgridcolor\":\"white\",\"startlinecolor\":\"#2a3f5f\"},\"baxis\":{\"endlinecolor\":\"#2a3f5f\",\"gridcolor\":\"white\",\"linecolor\":\"white\",\"minorgridcolor\":\"white\",\"startlinecolor\":\"#2a3f5f\"},\"type\":\"carpet\"}],\"table\":[{\"cells\":{\"fill\":{\"color\":\"#EBF0F8\"},\"line\":{\"color\":\"white\"}},\"header\":{\"fill\":{\"color\":\"#C8D4E3\"},\"line\":{\"color\":\"white\"}},\"type\":\"table\"}],\"barpolar\":[{\"marker\":{\"line\":{\"color\":\"#E5ECF6\",\"width\":0.5},\"pattern\":{\"fillmode\":\"overlay\",\"size\":10,\"solidity\":0.2}},\"type\":\"barpolar\"}],\"pie\":[{\"automargin\":true,\"type\":\"pie\"}]},\"layout\":{\"autotypenumbers\":\"strict\",\"colorway\":[\"#636efa\",\"#EF553B\",\"#00cc96\",\"#ab63fa\",\"#FFA15A\",\"#19d3f3\",\"#FF6692\",\"#B6E880\",\"#FF97FF\",\"#FECB52\"],\"font\":{\"color\":\"#2a3f5f\"},\"hovermode\":\"closest\",\"hoverlabel\":{\"align\":\"left\"},\"paper_bgcolor\":\"white\",\"plot_bgcolor\":\"#E5ECF6\",\"polar\":{\"bgcolor\":\"#E5ECF6\",\"angularaxis\":{\"gridcolor\":\"white\",\"linecolor\":\"white\",\"ticks\":\"\"},\"radialaxis\":{\"gridcolor\":\"white\",\"linecolor\":\"white\",\"ticks\":\"\"}},\"ternary\":{\"bgcolor\":\"#E5ECF6\",\"aaxis\":{\"gridcolor\":\"white\",\"linecolor\":\"white\",\"ticks\":\"\"},\"baxis\":{\"gridcolor\":\"white\",\"linecolor\":\"white\",\"ticks\":\"\"},\"caxis\":{\"gridcolor\":\"white\",\"linecolor\":\"white\",\"ticks\":\"\"}},\"coloraxis\":{\"colorbar\":{\"outlinewidth\":0,\"ticks\":\"\"}},\"colorscale\":{\"sequential\":[[0.0,\"#0d0887\"],[0.1111111111111111,\"#46039f\"],[0.2222222222222222,\"#7201a8\"],[0.3333333333333333,\"#9c179e\"],[0.4444444444444444,\"#bd3786\"],[0.5555555555555556,\"#d8576b\"],[0.6666666666666666,\"#ed7953\"],[0.7777777777777778,\"#fb9f3a\"],[0.8888888888888888,\"#fdca26\"],[1.0,\"#f0f921\"]],\"sequentialminus\":[[0.0,\"#0d0887\"],[0.1111111111111111,\"#46039f\"],[0.2222222222222222,\"#7201a8\"],[0.3333333333333333,\"#9c179e\"],[0.4444444444444444,\"#bd3786\"],[0.5555555555555556,\"#d8576b\"],[0.6666666666666666,\"#ed7953\"],[0.7777777777777778,\"#fb9f3a\"],[0.8888888888888888,\"#fdca26\"],[1.0,\"#f0f921\"]],\"diverging\":[[0,\"#8e0152\"],[0.1,\"#c51b7d\"],[0.2,\"#de77ae\"],[0.3,\"#f1b6da\"],[0.4,\"#fde0ef\"],[0.5,\"#f7f7f7\"],[0.6,\"#e6f5d0\"],[0.7,\"#b8e186\"],[0.8,\"#7fbc41\"],[0.9,\"#4d9221\"],[1,\"#276419\"]]},\"xaxis\":{\"gridcolor\":\"white\",\"linecolor\":\"white\",\"ticks\":\"\",\"title\":{\"standoff\":15},\"zerolinecolor\":\"white\",\"automargin\":true,\"zerolinewidth\":2},\"yaxis\":{\"gridcolor\":\"white\",\"linecolor\":\"white\",\"ticks\":\"\",\"title\":{\"standoff\":15},\"zerolinecolor\":\"white\",\"automargin\":true,\"zerolinewidth\":2},\"scene\":{\"xaxis\":{\"backgroundcolor\":\"#E5ECF6\",\"gridcolor\":\"white\",\"linecolor\":\"white\",\"showbackground\":true,\"ticks\":\"\",\"zerolinecolor\":\"white\",\"gridwidth\":2},\"yaxis\":{\"backgroundcolor\":\"#E5ECF6\",\"gridcolor\":\"white\",\"linecolor\":\"white\",\"showbackground\":true,\"ticks\":\"\",\"zerolinecolor\":\"white\",\"gridwidth\":2},\"zaxis\":{\"backgroundcolor\":\"#E5ECF6\",\"gridcolor\":\"white\",\"linecolor\":\"white\",\"showbackground\":true,\"ticks\":\"\",\"zerolinecolor\":\"white\",\"gridwidth\":2}},\"shapedefaults\":{\"line\":{\"color\":\"#2a3f5f\"}},\"annotationdefaults\":{\"arrowcolor\":\"#2a3f5f\",\"arrowhead\":0,\"arrowwidth\":1},\"geo\":{\"bgcolor\":\"white\",\"landcolor\":\"#E5ECF6\",\"subunitcolor\":\"white\",\"showland\":true,\"showlakes\":true,\"lakecolor\":\"white\"},\"title\":{\"x\":0.05},\"mapbox\":{\"style\":\"light\"}}},\"legend\":{\"tracegroupgap\":0},\"title\":{\"text\":\"Purchase Amount by Gender and Discount Applied\"}},                        {\"responsive\": true}                    ).then(function(){\n",
              "                            \n",
              "var gd = document.getElementById('156d3d21-faaa-490e-bcb8-8613a0fa4250');\n",
              "var x = new MutationObserver(function (mutations, observer) {{\n",
              "        var display = window.getComputedStyle(gd).display;\n",
              "        if (!display || display === 'none') {{\n",
              "            console.log([gd, 'removed!']);\n",
              "            Plotly.purge(gd);\n",
              "            observer.disconnect();\n",
              "        }}\n",
              "}});\n",
              "\n",
              "// Listen for the removal of the full notebook cells\n",
              "var notebookContainer = gd.closest('#notebook-container');\n",
              "if (notebookContainer) {{\n",
              "    x.observe(notebookContainer, {childList: true});\n",
              "}}\n",
              "\n",
              "// Listen for the clearing of the current output cell\n",
              "var outputEl = gd.closest('.output');\n",
              "if (outputEl) {{\n",
              "    x.observe(outputEl, {childList: true});\n",
              "}}\n",
              "\n",
              "                        })                };                            </script>        </div>\n",
              "</body>\n",
              "</html>"
            ]
          },
          "metadata": {}
        }
      ]
    },
    {
      "cell_type": "markdown",
      "source": [
        "14.\tAre there any specific colors that are more popular among customers?"
      ],
      "metadata": {
        "id": "5We9HriYy2PG"
      }
    },
    {
      "cell_type": "code",
      "source": [
        "# Create a histogram based on the 'Color' column\n",
        "fig = px.histogram(shop, x='Color', title='Distribution of Purchases by Color')\n",
        "\n",
        "# Show the chart\n",
        "fig.show()\n"
      ],
      "metadata": {
        "colab": {
          "base_uri": "https://localhost:8080/",
          "height": 542
        },
        "id": "lZQKJJcoyRUX",
        "outputId": "ed419de8-10b9-4373-fc7a-fea1bb43fe7d"
      },
      "execution_count": null,
      "outputs": [
        {
          "output_type": "display_data",
          "data": {
            "text/html": [
              "<html>\n",
              "<head><meta charset=\"utf-8\" /></head>\n",
              "<body>\n",
              "    <div>            <script src=\"https://cdnjs.cloudflare.com/ajax/libs/mathjax/2.7.5/MathJax.js?config=TeX-AMS-MML_SVG\"></script><script type=\"text/javascript\">if (window.MathJax && window.MathJax.Hub && window.MathJax.Hub.Config) {window.MathJax.Hub.Config({SVG: {font: \"STIX-Web\"}});}</script>                <script type=\"text/javascript\">window.PlotlyConfig = {MathJaxConfig: 'local'};</script>\n",
              "        <script charset=\"utf-8\" src=\"https://cdn.plot.ly/plotly-2.35.2.min.js\"></script>                <div id=\"7fb53ceb-9c9b-4ef6-9819-d49a0ad8fecf\" class=\"plotly-graph-div\" style=\"height:525px; width:100%;\"></div>            <script type=\"text/javascript\">                                    window.PLOTLYENV=window.PLOTLYENV || {};                                    if (document.getElementById(\"7fb53ceb-9c9b-4ef6-9819-d49a0ad8fecf\")) {                    Plotly.newPlot(                        \"7fb53ceb-9c9b-4ef6-9819-d49a0ad8fecf\",                        [{\"alignmentgroup\":\"True\",\"bingroup\":\"x\",\"hovertemplate\":\"Color=%{x}\\u003cbr\\u003ecount=%{y}\\u003cextra\\u003e\\u003c\\u002fextra\\u003e\",\"legendgroup\":\"\",\"marker\":{\"color\":\"#636efa\",\"pattern\":{\"shape\":\"\"}},\"name\":\"\",\"offsetgroup\":\"\",\"orientation\":\"v\",\"showlegend\":false,\"x\":[\"Gray\",\"Maroon\",\"Maroon\",\"Maroon\",\"Turquoise\",\"White\",\"Gray\",\"Charcoal\",\"Silver\",\"Pink\",\"Purple\",\"Olive\",\"Gold\",\"Violet\",\"Teal\",\"Teal\",\"Gray\",\"Lavender\",\"Black\",\"Green\",\"Black\",\"Charcoal\",\"Peach\",\"White\",\"Green\",\"Silver\",\"Red\",\"Cyan\",\"Gray\",\"Black\",\"Black\",\"Brown\",\"Silver\",\"Green\",\"Violet\",\"Cyan\",\"Maroon\",\"Cyan\",\"Red\",\"Turquoise\",\"Beige\",\"Orange\",\"Beige\",\"Lavender\",\"Silver\",\"Indigo\",\"White\",\"Charcoal\",\"Orange\",\"Indigo\",\"Red\",\"Gray\",\"Green\",\"Peach\",\"Brown\",\"Lavender\",\"Brown\",\"White\",\"Charcoal\",\"Yellow\",\"Brown\",\"Orange\",\"Magenta\",\"Lavender\",\"Green\",\"Purple\",\"Magenta\",\"Gray\",\"Silver\",\"Cyan\",\"Magenta\",\"Gold\",\"Olive\",\"Teal\",\"Violet\",\"Blue\",\"Teal\",\"Gold\",\"Maroon\",\"Olive\",\"Blue\",\"Maroon\",\"Olive\",\"Turquoise\",\"Peach\",\"Charcoal\",\"Pink\",\"Green\",\"Orange\",\"Pink\",\"Violet\",\"Green\",\"Olive\",\"Purple\",\"Silver\",\"Pink\",\"Gold\",\"Teal\",\"Teal\",\"Indigo\",\"Maroon\",\"White\",\"Violet\",\"Red\",\"Pink\",\"Charcoal\",\"White\",\"Olive\",\"Purple\",\"Violet\",\"Black\",\"Purple\",\"Red\",\"Maroon\",\"Blue\",\"Gray\",\"Blue\",\"Yellow\",\"Orange\",\"Orange\",\"Red\",\"Olive\",\"Brown\",\"Brown\",\"Gray\",\"Indigo\",\"Pink\",\"Gray\",\"Gold\",\"Olive\",\"Violet\",\"Indigo\",\"Orange\",\"Violet\",\"Gray\",\"Purple\",\"White\",\"Turquoise\",\"Maroon\",\"White\",\"Yellow\",\"Turquoise\",\"Violet\",\"Beige\",\"Silver\",\"Teal\",\"Black\",\"Purple\",\"Gray\",\"White\",\"Cyan\",\"Turquoise\",\"Brown\",\"Maroon\",\"Charcoal\",\"Olive\",\"Lavender\",\"Yellow\",\"Teal\",\"Charcoal\",\"Orange\",\"Olive\",\"Turquoise\",\"Purple\",\"Purple\",\"Yellow\",\"Indigo\",\"Green\",\"Magenta\",\"Gold\",\"Maroon\",\"Blue\",\"Violet\",\"Turquoise\",\"Brown\",\"Violet\",\"Black\",\"Magenta\",\"Lavender\",\"Violet\",\"Green\",\"Beige\",\"Purple\",\"Beige\",\"Cyan\",\"Silver\",\"Lavender\",\"Purple\",\"Pink\",\"Maroon\",\"Beige\",\"Gray\",\"Turquoise\",\"Silver\",\"Olive\",\"Magenta\",\"Lavender\",\"Black\",\"Turquoise\",\"Green\",\"Teal\",\"Beige\",\"Magenta\",\"Yellow\",\"Yellow\",\"Silver\",\"Silver\",\"Silver\",\"Gold\",\"Olive\",\"Teal\",\"Maroon\",\"Blue\",\"Peach\",\"Blue\",\"Orange\",\"Yellow\",\"Purple\",\"Magenta\",\"Cyan\",\"Indigo\",\"Magenta\",\"Gray\",\"Turquoise\",\"Beige\",\"Olive\",\"Violet\",\"Turquoise\",\"White\",\"Silver\",\"Olive\",\"Blue\",\"Purple\",\"Yellow\",\"Silver\",\"Cyan\",\"Green\",\"Beige\",\"Peach\",\"Yellow\",\"Turquoise\",\"Peach\",\"Gray\",\"Olive\",\"Indigo\",\"Charcoal\",\"Beige\",\"Brown\",\"Blue\",\"Teal\",\"Black\",\"Gold\",\"Violet\",\"Cyan\",\"White\",\"Charcoal\",\"Violet\",\"Red\",\"Lavender\",\"Gold\",\"Red\",\"Magenta\",\"Teal\",\"Purple\",\"Charcoal\",\"Gray\",\"White\",\"Olive\",\"Charcoal\",\"Charcoal\",\"Orange\",\"Yellow\",\"Beige\",\"Silver\",\"Indigo\",\"Lavender\",\"Turquoise\",\"Green\",\"Orange\",\"Turquoise\",\"Cyan\",\"Charcoal\",\"Teal\",\"Maroon\",\"Red\",\"Yellow\",\"Gray\",\"Blue\",\"Lavender\",\"Yellow\",\"Indigo\",\"Violet\",\"Green\",\"White\",\"Gold\",\"Indigo\",\"Lavender\",\"Purple\",\"Lavender\",\"Maroon\",\"Teal\",\"Green\",\"Olive\",\"Turquoise\",\"Green\",\"Teal\",\"White\",\"Orange\",\"Beige\",\"Yellow\",\"Charcoal\",\"Silver\",\"Green\",\"Pink\",\"Purple\",\"Orange\",\"Charcoal\",\"Teal\",\"Beige\",\"White\",\"White\",\"Orange\",\"Cyan\",\"Orange\",\"Olive\",\"Charcoal\",\"White\",\"Teal\",\"Yellow\",\"White\",\"Beige\",\"Beige\",\"Maroon\",\"Teal\",\"Lavender\",\"Maroon\",\"Orange\",\"Cyan\",\"Silver\",\"Teal\",\"Blue\",\"Blue\",\"Olive\",\"Purple\",\"Charcoal\",\"Olive\",\"Violet\",\"Red\",\"Beige\",\"Green\",\"Violet\",\"Teal\",\"Yellow\",\"Yellow\",\"Olive\",\"Magenta\",\"Black\",\"Olive\",\"Magenta\",\"Olive\",\"Teal\",\"White\",\"Charcoal\",\"Yellow\",\"Charcoal\",\"Gray\",\"Turquoise\",\"Cyan\",\"Charcoal\",\"Silver\",\"Olive\",\"Pink\",\"Orange\",\"White\",\"Purple\",\"Olive\",\"Gray\",\"Silver\",\"Orange\",\"Magenta\",\"Beige\",\"Lavender\",\"Peach\",\"Magenta\",\"Beige\",\"Yellow\",\"Brown\",\"Silver\",\"Orange\",\"Purple\",\"Indigo\",\"Gray\",\"Black\",\"Maroon\",\"Beige\",\"Brown\",\"Black\",\"Indigo\",\"Silver\",\"Blue\",\"Green\",\"Orange\",\"Cyan\",\"Orange\",\"Indigo\",\"Silver\",\"Peach\",\"Teal\",\"White\",\"Brown\",\"Lavender\",\"Indigo\",\"Yellow\",\"White\",\"Violet\",\"Lavender\",\"Olive\",\"Beige\",\"Purple\",\"Teal\",\"Peach\",\"Violet\",\"Purple\",\"Teal\",\"Gold\",\"Teal\",\"Violet\",\"Black\",\"Gold\",\"Gold\",\"Brown\",\"Cyan\",\"Indigo\",\"Orange\",\"Pink\",\"Olive\",\"Cyan\",\"Peach\",\"Turquoise\",\"Turquoise\",\"Maroon\",\"Maroon\",\"Olive\",\"Magenta\",\"Red\",\"Olive\",\"Silver\",\"Turquoise\",\"Yellow\",\"Peach\",\"Beige\",\"Pink\",\"Violet\",\"Peach\",\"Gold\",\"Gold\",\"Indigo\",\"Blue\",\"Black\",\"Black\",\"Teal\",\"Yellow\",\"White\",\"Orange\",\"Silver\",\"Pink\",\"Turquoise\",\"Orange\",\"Peach\",\"Pink\",\"Teal\",\"White\",\"Gray\",\"Olive\",\"Maroon\",\"Magenta\",\"Magenta\",\"Green\",\"Turquoise\",\"Yellow\",\"Gray\",\"Peach\",\"Yellow\",\"White\",\"Lavender\",\"Blue\",\"Charcoal\",\"Red\",\"Olive\",\"Green\",\"Silver\",\"Silver\",\"Black\",\"Red\",\"Indigo\",\"Cyan\",\"Maroon\",\"Silver\",\"Lavender\",\"Silver\",\"Purple\",\"Cyan\",\"Cyan\",\"Lavender\",\"Maroon\",\"Gray\",\"Olive\",\"Magenta\",\"Yellow\",\"Cyan\",\"Teal\",\"Yellow\",\"Peach\",\"Peach\",\"Olive\",\"Charcoal\",\"Indigo\",\"Silver\",\"Beige\",\"Blue\",\"White\",\"Gold\",\"Blue\",\"Orange\",\"Gold\",\"Cyan\",\"Red\",\"Yellow\",\"Beige\",\"Orange\",\"Magenta\",\"Purple\",\"Black\",\"Pink\",\"Pink\",\"Maroon\",\"Maroon\",\"Turquoise\",\"Green\",\"Violet\",\"Lavender\",\"Gray\",\"Teal\",\"Red\",\"Yellow\",\"Magenta\",\"Brown\",\"Blue\",\"Black\",\"Olive\",\"Olive\",\"Green\",\"Peach\",\"White\",\"Red\",\"White\",\"Indigo\",\"White\",\"Teal\",\"Indigo\",\"Red\",\"Blue\",\"Blue\",\"Black\",\"Olive\",\"Lavender\",\"Indigo\",\"Red\",\"Red\",\"Pink\",\"Purple\",\"Cyan\",\"Cyan\",\"Charcoal\",\"Red\",\"Peach\",\"Black\",\"Black\",\"Purple\",\"Violet\",\"Orange\",\"Charcoal\",\"Turquoise\",\"Yellow\",\"White\",\"Gray\",\"Blue\",\"Maroon\",\"Violet\",\"Orange\",\"Turquoise\",\"Olive\",\"Brown\",\"Green\",\"Brown\",\"Silver\",\"White\",\"Gold\",\"Green\",\"Teal\",\"Charcoal\",\"Maroon\",\"Lavender\",\"Green\",\"Pink\",\"Charcoal\",\"Blue\",\"Purple\",\"Gold\",\"Purple\",\"Charcoal\",\"Black\",\"Lavender\",\"Lavender\",\"Lavender\",\"Olive\",\"Teal\",\"Maroon\",\"Cyan\",\"Charcoal\",\"Black\",\"Red\",\"Peach\",\"White\",\"Pink\",\"Red\",\"Indigo\",\"Black\",\"White\",\"Beige\",\"Silver\",\"Violet\",\"Red\",\"Orange\",\"Teal\",\"Brown\",\"Indigo\",\"Cyan\",\"Blue\",\"Olive\",\"Gray\",\"Red\",\"Red\",\"Green\",\"Blue\",\"Purple\",\"Pink\",\"Charcoal\",\"Brown\",\"Orange\",\"Magenta\",\"Yellow\",\"Beige\",\"Olive\",\"Gray\",\"Purple\",\"Beige\",\"White\",\"White\",\"Gold\",\"Olive\",\"Green\",\"Magenta\",\"Charcoal\",\"Indigo\",\"Peach\",\"Turquoise\",\"Blue\",\"Turquoise\",\"Gray\",\"Purple\",\"Black\",\"Peach\",\"Indigo\",\"Beige\",\"Yellow\",\"Peach\",\"Turquoise\",\"Teal\",\"Turquoise\",\"Magenta\",\"Purple\",\"Brown\",\"Violet\",\"Yellow\",\"Magenta\",\"Beige\",\"Turquoise\",\"Peach\",\"Orange\",\"Red\",\"Silver\",\"Cyan\",\"Turquoise\",\"Charcoal\",\"Peach\",\"Green\",\"Brown\",\"Yellow\",\"Charcoal\",\"Olive\",\"Red\",\"White\",\"Pink\",\"Black\",\"Indigo\",\"Turquoise\",\"Purple\",\"Beige\",\"Charcoal\",\"Turquoise\",\"Maroon\",\"Black\",\"Lavender\",\"Magenta\",\"Green\",\"Olive\",\"Green\",\"Peach\",\"Turquoise\",\"Orange\",\"Silver\",\"Blue\",\"Cyan\",\"Green\",\"Silver\",\"Yellow\",\"Gray\",\"Pink\",\"Beige\",\"Indigo\",\"Red\",\"Blue\",\"Cyan\",\"Violet\",\"Orange\",\"Maroon\",\"Teal\",\"Orange\",\"Purple\",\"Orange\",\"Yellow\",\"Charcoal\",\"Gray\",\"Charcoal\",\"Orange\",\"Red\",\"Gold\",\"Brown\",\"Olive\",\"Violet\",\"Indigo\",\"Yellow\",\"Teal\",\"Pink\",\"Violet\",\"Orange\",\"Red\",\"Peach\",\"Green\",\"Violet\",\"Yellow\",\"Pink\",\"Brown\",\"Silver\",\"Pink\",\"Cyan\",\"Brown\",\"Red\",\"Silver\",\"Gray\",\"Cyan\",\"Teal\",\"Indigo\",\"Yellow\",\"Gold\",\"Maroon\",\"Silver\",\"Yellow\",\"Blue\",\"Turquoise\",\"Indigo\",\"Green\",\"Purple\",\"Peach\",\"Purple\",\"Teal\",\"Green\",\"Yellow\",\"Purple\",\"Indigo\",\"Magenta\",\"Violet\",\"Maroon\",\"Yellow\",\"Beige\",\"Black\",\"Violet\",\"Violet\",\"Brown\",\"Gold\",\"Blue\",\"Teal\",\"Silver\",\"Maroon\",\"White\",\"Charcoal\",\"Brown\",\"Lavender\",\"Violet\",\"Lavender\",\"Green\",\"Olive\",\"Olive\",\"Pink\",\"Teal\",\"Cyan\",\"Gray\",\"Peach\",\"Teal\",\"Turquoise\",\"Green\",\"Magenta\",\"Green\",\"White\",\"Brown\",\"Purple\",\"Green\",\"Peach\",\"Silver\",\"Maroon\",\"Red\",\"Blue\",\"Purple\",\"Indigo\",\"Indigo\",\"Violet\",\"Brown\",\"Gray\",\"Teal\",\"Teal\",\"Beige\",\"Violet\",\"Beige\",\"Purple\",\"Charcoal\",\"Pink\",\"Blue\",\"Lavender\",\"Charcoal\",\"Turquoise\",\"Red\",\"Yellow\",\"Orange\",\"Blue\",\"Gold\",\"Gold\",\"Cyan\",\"Olive\",\"Teal\",\"Maroon\",\"Green\",\"Charcoal\",\"Cyan\",\"Charcoal\",\"Charcoal\",\"Lavender\",\"Turquoise\",\"Green\",\"Silver\",\"Blue\",\"Charcoal\",\"Pink\",\"Pink\",\"Magenta\",\"Gray\",\"Gray\",\"Orange\",\"Black\",\"Lavender\",\"Red\",\"Silver\",\"Cyan\",\"Gold\",\"Yellow\",\"Purple\",\"Brown\",\"Turquoise\",\"Gold\",\"Olive\",\"Purple\",\"Lavender\",\"Gray\",\"Red\",\"Purple\",\"Olive\",\"Lavender\",\"Gray\",\"Red\",\"Peach\",\"Gray\",\"Violet\",\"Beige\",\"Blue\",\"Magenta\",\"Cyan\",\"Red\",\"Cyan\",\"Turquoise\",\"Silver\",\"Pink\",\"Black\",\"Green\",\"Yellow\",\"Purple\",\"Purple\",\"Blue\",\"Maroon\",\"Orange\",\"Green\",\"Gold\",\"Silver\",\"Cyan\",\"Silver\",\"Beige\",\"Teal\",\"Green\",\"Black\",\"Yellow\",\"White\",\"Green\",\"Silver\",\"Blue\",\"Magenta\",\"Yellow\",\"White\",\"Pink\",\"Magenta\",\"Teal\",\"Indigo\",\"Maroon\",\"Black\",\"Cyan\",\"Cyan\",\"Gray\",\"Violet\",\"Blue\",\"Charcoal\",\"Olive\",\"Olive\",\"Turquoise\",\"Cyan\",\"Red\",\"Cyan\",\"Turquoise\",\"Lavender\",\"Cyan\",\"Violet\",\"Beige\",\"Cyan\",\"Indigo\",\"Olive\",\"Green\",\"Green\",\"Beige\",\"Black\",\"Brown\",\"Silver\",\"Gray\",\"Pink\",\"Maroon\",\"Cyan\",\"Gold\",\"Teal\",\"Beige\",\"Olive\",\"Gray\",\"Black\",\"Turquoise\",\"Brown\",\"Magenta\",\"Silver\",\"Red\",\"Indigo\",\"Green\",\"Gray\",\"Peach\",\"Charcoal\",\"Orange\",\"Beige\",\"Yellow\",\"White\",\"Gray\",\"Peach\",\"Violet\",\"Magenta\",\"Maroon\",\"Cyan\",\"White\",\"Brown\",\"Red\",\"Orange\",\"White\",\"Green\",\"Black\",\"Gold\",\"Lavender\",\"Turquoise\",\"Pink\",\"Silver\",\"Gray\",\"Indigo\",\"Teal\",\"Green\",\"Violet\",\"Cyan\",\"Blue\",\"Orange\",\"Charcoal\",\"Beige\",\"Black\",\"Lavender\",\"Lavender\",\"Turquoise\",\"Purple\",\"Olive\",\"Turquoise\",\"Teal\",\"Lavender\",\"Purple\",\"Blue\",\"Teal\",\"Lavender\",\"Silver\",\"Olive\",\"Brown\",\"Yellow\",\"Brown\",\"Cyan\",\"Magenta\",\"Magenta\",\"Orange\",\"Maroon\",\"Green\",\"Teal\",\"Black\",\"Magenta\",\"Olive\",\"Yellow\",\"Purple\",\"Beige\",\"Indigo\",\"Pink\",\"Blue\",\"Cyan\",\"Orange\",\"Black\",\"Maroon\",\"Violet\",\"Beige\",\"Gray\",\"Gray\",\"Brown\",\"Indigo\",\"Violet\",\"Blue\",\"Red\",\"Peach\",\"Olive\",\"White\",\"Magenta\",\"Beige\",\"Gold\",\"Purple\",\"White\",\"Indigo\",\"Charcoal\",\"Pink\",\"Silver\",\"Blue\",\"Blue\",\"Brown\",\"Cyan\",\"Teal\",\"Purple\",\"Turquoise\",\"Olive\",\"White\",\"Turquoise\",\"Silver\",\"Violet\",\"Lavender\",\"Magenta\",\"Indigo\",\"Black\",\"Peach\",\"Beige\",\"Black\",\"Turquoise\",\"Peach\",\"Gold\",\"Silver\",\"Peach\",\"Charcoal\",\"Beige\",\"Olive\",\"Violet\",\"Peach\",\"Teal\",\"Violet\",\"Cyan\",\"Olive\",\"Pink\",\"Purple\",\"Violet\",\"Peach\",\"Charcoal\",\"Lavender\",\"Purple\",\"Indigo\",\"Magenta\",\"Peach\",\"Charcoal\",\"Purple\",\"Orange\",\"Lavender\",\"Beige\",\"Maroon\",\"Charcoal\",\"White\",\"Lavender\",\"Black\",\"Teal\",\"Magenta\",\"Brown\",\"Peach\",\"Cyan\",\"Pink\",\"Purple\",\"Purple\",\"White\",\"Silver\",\"Green\",\"Teal\",\"Indigo\",\"Pink\",\"Indigo\",\"Red\",\"Violet\",\"Cyan\",\"Red\",\"Gray\",\"Gold\",\"Pink\",\"Cyan\",\"Red\",\"Gold\",\"Charcoal\",\"Orange\",\"Blue\",\"Blue\",\"Orange\",\"Blue\",\"White\",\"Green\",\"Silver\",\"Lavender\",\"Beige\",\"Violet\",\"Gray\",\"Red\",\"Lavender\",\"Peach\",\"Indigo\",\"Black\",\"Beige\",\"Red\",\"Black\",\"Teal\",\"Blue\",\"Beige\",\"Teal\",\"Maroon\",\"Yellow\",\"Indigo\",\"Magenta\",\"Beige\",\"Maroon\",\"Magenta\",\"Teal\",\"Orange\",\"Charcoal\",\"Turquoise\",\"Pink\",\"Teal\",\"White\",\"Maroon\",\"Violet\",\"Brown\",\"Indigo\",\"Black\",\"Black\",\"Olive\",\"Orange\",\"Pink\",\"Olive\",\"Cyan\",\"White\",\"Red\",\"Blue\",\"Olive\",\"Green\",\"Yellow\",\"Black\",\"Blue\",\"Pink\",\"Lavender\",\"Cyan\",\"Cyan\",\"Gold\",\"Green\",\"Red\",\"Magenta\",\"Red\",\"Yellow\",\"Turquoise\",\"Cyan\",\"Yellow\",\"Yellow\",\"Maroon\",\"Brown\",\"Gold\",\"Charcoal\",\"Beige\",\"Indigo\",\"Red\",\"White\",\"Charcoal\",\"Violet\",\"Magenta\",\"White\",\"Pink\",\"Lavender\",\"Pink\",\"Silver\",\"Violet\",\"Charcoal\",\"Charcoal\",\"Red\",\"Peach\",\"Purple\",\"Orange\",\"Magenta\",\"Red\",\"Black\",\"Peach\",\"Olive\",\"Gold\",\"Gold\",\"Turquoise\",\"Green\",\"Maroon\",\"Brown\",\"Brown\",\"Blue\",\"Lavender\",\"Peach\",\"Gray\",\"Charcoal\",\"Lavender\",\"Green\",\"Gray\",\"Orange\",\"Silver\",\"Olive\",\"Turquoise\",\"Turquoise\",\"Green\",\"Violet\",\"Charcoal\",\"White\",\"Olive\",\"Violet\",\"Violet\",\"Black\",\"Charcoal\",\"Yellow\",\"Blue\",\"Charcoal\",\"Red\",\"Indigo\",\"Beige\",\"Maroon\",\"Yellow\",\"Silver\",\"Olive\",\"Teal\",\"Silver\",\"Indigo\",\"Teal\",\"Charcoal\",\"Orange\",\"Gold\",\"Silver\",\"Orange\",\"Peach\",\"Brown\",\"Black\",\"Red\",\"Lavender\",\"Brown\",\"Maroon\",\"Violet\",\"Lavender\",\"Magenta\",\"Green\",\"Lavender\",\"Green\",\"Maroon\",\"Magenta\",\"Teal\",\"Orange\",\"Violet\",\"Yellow\",\"Orange\",\"Gold\",\"Indigo\",\"Turquoise\",\"Orange\",\"Indigo\",\"Charcoal\",\"Lavender\",\"Gold\",\"Lavender\",\"White\",\"Lavender\",\"Charcoal\",\"Silver\",\"Yellow\",\"Olive\",\"Peach\",\"Yellow\",\"Yellow\",\"Indigo\",\"Violet\",\"White\",\"White\",\"Cyan\",\"Purple\",\"Black\",\"Orange\",\"Maroon\",\"Orange\",\"Teal\",\"Gray\",\"Blue\",\"Cyan\",\"Red\",\"Pink\",\"Cyan\",\"Black\",\"Beige\",\"Gray\",\"Red\",\"Yellow\",\"Magenta\",\"Magenta\",\"Black\",\"Orange\",\"Green\",\"Peach\",\"Charcoal\",\"Gray\",\"Turquoise\",\"Red\",\"Brown\",\"Pink\",\"Olive\",\"Lavender\",\"Purple\",\"Beige\",\"Green\",\"Brown\",\"Beige\",\"Beige\",\"Indigo\",\"Silver\",\"Gold\",\"Lavender\",\"Orange\",\"Maroon\",\"White\",\"Yellow\",\"Yellow\",\"Magenta\",\"Turquoise\",\"Lavender\",\"Magenta\",\"Cyan\",\"Olive\",\"Red\",\"Blue\",\"White\",\"Peach\",\"Charcoal\",\"Peach\",\"Turquoise\",\"Charcoal\",\"Yellow\",\"Blue\",\"Purple\",\"Green\",\"Charcoal\",\"Indigo\",\"Black\",\"Blue\",\"Silver\",\"Brown\",\"Violet\",\"Orange\",\"Gray\",\"Gold\",\"Charcoal\",\"Black\",\"Indigo\",\"White\",\"Yellow\",\"Orange\",\"Green\",\"Gold\",\"Orange\",\"Cyan\",\"Black\",\"Yellow\",\"Maroon\",\"Black\",\"Gray\",\"Orange\",\"Cyan\",\"Magenta\",\"Pink\",\"Turquoise\",\"Violet\",\"Teal\",\"Pink\",\"Gold\",\"Red\",\"Beige\",\"Black\",\"Lavender\",\"Teal\",\"Maroon\",\"Blue\",\"Teal\",\"Maroon\",\"Silver\",\"Olive\",\"Gray\",\"Peach\",\"Yellow\",\"Violet\",\"Red\",\"Charcoal\",\"Beige\",\"Peach\",\"Violet\",\"Green\",\"Olive\",\"Silver\",\"Purple\",\"Silver\",\"Gray\",\"Turquoise\",\"Violet\",\"Pink\",\"Teal\",\"Magenta\",\"Silver\",\"Blue\",\"Black\",\"Gold\",\"Gray\",\"Magenta\",\"Yellow\",\"Teal\",\"Red\",\"Yellow\",\"Black\",\"Pink\",\"Magenta\",\"Olive\",\"Black\",\"Maroon\",\"Gold\",\"Gray\",\"Brown\",\"Purple\",\"Magenta\",\"Teal\",\"Olive\",\"Maroon\",\"Silver\",\"Black\",\"Maroon\",\"Teal\",\"Teal\",\"Beige\",\"Maroon\",\"Beige\",\"White\",\"Gray\",\"Violet\",\"Silver\",\"Red\",\"Brown\",\"Turquoise\",\"Indigo\",\"Violet\",\"Yellow\",\"Cyan\",\"Brown\",\"White\",\"Yellow\",\"White\",\"Pink\",\"Indigo\",\"White\",\"Red\",\"Red\",\"Lavender\",\"Teal\",\"Violet\",\"Silver\",\"Gold\",\"Green\",\"Turquoise\",\"Indigo\",\"Black\",\"Charcoal\",\"Turquoise\",\"Red\",\"Indigo\",\"Maroon\",\"Indigo\",\"Maroon\",\"Black\",\"Purple\",\"Teal\",\"Silver\",\"Black\",\"Black\",\"Olive\",\"Purple\",\"Indigo\",\"Lavender\",\"Cyan\",\"Gold\",\"Magenta\",\"Teal\",\"Beige\",\"Teal\",\"Indigo\",\"Purple\",\"Teal\",\"Turquoise\",\"Peach\",\"Green\",\"Turquoise\",\"Yellow\",\"Orange\",\"Brown\",\"Silver\",\"White\",\"Indigo\",\"Magenta\",\"Turquoise\",\"White\",\"Olive\",\"Maroon\",\"Violet\",\"Cyan\",\"Teal\",\"Red\",\"Yellow\",\"Silver\",\"Charcoal\",\"Purple\",\"Beige\",\"Cyan\",\"Silver\",\"Pink\",\"Gold\",\"Cyan\",\"Black\",\"Charcoal\",\"Magenta\",\"Pink\",\"Maroon\",\"Teal\",\"Orange\",\"Yellow\",\"Red\",\"Charcoal\",\"Black\",\"White\",\"Lavender\",\"White\",\"Gray\",\"Cyan\",\"Brown\",\"Purple\",\"Yellow\",\"Indigo\",\"Black\",\"Gray\",\"Indigo\",\"Green\",\"Peach\",\"Purple\",\"Beige\",\"Charcoal\",\"Gray\",\"Brown\",\"Cyan\",\"White\",\"Beige\",\"Orange\",\"Olive\",\"Teal\",\"Silver\",\"Gold\",\"Violet\",\"White\",\"Peach\",\"Orange\",\"Violet\",\"Green\",\"Peach\",\"Black\",\"Blue\",\"Magenta\",\"Violet\",\"Beige\",\"Pink\",\"Beige\",\"Green\",\"Silver\",\"Purple\",\"Gray\",\"White\",\"Silver\",\"Blue\",\"Orange\",\"Silver\",\"Gray\",\"Gold\",\"Brown\",\"Turquoise\",\"Pink\",\"Black\",\"Yellow\",\"Beige\",\"Olive\",\"Gold\",\"Purple\",\"Pink\",\"Blue\",\"Brown\",\"Charcoal\",\"Maroon\",\"Cyan\",\"Olive\",\"Gold\",\"Violet\",\"Peach\",\"Beige\",\"Cyan\",\"Silver\",\"Magenta\",\"Black\",\"Olive\",\"Green\",\"Yellow\",\"Lavender\",\"Indigo\",\"Pink\",\"Red\",\"Magenta\",\"Peach\",\"Turquoise\",\"Black\",\"Blue\",\"Beige\",\"Olive\",\"Turquoise\",\"Yellow\",\"Turquoise\",\"Lavender\",\"Turquoise\",\"Teal\",\"Black\",\"Blue\",\"Yellow\",\"Black\",\"Lavender\",\"Cyan\",\"Brown\",\"Maroon\",\"Cyan\",\"Pink\",\"Orange\",\"Lavender\",\"Beige\",\"Pink\",\"Charcoal\",\"Gray\",\"Cyan\",\"Orange\",\"Pink\",\"White\",\"Beige\",\"Magenta\",\"Violet\",\"Gold\",\"Teal\",\"Indigo\",\"Olive\",\"Violet\",\"Black\",\"Brown\",\"Silver\",\"Gray\",\"Charcoal\",\"Black\",\"Brown\",\"Purple\",\"Purple\",\"Gray\",\"Green\",\"Silver\",\"Charcoal\",\"Teal\",\"White\",\"Brown\",\"Teal\",\"Red\",\"Brown\",\"Yellow\",\"Teal\",\"Pink\",\"White\",\"Silver\",\"Blue\",\"Black\",\"Beige\",\"Charcoal\",\"Cyan\",\"Yellow\",\"Silver\",\"Green\",\"Peach\",\"Green\",\"Brown\",\"Lavender\",\"Charcoal\",\"Orange\",\"Cyan\",\"Lavender\",\"Indigo\",\"Brown\",\"Pink\",\"Turquoise\",\"Gold\",\"Blue\",\"Lavender\",\"Violet\",\"Cyan\",\"Purple\",\"Red\",\"Charcoal\",\"Gray\",\"Pink\",\"Lavender\",\"Lavender\",\"Yellow\",\"Peach\",\"Brown\",\"Gold\",\"Pink\",\"Peach\",\"Violet\",\"Purple\",\"Peach\",\"White\",\"Indigo\",\"Violet\",\"Brown\",\"Maroon\",\"Magenta\",\"Charcoal\",\"Indigo\",\"Turquoise\",\"Turquoise\",\"Gray\",\"Peach\",\"Gold\",\"Green\",\"Gold\",\"Lavender\",\"Blue\",\"Magenta\",\"Blue\",\"Blue\",\"Olive\",\"White\",\"White\",\"Purple\",\"White\",\"White\",\"Peach\",\"Gold\",\"Teal\",\"Cyan\",\"Pink\",\"Magenta\",\"Pink\",\"Turquoise\",\"Pink\",\"Gray\",\"White\",\"Blue\",\"Cyan\",\"Blue\",\"Yellow\",\"Charcoal\",\"Lavender\",\"Teal\",\"Beige\",\"Blue\",\"Purple\",\"Gold\",\"Blue\",\"Black\",\"Charcoal\",\"Purple\",\"Orange\",\"Yellow\",\"Cyan\",\"Yellow\",\"Maroon\",\"Black\",\"Lavender\",\"Violet\",\"Olive\",\"Teal\",\"Teal\",\"Beige\",\"Maroon\",\"Peach\",\"Beige\",\"Silver\",\"Peach\",\"Turquoise\",\"Orange\",\"Cyan\",\"Silver\",\"Gold\",\"Brown\",\"Silver\",\"Beige\",\"Violet\",\"Violet\",\"Lavender\",\"Red\",\"Purple\",\"Brown\",\"Gray\",\"Pink\",\"Magenta\",\"Charcoal\",\"Yellow\",\"Red\",\"Blue\",\"Cyan\",\"Pink\",\"Maroon\",\"Beige\",\"Gold\",\"Turquoise\",\"Peach\",\"Lavender\",\"Gray\",\"Blue\",\"Red\",\"Purple\",\"Indigo\",\"Gold\",\"Teal\",\"Magenta\",\"Maroon\",\"Blue\",\"Beige\",\"Olive\",\"Gold\",\"Silver\",\"Teal\",\"Green\",\"Orange\",\"Charcoal\",\"Black\",\"Yellow\",\"Gray\",\"Charcoal\",\"Peach\",\"Green\",\"Magenta\",\"Beige\",\"Black\",\"Purple\",\"Olive\",\"Purple\",\"Green\",\"Peach\",\"Blue\",\"Gray\",\"Black\",\"Silver\",\"Pink\",\"Lavender\",\"Brown\",\"Turquoise\",\"Olive\",\"White\",\"Violet\",\"Gold\",\"Violet\",\"Teal\",\"Olive\",\"Blue\",\"Magenta\",\"Gray\",\"Peach\",\"Cyan\",\"Violet\",\"Gold\",\"Gold\",\"White\",\"Gray\",\"Brown\",\"Gray\",\"Blue\",\"Gold\",\"Yellow\",\"Green\",\"Pink\",\"Pink\",\"Pink\",\"Cyan\",\"Gray\",\"White\",\"Red\",\"Black\",\"Silver\",\"Pink\",\"Cyan\",\"White\",\"Purple\",\"Yellow\",\"Blue\",\"Cyan\",\"Indigo\",\"Indigo\",\"Silver\",\"Red\",\"Peach\",\"Turquoise\",\"Pink\",\"Teal\",\"Magenta\",\"Blue\",\"Green\",\"Violet\",\"Turquoise\",\"Pink\",\"Black\",\"Gold\",\"Green\",\"White\",\"Gold\",\"Charcoal\",\"White\",\"Brown\",\"Gold\",\"Purple\",\"Brown\",\"Teal\",\"Indigo\",\"Purple\",\"Orange\",\"Indigo\",\"Lavender\",\"Purple\",\"Red\",\"Blue\",\"Blue\",\"Cyan\",\"Pink\",\"Silver\",\"Gray\",\"Indigo\",\"Maroon\",\"Beige\",\"Green\",\"Peach\",\"Black\",\"Pink\",\"Violet\",\"Green\",\"Gold\",\"Red\",\"Beige\",\"Green\",\"Black\",\"Teal\",\"Silver\",\"Turquoise\",\"Orange\",\"Gold\",\"Purple\",\"Pink\",\"Green\",\"Charcoal\",\"Maroon\",\"Olive\",\"Peach\",\"Yellow\",\"Lavender\",\"Green\",\"Orange\",\"Olive\",\"Gray\",\"Lavender\",\"Red\",\"Charcoal\",\"Orange\",\"Red\",\"Maroon\",\"Silver\",\"Pink\",\"Blue\",\"Teal\",\"Black\",\"Gray\",\"Purple\",\"Gold\",\"Silver\",\"Blue\",\"Yellow\",\"Brown\",\"Beige\",\"Blue\",\"Magenta\",\"Silver\",\"Cyan\",\"Green\",\"Blue\",\"Olive\",\"Beige\",\"Black\",\"Indigo\",\"Red\",\"Yellow\",\"Beige\",\"Green\",\"White\",\"Turquoise\",\"Indigo\",\"Orange\",\"Blue\",\"Violet\",\"Gray\",\"Cyan\",\"Yellow\",\"Orange\",\"Brown\",\"Teal\",\"Beige\",\"Blue\",\"Orange\",\"Gold\",\"Teal\",\"Beige\",\"Silver\",\"Maroon\",\"Indigo\",\"Gray\",\"Blue\",\"Cyan\",\"White\",\"Green\",\"Silver\",\"Blue\",\"Brown\",\"Red\",\"Gold\",\"Silver\",\"Gray\",\"Black\",\"Beige\",\"Peach\",\"Cyan\",\"Pink\",\"Lavender\",\"Brown\",\"Magenta\",\"Violet\",\"Teal\",\"Brown\",\"Olive\",\"Indigo\",\"Red\",\"Olive\",\"Teal\",\"Cyan\",\"Teal\",\"Beige\",\"Magenta\",\"Indigo\",\"Cyan\",\"Orange\",\"Violet\",\"Red\",\"Magenta\",\"Olive\",\"Maroon\",\"Yellow\",\"Red\",\"Purple\",\"Teal\",\"Red\",\"Brown\",\"Peach\",\"Maroon\",\"Red\",\"Orange\",\"White\",\"White\",\"Charcoal\",\"Turquoise\",\"Orange\",\"Orange\",\"Brown\",\"Magenta\",\"Violet\",\"Violet\",\"Yellow\",\"Maroon\",\"Turquoise\",\"Olive\",\"Peach\",\"Charcoal\",\"Peach\",\"Black\",\"Gray\",\"Olive\",\"Turquoise\",\"Purple\",\"Green\",\"Beige\",\"Brown\",\"Turquoise\",\"Yellow\",\"Lavender\",\"Cyan\",\"Olive\",\"Silver\",\"Red\",\"Green\",\"Gold\",\"Lavender\",\"Yellow\",\"Black\",\"Maroon\",\"Maroon\",\"Gold\",\"Violet\",\"Teal\",\"Violet\",\"Brown\",\"Brown\",\"Maroon\",\"Maroon\",\"Yellow\",\"Turquoise\",\"Silver\",\"Brown\",\"Gray\",\"Indigo\",\"Turquoise\",\"Maroon\",\"Charcoal\",\"Peach\",\"Red\",\"Indigo\",\"Lavender\",\"Red\",\"Green\",\"Gray\",\"Violet\",\"Beige\",\"Orange\",\"Purple\",\"Brown\",\"Maroon\",\"Gold\",\"Indigo\",\"Silver\",\"Red\",\"Magenta\",\"Purple\",\"Beige\",\"White\",\"Teal\",\"Gray\",\"Charcoal\",\"Olive\",\"Blue\",\"Gray\",\"Green\",\"Silver\",\"Teal\",\"Beige\",\"Lavender\",\"Gray\",\"Yellow\",\"Gray\",\"Yellow\",\"Black\",\"Beige\",\"Indigo\",\"Green\",\"Purple\",\"Orange\",\"Teal\",\"Gold\",\"Gray\",\"Cyan\",\"Teal\",\"Violet\",\"Indigo\",\"Pink\",\"Gold\",\"Maroon\",\"Brown\",\"Gold\",\"Teal\",\"Turquoise\",\"Olive\",\"Cyan\",\"Beige\",\"Blue\",\"Gold\",\"Green\",\"Green\",\"Turquoise\",\"Yellow\",\"Yellow\",\"Blue\",\"Charcoal\",\"Yellow\",\"Purple\",\"Green\",\"Charcoal\",\"Silver\",\"Turquoise\",\"Gray\",\"Red\",\"Beige\",\"Maroon\",\"Indigo\",\"Red\",\"Maroon\",\"Red\",\"Black\",\"Black\",\"Pink\",\"Blue\",\"Green\",\"Orange\",\"Orange\",\"Magenta\",\"Indigo\",\"Beige\",\"Green\",\"Red\",\"Beige\",\"Green\",\"Orange\",\"Cyan\",\"Violet\",\"Lavender\",\"Turquoise\",\"Pink\",\"Beige\",\"Silver\",\"Gold\",\"Silver\",\"Green\",\"Teal\",\"Gold\",\"Cyan\",\"Gold\",\"Violet\",\"Black\",\"Brown\",\"Indigo\",\"Yellow\",\"Purple\",\"White\",\"Turquoise\",\"Olive\",\"Beige\",\"Lavender\",\"White\",\"Brown\",\"Charcoal\",\"Maroon\",\"Red\",\"Maroon\",\"Teal\",\"Orange\",\"Olive\",\"Olive\",\"Beige\",\"Green\",\"Black\",\"Green\",\"Violet\",\"Silver\",\"Maroon\",\"Cyan\",\"Teal\",\"Olive\",\"Red\",\"Lavender\",\"Orange\",\"Brown\",\"Gray\",\"Orange\",\"Orange\",\"Turquoise\",\"Cyan\",\"Yellow\",\"White\",\"Blue\",\"Purple\",\"Gray\",\"Cyan\",\"Pink\",\"Gold\",\"Silver\",\"Gray\",\"Brown\",\"Pink\",\"Maroon\",\"Peach\",\"Brown\",\"Green\",\"Lavender\",\"Cyan\",\"Black\",\"Charcoal\",\"Silver\",\"Gray\",\"Peach\",\"Peach\",\"Cyan\",\"Magenta\",\"Teal\",\"Peach\",\"Black\",\"Teal\",\"Turquoise\",\"Gold\",\"Green\",\"Brown\",\"Blue\",\"Gold\",\"Peach\",\"Violet\",\"Yellow\",\"Black\",\"Silver\",\"Brown\",\"Peach\",\"Cyan\",\"Olive\",\"Black\",\"Orange\",\"Beige\",\"Peach\",\"Pink\",\"Brown\",\"Magenta\",\"Cyan\",\"Silver\",\"Indigo\",\"Beige\",\"Black\",\"Yellow\",\"Maroon\",\"Cyan\",\"Pink\",\"Violet\",\"Lavender\",\"Lavender\",\"Black\",\"Olive\",\"Indigo\",\"Blue\",\"Green\",\"Pink\",\"Peach\",\"Purple\",\"Peach\",\"Olive\",\"Olive\",\"Purple\",\"Violet\",\"Maroon\",\"White\",\"Olive\",\"Peach\",\"Blue\",\"Brown\",\"Black\",\"Yellow\",\"Magenta\",\"Cyan\",\"Maroon\",\"Red\",\"Black\",\"Violet\",\"Green\",\"Gold\",\"Brown\",\"Peach\",\"Peach\",\"Violet\",\"Violet\",\"Magenta\",\"Purple\",\"Purple\",\"Cyan\",\"Magenta\",\"Lavender\",\"Green\",\"Maroon\",\"Turquoise\",\"Violet\",\"Lavender\",\"Red\",\"Orange\",\"Indigo\",\"Teal\",\"Brown\",\"Pink\",\"Lavender\",\"Cyan\",\"Yellow\",\"Pink\",\"Gray\",\"Peach\",\"Red\",\"Olive\",\"Lavender\",\"Turquoise\",\"Turquoise\",\"Maroon\",\"Olive\",\"Maroon\",\"Cyan\",\"Peach\",\"Teal\",\"Green\",\"Beige\",\"Magenta\",\"Violet\",\"Charcoal\",\"Green\",\"Gray\",\"Magenta\",\"Silver\",\"Beige\",\"Peach\",\"Orange\",\"Yellow\",\"Violet\",\"Green\",\"Pink\",\"Violet\",\"Violet\",\"Pink\",\"Violet\",\"Turquoise\",\"Cyan\",\"Orange\",\"Cyan\",\"Indigo\",\"Black\",\"Purple\",\"Cyan\",\"Green\",\"Teal\",\"Teal\",\"Magenta\",\"Brown\",\"Orange\",\"Blue\",\"Magenta\",\"Magenta\",\"Magenta\",\"Olive\",\"Cyan\",\"Purple\",\"Purple\",\"Peach\",\"Gold\",\"Peach\",\"Magenta\",\"Cyan\",\"Violet\",\"Charcoal\",\"Blue\",\"Red\",\"Purple\",\"Gray\",\"Purple\",\"Silver\",\"Purple\",\"Charcoal\",\"Silver\",\"White\",\"Peach\",\"Red\",\"Olive\",\"Gray\",\"Beige\",\"Pink\",\"Red\",\"Peach\",\"Maroon\",\"Purple\",\"Maroon\",\"Gray\",\"Gray\",\"Magenta\",\"Cyan\",\"Silver\",\"Green\",\"Violet\",\"Magenta\",\"Yellow\",\"Gray\",\"Indigo\",\"Indigo\",\"Yellow\",\"Gold\",\"Green\",\"Charcoal\",\"Olive\",\"Black\",\"Silver\",\"Red\",\"Brown\",\"Silver\",\"Silver\",\"Black\",\"Purple\",\"Purple\",\"Turquoise\",\"Gold\",\"Indigo\",\"Lavender\",\"Blue\",\"Maroon\",\"Yellow\",\"Purple\",\"Peach\",\"Silver\",\"Turquoise\",\"Olive\",\"Peach\",\"Indigo\",\"Indigo\",\"Maroon\",\"Black\",\"Teal\",\"Olive\",\"Gold\",\"Gray\",\"Orange\",\"Black\",\"Teal\",\"Beige\",\"White\",\"Turquoise\",\"Teal\",\"Orange\",\"Black\",\"Violet\",\"Maroon\",\"Turquoise\",\"Gold\",\"Turquoise\",\"Maroon\",\"Purple\",\"Maroon\",\"Brown\",\"Indigo\",\"Lavender\",\"Beige\",\"Yellow\",\"Gold\",\"Indigo\",\"Cyan\",\"Silver\",\"Silver\",\"Silver\",\"Peach\",\"Pink\",\"Violet\",\"Black\",\"Purple\",\"Black\",\"Peach\",\"Magenta\",\"Magenta\",\"Black\",\"Pink\",\"Olive\",\"Olive\",\"Peach\",\"Silver\",\"Turquoise\",\"Olive\",\"Lavender\",\"Red\",\"Gray\",\"Magenta\",\"Maroon\",\"Cyan\",\"Cyan\",\"Lavender\",\"Pink\",\"Gray\",\"Yellow\",\"Pink\",\"Indigo\",\"Gray\",\"Yellow\",\"Olive\",\"Cyan\",\"Silver\",\"Silver\",\"Red\",\"Brown\",\"Orange\",\"Black\",\"Teal\",\"Yellow\",\"Gray\",\"Maroon\",\"Olive\",\"Charcoal\",\"Peach\",\"Maroon\",\"Olive\",\"Magenta\",\"Yellow\",\"Indigo\",\"Olive\",\"Maroon\",\"Indigo\",\"Gray\",\"Gray\",\"Black\",\"White\",\"Turquoise\",\"Orange\",\"Yellow\",\"Blue\",\"Violet\",\"Lavender\",\"Olive\",\"Orange\",\"White\",\"Red\",\"Magenta\",\"Violet\",\"Olive\",\"Silver\",\"Gray\",\"Olive\",\"Beige\",\"Turquoise\",\"Blue\",\"Pink\",\"Teal\",\"Cyan\",\"Purple\",\"Red\",\"Brown\",\"Magenta\",\"Olive\",\"Pink\",\"Black\",\"Beige\",\"Peach\",\"Peach\",\"Peach\",\"Teal\",\"Green\",\"Brown\",\"Brown\",\"Violet\",\"Blue\",\"Charcoal\",\"Pink\",\"Violet\",\"Teal\",\"Red\",\"Orange\",\"Magenta\",\"Yellow\",\"Yellow\",\"Pink\",\"Indigo\",\"Charcoal\",\"Blue\",\"Lavender\",\"Yellow\",\"Black\",\"Beige\",\"Silver\",\"Magenta\",\"Orange\",\"Teal\",\"Turquoise\",\"Cyan\",\"Pink\",\"Indigo\",\"Peach\",\"Beige\",\"Gold\",\"Indigo\",\"Violet\",\"Brown\",\"Purple\",\"Turquoise\",\"Violet\",\"Purple\",\"Charcoal\",\"Green\",\"White\",\"Purple\",\"Cyan\",\"Green\",\"Beige\",\"Lavender\",\"Blue\",\"Beige\",\"Blue\",\"Maroon\",\"Yellow\",\"Red\",\"Green\",\"Magenta\",\"Yellow\",\"Blue\",\"Charcoal\",\"Blue\",\"Cyan\",\"Silver\",\"Black\",\"Green\",\"Violet\",\"Pink\",\"Olive\",\"Orange\",\"Black\",\"Yellow\",\"Violet\",\"Silver\",\"Gold\",\"Magenta\",\"Red\",\"Green\",\"Red\",\"Pink\",\"Violet\",\"Indigo\",\"Red\",\"Violet\",\"Cyan\",\"Black\",\"Purple\",\"Charcoal\",\"Beige\",\"Teal\",\"Purple\",\"Blue\",\"Magenta\",\"Maroon\",\"Gold\",\"Black\",\"Black\",\"Yellow\",\"Turquoise\",\"Lavender\",\"Yellow\",\"Olive\",\"Brown\",\"Olive\",\"Purple\",\"Yellow\",\"Brown\",\"Magenta\",\"Lavender\",\"Teal\",\"Cyan\",\"Pink\",\"Magenta\",\"Teal\",\"Indigo\",\"Pink\",\"Charcoal\",\"Brown\",\"Blue\",\"Teal\",\"Pink\",\"Magenta\",\"Green\",\"White\",\"Indigo\",\"Lavender\",\"Black\",\"Charcoal\",\"Gray\",\"Gold\",\"Silver\",\"Teal\",\"Magenta\",\"Magenta\",\"Beige\",\"Maroon\",\"Indigo\",\"Maroon\",\"Teal\",\"Yellow\",\"Gold\",\"Teal\",\"Violet\",\"Yellow\",\"Maroon\",\"Silver\",\"Violet\",\"White\",\"Black\",\"White\",\"Blue\",\"Black\",\"Olive\",\"Teal\",\"Silver\",\"Pink\",\"Charcoal\",\"Silver\",\"Turquoise\",\"Turquoise\",\"Beige\",\"Cyan\",\"Gold\",\"Silver\",\"Purple\",\"Yellow\",\"Blue\",\"Blue\",\"Green\",\"Charcoal\",\"Violet\",\"Black\",\"Teal\",\"Orange\",\"Brown\",\"Green\",\"Silver\",\"Violet\",\"Peach\",\"Gold\",\"Violet\",\"Olive\",\"Orange\",\"Teal\",\"Gray\",\"Black\",\"Indigo\",\"Lavender\",\"Beige\",\"Indigo\",\"Blue\",\"Orange\",\"Yellow\",\"Cyan\",\"Yellow\",\"Cyan\",\"Green\",\"White\",\"Black\",\"Charcoal\",\"Brown\",\"Cyan\",\"Beige\",\"Magenta\",\"Indigo\",\"Maroon\",\"Gray\",\"Black\",\"Yellow\",\"White\",\"Orange\",\"Magenta\",\"Black\",\"Brown\",\"Orange\",\"Gray\",\"White\",\"White\",\"Violet\",\"Beige\",\"Beige\",\"Purple\",\"Brown\",\"Orange\",\"Cyan\",\"Charcoal\",\"Purple\",\"Peach\",\"Violet\",\"Peach\",\"Maroon\",\"Maroon\",\"Peach\",\"Silver\",\"Indigo\",\"Silver\",\"Olive\",\"Gray\",\"Black\",\"Maroon\",\"Olive\",\"Gold\",\"Pink\",\"Brown\",\"White\",\"Blue\",\"Orange\",\"Silver\",\"Gray\",\"Blue\",\"White\",\"Yellow\",\"Indigo\",\"Blue\",\"Peach\",\"Lavender\",\"Silver\",\"Gold\",\"Cyan\",\"Olive\",\"Teal\",\"Pink\",\"Orange\",\"Charcoal\",\"Red\",\"Teal\",\"Silver\",\"Black\",\"Pink\",\"Teal\",\"Teal\",\"Green\",\"Charcoal\",\"Indigo\",\"White\",\"Orange\",\"White\",\"Yellow\",\"Red\",\"Charcoal\",\"Lavender\",\"Charcoal\",\"Maroon\",\"Brown\",\"Lavender\",\"Brown\",\"Olive\",\"Lavender\",\"Gold\",\"Silver\",\"Violet\",\"Brown\",\"Teal\",\"Peach\",\"Maroon\",\"Lavender\",\"Lavender\",\"Purple\",\"Green\",\"Yellow\",\"Charcoal\",\"Blue\",\"Lavender\",\"Brown\",\"White\",\"Green\",\"Magenta\",\"Peach\",\"Charcoal\",\"Gold\",\"Purple\",\"Teal\",\"Green\",\"Orange\",\"Peach\",\"Gold\",\"Violet\",\"Charcoal\",\"Brown\",\"Blue\",\"Gold\",\"Orange\",\"Turquoise\",\"Peach\",\"Magenta\",\"Black\",\"White\",\"Violet\",\"Olive\",\"Red\",\"Green\",\"Gold\",\"Olive\",\"Brown\",\"Magenta\",\"Violet\",\"Beige\",\"Blue\",\"Orange\",\"Maroon\",\"Charcoal\",\"Olive\",\"Green\",\"Brown\",\"Cyan\",\"Beige\",\"Teal\",\"Gray\",\"Indigo\",\"Magenta\",\"Red\",\"Turquoise\",\"Peach\",\"White\",\"Maroon\",\"Beige\",\"Blue\",\"Red\",\"Blue\",\"Maroon\",\"Yellow\",\"Pink\",\"Maroon\",\"Purple\",\"Indigo\",\"Gray\",\"Lavender\",\"Charcoal\",\"Teal\",\"Blue\",\"Peach\",\"Orange\",\"Silver\",\"Red\",\"Gray\",\"Beige\",\"White\",\"Silver\",\"Cyan\",\"Maroon\",\"Purple\",\"Brown\",\"Green\",\"Peach\",\"Turquoise\",\"Olive\",\"Yellow\",\"Gray\",\"Purple\",\"Gray\",\"Lavender\",\"Indigo\",\"Green\",\"Green\",\"Olive\",\"Charcoal\",\"Gray\",\"Olive\",\"Blue\",\"Silver\",\"Magenta\",\"Black\",\"Pink\",\"Red\",\"Peach\",\"Lavender\",\"Lavender\",\"Beige\",\"Indigo\",\"Cyan\",\"Yellow\",\"Peach\",\"Yellow\",\"Orange\",\"Gray\",\"Yellow\",\"Gray\",\"Turquoise\",\"Gray\",\"Olive\",\"Peach\",\"Peach\",\"Magenta\",\"Purple\",\"Beige\",\"Purple\",\"Yellow\",\"Pink\",\"Purple\",\"Lavender\",\"Peach\",\"Orange\",\"Red\",\"Red\",\"Gold\",\"Brown\",\"Black\",\"Red\",\"Gray\",\"Pink\",\"Turquoise\",\"Charcoal\",\"Blue\",\"Turquoise\",\"Silver\",\"Lavender\",\"Gold\",\"Blue\",\"Orange\",\"White\",\"Charcoal\",\"Maroon\",\"Olive\",\"Teal\",\"Orange\",\"Maroon\",\"Turquoise\",\"Beige\",\"Beige\",\"Olive\",\"Turquoise\",\"Charcoal\",\"Green\",\"Green\",\"Green\",\"Gold\",\"Cyan\",\"Indigo\",\"Lavender\",\"Beige\",\"Purple\",\"Maroon\",\"Maroon\",\"Teal\",\"Gold\",\"Red\",\"Maroon\",\"Teal\",\"Peach\",\"Pink\",\"Black\",\"Indigo\",\"Green\",\"Teal\",\"Lavender\",\"Magenta\",\"Brown\",\"Beige\",\"Indigo\",\"Peach\",\"Magenta\",\"Turquoise\",\"Indigo\",\"Brown\",\"Yellow\",\"Magenta\",\"Olive\",\"Silver\",\"Teal\",\"White\",\"Blue\",\"Yellow\",\"Maroon\",\"Gray\",\"Indigo\",\"Pink\",\"Beige\",\"White\",\"Yellow\",\"Teal\",\"Olive\",\"Maroon\",\"White\",\"Lavender\",\"Black\",\"Green\",\"Olive\",\"Gray\",\"Teal\",\"Charcoal\",\"Violet\",\"Lavender\",\"Beige\",\"Black\",\"Black\",\"Purple\",\"Magenta\",\"Teal\",\"Teal\",\"Pink\",\"Teal\",\"Gold\",\"Brown\",\"Brown\",\"Magenta\",\"Black\",\"Teal\",\"Brown\",\"Magenta\",\"Indigo\",\"Violet\",\"Cyan\",\"Violet\",\"Black\",\"Charcoal\",\"White\",\"Gray\",\"Pink\",\"Cyan\",\"Blue\",\"Indigo\",\"Magenta\",\"Lavender\",\"Orange\",\"Cyan\",\"Green\",\"White\",\"Blue\",\"Black\",\"Red\",\"Red\",\"Gold\",\"Red\",\"Purple\",\"White\",\"Magenta\",\"Pink\",\"Black\",\"White\",\"Maroon\",\"Black\",\"Olive\",\"Gray\",\"Gold\",\"Magenta\",\"Lavender\",\"Green\",\"Violet\",\"Brown\",\"Teal\",\"Charcoal\",\"Charcoal\",\"Beige\",\"Turquoise\",\"Orange\",\"Cyan\",\"Orange\",\"Green\",\"Pink\",\"Blue\",\"Pink\",\"Blue\",\"Black\",\"Black\",\"Violet\",\"Gold\",\"Olive\",\"Pink\",\"Olive\",\"Indigo\",\"Silver\",\"Charcoal\",\"Orange\",\"Yellow\",\"Red\",\"Maroon\",\"Magenta\",\"Black\",\"Violet\",\"Gray\",\"Black\",\"Pink\",\"Silver\",\"Violet\",\"Beige\",\"Cyan\",\"Brown\",\"Blue\",\"White\",\"Cyan\",\"Maroon\",\"Olive\",\"Violet\",\"Green\",\"Magenta\",\"Turquoise\",\"Black\",\"Cyan\",\"Gray\",\"Red\",\"Olive\",\"Cyan\",\"Teal\",\"Teal\",\"Orange\",\"Peach\",\"Silver\",\"Pink\",\"Magenta\",\"Red\",\"Maroon\",\"Silver\",\"Gray\",\"Turquoise\",\"Peach\",\"Teal\",\"Red\",\"Blue\",\"Blue\",\"Indigo\",\"Charcoal\",\"Turquoise\",\"Maroon\",\"Purple\",\"Lavender\",\"Yellow\",\"Green\",\"Yellow\",\"Gold\",\"Turquoise\",\"Blue\",\"Turquoise\",\"Maroon\",\"Pink\",\"Maroon\",\"Olive\",\"Lavender\",\"Pink\",\"Cyan\",\"Maroon\",\"Red\",\"Silver\",\"Blue\",\"Gold\",\"Yellow\",\"Silver\",\"Black\",\"Yellow\",\"Pink\",\"Yellow\",\"Lavender\",\"Peach\",\"Black\",\"Olive\",\"Olive\",\"White\",\"Red\",\"Purple\",\"Purple\",\"Teal\",\"Teal\",\"Gray\",\"Magenta\",\"Black\",\"Maroon\",\"Gold\",\"Purple\",\"Blue\",\"Beige\",\"Indigo\",\"Purple\",\"Maroon\",\"Beige\",\"Brown\",\"Green\",\"Blue\",\"Magenta\",\"Turquoise\",\"Gray\",\"Purple\",\"Lavender\",\"Green\",\"Gray\",\"Yellow\",\"Orange\",\"Beige\",\"Peach\",\"Green\",\"Violet\",\"Gray\",\"Magenta\",\"Charcoal\",\"Violet\",\"Silver\",\"Green\",\"Magenta\",\"Purple\",\"Blue\",\"Yellow\",\"Brown\",\"Pink\",\"Silver\",\"Indigo\",\"Pink\",\"Lavender\",\"Orange\",\"Red\",\"Gray\",\"Violet\",\"Green\",\"Gold\",\"Maroon\",\"Olive\",\"Yellow\",\"Peach\",\"Gold\",\"Purple\",\"Charcoal\",\"Indigo\",\"Magenta\",\"Olive\",\"Blue\",\"White\",\"Cyan\",\"Cyan\",\"Orange\",\"Orange\",\"Teal\",\"Magenta\",\"Orange\",\"Peach\",\"Maroon\",\"Gold\",\"White\",\"Gray\",\"Brown\",\"Charcoal\",\"Beige\",\"Teal\",\"Black\",\"Violet\",\"Orange\",\"Turquoise\",\"Black\",\"Silver\",\"Gray\",\"Pink\",\"Red\",\"Lavender\",\"Indigo\",\"Silver\",\"Silver\",\"Green\",\"Pink\",\"Violet\",\"Red\",\"Olive\",\"Purple\",\"Gray\",\"Brown\",\"Orange\",\"Blue\",\"White\",\"Charcoal\",\"Gray\",\"Charcoal\",\"White\",\"Orange\",\"Black\",\"White\",\"Brown\",\"Pink\",\"Yellow\",\"Cyan\",\"Silver\",\"Olive\",\"Olive\",\"Charcoal\",\"Gray\",\"Maroon\",\"Black\",\"Violet\",\"Indigo\",\"Yellow\",\"Gray\",\"Red\",\"Peach\",\"Gray\",\"White\",\"Green\",\"Magenta\",\"Olive\",\"Olive\",\"Blue\",\"Charcoal\",\"Yellow\",\"Violet\",\"Magenta\",\"Red\",\"Cyan\",\"Orange\",\"Black\",\"Blue\",\"Charcoal\",\"Indigo\",\"Silver\",\"Brown\",\"Peach\",\"Magenta\",\"Beige\",\"Violet\",\"Black\",\"Cyan\",\"Green\",\"Brown\",\"Gray\",\"Orange\",\"Silver\",\"Purple\",\"Olive\",\"Teal\",\"White\",\"Black\",\"Maroon\",\"Cyan\",\"Violet\",\"Yellow\",\"Yellow\",\"Olive\",\"Olive\",\"Magenta\",\"Orange\",\"Beige\",\"Brown\",\"Indigo\",\"Gray\",\"Yellow\",\"Violet\",\"Magenta\",\"Blue\",\"Gray\",\"Gold\",\"Lavender\",\"Black\",\"Charcoal\",\"Violet\",\"Charcoal\",\"Maroon\",\"Purple\",\"Peach\",\"Olive\",\"Indigo\",\"Magenta\",\"Gold\",\"Orange\",\"Gold\",\"Purple\",\"Charcoal\",\"Cyan\",\"Cyan\",\"Green\",\"Silver\",\"Teal\",\"Magenta\",\"Maroon\",\"Gold\",\"Purple\",\"Lavender\",\"Maroon\",\"Magenta\",\"Turquoise\",\"Silver\",\"Purple\",\"Violet\",\"Peach\",\"Green\",\"Teal\",\"Silver\",\"Purple\",\"Lavender\",\"Lavender\",\"Peach\",\"Green\",\"Orange\",\"Pink\",\"Cyan\",\"Lavender\",\"Yellow\",\"Olive\",\"Brown\",\"Pink\",\"Cyan\",\"Maroon\",\"Magenta\",\"Violet\",\"Silver\",\"Maroon\",\"Gray\",\"White\",\"Brown\",\"Silver\",\"Yellow\",\"Magenta\",\"Blue\",\"Green\",\"Yellow\",\"Cyan\",\"Gold\",\"Magenta\",\"Gray\",\"Indigo\",\"White\",\"Indigo\",\"Green\",\"Turquoise\",\"Peach\",\"Olive\",\"Cyan\",\"Magenta\",\"Silver\",\"White\",\"Pink\",\"Pink\",\"Pink\",\"Blue\",\"White\",\"Teal\",\"Gray\",\"Beige\",\"Violet\",\"Blue\",\"Magenta\",\"Maroon\",\"Purple\",\"Charcoal\",\"Red\",\"Charcoal\",\"Lavender\",\"White\",\"Red\",\"Violet\",\"Orange\",\"Turquoise\",\"Violet\",\"Blue\",\"White\",\"Turquoise\",\"Pink\",\"Maroon\",\"Olive\",\"Charcoal\",\"Charcoal\",\"Indigo\",\"Teal\",\"Black\",\"Teal\",\"Green\",\"Gold\",\"Red\",\"Silver\",\"Yellow\",\"Peach\",\"Turquoise\",\"Peach\",\"Peach\",\"Orange\",\"Charcoal\",\"White\",\"Turquoise\",\"Red\",\"Peach\",\"Pink\",\"Yellow\",\"Beige\",\"Green\",\"Turquoise\",\"Orange\",\"Gold\",\"Red\",\"Teal\",\"Teal\",\"Lavender\",\"Pink\",\"Maroon\",\"Beige\",\"Orange\",\"Red\",\"Maroon\",\"Brown\",\"Olive\",\"Silver\",\"Purple\",\"Gray\",\"Cyan\",\"Gray\",\"Gold\",\"Cyan\",\"Olive\",\"Violet\",\"Yellow\",\"Gold\",\"Silver\",\"Pink\",\"Turquoise\",\"Turquoise\",\"Peach\",\"Teal\",\"Red\",\"Black\",\"Pink\",\"Peach\",\"Green\",\"Green\",\"Red\",\"Maroon\",\"Green\",\"Black\",\"Black\",\"Yellow\",\"Green\",\"Black\",\"Red\",\"Yellow\",\"Violet\",\"Cyan\",\"Pink\",\"Olive\",\"Maroon\",\"Cyan\",\"Lavender\",\"Yellow\",\"Pink\",\"Orange\",\"Orange\",\"Violet\",\"Lavender\",\"Yellow\",\"Pink\",\"Teal\",\"Magenta\",\"Beige\",\"Gray\",\"Turquoise\",\"Pink\",\"Violet\",\"Charcoal\",\"Lavender\",\"Gray\",\"Brown\",\"Violet\",\"Turquoise\",\"Peach\",\"Turquoise\",\"Violet\",\"Olive\",\"Green\",\"Teal\",\"Peach\",\"Pink\",\"Maroon\",\"Peach\",\"Maroon\",\"Pink\",\"Orange\",\"Orange\",\"Brown\",\"Silver\",\"Magenta\",\"Indigo\",\"Gold\",\"Purple\",\"Gold\",\"Gold\",\"Gold\",\"Olive\",\"Green\",\"Gray\",\"Red\",\"Charcoal\",\"Indigo\",\"Indigo\",\"Silver\",\"Purple\",\"Gray\",\"Magenta\",\"Silver\",\"Violet\",\"Green\",\"Green\",\"Peach\",\"Turquoise\",\"Pink\",\"Lavender\",\"Silver\",\"Cyan\",\"Green\",\"Orange\",\"Blue\",\"Magenta\",\"Cyan\",\"Indigo\",\"Pink\",\"Peach\",\"Lavender\",\"Black\",\"Lavender\",\"Brown\",\"Yellow\",\"Olive\",\"Blue\",\"Turquoise\",\"Yellow\",\"Turquoise\",\"Orange\",\"Blue\",\"Olive\",\"Beige\",\"Lavender\",\"Magenta\",\"Cyan\",\"Lavender\",\"Black\",\"Green\",\"Silver\",\"Beige\",\"Pink\",\"Cyan\",\"Olive\",\"Pink\",\"Maroon\",\"Red\",\"Silver\",\"Blue\",\"Purple\",\"Brown\",\"Purple\",\"Brown\",\"Charcoal\",\"Violet\",\"Yellow\",\"Green\",\"Peach\",\"Indigo\",\"White\",\"White\",\"Turquoise\",\"White\",\"Green\",\"Brown\",\"Beige\"],\"xaxis\":\"x\",\"yaxis\":\"y\",\"type\":\"histogram\"}],                        {\"template\":{\"data\":{\"histogram2dcontour\":[{\"type\":\"histogram2dcontour\",\"colorbar\":{\"outlinewidth\":0,\"ticks\":\"\"},\"colorscale\":[[0.0,\"#0d0887\"],[0.1111111111111111,\"#46039f\"],[0.2222222222222222,\"#7201a8\"],[0.3333333333333333,\"#9c179e\"],[0.4444444444444444,\"#bd3786\"],[0.5555555555555556,\"#d8576b\"],[0.6666666666666666,\"#ed7953\"],[0.7777777777777778,\"#fb9f3a\"],[0.8888888888888888,\"#fdca26\"],[1.0,\"#f0f921\"]]}],\"choropleth\":[{\"type\":\"choropleth\",\"colorbar\":{\"outlinewidth\":0,\"ticks\":\"\"}}],\"histogram2d\":[{\"type\":\"histogram2d\",\"colorbar\":{\"outlinewidth\":0,\"ticks\":\"\"},\"colorscale\":[[0.0,\"#0d0887\"],[0.1111111111111111,\"#46039f\"],[0.2222222222222222,\"#7201a8\"],[0.3333333333333333,\"#9c179e\"],[0.4444444444444444,\"#bd3786\"],[0.5555555555555556,\"#d8576b\"],[0.6666666666666666,\"#ed7953\"],[0.7777777777777778,\"#fb9f3a\"],[0.8888888888888888,\"#fdca26\"],[1.0,\"#f0f921\"]]}],\"heatmap\":[{\"type\":\"heatmap\",\"colorbar\":{\"outlinewidth\":0,\"ticks\":\"\"},\"colorscale\":[[0.0,\"#0d0887\"],[0.1111111111111111,\"#46039f\"],[0.2222222222222222,\"#7201a8\"],[0.3333333333333333,\"#9c179e\"],[0.4444444444444444,\"#bd3786\"],[0.5555555555555556,\"#d8576b\"],[0.6666666666666666,\"#ed7953\"],[0.7777777777777778,\"#fb9f3a\"],[0.8888888888888888,\"#fdca26\"],[1.0,\"#f0f921\"]]}],\"heatmapgl\":[{\"type\":\"heatmapgl\",\"colorbar\":{\"outlinewidth\":0,\"ticks\":\"\"},\"colorscale\":[[0.0,\"#0d0887\"],[0.1111111111111111,\"#46039f\"],[0.2222222222222222,\"#7201a8\"],[0.3333333333333333,\"#9c179e\"],[0.4444444444444444,\"#bd3786\"],[0.5555555555555556,\"#d8576b\"],[0.6666666666666666,\"#ed7953\"],[0.7777777777777778,\"#fb9f3a\"],[0.8888888888888888,\"#fdca26\"],[1.0,\"#f0f921\"]]}],\"contourcarpet\":[{\"type\":\"contourcarpet\",\"colorbar\":{\"outlinewidth\":0,\"ticks\":\"\"}}],\"contour\":[{\"type\":\"contour\",\"colorbar\":{\"outlinewidth\":0,\"ticks\":\"\"},\"colorscale\":[[0.0,\"#0d0887\"],[0.1111111111111111,\"#46039f\"],[0.2222222222222222,\"#7201a8\"],[0.3333333333333333,\"#9c179e\"],[0.4444444444444444,\"#bd3786\"],[0.5555555555555556,\"#d8576b\"],[0.6666666666666666,\"#ed7953\"],[0.7777777777777778,\"#fb9f3a\"],[0.8888888888888888,\"#fdca26\"],[1.0,\"#f0f921\"]]}],\"surface\":[{\"type\":\"surface\",\"colorbar\":{\"outlinewidth\":0,\"ticks\":\"\"},\"colorscale\":[[0.0,\"#0d0887\"],[0.1111111111111111,\"#46039f\"],[0.2222222222222222,\"#7201a8\"],[0.3333333333333333,\"#9c179e\"],[0.4444444444444444,\"#bd3786\"],[0.5555555555555556,\"#d8576b\"],[0.6666666666666666,\"#ed7953\"],[0.7777777777777778,\"#fb9f3a\"],[0.8888888888888888,\"#fdca26\"],[1.0,\"#f0f921\"]]}],\"mesh3d\":[{\"type\":\"mesh3d\",\"colorbar\":{\"outlinewidth\":0,\"ticks\":\"\"}}],\"scatter\":[{\"fillpattern\":{\"fillmode\":\"overlay\",\"size\":10,\"solidity\":0.2},\"type\":\"scatter\"}],\"parcoords\":[{\"type\":\"parcoords\",\"line\":{\"colorbar\":{\"outlinewidth\":0,\"ticks\":\"\"}}}],\"scatterpolargl\":[{\"type\":\"scatterpolargl\",\"marker\":{\"colorbar\":{\"outlinewidth\":0,\"ticks\":\"\"}}}],\"bar\":[{\"error_x\":{\"color\":\"#2a3f5f\"},\"error_y\":{\"color\":\"#2a3f5f\"},\"marker\":{\"line\":{\"color\":\"#E5ECF6\",\"width\":0.5},\"pattern\":{\"fillmode\":\"overlay\",\"size\":10,\"solidity\":0.2}},\"type\":\"bar\"}],\"scattergeo\":[{\"type\":\"scattergeo\",\"marker\":{\"colorbar\":{\"outlinewidth\":0,\"ticks\":\"\"}}}],\"scatterpolar\":[{\"type\":\"scatterpolar\",\"marker\":{\"colorbar\":{\"outlinewidth\":0,\"ticks\":\"\"}}}],\"histogram\":[{\"marker\":{\"pattern\":{\"fillmode\":\"overlay\",\"size\":10,\"solidity\":0.2}},\"type\":\"histogram\"}],\"scattergl\":[{\"type\":\"scattergl\",\"marker\":{\"colorbar\":{\"outlinewidth\":0,\"ticks\":\"\"}}}],\"scatter3d\":[{\"type\":\"scatter3d\",\"line\":{\"colorbar\":{\"outlinewidth\":0,\"ticks\":\"\"}},\"marker\":{\"colorbar\":{\"outlinewidth\":0,\"ticks\":\"\"}}}],\"scattermapbox\":[{\"type\":\"scattermapbox\",\"marker\":{\"colorbar\":{\"outlinewidth\":0,\"ticks\":\"\"}}}],\"scatterternary\":[{\"type\":\"scatterternary\",\"marker\":{\"colorbar\":{\"outlinewidth\":0,\"ticks\":\"\"}}}],\"scattercarpet\":[{\"type\":\"scattercarpet\",\"marker\":{\"colorbar\":{\"outlinewidth\":0,\"ticks\":\"\"}}}],\"carpet\":[{\"aaxis\":{\"endlinecolor\":\"#2a3f5f\",\"gridcolor\":\"white\",\"linecolor\":\"white\",\"minorgridcolor\":\"white\",\"startlinecolor\":\"#2a3f5f\"},\"baxis\":{\"endlinecolor\":\"#2a3f5f\",\"gridcolor\":\"white\",\"linecolor\":\"white\",\"minorgridcolor\":\"white\",\"startlinecolor\":\"#2a3f5f\"},\"type\":\"carpet\"}],\"table\":[{\"cells\":{\"fill\":{\"color\":\"#EBF0F8\"},\"line\":{\"color\":\"white\"}},\"header\":{\"fill\":{\"color\":\"#C8D4E3\"},\"line\":{\"color\":\"white\"}},\"type\":\"table\"}],\"barpolar\":[{\"marker\":{\"line\":{\"color\":\"#E5ECF6\",\"width\":0.5},\"pattern\":{\"fillmode\":\"overlay\",\"size\":10,\"solidity\":0.2}},\"type\":\"barpolar\"}],\"pie\":[{\"automargin\":true,\"type\":\"pie\"}]},\"layout\":{\"autotypenumbers\":\"strict\",\"colorway\":[\"#636efa\",\"#EF553B\",\"#00cc96\",\"#ab63fa\",\"#FFA15A\",\"#19d3f3\",\"#FF6692\",\"#B6E880\",\"#FF97FF\",\"#FECB52\"],\"font\":{\"color\":\"#2a3f5f\"},\"hovermode\":\"closest\",\"hoverlabel\":{\"align\":\"left\"},\"paper_bgcolor\":\"white\",\"plot_bgcolor\":\"#E5ECF6\",\"polar\":{\"bgcolor\":\"#E5ECF6\",\"angularaxis\":{\"gridcolor\":\"white\",\"linecolor\":\"white\",\"ticks\":\"\"},\"radialaxis\":{\"gridcolor\":\"white\",\"linecolor\":\"white\",\"ticks\":\"\"}},\"ternary\":{\"bgcolor\":\"#E5ECF6\",\"aaxis\":{\"gridcolor\":\"white\",\"linecolor\":\"white\",\"ticks\":\"\"},\"baxis\":{\"gridcolor\":\"white\",\"linecolor\":\"white\",\"ticks\":\"\"},\"caxis\":{\"gridcolor\":\"white\",\"linecolor\":\"white\",\"ticks\":\"\"}},\"coloraxis\":{\"colorbar\":{\"outlinewidth\":0,\"ticks\":\"\"}},\"colorscale\":{\"sequential\":[[0.0,\"#0d0887\"],[0.1111111111111111,\"#46039f\"],[0.2222222222222222,\"#7201a8\"],[0.3333333333333333,\"#9c179e\"],[0.4444444444444444,\"#bd3786\"],[0.5555555555555556,\"#d8576b\"],[0.6666666666666666,\"#ed7953\"],[0.7777777777777778,\"#fb9f3a\"],[0.8888888888888888,\"#fdca26\"],[1.0,\"#f0f921\"]],\"sequentialminus\":[[0.0,\"#0d0887\"],[0.1111111111111111,\"#46039f\"],[0.2222222222222222,\"#7201a8\"],[0.3333333333333333,\"#9c179e\"],[0.4444444444444444,\"#bd3786\"],[0.5555555555555556,\"#d8576b\"],[0.6666666666666666,\"#ed7953\"],[0.7777777777777778,\"#fb9f3a\"],[0.8888888888888888,\"#fdca26\"],[1.0,\"#f0f921\"]],\"diverging\":[[0,\"#8e0152\"],[0.1,\"#c51b7d\"],[0.2,\"#de77ae\"],[0.3,\"#f1b6da\"],[0.4,\"#fde0ef\"],[0.5,\"#f7f7f7\"],[0.6,\"#e6f5d0\"],[0.7,\"#b8e186\"],[0.8,\"#7fbc41\"],[0.9,\"#4d9221\"],[1,\"#276419\"]]},\"xaxis\":{\"gridcolor\":\"white\",\"linecolor\":\"white\",\"ticks\":\"\",\"title\":{\"standoff\":15},\"zerolinecolor\":\"white\",\"automargin\":true,\"zerolinewidth\":2},\"yaxis\":{\"gridcolor\":\"white\",\"linecolor\":\"white\",\"ticks\":\"\",\"title\":{\"standoff\":15},\"zerolinecolor\":\"white\",\"automargin\":true,\"zerolinewidth\":2},\"scene\":{\"xaxis\":{\"backgroundcolor\":\"#E5ECF6\",\"gridcolor\":\"white\",\"linecolor\":\"white\",\"showbackground\":true,\"ticks\":\"\",\"zerolinecolor\":\"white\",\"gridwidth\":2},\"yaxis\":{\"backgroundcolor\":\"#E5ECF6\",\"gridcolor\":\"white\",\"linecolor\":\"white\",\"showbackground\":true,\"ticks\":\"\",\"zerolinecolor\":\"white\",\"gridwidth\":2},\"zaxis\":{\"backgroundcolor\":\"#E5ECF6\",\"gridcolor\":\"white\",\"linecolor\":\"white\",\"showbackground\":true,\"ticks\":\"\",\"zerolinecolor\":\"white\",\"gridwidth\":2}},\"shapedefaults\":{\"line\":{\"color\":\"#2a3f5f\"}},\"annotationdefaults\":{\"arrowcolor\":\"#2a3f5f\",\"arrowhead\":0,\"arrowwidth\":1},\"geo\":{\"bgcolor\":\"white\",\"landcolor\":\"#E5ECF6\",\"subunitcolor\":\"white\",\"showland\":true,\"showlakes\":true,\"lakecolor\":\"white\"},\"title\":{\"x\":0.05},\"mapbox\":{\"style\":\"light\"}}},\"xaxis\":{\"anchor\":\"y\",\"domain\":[0.0,1.0],\"title\":{\"text\":\"Color\"}},\"yaxis\":{\"anchor\":\"x\",\"domain\":[0.0,1.0],\"title\":{\"text\":\"count\"}},\"legend\":{\"tracegroupgap\":0},\"title\":{\"text\":\"Distribution of Purchases by Color\"},\"barmode\":\"relative\"},                        {\"responsive\": true}                    ).then(function(){\n",
              "                            \n",
              "var gd = document.getElementById('7fb53ceb-9c9b-4ef6-9819-d49a0ad8fecf');\n",
              "var x = new MutationObserver(function (mutations, observer) {{\n",
              "        var display = window.getComputedStyle(gd).display;\n",
              "        if (!display || display === 'none') {{\n",
              "            console.log([gd, 'removed!']);\n",
              "            Plotly.purge(gd);\n",
              "            observer.disconnect();\n",
              "        }}\n",
              "}});\n",
              "\n",
              "// Listen for the removal of the full notebook cells\n",
              "var notebookContainer = gd.closest('#notebook-container');\n",
              "if (notebookContainer) {{\n",
              "    x.observe(notebookContainer, {childList: true});\n",
              "}}\n",
              "\n",
              "// Listen for the clearing of the current output cell\n",
              "var outputEl = gd.closest('.output');\n",
              "if (outputEl) {{\n",
              "    x.observe(outputEl, {childList: true});\n",
              "}}\n",
              "\n",
              "                        })                };                            </script>        </div>\n",
              "</body>\n",
              "</html>"
            ]
          },
          "metadata": {}
        }
      ]
    },
    {
      "cell_type": "code",
      "source": [
        "# Get the top 5 most common colors\n",
        "top_colors = shop['Color'].value_counts().nlargest(5)\n",
        "\n",
        "# Display the result\n",
        "print(top_colors)\n"
      ],
      "metadata": {
        "colab": {
          "base_uri": "https://localhost:8080/"
        },
        "id": "CMjhg9bwyRRd",
        "outputId": "e0a10fc9-17a3-4363-c475-09839a4eb48f"
      },
      "execution_count": null,
      "outputs": [
        {
          "output_type": "stream",
          "name": "stdout",
          "text": [
            "Color\n",
            "Olive     177\n",
            "Yellow    174\n",
            "Silver    173\n",
            "Teal      172\n",
            "Green     169\n",
            "Name: count, dtype: int64\n"
          ]
        }
      ]
    },
    {
      "cell_type": "markdown",
      "source": [
        "15.\tWhat is the average number of previous purchases made by customers?"
      ],
      "metadata": {
        "id": "jVdV9Vffzfux"
      }
    },
    {
      "cell_type": "code",
      "source": [
        "# Calculate the mean of 'Previous Purchases'\n",
        "mean_previous_purchases = shop['Previous Purchases'].mean()\n",
        "\n",
        "# Display the result\n",
        "print(mean_previous_purchases)\n"
      ],
      "metadata": {
        "colab": {
          "base_uri": "https://localhost:8080/"
        },
        "id": "op_R9QwTyRL5",
        "outputId": "817fecaf-9586-46ca-8913-c7e0818f6b11"
      },
      "execution_count": null,
      "outputs": [
        {
          "output_type": "stream",
          "name": "stdout",
          "text": [
            "25.35153846153846\n"
          ]
        }
      ]
    },
    {
      "cell_type": "markdown",
      "source": [
        "16.\tHow does the purchase amount differ based on the review ratings given by customers?"
      ],
      "metadata": {
        "id": "KsrUb8XMzv4O"
      }
    },
    {
      "cell_type": "code",
      "source": [
        "# Group by 'Location', calculate the mean of 'Purchase Amount (USD)', and sort in descending order\n",
        "shop_group = shop.groupby('Location')['Purchase Amount (USD)'].mean().sort_values(ascending=False).reset_index()\n",
        "\n",
        "# Display the result\n",
        "print(shop_group)\n"
      ],
      "metadata": {
        "colab": {
          "base_uri": "https://localhost:8080/"
        },
        "id": "8t5ckgouyRGj",
        "outputId": "b800d580-1ba1-4298-dc6f-5cac019206e0"
      },
      "execution_count": null,
      "outputs": [
        {
          "output_type": "stream",
          "name": "stdout",
          "text": [
            "          Location  Purchase Amount (USD)\n",
            "0           Alaska              67.597222\n",
            "1     Pennsylvania              66.567568\n",
            "2          Arizona              66.553846\n",
            "3    West Virginia              63.876543\n",
            "4           Nevada              63.379310\n",
            "5       Washington              63.328767\n",
            "6     North Dakota              62.891566\n",
            "7         Virginia              62.883117\n",
            "8             Utah              62.577465\n",
            "9         Michigan              62.095890\n",
            "10       Tennessee              61.974026\n",
            "11      New Mexico              61.901235\n",
            "12    Rhode Island              61.444444\n",
            "13           Texas              61.194805\n",
            "14        Arkansas              61.113924\n",
            "15        Illinois              61.054348\n",
            "16     Mississippi              61.037500\n",
            "17   Massachusetts              60.888889\n",
            "18            Iowa              60.884058\n",
            "19  North Carolina              60.794872\n",
            "20         Wyoming              60.690141\n",
            "21    South Dakota              60.514286\n",
            "22        New York              60.425287\n",
            "23            Ohio              60.376623\n",
            "24         Montana              60.250000\n",
            "25           Idaho              60.075269\n",
            "26        Nebraska              59.448276\n",
            "27   New Hampshire              59.422535\n",
            "28         Alabama              59.112360\n",
            "29      California              59.000000\n",
            "30         Indiana              58.924051\n",
            "31         Georgia              58.797468\n",
            "32  South Carolina              58.407895\n",
            "33        Oklahoma              58.346667\n",
            "34        Missouri              57.913580\n",
            "35          Hawaii              57.723077\n",
            "36       Louisiana              57.714286\n",
            "37          Oregon              57.337838\n",
            "38         Vermont              57.176471\n",
            "39           Maine              56.987013\n",
            "40      New Jersey              56.746269\n",
            "41       Minnesota              56.556818\n",
            "42        Colorado              56.293333\n",
            "43       Wisconsin              55.946667\n",
            "44         Florida              55.852941\n",
            "45        Maryland              55.755814\n",
            "46        Kentucky              55.721519\n",
            "47        Delaware              55.325581\n",
            "48          Kansas              54.555556\n",
            "49     Connecticut              54.179487\n"
          ]
        }
      ]
    },
    {
      "cell_type": "code",
      "source": [
        "# Group by 'Location', calculate the mean of 'Purchase Amount (USD)', and reset the index\n",
        "shop_group = shop.groupby('Location')['Purchase Amount (USD)'].mean().reset_index()\n",
        "\n",
        "# Create a bar chart\n",
        "fig = px.bar(shop_group, x='Location', y='Purchase Amount (USD)',\n",
        "             title='Average Purchase Amount by Location')\n",
        "\n",
        "# Show the chart\n",
        "fig.show()\n"
      ],
      "metadata": {
        "colab": {
          "base_uri": "https://localhost:8080/",
          "height": 542
        },
        "id": "siJ0kM08yQ_j",
        "outputId": "8b3ddc13-0a55-4c91-a3e2-6f9346297ea8"
      },
      "execution_count": null,
      "outputs": [
        {
          "output_type": "display_data",
          "data": {
            "text/html": [
              "<html>\n",
              "<head><meta charset=\"utf-8\" /></head>\n",
              "<body>\n",
              "    <div>            <script src=\"https://cdnjs.cloudflare.com/ajax/libs/mathjax/2.7.5/MathJax.js?config=TeX-AMS-MML_SVG\"></script><script type=\"text/javascript\">if (window.MathJax && window.MathJax.Hub && window.MathJax.Hub.Config) {window.MathJax.Hub.Config({SVG: {font: \"STIX-Web\"}});}</script>                <script type=\"text/javascript\">window.PlotlyConfig = {MathJaxConfig: 'local'};</script>\n",
              "        <script charset=\"utf-8\" src=\"https://cdn.plot.ly/plotly-2.35.2.min.js\"></script>                <div id=\"762f7b69-93ea-4816-8686-8f374c25227b\" class=\"plotly-graph-div\" style=\"height:525px; width:100%;\"></div>            <script type=\"text/javascript\">                                    window.PLOTLYENV=window.PLOTLYENV || {};                                    if (document.getElementById(\"762f7b69-93ea-4816-8686-8f374c25227b\")) {                    Plotly.newPlot(                        \"762f7b69-93ea-4816-8686-8f374c25227b\",                        [{\"alignmentgroup\":\"True\",\"hovertemplate\":\"Location=%{x}\\u003cbr\\u003ePurchase Amount (USD)=%{y}\\u003cextra\\u003e\\u003c\\u002fextra\\u003e\",\"legendgroup\":\"\",\"marker\":{\"color\":\"#636efa\",\"pattern\":{\"shape\":\"\"}},\"name\":\"\",\"offsetgroup\":\"\",\"orientation\":\"v\",\"showlegend\":false,\"textposition\":\"auto\",\"x\":[\"Alabama\",\"Alaska\",\"Arizona\",\"Arkansas\",\"California\",\"Colorado\",\"Connecticut\",\"Delaware\",\"Florida\",\"Georgia\",\"Hawaii\",\"Idaho\",\"Illinois\",\"Indiana\",\"Iowa\",\"Kansas\",\"Kentucky\",\"Louisiana\",\"Maine\",\"Maryland\",\"Massachusetts\",\"Michigan\",\"Minnesota\",\"Mississippi\",\"Missouri\",\"Montana\",\"Nebraska\",\"Nevada\",\"New Hampshire\",\"New Jersey\",\"New Mexico\",\"New York\",\"North Carolina\",\"North Dakota\",\"Ohio\",\"Oklahoma\",\"Oregon\",\"Pennsylvania\",\"Rhode Island\",\"South Carolina\",\"South Dakota\",\"Tennessee\",\"Texas\",\"Utah\",\"Vermont\",\"Virginia\",\"Washington\",\"West Virginia\",\"Wisconsin\",\"Wyoming\"],\"xaxis\":\"x\",\"y\":[59.1123595505618,67.59722222222223,66.55384615384615,61.11392405063291,59.0,56.29333333333334,54.17948717948718,55.325581395348834,55.85294117647059,58.79746835443038,57.723076923076924,60.075268817204304,61.05434782608695,58.924050632911396,60.88405797101449,54.55555555555556,55.721518987341774,57.714285714285715,56.98701298701299,55.75581395348837,60.888888888888886,62.0958904109589,56.55681818181818,61.0375,57.91358024691358,60.25,59.44827586206897,63.37931034482759,59.42253521126761,56.74626865671642,61.901234567901234,60.42528735632184,60.794871794871796,62.89156626506024,60.37662337662338,58.346666666666664,57.33783783783784,66.56756756756756,61.44444444444444,58.4078947368421,60.51428571428571,61.97402597402598,61.1948051948052,62.57746478873239,57.1764705882353,62.883116883116884,63.32876712328767,63.876543209876544,55.946666666666665,60.690140845070424],\"yaxis\":\"y\",\"type\":\"bar\"}],                        {\"template\":{\"data\":{\"histogram2dcontour\":[{\"type\":\"histogram2dcontour\",\"colorbar\":{\"outlinewidth\":0,\"ticks\":\"\"},\"colorscale\":[[0.0,\"#0d0887\"],[0.1111111111111111,\"#46039f\"],[0.2222222222222222,\"#7201a8\"],[0.3333333333333333,\"#9c179e\"],[0.4444444444444444,\"#bd3786\"],[0.5555555555555556,\"#d8576b\"],[0.6666666666666666,\"#ed7953\"],[0.7777777777777778,\"#fb9f3a\"],[0.8888888888888888,\"#fdca26\"],[1.0,\"#f0f921\"]]}],\"choropleth\":[{\"type\":\"choropleth\",\"colorbar\":{\"outlinewidth\":0,\"ticks\":\"\"}}],\"histogram2d\":[{\"type\":\"histogram2d\",\"colorbar\":{\"outlinewidth\":0,\"ticks\":\"\"},\"colorscale\":[[0.0,\"#0d0887\"],[0.1111111111111111,\"#46039f\"],[0.2222222222222222,\"#7201a8\"],[0.3333333333333333,\"#9c179e\"],[0.4444444444444444,\"#bd3786\"],[0.5555555555555556,\"#d8576b\"],[0.6666666666666666,\"#ed7953\"],[0.7777777777777778,\"#fb9f3a\"],[0.8888888888888888,\"#fdca26\"],[1.0,\"#f0f921\"]]}],\"heatmap\":[{\"type\":\"heatmap\",\"colorbar\":{\"outlinewidth\":0,\"ticks\":\"\"},\"colorscale\":[[0.0,\"#0d0887\"],[0.1111111111111111,\"#46039f\"],[0.2222222222222222,\"#7201a8\"],[0.3333333333333333,\"#9c179e\"],[0.4444444444444444,\"#bd3786\"],[0.5555555555555556,\"#d8576b\"],[0.6666666666666666,\"#ed7953\"],[0.7777777777777778,\"#fb9f3a\"],[0.8888888888888888,\"#fdca26\"],[1.0,\"#f0f921\"]]}],\"heatmapgl\":[{\"type\":\"heatmapgl\",\"colorbar\":{\"outlinewidth\":0,\"ticks\":\"\"},\"colorscale\":[[0.0,\"#0d0887\"],[0.1111111111111111,\"#46039f\"],[0.2222222222222222,\"#7201a8\"],[0.3333333333333333,\"#9c179e\"],[0.4444444444444444,\"#bd3786\"],[0.5555555555555556,\"#d8576b\"],[0.6666666666666666,\"#ed7953\"],[0.7777777777777778,\"#fb9f3a\"],[0.8888888888888888,\"#fdca26\"],[1.0,\"#f0f921\"]]}],\"contourcarpet\":[{\"type\":\"contourcarpet\",\"colorbar\":{\"outlinewidth\":0,\"ticks\":\"\"}}],\"contour\":[{\"type\":\"contour\",\"colorbar\":{\"outlinewidth\":0,\"ticks\":\"\"},\"colorscale\":[[0.0,\"#0d0887\"],[0.1111111111111111,\"#46039f\"],[0.2222222222222222,\"#7201a8\"],[0.3333333333333333,\"#9c179e\"],[0.4444444444444444,\"#bd3786\"],[0.5555555555555556,\"#d8576b\"],[0.6666666666666666,\"#ed7953\"],[0.7777777777777778,\"#fb9f3a\"],[0.8888888888888888,\"#fdca26\"],[1.0,\"#f0f921\"]]}],\"surface\":[{\"type\":\"surface\",\"colorbar\":{\"outlinewidth\":0,\"ticks\":\"\"},\"colorscale\":[[0.0,\"#0d0887\"],[0.1111111111111111,\"#46039f\"],[0.2222222222222222,\"#7201a8\"],[0.3333333333333333,\"#9c179e\"],[0.4444444444444444,\"#bd3786\"],[0.5555555555555556,\"#d8576b\"],[0.6666666666666666,\"#ed7953\"],[0.7777777777777778,\"#fb9f3a\"],[0.8888888888888888,\"#fdca26\"],[1.0,\"#f0f921\"]]}],\"mesh3d\":[{\"type\":\"mesh3d\",\"colorbar\":{\"outlinewidth\":0,\"ticks\":\"\"}}],\"scatter\":[{\"fillpattern\":{\"fillmode\":\"overlay\",\"size\":10,\"solidity\":0.2},\"type\":\"scatter\"}],\"parcoords\":[{\"type\":\"parcoords\",\"line\":{\"colorbar\":{\"outlinewidth\":0,\"ticks\":\"\"}}}],\"scatterpolargl\":[{\"type\":\"scatterpolargl\",\"marker\":{\"colorbar\":{\"outlinewidth\":0,\"ticks\":\"\"}}}],\"bar\":[{\"error_x\":{\"color\":\"#2a3f5f\"},\"error_y\":{\"color\":\"#2a3f5f\"},\"marker\":{\"line\":{\"color\":\"#E5ECF6\",\"width\":0.5},\"pattern\":{\"fillmode\":\"overlay\",\"size\":10,\"solidity\":0.2}},\"type\":\"bar\"}],\"scattergeo\":[{\"type\":\"scattergeo\",\"marker\":{\"colorbar\":{\"outlinewidth\":0,\"ticks\":\"\"}}}],\"scatterpolar\":[{\"type\":\"scatterpolar\",\"marker\":{\"colorbar\":{\"outlinewidth\":0,\"ticks\":\"\"}}}],\"histogram\":[{\"marker\":{\"pattern\":{\"fillmode\":\"overlay\",\"size\":10,\"solidity\":0.2}},\"type\":\"histogram\"}],\"scattergl\":[{\"type\":\"scattergl\",\"marker\":{\"colorbar\":{\"outlinewidth\":0,\"ticks\":\"\"}}}],\"scatter3d\":[{\"type\":\"scatter3d\",\"line\":{\"colorbar\":{\"outlinewidth\":0,\"ticks\":\"\"}},\"marker\":{\"colorbar\":{\"outlinewidth\":0,\"ticks\":\"\"}}}],\"scattermapbox\":[{\"type\":\"scattermapbox\",\"marker\":{\"colorbar\":{\"outlinewidth\":0,\"ticks\":\"\"}}}],\"scatterternary\":[{\"type\":\"scatterternary\",\"marker\":{\"colorbar\":{\"outlinewidth\":0,\"ticks\":\"\"}}}],\"scattercarpet\":[{\"type\":\"scattercarpet\",\"marker\":{\"colorbar\":{\"outlinewidth\":0,\"ticks\":\"\"}}}],\"carpet\":[{\"aaxis\":{\"endlinecolor\":\"#2a3f5f\",\"gridcolor\":\"white\",\"linecolor\":\"white\",\"minorgridcolor\":\"white\",\"startlinecolor\":\"#2a3f5f\"},\"baxis\":{\"endlinecolor\":\"#2a3f5f\",\"gridcolor\":\"white\",\"linecolor\":\"white\",\"minorgridcolor\":\"white\",\"startlinecolor\":\"#2a3f5f\"},\"type\":\"carpet\"}],\"table\":[{\"cells\":{\"fill\":{\"color\":\"#EBF0F8\"},\"line\":{\"color\":\"white\"}},\"header\":{\"fill\":{\"color\":\"#C8D4E3\"},\"line\":{\"color\":\"white\"}},\"type\":\"table\"}],\"barpolar\":[{\"marker\":{\"line\":{\"color\":\"#E5ECF6\",\"width\":0.5},\"pattern\":{\"fillmode\":\"overlay\",\"size\":10,\"solidity\":0.2}},\"type\":\"barpolar\"}],\"pie\":[{\"automargin\":true,\"type\":\"pie\"}]},\"layout\":{\"autotypenumbers\":\"strict\",\"colorway\":[\"#636efa\",\"#EF553B\",\"#00cc96\",\"#ab63fa\",\"#FFA15A\",\"#19d3f3\",\"#FF6692\",\"#B6E880\",\"#FF97FF\",\"#FECB52\"],\"font\":{\"color\":\"#2a3f5f\"},\"hovermode\":\"closest\",\"hoverlabel\":{\"align\":\"left\"},\"paper_bgcolor\":\"white\",\"plot_bgcolor\":\"#E5ECF6\",\"polar\":{\"bgcolor\":\"#E5ECF6\",\"angularaxis\":{\"gridcolor\":\"white\",\"linecolor\":\"white\",\"ticks\":\"\"},\"radialaxis\":{\"gridcolor\":\"white\",\"linecolor\":\"white\",\"ticks\":\"\"}},\"ternary\":{\"bgcolor\":\"#E5ECF6\",\"aaxis\":{\"gridcolor\":\"white\",\"linecolor\":\"white\",\"ticks\":\"\"},\"baxis\":{\"gridcolor\":\"white\",\"linecolor\":\"white\",\"ticks\":\"\"},\"caxis\":{\"gridcolor\":\"white\",\"linecolor\":\"white\",\"ticks\":\"\"}},\"coloraxis\":{\"colorbar\":{\"outlinewidth\":0,\"ticks\":\"\"}},\"colorscale\":{\"sequential\":[[0.0,\"#0d0887\"],[0.1111111111111111,\"#46039f\"],[0.2222222222222222,\"#7201a8\"],[0.3333333333333333,\"#9c179e\"],[0.4444444444444444,\"#bd3786\"],[0.5555555555555556,\"#d8576b\"],[0.6666666666666666,\"#ed7953\"],[0.7777777777777778,\"#fb9f3a\"],[0.8888888888888888,\"#fdca26\"],[1.0,\"#f0f921\"]],\"sequentialminus\":[[0.0,\"#0d0887\"],[0.1111111111111111,\"#46039f\"],[0.2222222222222222,\"#7201a8\"],[0.3333333333333333,\"#9c179e\"],[0.4444444444444444,\"#bd3786\"],[0.5555555555555556,\"#d8576b\"],[0.6666666666666666,\"#ed7953\"],[0.7777777777777778,\"#fb9f3a\"],[0.8888888888888888,\"#fdca26\"],[1.0,\"#f0f921\"]],\"diverging\":[[0,\"#8e0152\"],[0.1,\"#c51b7d\"],[0.2,\"#de77ae\"],[0.3,\"#f1b6da\"],[0.4,\"#fde0ef\"],[0.5,\"#f7f7f7\"],[0.6,\"#e6f5d0\"],[0.7,\"#b8e186\"],[0.8,\"#7fbc41\"],[0.9,\"#4d9221\"],[1,\"#276419\"]]},\"xaxis\":{\"gridcolor\":\"white\",\"linecolor\":\"white\",\"ticks\":\"\",\"title\":{\"standoff\":15},\"zerolinecolor\":\"white\",\"automargin\":true,\"zerolinewidth\":2},\"yaxis\":{\"gridcolor\":\"white\",\"linecolor\":\"white\",\"ticks\":\"\",\"title\":{\"standoff\":15},\"zerolinecolor\":\"white\",\"automargin\":true,\"zerolinewidth\":2},\"scene\":{\"xaxis\":{\"backgroundcolor\":\"#E5ECF6\",\"gridcolor\":\"white\",\"linecolor\":\"white\",\"showbackground\":true,\"ticks\":\"\",\"zerolinecolor\":\"white\",\"gridwidth\":2},\"yaxis\":{\"backgroundcolor\":\"#E5ECF6\",\"gridcolor\":\"white\",\"linecolor\":\"white\",\"showbackground\":true,\"ticks\":\"\",\"zerolinecolor\":\"white\",\"gridwidth\":2},\"zaxis\":{\"backgroundcolor\":\"#E5ECF6\",\"gridcolor\":\"white\",\"linecolor\":\"white\",\"showbackground\":true,\"ticks\":\"\",\"zerolinecolor\":\"white\",\"gridwidth\":2}},\"shapedefaults\":{\"line\":{\"color\":\"#2a3f5f\"}},\"annotationdefaults\":{\"arrowcolor\":\"#2a3f5f\",\"arrowhead\":0,\"arrowwidth\":1},\"geo\":{\"bgcolor\":\"white\",\"landcolor\":\"#E5ECF6\",\"subunitcolor\":\"white\",\"showland\":true,\"showlakes\":true,\"lakecolor\":\"white\"},\"title\":{\"x\":0.05},\"mapbox\":{\"style\":\"light\"}}},\"xaxis\":{\"anchor\":\"y\",\"domain\":[0.0,1.0],\"title\":{\"text\":\"Location\"}},\"yaxis\":{\"anchor\":\"x\",\"domain\":[0.0,1.0],\"title\":{\"text\":\"Purchase Amount (USD)\"}},\"legend\":{\"tracegroupgap\":0},\"title\":{\"text\":\"Average Purchase Amount by Location\"},\"barmode\":\"relative\"},                        {\"responsive\": true}                    ).then(function(){\n",
              "                            \n",
              "var gd = document.getElementById('762f7b69-93ea-4816-8686-8f374c25227b');\n",
              "var x = new MutationObserver(function (mutations, observer) {{\n",
              "        var display = window.getComputedStyle(gd).display;\n",
              "        if (!display || display === 'none') {{\n",
              "            console.log([gd, 'removed!']);\n",
              "            Plotly.purge(gd);\n",
              "            observer.disconnect();\n",
              "        }}\n",
              "}});\n",
              "\n",
              "// Listen for the removal of the full notebook cells\n",
              "var notebookContainer = gd.closest('#notebook-container');\n",
              "if (notebookContainer) {{\n",
              "    x.observe(notebookContainer, {childList: true});\n",
              "}}\n",
              "\n",
              "// Listen for the clearing of the current output cell\n",
              "var outputEl = gd.closest('.output');\n",
              "if (outputEl) {{\n",
              "    x.observe(outputEl, {childList: true});\n",
              "}}\n",
              "\n",
              "                        })                };                            </script>        </div>\n",
              "</body>\n",
              "</html>"
            ]
          },
          "metadata": {}
        }
      ]
    },
    {
      "cell_type": "markdown",
      "source": [
        "17.\tAre there any noticeable differences in purchase behavior between different locations?"
      ],
      "metadata": {
        "id": "zKa0eGpx1MEe"
      }
    },
    {
      "cell_type": "code",
      "source": [
        "# Group by 'Category', calculate the mean of 'Age', and reset the index\n",
        "shop_group = shop.groupby('Category')['Age'].mean().reset_index()\n",
        "\n",
        "# Create a bar chart\n",
        "fig = px.bar(shop_group, x='Category', y='Age', title='Average Age by Category')\n",
        "\n",
        "# Show the chart\n",
        "fig.show()\n"
      ],
      "metadata": {
        "colab": {
          "base_uri": "https://localhost:8080/",
          "height": 542
        },
        "id": "rYkHbNQ81LO3",
        "outputId": "cb7f759b-f4ba-4318-a916-7c32a65dfe36"
      },
      "execution_count": null,
      "outputs": [
        {
          "output_type": "display_data",
          "data": {
            "text/html": [
              "<html>\n",
              "<head><meta charset=\"utf-8\" /></head>\n",
              "<body>\n",
              "    <div>            <script src=\"https://cdnjs.cloudflare.com/ajax/libs/mathjax/2.7.5/MathJax.js?config=TeX-AMS-MML_SVG\"></script><script type=\"text/javascript\">if (window.MathJax && window.MathJax.Hub && window.MathJax.Hub.Config) {window.MathJax.Hub.Config({SVG: {font: \"STIX-Web\"}});}</script>                <script type=\"text/javascript\">window.PlotlyConfig = {MathJaxConfig: 'local'};</script>\n",
              "        <script charset=\"utf-8\" src=\"https://cdn.plot.ly/plotly-2.35.2.min.js\"></script>                <div id=\"e26a8d37-f226-4433-8567-a84274a97cce\" class=\"plotly-graph-div\" style=\"height:525px; width:100%;\"></div>            <script type=\"text/javascript\">                                    window.PLOTLYENV=window.PLOTLYENV || {};                                    if (document.getElementById(\"e26a8d37-f226-4433-8567-a84274a97cce\")) {                    Plotly.newPlot(                        \"e26a8d37-f226-4433-8567-a84274a97cce\",                        [{\"alignmentgroup\":\"True\",\"hovertemplate\":\"Category=%{x}\\u003cbr\\u003eAge=%{y}\\u003cextra\\u003e\\u003c\\u002fextra\\u003e\",\"legendgroup\":\"\",\"marker\":{\"color\":\"#636efa\",\"pattern\":{\"shape\":\"\"}},\"name\":\"\",\"offsetgroup\":\"\",\"orientation\":\"v\",\"showlegend\":false,\"textposition\":\"auto\",\"x\":[\"Accessories\",\"Clothing\",\"Footwear\",\"Outerwear\"],\"xaxis\":\"x\",\"y\":[44.2241935483871,43.782959124928034,44.4424040066778,44.31172839506173],\"yaxis\":\"y\",\"type\":\"bar\"}],                        {\"template\":{\"data\":{\"histogram2dcontour\":[{\"type\":\"histogram2dcontour\",\"colorbar\":{\"outlinewidth\":0,\"ticks\":\"\"},\"colorscale\":[[0.0,\"#0d0887\"],[0.1111111111111111,\"#46039f\"],[0.2222222222222222,\"#7201a8\"],[0.3333333333333333,\"#9c179e\"],[0.4444444444444444,\"#bd3786\"],[0.5555555555555556,\"#d8576b\"],[0.6666666666666666,\"#ed7953\"],[0.7777777777777778,\"#fb9f3a\"],[0.8888888888888888,\"#fdca26\"],[1.0,\"#f0f921\"]]}],\"choropleth\":[{\"type\":\"choropleth\",\"colorbar\":{\"outlinewidth\":0,\"ticks\":\"\"}}],\"histogram2d\":[{\"type\":\"histogram2d\",\"colorbar\":{\"outlinewidth\":0,\"ticks\":\"\"},\"colorscale\":[[0.0,\"#0d0887\"],[0.1111111111111111,\"#46039f\"],[0.2222222222222222,\"#7201a8\"],[0.3333333333333333,\"#9c179e\"],[0.4444444444444444,\"#bd3786\"],[0.5555555555555556,\"#d8576b\"],[0.6666666666666666,\"#ed7953\"],[0.7777777777777778,\"#fb9f3a\"],[0.8888888888888888,\"#fdca26\"],[1.0,\"#f0f921\"]]}],\"heatmap\":[{\"type\":\"heatmap\",\"colorbar\":{\"outlinewidth\":0,\"ticks\":\"\"},\"colorscale\":[[0.0,\"#0d0887\"],[0.1111111111111111,\"#46039f\"],[0.2222222222222222,\"#7201a8\"],[0.3333333333333333,\"#9c179e\"],[0.4444444444444444,\"#bd3786\"],[0.5555555555555556,\"#d8576b\"],[0.6666666666666666,\"#ed7953\"],[0.7777777777777778,\"#fb9f3a\"],[0.8888888888888888,\"#fdca26\"],[1.0,\"#f0f921\"]]}],\"heatmapgl\":[{\"type\":\"heatmapgl\",\"colorbar\":{\"outlinewidth\":0,\"ticks\":\"\"},\"colorscale\":[[0.0,\"#0d0887\"],[0.1111111111111111,\"#46039f\"],[0.2222222222222222,\"#7201a8\"],[0.3333333333333333,\"#9c179e\"],[0.4444444444444444,\"#bd3786\"],[0.5555555555555556,\"#d8576b\"],[0.6666666666666666,\"#ed7953\"],[0.7777777777777778,\"#fb9f3a\"],[0.8888888888888888,\"#fdca26\"],[1.0,\"#f0f921\"]]}],\"contourcarpet\":[{\"type\":\"contourcarpet\",\"colorbar\":{\"outlinewidth\":0,\"ticks\":\"\"}}],\"contour\":[{\"type\":\"contour\",\"colorbar\":{\"outlinewidth\":0,\"ticks\":\"\"},\"colorscale\":[[0.0,\"#0d0887\"],[0.1111111111111111,\"#46039f\"],[0.2222222222222222,\"#7201a8\"],[0.3333333333333333,\"#9c179e\"],[0.4444444444444444,\"#bd3786\"],[0.5555555555555556,\"#d8576b\"],[0.6666666666666666,\"#ed7953\"],[0.7777777777777778,\"#fb9f3a\"],[0.8888888888888888,\"#fdca26\"],[1.0,\"#f0f921\"]]}],\"surface\":[{\"type\":\"surface\",\"colorbar\":{\"outlinewidth\":0,\"ticks\":\"\"},\"colorscale\":[[0.0,\"#0d0887\"],[0.1111111111111111,\"#46039f\"],[0.2222222222222222,\"#7201a8\"],[0.3333333333333333,\"#9c179e\"],[0.4444444444444444,\"#bd3786\"],[0.5555555555555556,\"#d8576b\"],[0.6666666666666666,\"#ed7953\"],[0.7777777777777778,\"#fb9f3a\"],[0.8888888888888888,\"#fdca26\"],[1.0,\"#f0f921\"]]}],\"mesh3d\":[{\"type\":\"mesh3d\",\"colorbar\":{\"outlinewidth\":0,\"ticks\":\"\"}}],\"scatter\":[{\"fillpattern\":{\"fillmode\":\"overlay\",\"size\":10,\"solidity\":0.2},\"type\":\"scatter\"}],\"parcoords\":[{\"type\":\"parcoords\",\"line\":{\"colorbar\":{\"outlinewidth\":0,\"ticks\":\"\"}}}],\"scatterpolargl\":[{\"type\":\"scatterpolargl\",\"marker\":{\"colorbar\":{\"outlinewidth\":0,\"ticks\":\"\"}}}],\"bar\":[{\"error_x\":{\"color\":\"#2a3f5f\"},\"error_y\":{\"color\":\"#2a3f5f\"},\"marker\":{\"line\":{\"color\":\"#E5ECF6\",\"width\":0.5},\"pattern\":{\"fillmode\":\"overlay\",\"size\":10,\"solidity\":0.2}},\"type\":\"bar\"}],\"scattergeo\":[{\"type\":\"scattergeo\",\"marker\":{\"colorbar\":{\"outlinewidth\":0,\"ticks\":\"\"}}}],\"scatterpolar\":[{\"type\":\"scatterpolar\",\"marker\":{\"colorbar\":{\"outlinewidth\":0,\"ticks\":\"\"}}}],\"histogram\":[{\"marker\":{\"pattern\":{\"fillmode\":\"overlay\",\"size\":10,\"solidity\":0.2}},\"type\":\"histogram\"}],\"scattergl\":[{\"type\":\"scattergl\",\"marker\":{\"colorbar\":{\"outlinewidth\":0,\"ticks\":\"\"}}}],\"scatter3d\":[{\"type\":\"scatter3d\",\"line\":{\"colorbar\":{\"outlinewidth\":0,\"ticks\":\"\"}},\"marker\":{\"colorbar\":{\"outlinewidth\":0,\"ticks\":\"\"}}}],\"scattermapbox\":[{\"type\":\"scattermapbox\",\"marker\":{\"colorbar\":{\"outlinewidth\":0,\"ticks\":\"\"}}}],\"scatterternary\":[{\"type\":\"scatterternary\",\"marker\":{\"colorbar\":{\"outlinewidth\":0,\"ticks\":\"\"}}}],\"scattercarpet\":[{\"type\":\"scattercarpet\",\"marker\":{\"colorbar\":{\"outlinewidth\":0,\"ticks\":\"\"}}}],\"carpet\":[{\"aaxis\":{\"endlinecolor\":\"#2a3f5f\",\"gridcolor\":\"white\",\"linecolor\":\"white\",\"minorgridcolor\":\"white\",\"startlinecolor\":\"#2a3f5f\"},\"baxis\":{\"endlinecolor\":\"#2a3f5f\",\"gridcolor\":\"white\",\"linecolor\":\"white\",\"minorgridcolor\":\"white\",\"startlinecolor\":\"#2a3f5f\"},\"type\":\"carpet\"}],\"table\":[{\"cells\":{\"fill\":{\"color\":\"#EBF0F8\"},\"line\":{\"color\":\"white\"}},\"header\":{\"fill\":{\"color\":\"#C8D4E3\"},\"line\":{\"color\":\"white\"}},\"type\":\"table\"}],\"barpolar\":[{\"marker\":{\"line\":{\"color\":\"#E5ECF6\",\"width\":0.5},\"pattern\":{\"fillmode\":\"overlay\",\"size\":10,\"solidity\":0.2}},\"type\":\"barpolar\"}],\"pie\":[{\"automargin\":true,\"type\":\"pie\"}]},\"layout\":{\"autotypenumbers\":\"strict\",\"colorway\":[\"#636efa\",\"#EF553B\",\"#00cc96\",\"#ab63fa\",\"#FFA15A\",\"#19d3f3\",\"#FF6692\",\"#B6E880\",\"#FF97FF\",\"#FECB52\"],\"font\":{\"color\":\"#2a3f5f\"},\"hovermode\":\"closest\",\"hoverlabel\":{\"align\":\"left\"},\"paper_bgcolor\":\"white\",\"plot_bgcolor\":\"#E5ECF6\",\"polar\":{\"bgcolor\":\"#E5ECF6\",\"angularaxis\":{\"gridcolor\":\"white\",\"linecolor\":\"white\",\"ticks\":\"\"},\"radialaxis\":{\"gridcolor\":\"white\",\"linecolor\":\"white\",\"ticks\":\"\"}},\"ternary\":{\"bgcolor\":\"#E5ECF6\",\"aaxis\":{\"gridcolor\":\"white\",\"linecolor\":\"white\",\"ticks\":\"\"},\"baxis\":{\"gridcolor\":\"white\",\"linecolor\":\"white\",\"ticks\":\"\"},\"caxis\":{\"gridcolor\":\"white\",\"linecolor\":\"white\",\"ticks\":\"\"}},\"coloraxis\":{\"colorbar\":{\"outlinewidth\":0,\"ticks\":\"\"}},\"colorscale\":{\"sequential\":[[0.0,\"#0d0887\"],[0.1111111111111111,\"#46039f\"],[0.2222222222222222,\"#7201a8\"],[0.3333333333333333,\"#9c179e\"],[0.4444444444444444,\"#bd3786\"],[0.5555555555555556,\"#d8576b\"],[0.6666666666666666,\"#ed7953\"],[0.7777777777777778,\"#fb9f3a\"],[0.8888888888888888,\"#fdca26\"],[1.0,\"#f0f921\"]],\"sequentialminus\":[[0.0,\"#0d0887\"],[0.1111111111111111,\"#46039f\"],[0.2222222222222222,\"#7201a8\"],[0.3333333333333333,\"#9c179e\"],[0.4444444444444444,\"#bd3786\"],[0.5555555555555556,\"#d8576b\"],[0.6666666666666666,\"#ed7953\"],[0.7777777777777778,\"#fb9f3a\"],[0.8888888888888888,\"#fdca26\"],[1.0,\"#f0f921\"]],\"diverging\":[[0,\"#8e0152\"],[0.1,\"#c51b7d\"],[0.2,\"#de77ae\"],[0.3,\"#f1b6da\"],[0.4,\"#fde0ef\"],[0.5,\"#f7f7f7\"],[0.6,\"#e6f5d0\"],[0.7,\"#b8e186\"],[0.8,\"#7fbc41\"],[0.9,\"#4d9221\"],[1,\"#276419\"]]},\"xaxis\":{\"gridcolor\":\"white\",\"linecolor\":\"white\",\"ticks\":\"\",\"title\":{\"standoff\":15},\"zerolinecolor\":\"white\",\"automargin\":true,\"zerolinewidth\":2},\"yaxis\":{\"gridcolor\":\"white\",\"linecolor\":\"white\",\"ticks\":\"\",\"title\":{\"standoff\":15},\"zerolinecolor\":\"white\",\"automargin\":true,\"zerolinewidth\":2},\"scene\":{\"xaxis\":{\"backgroundcolor\":\"#E5ECF6\",\"gridcolor\":\"white\",\"linecolor\":\"white\",\"showbackground\":true,\"ticks\":\"\",\"zerolinecolor\":\"white\",\"gridwidth\":2},\"yaxis\":{\"backgroundcolor\":\"#E5ECF6\",\"gridcolor\":\"white\",\"linecolor\":\"white\",\"showbackground\":true,\"ticks\":\"\",\"zerolinecolor\":\"white\",\"gridwidth\":2},\"zaxis\":{\"backgroundcolor\":\"#E5ECF6\",\"gridcolor\":\"white\",\"linecolor\":\"white\",\"showbackground\":true,\"ticks\":\"\",\"zerolinecolor\":\"white\",\"gridwidth\":2}},\"shapedefaults\":{\"line\":{\"color\":\"#2a3f5f\"}},\"annotationdefaults\":{\"arrowcolor\":\"#2a3f5f\",\"arrowhead\":0,\"arrowwidth\":1},\"geo\":{\"bgcolor\":\"white\",\"landcolor\":\"#E5ECF6\",\"subunitcolor\":\"white\",\"showland\":true,\"showlakes\":true,\"lakecolor\":\"white\"},\"title\":{\"x\":0.05},\"mapbox\":{\"style\":\"light\"}}},\"xaxis\":{\"anchor\":\"y\",\"domain\":[0.0,1.0],\"title\":{\"text\":\"Category\"}},\"yaxis\":{\"anchor\":\"x\",\"domain\":[0.0,1.0],\"title\":{\"text\":\"Age\"}},\"legend\":{\"tracegroupgap\":0},\"title\":{\"text\":\"Average Age by Category\"},\"barmode\":\"relative\"},                        {\"responsive\": true}                    ).then(function(){\n",
              "                            \n",
              "var gd = document.getElementById('e26a8d37-f226-4433-8567-a84274a97cce');\n",
              "var x = new MutationObserver(function (mutations, observer) {{\n",
              "        var display = window.getComputedStyle(gd).display;\n",
              "        if (!display || display === 'none') {{\n",
              "            console.log([gd, 'removed!']);\n",
              "            Plotly.purge(gd);\n",
              "            observer.disconnect();\n",
              "        }}\n",
              "}});\n",
              "\n",
              "// Listen for the removal of the full notebook cells\n",
              "var notebookContainer = gd.closest('#notebook-container');\n",
              "if (notebookContainer) {{\n",
              "    x.observe(notebookContainer, {childList: true});\n",
              "}}\n",
              "\n",
              "// Listen for the clearing of the current output cell\n",
              "var outputEl = gd.closest('.output');\n",
              "if (outputEl) {{\n",
              "    x.observe(outputEl, {childList: true});\n",
              "}}\n",
              "\n",
              "                        })                };                            </script>        </div>\n",
              "</body>\n",
              "</html>"
            ]
          },
          "metadata": {}
        }
      ]
    },
    {
      "cell_type": "markdown",
      "source": [
        "18.\tIs there a relationship between customer age and the category of products they purchase?"
      ],
      "metadata": {
        "id": "rOB5Bq6x1X4E"
      }
    },
    {
      "cell_type": "code",
      "source": [
        "# Group by 'Gender', calculate the sum of 'Purchase Amount (USD)', and reset the index\n",
        "shop_group = shop.groupby('Gender')['Purchase Amount (USD)'].sum().reset_index()\n",
        "\n",
        "# Create a bar chart\n",
        "fig = px.bar(shop_group, x='Gender', y='Purchase Amount (USD)', title='Total Purchase Amount by Gender')\n",
        "\n",
        "# Show the chart\n",
        "fig.show()"
      ],
      "metadata": {
        "colab": {
          "base_uri": "https://localhost:8080/",
          "height": 542
        },
        "id": "gy1gDLXn1LHg",
        "outputId": "107f1d45-6cb3-4b19-8c09-2bed4e5ea982"
      },
      "execution_count": null,
      "outputs": [
        {
          "output_type": "display_data",
          "data": {
            "text/html": [
              "<html>\n",
              "<head><meta charset=\"utf-8\" /></head>\n",
              "<body>\n",
              "    <div>            <script src=\"https://cdnjs.cloudflare.com/ajax/libs/mathjax/2.7.5/MathJax.js?config=TeX-AMS-MML_SVG\"></script><script type=\"text/javascript\">if (window.MathJax && window.MathJax.Hub && window.MathJax.Hub.Config) {window.MathJax.Hub.Config({SVG: {font: \"STIX-Web\"}});}</script>                <script type=\"text/javascript\">window.PlotlyConfig = {MathJaxConfig: 'local'};</script>\n",
              "        <script charset=\"utf-8\" src=\"https://cdn.plot.ly/plotly-2.35.2.min.js\"></script>                <div id=\"ab9fa661-9956-4f6f-b0c4-fd0dbf463cbc\" class=\"plotly-graph-div\" style=\"height:525px; width:100%;\"></div>            <script type=\"text/javascript\">                                    window.PLOTLYENV=window.PLOTLYENV || {};                                    if (document.getElementById(\"ab9fa661-9956-4f6f-b0c4-fd0dbf463cbc\")) {                    Plotly.newPlot(                        \"ab9fa661-9956-4f6f-b0c4-fd0dbf463cbc\",                        [{\"alignmentgroup\":\"True\",\"hovertemplate\":\"Gender=%{x}\\u003cbr\\u003ePurchase Amount (USD)=%{y}\\u003cextra\\u003e\\u003c\\u002fextra\\u003e\",\"legendgroup\":\"\",\"marker\":{\"color\":\"#636efa\",\"pattern\":{\"shape\":\"\"}},\"name\":\"\",\"offsetgroup\":\"\",\"orientation\":\"v\",\"showlegend\":false,\"textposition\":\"auto\",\"x\":[\"Female\",\"Male\"],\"xaxis\":\"x\",\"y\":[75191,157890],\"yaxis\":\"y\",\"type\":\"bar\"}],                        {\"template\":{\"data\":{\"histogram2dcontour\":[{\"type\":\"histogram2dcontour\",\"colorbar\":{\"outlinewidth\":0,\"ticks\":\"\"},\"colorscale\":[[0.0,\"#0d0887\"],[0.1111111111111111,\"#46039f\"],[0.2222222222222222,\"#7201a8\"],[0.3333333333333333,\"#9c179e\"],[0.4444444444444444,\"#bd3786\"],[0.5555555555555556,\"#d8576b\"],[0.6666666666666666,\"#ed7953\"],[0.7777777777777778,\"#fb9f3a\"],[0.8888888888888888,\"#fdca26\"],[1.0,\"#f0f921\"]]}],\"choropleth\":[{\"type\":\"choropleth\",\"colorbar\":{\"outlinewidth\":0,\"ticks\":\"\"}}],\"histogram2d\":[{\"type\":\"histogram2d\",\"colorbar\":{\"outlinewidth\":0,\"ticks\":\"\"},\"colorscale\":[[0.0,\"#0d0887\"],[0.1111111111111111,\"#46039f\"],[0.2222222222222222,\"#7201a8\"],[0.3333333333333333,\"#9c179e\"],[0.4444444444444444,\"#bd3786\"],[0.5555555555555556,\"#d8576b\"],[0.6666666666666666,\"#ed7953\"],[0.7777777777777778,\"#fb9f3a\"],[0.8888888888888888,\"#fdca26\"],[1.0,\"#f0f921\"]]}],\"heatmap\":[{\"type\":\"heatmap\",\"colorbar\":{\"outlinewidth\":0,\"ticks\":\"\"},\"colorscale\":[[0.0,\"#0d0887\"],[0.1111111111111111,\"#46039f\"],[0.2222222222222222,\"#7201a8\"],[0.3333333333333333,\"#9c179e\"],[0.4444444444444444,\"#bd3786\"],[0.5555555555555556,\"#d8576b\"],[0.6666666666666666,\"#ed7953\"],[0.7777777777777778,\"#fb9f3a\"],[0.8888888888888888,\"#fdca26\"],[1.0,\"#f0f921\"]]}],\"heatmapgl\":[{\"type\":\"heatmapgl\",\"colorbar\":{\"outlinewidth\":0,\"ticks\":\"\"},\"colorscale\":[[0.0,\"#0d0887\"],[0.1111111111111111,\"#46039f\"],[0.2222222222222222,\"#7201a8\"],[0.3333333333333333,\"#9c179e\"],[0.4444444444444444,\"#bd3786\"],[0.5555555555555556,\"#d8576b\"],[0.6666666666666666,\"#ed7953\"],[0.7777777777777778,\"#fb9f3a\"],[0.8888888888888888,\"#fdca26\"],[1.0,\"#f0f921\"]]}],\"contourcarpet\":[{\"type\":\"contourcarpet\",\"colorbar\":{\"outlinewidth\":0,\"ticks\":\"\"}}],\"contour\":[{\"type\":\"contour\",\"colorbar\":{\"outlinewidth\":0,\"ticks\":\"\"},\"colorscale\":[[0.0,\"#0d0887\"],[0.1111111111111111,\"#46039f\"],[0.2222222222222222,\"#7201a8\"],[0.3333333333333333,\"#9c179e\"],[0.4444444444444444,\"#bd3786\"],[0.5555555555555556,\"#d8576b\"],[0.6666666666666666,\"#ed7953\"],[0.7777777777777778,\"#fb9f3a\"],[0.8888888888888888,\"#fdca26\"],[1.0,\"#f0f921\"]]}],\"surface\":[{\"type\":\"surface\",\"colorbar\":{\"outlinewidth\":0,\"ticks\":\"\"},\"colorscale\":[[0.0,\"#0d0887\"],[0.1111111111111111,\"#46039f\"],[0.2222222222222222,\"#7201a8\"],[0.3333333333333333,\"#9c179e\"],[0.4444444444444444,\"#bd3786\"],[0.5555555555555556,\"#d8576b\"],[0.6666666666666666,\"#ed7953\"],[0.7777777777777778,\"#fb9f3a\"],[0.8888888888888888,\"#fdca26\"],[1.0,\"#f0f921\"]]}],\"mesh3d\":[{\"type\":\"mesh3d\",\"colorbar\":{\"outlinewidth\":0,\"ticks\":\"\"}}],\"scatter\":[{\"fillpattern\":{\"fillmode\":\"overlay\",\"size\":10,\"solidity\":0.2},\"type\":\"scatter\"}],\"parcoords\":[{\"type\":\"parcoords\",\"line\":{\"colorbar\":{\"outlinewidth\":0,\"ticks\":\"\"}}}],\"scatterpolargl\":[{\"type\":\"scatterpolargl\",\"marker\":{\"colorbar\":{\"outlinewidth\":0,\"ticks\":\"\"}}}],\"bar\":[{\"error_x\":{\"color\":\"#2a3f5f\"},\"error_y\":{\"color\":\"#2a3f5f\"},\"marker\":{\"line\":{\"color\":\"#E5ECF6\",\"width\":0.5},\"pattern\":{\"fillmode\":\"overlay\",\"size\":10,\"solidity\":0.2}},\"type\":\"bar\"}],\"scattergeo\":[{\"type\":\"scattergeo\",\"marker\":{\"colorbar\":{\"outlinewidth\":0,\"ticks\":\"\"}}}],\"scatterpolar\":[{\"type\":\"scatterpolar\",\"marker\":{\"colorbar\":{\"outlinewidth\":0,\"ticks\":\"\"}}}],\"histogram\":[{\"marker\":{\"pattern\":{\"fillmode\":\"overlay\",\"size\":10,\"solidity\":0.2}},\"type\":\"histogram\"}],\"scattergl\":[{\"type\":\"scattergl\",\"marker\":{\"colorbar\":{\"outlinewidth\":0,\"ticks\":\"\"}}}],\"scatter3d\":[{\"type\":\"scatter3d\",\"line\":{\"colorbar\":{\"outlinewidth\":0,\"ticks\":\"\"}},\"marker\":{\"colorbar\":{\"outlinewidth\":0,\"ticks\":\"\"}}}],\"scattermapbox\":[{\"type\":\"scattermapbox\",\"marker\":{\"colorbar\":{\"outlinewidth\":0,\"ticks\":\"\"}}}],\"scatterternary\":[{\"type\":\"scatterternary\",\"marker\":{\"colorbar\":{\"outlinewidth\":0,\"ticks\":\"\"}}}],\"scattercarpet\":[{\"type\":\"scattercarpet\",\"marker\":{\"colorbar\":{\"outlinewidth\":0,\"ticks\":\"\"}}}],\"carpet\":[{\"aaxis\":{\"endlinecolor\":\"#2a3f5f\",\"gridcolor\":\"white\",\"linecolor\":\"white\",\"minorgridcolor\":\"white\",\"startlinecolor\":\"#2a3f5f\"},\"baxis\":{\"endlinecolor\":\"#2a3f5f\",\"gridcolor\":\"white\",\"linecolor\":\"white\",\"minorgridcolor\":\"white\",\"startlinecolor\":\"#2a3f5f\"},\"type\":\"carpet\"}],\"table\":[{\"cells\":{\"fill\":{\"color\":\"#EBF0F8\"},\"line\":{\"color\":\"white\"}},\"header\":{\"fill\":{\"color\":\"#C8D4E3\"},\"line\":{\"color\":\"white\"}},\"type\":\"table\"}],\"barpolar\":[{\"marker\":{\"line\":{\"color\":\"#E5ECF6\",\"width\":0.5},\"pattern\":{\"fillmode\":\"overlay\",\"size\":10,\"solidity\":0.2}},\"type\":\"barpolar\"}],\"pie\":[{\"automargin\":true,\"type\":\"pie\"}]},\"layout\":{\"autotypenumbers\":\"strict\",\"colorway\":[\"#636efa\",\"#EF553B\",\"#00cc96\",\"#ab63fa\",\"#FFA15A\",\"#19d3f3\",\"#FF6692\",\"#B6E880\",\"#FF97FF\",\"#FECB52\"],\"font\":{\"color\":\"#2a3f5f\"},\"hovermode\":\"closest\",\"hoverlabel\":{\"align\":\"left\"},\"paper_bgcolor\":\"white\",\"plot_bgcolor\":\"#E5ECF6\",\"polar\":{\"bgcolor\":\"#E5ECF6\",\"angularaxis\":{\"gridcolor\":\"white\",\"linecolor\":\"white\",\"ticks\":\"\"},\"radialaxis\":{\"gridcolor\":\"white\",\"linecolor\":\"white\",\"ticks\":\"\"}},\"ternary\":{\"bgcolor\":\"#E5ECF6\",\"aaxis\":{\"gridcolor\":\"white\",\"linecolor\":\"white\",\"ticks\":\"\"},\"baxis\":{\"gridcolor\":\"white\",\"linecolor\":\"white\",\"ticks\":\"\"},\"caxis\":{\"gridcolor\":\"white\",\"linecolor\":\"white\",\"ticks\":\"\"}},\"coloraxis\":{\"colorbar\":{\"outlinewidth\":0,\"ticks\":\"\"}},\"colorscale\":{\"sequential\":[[0.0,\"#0d0887\"],[0.1111111111111111,\"#46039f\"],[0.2222222222222222,\"#7201a8\"],[0.3333333333333333,\"#9c179e\"],[0.4444444444444444,\"#bd3786\"],[0.5555555555555556,\"#d8576b\"],[0.6666666666666666,\"#ed7953\"],[0.7777777777777778,\"#fb9f3a\"],[0.8888888888888888,\"#fdca26\"],[1.0,\"#f0f921\"]],\"sequentialminus\":[[0.0,\"#0d0887\"],[0.1111111111111111,\"#46039f\"],[0.2222222222222222,\"#7201a8\"],[0.3333333333333333,\"#9c179e\"],[0.4444444444444444,\"#bd3786\"],[0.5555555555555556,\"#d8576b\"],[0.6666666666666666,\"#ed7953\"],[0.7777777777777778,\"#fb9f3a\"],[0.8888888888888888,\"#fdca26\"],[1.0,\"#f0f921\"]],\"diverging\":[[0,\"#8e0152\"],[0.1,\"#c51b7d\"],[0.2,\"#de77ae\"],[0.3,\"#f1b6da\"],[0.4,\"#fde0ef\"],[0.5,\"#f7f7f7\"],[0.6,\"#e6f5d0\"],[0.7,\"#b8e186\"],[0.8,\"#7fbc41\"],[0.9,\"#4d9221\"],[1,\"#276419\"]]},\"xaxis\":{\"gridcolor\":\"white\",\"linecolor\":\"white\",\"ticks\":\"\",\"title\":{\"standoff\":15},\"zerolinecolor\":\"white\",\"automargin\":true,\"zerolinewidth\":2},\"yaxis\":{\"gridcolor\":\"white\",\"linecolor\":\"white\",\"ticks\":\"\",\"title\":{\"standoff\":15},\"zerolinecolor\":\"white\",\"automargin\":true,\"zerolinewidth\":2},\"scene\":{\"xaxis\":{\"backgroundcolor\":\"#E5ECF6\",\"gridcolor\":\"white\",\"linecolor\":\"white\",\"showbackground\":true,\"ticks\":\"\",\"zerolinecolor\":\"white\",\"gridwidth\":2},\"yaxis\":{\"backgroundcolor\":\"#E5ECF6\",\"gridcolor\":\"white\",\"linecolor\":\"white\",\"showbackground\":true,\"ticks\":\"\",\"zerolinecolor\":\"white\",\"gridwidth\":2},\"zaxis\":{\"backgroundcolor\":\"#E5ECF6\",\"gridcolor\":\"white\",\"linecolor\":\"white\",\"showbackground\":true,\"ticks\":\"\",\"zerolinecolor\":\"white\",\"gridwidth\":2}},\"shapedefaults\":{\"line\":{\"color\":\"#2a3f5f\"}},\"annotationdefaults\":{\"arrowcolor\":\"#2a3f5f\",\"arrowhead\":0,\"arrowwidth\":1},\"geo\":{\"bgcolor\":\"white\",\"landcolor\":\"#E5ECF6\",\"subunitcolor\":\"white\",\"showland\":true,\"showlakes\":true,\"lakecolor\":\"white\"},\"title\":{\"x\":0.05},\"mapbox\":{\"style\":\"light\"}}},\"xaxis\":{\"anchor\":\"y\",\"domain\":[0.0,1.0],\"title\":{\"text\":\"Gender\"}},\"yaxis\":{\"anchor\":\"x\",\"domain\":[0.0,1.0],\"title\":{\"text\":\"Purchase Amount (USD)\"}},\"legend\":{\"tracegroupgap\":0},\"title\":{\"text\":\"Total Purchase Amount by Gender\"},\"barmode\":\"relative\"},                        {\"responsive\": true}                    ).then(function(){\n",
              "                            \n",
              "var gd = document.getElementById('ab9fa661-9956-4f6f-b0c4-fd0dbf463cbc');\n",
              "var x = new MutationObserver(function (mutations, observer) {{\n",
              "        var display = window.getComputedStyle(gd).display;\n",
              "        if (!display || display === 'none') {{\n",
              "            console.log([gd, 'removed!']);\n",
              "            Plotly.purge(gd);\n",
              "            observer.disconnect();\n",
              "        }}\n",
              "}});\n",
              "\n",
              "// Listen for the removal of the full notebook cells\n",
              "var notebookContainer = gd.closest('#notebook-container');\n",
              "if (notebookContainer) {{\n",
              "    x.observe(notebookContainer, {childList: true});\n",
              "}}\n",
              "\n",
              "// Listen for the clearing of the current output cell\n",
              "var outputEl = gd.closest('.output');\n",
              "if (outputEl) {{\n",
              "    x.observe(outputEl, {childList: true});\n",
              "}}\n",
              "\n",
              "                        })                };                            </script>        </div>\n",
              "</body>\n",
              "</html>"
            ]
          },
          "metadata": {}
        }
      ]
    },
    {
      "cell_type": "code",
      "source": [
        "# Create a sunburst chart\n",
        "fig = px.sunburst(shop, path=['Gender', 'Age_category'], values='Purchase Amount (USD)',\n",
        "                  title='Purchase Amount by Gender and Age Category')\n",
        "\n",
        "# Show the chart\n",
        "fig.show()"
      ],
      "metadata": {
        "colab": {
          "base_uri": "https://localhost:8080/",
          "height": 631
        },
        "id": "SW4MmzNu1LFW",
        "outputId": "1b7cef40-e8ff-41ab-9ba1-8051ea096802"
      },
      "execution_count": null,
      "outputs": [
        {
          "output_type": "stream",
          "name": "stderr",
          "text": [
            "/usr/local/lib/python3.11/dist-packages/plotly/express/_core.py:1727: FutureWarning:\n",
            "\n",
            "The default of observed=False is deprecated and will be changed to True in a future version of pandas. Pass observed=False to retain current behavior or observed=True to adopt the future default and silence this warning.\n",
            "\n"
          ]
        },
        {
          "output_type": "display_data",
          "data": {
            "text/html": [
              "<html>\n",
              "<head><meta charset=\"utf-8\" /></head>\n",
              "<body>\n",
              "    <div>            <script src=\"https://cdnjs.cloudflare.com/ajax/libs/mathjax/2.7.5/MathJax.js?config=TeX-AMS-MML_SVG\"></script><script type=\"text/javascript\">if (window.MathJax && window.MathJax.Hub && window.MathJax.Hub.Config) {window.MathJax.Hub.Config({SVG: {font: \"STIX-Web\"}});}</script>                <script type=\"text/javascript\">window.PlotlyConfig = {MathJaxConfig: 'local'};</script>\n",
              "        <script charset=\"utf-8\" src=\"https://cdn.plot.ly/plotly-2.35.2.min.js\"></script>                <div id=\"a28e1352-6760-4424-8306-658337693390\" class=\"plotly-graph-div\" style=\"height:525px; width:100%;\"></div>            <script type=\"text/javascript\">                                    window.PLOTLYENV=window.PLOTLYENV || {};                                    if (document.getElementById(\"a28e1352-6760-4424-8306-658337693390\")) {                    Plotly.newPlot(                        \"a28e1352-6760-4424-8306-658337693390\",                        [{\"branchvalues\":\"total\",\"domain\":{\"x\":[0.0,1.0],\"y\":[0.0,1.0]},\"hovertemplate\":\"labels=%{label}\\u003cbr\\u003ePurchase Amount (USD)=%{value}\\u003cbr\\u003eparent=%{parent}\\u003cbr\\u003eid=%{id}\\u003cextra\\u003e\\u003c\\u002fextra\\u003e\",\"ids\":[\"Female\\u002f0-18\",\"Male\\u002f0-18\",\"Female\\u002f19-35\",\"Male\\u002f19-35\",\"Female\\u002f36-50\",\"Male\\u002f36-50\",\"Female\\u002f50+\",\"Male\\u002f50+\",\"Female\",\"Male\"],\"labels\":[\"0-18\",\"0-18\",\"19-35\",\"19-35\",\"36-50\",\"36-50\",\"50+\",\"50+\",\"Female\",\"Male\"],\"name\":\"\",\"parents\":[\"Female\",\"Male\",\"Female\",\"Male\",\"Female\",\"Male\",\"Female\",\"Male\",\"\",\"\"],\"values\":[1194,2945,24361,50472,21751,43878,27885,60595,75191,157890],\"type\":\"sunburst\"}],                        {\"template\":{\"data\":{\"histogram2dcontour\":[{\"type\":\"histogram2dcontour\",\"colorbar\":{\"outlinewidth\":0,\"ticks\":\"\"},\"colorscale\":[[0.0,\"#0d0887\"],[0.1111111111111111,\"#46039f\"],[0.2222222222222222,\"#7201a8\"],[0.3333333333333333,\"#9c179e\"],[0.4444444444444444,\"#bd3786\"],[0.5555555555555556,\"#d8576b\"],[0.6666666666666666,\"#ed7953\"],[0.7777777777777778,\"#fb9f3a\"],[0.8888888888888888,\"#fdca26\"],[1.0,\"#f0f921\"]]}],\"choropleth\":[{\"type\":\"choropleth\",\"colorbar\":{\"outlinewidth\":0,\"ticks\":\"\"}}],\"histogram2d\":[{\"type\":\"histogram2d\",\"colorbar\":{\"outlinewidth\":0,\"ticks\":\"\"},\"colorscale\":[[0.0,\"#0d0887\"],[0.1111111111111111,\"#46039f\"],[0.2222222222222222,\"#7201a8\"],[0.3333333333333333,\"#9c179e\"],[0.4444444444444444,\"#bd3786\"],[0.5555555555555556,\"#d8576b\"],[0.6666666666666666,\"#ed7953\"],[0.7777777777777778,\"#fb9f3a\"],[0.8888888888888888,\"#fdca26\"],[1.0,\"#f0f921\"]]}],\"heatmap\":[{\"type\":\"heatmap\",\"colorbar\":{\"outlinewidth\":0,\"ticks\":\"\"},\"colorscale\":[[0.0,\"#0d0887\"],[0.1111111111111111,\"#46039f\"],[0.2222222222222222,\"#7201a8\"],[0.3333333333333333,\"#9c179e\"],[0.4444444444444444,\"#bd3786\"],[0.5555555555555556,\"#d8576b\"],[0.6666666666666666,\"#ed7953\"],[0.7777777777777778,\"#fb9f3a\"],[0.8888888888888888,\"#fdca26\"],[1.0,\"#f0f921\"]]}],\"heatmapgl\":[{\"type\":\"heatmapgl\",\"colorbar\":{\"outlinewidth\":0,\"ticks\":\"\"},\"colorscale\":[[0.0,\"#0d0887\"],[0.1111111111111111,\"#46039f\"],[0.2222222222222222,\"#7201a8\"],[0.3333333333333333,\"#9c179e\"],[0.4444444444444444,\"#bd3786\"],[0.5555555555555556,\"#d8576b\"],[0.6666666666666666,\"#ed7953\"],[0.7777777777777778,\"#fb9f3a\"],[0.8888888888888888,\"#fdca26\"],[1.0,\"#f0f921\"]]}],\"contourcarpet\":[{\"type\":\"contourcarpet\",\"colorbar\":{\"outlinewidth\":0,\"ticks\":\"\"}}],\"contour\":[{\"type\":\"contour\",\"colorbar\":{\"outlinewidth\":0,\"ticks\":\"\"},\"colorscale\":[[0.0,\"#0d0887\"],[0.1111111111111111,\"#46039f\"],[0.2222222222222222,\"#7201a8\"],[0.3333333333333333,\"#9c179e\"],[0.4444444444444444,\"#bd3786\"],[0.5555555555555556,\"#d8576b\"],[0.6666666666666666,\"#ed7953\"],[0.7777777777777778,\"#fb9f3a\"],[0.8888888888888888,\"#fdca26\"],[1.0,\"#f0f921\"]]}],\"surface\":[{\"type\":\"surface\",\"colorbar\":{\"outlinewidth\":0,\"ticks\":\"\"},\"colorscale\":[[0.0,\"#0d0887\"],[0.1111111111111111,\"#46039f\"],[0.2222222222222222,\"#7201a8\"],[0.3333333333333333,\"#9c179e\"],[0.4444444444444444,\"#bd3786\"],[0.5555555555555556,\"#d8576b\"],[0.6666666666666666,\"#ed7953\"],[0.7777777777777778,\"#fb9f3a\"],[0.8888888888888888,\"#fdca26\"],[1.0,\"#f0f921\"]]}],\"mesh3d\":[{\"type\":\"mesh3d\",\"colorbar\":{\"outlinewidth\":0,\"ticks\":\"\"}}],\"scatter\":[{\"fillpattern\":{\"fillmode\":\"overlay\",\"size\":10,\"solidity\":0.2},\"type\":\"scatter\"}],\"parcoords\":[{\"type\":\"parcoords\",\"line\":{\"colorbar\":{\"outlinewidth\":0,\"ticks\":\"\"}}}],\"scatterpolargl\":[{\"type\":\"scatterpolargl\",\"marker\":{\"colorbar\":{\"outlinewidth\":0,\"ticks\":\"\"}}}],\"bar\":[{\"error_x\":{\"color\":\"#2a3f5f\"},\"error_y\":{\"color\":\"#2a3f5f\"},\"marker\":{\"line\":{\"color\":\"#E5ECF6\",\"width\":0.5},\"pattern\":{\"fillmode\":\"overlay\",\"size\":10,\"solidity\":0.2}},\"type\":\"bar\"}],\"scattergeo\":[{\"type\":\"scattergeo\",\"marker\":{\"colorbar\":{\"outlinewidth\":0,\"ticks\":\"\"}}}],\"scatterpolar\":[{\"type\":\"scatterpolar\",\"marker\":{\"colorbar\":{\"outlinewidth\":0,\"ticks\":\"\"}}}],\"histogram\":[{\"marker\":{\"pattern\":{\"fillmode\":\"overlay\",\"size\":10,\"solidity\":0.2}},\"type\":\"histogram\"}],\"scattergl\":[{\"type\":\"scattergl\",\"marker\":{\"colorbar\":{\"outlinewidth\":0,\"ticks\":\"\"}}}],\"scatter3d\":[{\"type\":\"scatter3d\",\"line\":{\"colorbar\":{\"outlinewidth\":0,\"ticks\":\"\"}},\"marker\":{\"colorbar\":{\"outlinewidth\":0,\"ticks\":\"\"}}}],\"scattermapbox\":[{\"type\":\"scattermapbox\",\"marker\":{\"colorbar\":{\"outlinewidth\":0,\"ticks\":\"\"}}}],\"scatterternary\":[{\"type\":\"scatterternary\",\"marker\":{\"colorbar\":{\"outlinewidth\":0,\"ticks\":\"\"}}}],\"scattercarpet\":[{\"type\":\"scattercarpet\",\"marker\":{\"colorbar\":{\"outlinewidth\":0,\"ticks\":\"\"}}}],\"carpet\":[{\"aaxis\":{\"endlinecolor\":\"#2a3f5f\",\"gridcolor\":\"white\",\"linecolor\":\"white\",\"minorgridcolor\":\"white\",\"startlinecolor\":\"#2a3f5f\"},\"baxis\":{\"endlinecolor\":\"#2a3f5f\",\"gridcolor\":\"white\",\"linecolor\":\"white\",\"minorgridcolor\":\"white\",\"startlinecolor\":\"#2a3f5f\"},\"type\":\"carpet\"}],\"table\":[{\"cells\":{\"fill\":{\"color\":\"#EBF0F8\"},\"line\":{\"color\":\"white\"}},\"header\":{\"fill\":{\"color\":\"#C8D4E3\"},\"line\":{\"color\":\"white\"}},\"type\":\"table\"}],\"barpolar\":[{\"marker\":{\"line\":{\"color\":\"#E5ECF6\",\"width\":0.5},\"pattern\":{\"fillmode\":\"overlay\",\"size\":10,\"solidity\":0.2}},\"type\":\"barpolar\"}],\"pie\":[{\"automargin\":true,\"type\":\"pie\"}]},\"layout\":{\"autotypenumbers\":\"strict\",\"colorway\":[\"#636efa\",\"#EF553B\",\"#00cc96\",\"#ab63fa\",\"#FFA15A\",\"#19d3f3\",\"#FF6692\",\"#B6E880\",\"#FF97FF\",\"#FECB52\"],\"font\":{\"color\":\"#2a3f5f\"},\"hovermode\":\"closest\",\"hoverlabel\":{\"align\":\"left\"},\"paper_bgcolor\":\"white\",\"plot_bgcolor\":\"#E5ECF6\",\"polar\":{\"bgcolor\":\"#E5ECF6\",\"angularaxis\":{\"gridcolor\":\"white\",\"linecolor\":\"white\",\"ticks\":\"\"},\"radialaxis\":{\"gridcolor\":\"white\",\"linecolor\":\"white\",\"ticks\":\"\"}},\"ternary\":{\"bgcolor\":\"#E5ECF6\",\"aaxis\":{\"gridcolor\":\"white\",\"linecolor\":\"white\",\"ticks\":\"\"},\"baxis\":{\"gridcolor\":\"white\",\"linecolor\":\"white\",\"ticks\":\"\"},\"caxis\":{\"gridcolor\":\"white\",\"linecolor\":\"white\",\"ticks\":\"\"}},\"coloraxis\":{\"colorbar\":{\"outlinewidth\":0,\"ticks\":\"\"}},\"colorscale\":{\"sequential\":[[0.0,\"#0d0887\"],[0.1111111111111111,\"#46039f\"],[0.2222222222222222,\"#7201a8\"],[0.3333333333333333,\"#9c179e\"],[0.4444444444444444,\"#bd3786\"],[0.5555555555555556,\"#d8576b\"],[0.6666666666666666,\"#ed7953\"],[0.7777777777777778,\"#fb9f3a\"],[0.8888888888888888,\"#fdca26\"],[1.0,\"#f0f921\"]],\"sequentialminus\":[[0.0,\"#0d0887\"],[0.1111111111111111,\"#46039f\"],[0.2222222222222222,\"#7201a8\"],[0.3333333333333333,\"#9c179e\"],[0.4444444444444444,\"#bd3786\"],[0.5555555555555556,\"#d8576b\"],[0.6666666666666666,\"#ed7953\"],[0.7777777777777778,\"#fb9f3a\"],[0.8888888888888888,\"#fdca26\"],[1.0,\"#f0f921\"]],\"diverging\":[[0,\"#8e0152\"],[0.1,\"#c51b7d\"],[0.2,\"#de77ae\"],[0.3,\"#f1b6da\"],[0.4,\"#fde0ef\"],[0.5,\"#f7f7f7\"],[0.6,\"#e6f5d0\"],[0.7,\"#b8e186\"],[0.8,\"#7fbc41\"],[0.9,\"#4d9221\"],[1,\"#276419\"]]},\"xaxis\":{\"gridcolor\":\"white\",\"linecolor\":\"white\",\"ticks\":\"\",\"title\":{\"standoff\":15},\"zerolinecolor\":\"white\",\"automargin\":true,\"zerolinewidth\":2},\"yaxis\":{\"gridcolor\":\"white\",\"linecolor\":\"white\",\"ticks\":\"\",\"title\":{\"standoff\":15},\"zerolinecolor\":\"white\",\"automargin\":true,\"zerolinewidth\":2},\"scene\":{\"xaxis\":{\"backgroundcolor\":\"#E5ECF6\",\"gridcolor\":\"white\",\"linecolor\":\"white\",\"showbackground\":true,\"ticks\":\"\",\"zerolinecolor\":\"white\",\"gridwidth\":2},\"yaxis\":{\"backgroundcolor\":\"#E5ECF6\",\"gridcolor\":\"white\",\"linecolor\":\"white\",\"showbackground\":true,\"ticks\":\"\",\"zerolinecolor\":\"white\",\"gridwidth\":2},\"zaxis\":{\"backgroundcolor\":\"#E5ECF6\",\"gridcolor\":\"white\",\"linecolor\":\"white\",\"showbackground\":true,\"ticks\":\"\",\"zerolinecolor\":\"white\",\"gridwidth\":2}},\"shapedefaults\":{\"line\":{\"color\":\"#2a3f5f\"}},\"annotationdefaults\":{\"arrowcolor\":\"#2a3f5f\",\"arrowhead\":0,\"arrowwidth\":1},\"geo\":{\"bgcolor\":\"white\",\"landcolor\":\"#E5ECF6\",\"subunitcolor\":\"white\",\"showland\":true,\"showlakes\":true,\"lakecolor\":\"white\"},\"title\":{\"x\":0.05},\"mapbox\":{\"style\":\"light\"}}},\"legend\":{\"tracegroupgap\":0},\"title\":{\"text\":\"Purchase Amount by Gender and Age Category\"}},                        {\"responsive\": true}                    ).then(function(){\n",
              "                            \n",
              "var gd = document.getElementById('a28e1352-6760-4424-8306-658337693390');\n",
              "var x = new MutationObserver(function (mutations, observer) {{\n",
              "        var display = window.getComputedStyle(gd).display;\n",
              "        if (!display || display === 'none') {{\n",
              "            console.log([gd, 'removed!']);\n",
              "            Plotly.purge(gd);\n",
              "            observer.disconnect();\n",
              "        }}\n",
              "}});\n",
              "\n",
              "// Listen for the removal of the full notebook cells\n",
              "var notebookContainer = gd.closest('#notebook-container');\n",
              "if (notebookContainer) {{\n",
              "    x.observe(notebookContainer, {childList: true});\n",
              "}}\n",
              "\n",
              "// Listen for the clearing of the current output cell\n",
              "var outputEl = gd.closest('.output');\n",
              "if (outputEl) {{\n",
              "    x.observe(outputEl, {childList: true});\n",
              "}}\n",
              "\n",
              "                        })                };                            </script>        </div>\n",
              "</body>\n",
              "</html>"
            ]
          },
          "metadata": {}
        }
      ]
    },
    {
      "cell_type": "code",
      "source": [],
      "metadata": {
        "id": "zrzeLQiH1LC7"
      },
      "execution_count": null,
      "outputs": []
    },
    {
      "cell_type": "code",
      "source": [],
      "metadata": {
        "id": "6hXBIw6s1LAa"
      },
      "execution_count": null,
      "outputs": []
    },
    {
      "cell_type": "code",
      "source": [],
      "metadata": {
        "id": "YdO9Acqd1K9u"
      },
      "execution_count": null,
      "outputs": []
    },
    {
      "cell_type": "code",
      "source": [],
      "metadata": {
        "id": "m0JCgjx_1K7l"
      },
      "execution_count": null,
      "outputs": []
    },
    {
      "cell_type": "code",
      "source": [],
      "metadata": {
        "id": "CvtENiRj1K4V"
      },
      "execution_count": null,
      "outputs": []
    },
    {
      "cell_type": "code",
      "source": [],
      "metadata": {
        "id": "arEqb34h1K2F"
      },
      "execution_count": null,
      "outputs": []
    },
    {
      "cell_type": "code",
      "source": [],
      "metadata": {
        "id": "gk15mlot1Kz1"
      },
      "execution_count": null,
      "outputs": []
    },
    {
      "cell_type": "code",
      "source": [],
      "metadata": {
        "id": "j-0zrwpu1Kxf"
      },
      "execution_count": null,
      "outputs": []
    },
    {
      "cell_type": "code",
      "source": [],
      "metadata": {
        "id": "G2R1cufK1KvU"
      },
      "execution_count": null,
      "outputs": []
    },
    {
      "cell_type": "code",
      "source": [],
      "metadata": {
        "id": "TJsoDI651KtB"
      },
      "execution_count": null,
      "outputs": []
    },
    {
      "cell_type": "code",
      "source": [],
      "metadata": {
        "id": "Lcoqx5Bu1KqP"
      },
      "execution_count": null,
      "outputs": []
    },
    {
      "cell_type": "code",
      "source": [],
      "metadata": {
        "id": "cC3Nx3cA1Klo"
      },
      "execution_count": null,
      "outputs": []
    },
    {
      "cell_type": "code",
      "source": [],
      "metadata": {
        "id": "6CzT5cBA1Kix"
      },
      "execution_count": null,
      "outputs": []
    },
    {
      "cell_type": "code",
      "source": [],
      "metadata": {
        "id": "yR4gOJ5e1KeX"
      },
      "execution_count": null,
      "outputs": []
    },
    {
      "cell_type": "code",
      "source": [],
      "metadata": {
        "id": "YptSTJQJ1KcC"
      },
      "execution_count": null,
      "outputs": []
    },
    {
      "cell_type": "code",
      "source": [],
      "metadata": {
        "id": "Qz6JVGeh1KZP"
      },
      "execution_count": null,
      "outputs": []
    },
    {
      "cell_type": "code",
      "source": [],
      "metadata": {
        "id": "45f9sGhk1KWQ"
      },
      "execution_count": null,
      "outputs": []
    },
    {
      "cell_type": "markdown",
      "source": [],
      "metadata": {
        "id": "MzNCDvO3yQD2"
      }
    },
    {
      "cell_type": "code",
      "source": [
        "##Descriptive Anaylysis"
      ],
      "metadata": {
        "id": "Ylz0KhSnxEcw"
      },
      "execution_count": null,
      "outputs": []
    },
    {
      "cell_type": "code",
      "source": [
        "import matplotlib.pyplot as plt\n",
        "import seaborn as sns\n",
        "import plotly.express as px\n",
        "%matplotlib inline"
      ],
      "metadata": {
        "id": "YrzQA3mXxEZu"
      },
      "execution_count": null,
      "outputs": []
    },
    {
      "cell_type": "code",
      "source": [
        "# Categorize the 'Age' column into age groups\n",
        "shop['Age_category'] = pd.cut(shop['Age'], bins=[0, 10, 15, 18, 30, 50, 70],\n",
        "                              labels=['Child', 'Teen', 'Young Adult', 'Adult', 'Middle Aged', 'Senior'])\n",
        "shop.head()"
      ],
      "metadata": {
        "id": "2oIf1ASyxEW-",
        "colab": {
          "base_uri": "https://localhost:8080/",
          "height": 313
        },
        "outputId": "93704ec6-b3b2-41fc-811f-8b46fa39a009"
      },
      "execution_count": null,
      "outputs": [
        {
          "output_type": "execute_result",
          "data": {
            "text/plain": [
              "   Customer ID  Age Gender Item Purchased  Category  Purchase Amount (USD)  \\\n",
              "0            1   55   Male         Blouse  Clothing                     53   \n",
              "1            2   19   Male        Sweater  Clothing                     64   \n",
              "2            3   50   Male          Jeans  Clothing                     73   \n",
              "3            4   21   Male        Sandals  Footwear                     90   \n",
              "4            5   45   Male         Blouse  Clothing                     49   \n",
              "\n",
              "        Location Size      Color  Season  Review Rating Subscription Status  \\\n",
              "0       Kentucky    L       Gray  Winter            3.1                 Yes   \n",
              "1          Maine    L     Maroon  Winter            3.1                 Yes   \n",
              "2  Massachusetts    S     Maroon  Spring            3.1                 Yes   \n",
              "3   Rhode Island    M     Maroon  Spring            3.5                 Yes   \n",
              "4         Oregon    M  Turquoise  Spring            2.7                 Yes   \n",
              "\n",
              "   Shipping Type Discount Applied Promo Code Used  Previous Purchases  \\\n",
              "0        Express              Yes             Yes                  14   \n",
              "1        Express              Yes             Yes                   2   \n",
              "2  Free Shipping              Yes             Yes                  23   \n",
              "3   Next Day Air              Yes             Yes                  49   \n",
              "4  Free Shipping              Yes             Yes                  31   \n",
              "\n",
              "  Payment Method Frequency of Purchases Age_category  \n",
              "0          Venmo            Fortnightly       Senior  \n",
              "1           Cash            Fortnightly        Adult  \n",
              "2    Credit Card                 Weekly  Middle Aged  \n",
              "3         PayPal                 Weekly        Adult  \n",
              "4         PayPal               Annually  Middle Aged  "
            ],
            "text/html": [
              "\n",
              "  <div id=\"df-85077e28-1db9-4cac-9ee5-1280c52b75ac\" class=\"colab-df-container\">\n",
              "    <div>\n",
              "<style scoped>\n",
              "    .dataframe tbody tr th:only-of-type {\n",
              "        vertical-align: middle;\n",
              "    }\n",
              "\n",
              "    .dataframe tbody tr th {\n",
              "        vertical-align: top;\n",
              "    }\n",
              "\n",
              "    .dataframe thead th {\n",
              "        text-align: right;\n",
              "    }\n",
              "</style>\n",
              "<table border=\"1\" class=\"dataframe\">\n",
              "  <thead>\n",
              "    <tr style=\"text-align: right;\">\n",
              "      <th></th>\n",
              "      <th>Customer ID</th>\n",
              "      <th>Age</th>\n",
              "      <th>Gender</th>\n",
              "      <th>Item Purchased</th>\n",
              "      <th>Category</th>\n",
              "      <th>Purchase Amount (USD)</th>\n",
              "      <th>Location</th>\n",
              "      <th>Size</th>\n",
              "      <th>Color</th>\n",
              "      <th>Season</th>\n",
              "      <th>Review Rating</th>\n",
              "      <th>Subscription Status</th>\n",
              "      <th>Shipping Type</th>\n",
              "      <th>Discount Applied</th>\n",
              "      <th>Promo Code Used</th>\n",
              "      <th>Previous Purchases</th>\n",
              "      <th>Payment Method</th>\n",
              "      <th>Frequency of Purchases</th>\n",
              "      <th>Age_category</th>\n",
              "    </tr>\n",
              "  </thead>\n",
              "  <tbody>\n",
              "    <tr>\n",
              "      <th>0</th>\n",
              "      <td>1</td>\n",
              "      <td>55</td>\n",
              "      <td>Male</td>\n",
              "      <td>Blouse</td>\n",
              "      <td>Clothing</td>\n",
              "      <td>53</td>\n",
              "      <td>Kentucky</td>\n",
              "      <td>L</td>\n",
              "      <td>Gray</td>\n",
              "      <td>Winter</td>\n",
              "      <td>3.1</td>\n",
              "      <td>Yes</td>\n",
              "      <td>Express</td>\n",
              "      <td>Yes</td>\n",
              "      <td>Yes</td>\n",
              "      <td>14</td>\n",
              "      <td>Venmo</td>\n",
              "      <td>Fortnightly</td>\n",
              "      <td>Senior</td>\n",
              "    </tr>\n",
              "    <tr>\n",
              "      <th>1</th>\n",
              "      <td>2</td>\n",
              "      <td>19</td>\n",
              "      <td>Male</td>\n",
              "      <td>Sweater</td>\n",
              "      <td>Clothing</td>\n",
              "      <td>64</td>\n",
              "      <td>Maine</td>\n",
              "      <td>L</td>\n",
              "      <td>Maroon</td>\n",
              "      <td>Winter</td>\n",
              "      <td>3.1</td>\n",
              "      <td>Yes</td>\n",
              "      <td>Express</td>\n",
              "      <td>Yes</td>\n",
              "      <td>Yes</td>\n",
              "      <td>2</td>\n",
              "      <td>Cash</td>\n",
              "      <td>Fortnightly</td>\n",
              "      <td>Adult</td>\n",
              "    </tr>\n",
              "    <tr>\n",
              "      <th>2</th>\n",
              "      <td>3</td>\n",
              "      <td>50</td>\n",
              "      <td>Male</td>\n",
              "      <td>Jeans</td>\n",
              "      <td>Clothing</td>\n",
              "      <td>73</td>\n",
              "      <td>Massachusetts</td>\n",
              "      <td>S</td>\n",
              "      <td>Maroon</td>\n",
              "      <td>Spring</td>\n",
              "      <td>3.1</td>\n",
              "      <td>Yes</td>\n",
              "      <td>Free Shipping</td>\n",
              "      <td>Yes</td>\n",
              "      <td>Yes</td>\n",
              "      <td>23</td>\n",
              "      <td>Credit Card</td>\n",
              "      <td>Weekly</td>\n",
              "      <td>Middle Aged</td>\n",
              "    </tr>\n",
              "    <tr>\n",
              "      <th>3</th>\n",
              "      <td>4</td>\n",
              "      <td>21</td>\n",
              "      <td>Male</td>\n",
              "      <td>Sandals</td>\n",
              "      <td>Footwear</td>\n",
              "      <td>90</td>\n",
              "      <td>Rhode Island</td>\n",
              "      <td>M</td>\n",
              "      <td>Maroon</td>\n",
              "      <td>Spring</td>\n",
              "      <td>3.5</td>\n",
              "      <td>Yes</td>\n",
              "      <td>Next Day Air</td>\n",
              "      <td>Yes</td>\n",
              "      <td>Yes</td>\n",
              "      <td>49</td>\n",
              "      <td>PayPal</td>\n",
              "      <td>Weekly</td>\n",
              "      <td>Adult</td>\n",
              "    </tr>\n",
              "    <tr>\n",
              "      <th>4</th>\n",
              "      <td>5</td>\n",
              "      <td>45</td>\n",
              "      <td>Male</td>\n",
              "      <td>Blouse</td>\n",
              "      <td>Clothing</td>\n",
              "      <td>49</td>\n",
              "      <td>Oregon</td>\n",
              "      <td>M</td>\n",
              "      <td>Turquoise</td>\n",
              "      <td>Spring</td>\n",
              "      <td>2.7</td>\n",
              "      <td>Yes</td>\n",
              "      <td>Free Shipping</td>\n",
              "      <td>Yes</td>\n",
              "      <td>Yes</td>\n",
              "      <td>31</td>\n",
              "      <td>PayPal</td>\n",
              "      <td>Annually</td>\n",
              "      <td>Middle Aged</td>\n",
              "    </tr>\n",
              "  </tbody>\n",
              "</table>\n",
              "</div>\n",
              "    <div class=\"colab-df-buttons\">\n",
              "\n",
              "  <div class=\"colab-df-container\">\n",
              "    <button class=\"colab-df-convert\" onclick=\"convertToInteractive('df-85077e28-1db9-4cac-9ee5-1280c52b75ac')\"\n",
              "            title=\"Convert this dataframe to an interactive table.\"\n",
              "            style=\"display:none;\">\n",
              "\n",
              "  <svg xmlns=\"http://www.w3.org/2000/svg\" height=\"24px\" viewBox=\"0 -960 960 960\">\n",
              "    <path d=\"M120-120v-720h720v720H120Zm60-500h600v-160H180v160Zm220 220h160v-160H400v160Zm0 220h160v-160H400v160ZM180-400h160v-160H180v160Zm440 0h160v-160H620v160ZM180-180h160v-160H180v160Zm440 0h160v-160H620v160Z\"/>\n",
              "  </svg>\n",
              "    </button>\n",
              "\n",
              "  <style>\n",
              "    .colab-df-container {\n",
              "      display:flex;\n",
              "      gap: 12px;\n",
              "    }\n",
              "\n",
              "    .colab-df-convert {\n",
              "      background-color: #E8F0FE;\n",
              "      border: none;\n",
              "      border-radius: 50%;\n",
              "      cursor: pointer;\n",
              "      display: none;\n",
              "      fill: #1967D2;\n",
              "      height: 32px;\n",
              "      padding: 0 0 0 0;\n",
              "      width: 32px;\n",
              "    }\n",
              "\n",
              "    .colab-df-convert:hover {\n",
              "      background-color: #E2EBFA;\n",
              "      box-shadow: 0px 1px 2px rgba(60, 64, 67, 0.3), 0px 1px 3px 1px rgba(60, 64, 67, 0.15);\n",
              "      fill: #174EA6;\n",
              "    }\n",
              "\n",
              "    .colab-df-buttons div {\n",
              "      margin-bottom: 4px;\n",
              "    }\n",
              "\n",
              "    [theme=dark] .colab-df-convert {\n",
              "      background-color: #3B4455;\n",
              "      fill: #D2E3FC;\n",
              "    }\n",
              "\n",
              "    [theme=dark] .colab-df-convert:hover {\n",
              "      background-color: #434B5C;\n",
              "      box-shadow: 0px 1px 3px 1px rgba(0, 0, 0, 0.15);\n",
              "      filter: drop-shadow(0px 1px 2px rgba(0, 0, 0, 0.3));\n",
              "      fill: #FFFFFF;\n",
              "    }\n",
              "  </style>\n",
              "\n",
              "    <script>\n",
              "      const buttonEl =\n",
              "        document.querySelector('#df-85077e28-1db9-4cac-9ee5-1280c52b75ac button.colab-df-convert');\n",
              "      buttonEl.style.display =\n",
              "        google.colab.kernel.accessAllowed ? 'block' : 'none';\n",
              "\n",
              "      async function convertToInteractive(key) {\n",
              "        const element = document.querySelector('#df-85077e28-1db9-4cac-9ee5-1280c52b75ac');\n",
              "        const dataTable =\n",
              "          await google.colab.kernel.invokeFunction('convertToInteractive',\n",
              "                                                    [key], {});\n",
              "        if (!dataTable) return;\n",
              "\n",
              "        const docLinkHtml = 'Like what you see? Visit the ' +\n",
              "          '<a target=\"_blank\" href=https://colab.research.google.com/notebooks/data_table.ipynb>data table notebook</a>'\n",
              "          + ' to learn more about interactive tables.';\n",
              "        element.innerHTML = '';\n",
              "        dataTable['output_type'] = 'display_data';\n",
              "        await google.colab.output.renderOutput(dataTable, element);\n",
              "        const docLink = document.createElement('div');\n",
              "        docLink.innerHTML = docLinkHtml;\n",
              "        element.appendChild(docLink);\n",
              "      }\n",
              "    </script>\n",
              "  </div>\n",
              "\n",
              "\n",
              "<div id=\"df-a5421755-3762-4588-a3c5-f39ffec078a4\">\n",
              "  <button class=\"colab-df-quickchart\" onclick=\"quickchart('df-a5421755-3762-4588-a3c5-f39ffec078a4')\"\n",
              "            title=\"Suggest charts\"\n",
              "            style=\"display:none;\">\n",
              "\n",
              "<svg xmlns=\"http://www.w3.org/2000/svg\" height=\"24px\"viewBox=\"0 0 24 24\"\n",
              "     width=\"24px\">\n",
              "    <g>\n",
              "        <path d=\"M19 3H5c-1.1 0-2 .9-2 2v14c0 1.1.9 2 2 2h14c1.1 0 2-.9 2-2V5c0-1.1-.9-2-2-2zM9 17H7v-7h2v7zm4 0h-2V7h2v10zm4 0h-2v-4h2v4z\"/>\n",
              "    </g>\n",
              "</svg>\n",
              "  </button>\n",
              "\n",
              "<style>\n",
              "  .colab-df-quickchart {\n",
              "      --bg-color: #E8F0FE;\n",
              "      --fill-color: #1967D2;\n",
              "      --hover-bg-color: #E2EBFA;\n",
              "      --hover-fill-color: #174EA6;\n",
              "      --disabled-fill-color: #AAA;\n",
              "      --disabled-bg-color: #DDD;\n",
              "  }\n",
              "\n",
              "  [theme=dark] .colab-df-quickchart {\n",
              "      --bg-color: #3B4455;\n",
              "      --fill-color: #D2E3FC;\n",
              "      --hover-bg-color: #434B5C;\n",
              "      --hover-fill-color: #FFFFFF;\n",
              "      --disabled-bg-color: #3B4455;\n",
              "      --disabled-fill-color: #666;\n",
              "  }\n",
              "\n",
              "  .colab-df-quickchart {\n",
              "    background-color: var(--bg-color);\n",
              "    border: none;\n",
              "    border-radius: 50%;\n",
              "    cursor: pointer;\n",
              "    display: none;\n",
              "    fill: var(--fill-color);\n",
              "    height: 32px;\n",
              "    padding: 0;\n",
              "    width: 32px;\n",
              "  }\n",
              "\n",
              "  .colab-df-quickchart:hover {\n",
              "    background-color: var(--hover-bg-color);\n",
              "    box-shadow: 0 1px 2px rgba(60, 64, 67, 0.3), 0 1px 3px 1px rgba(60, 64, 67, 0.15);\n",
              "    fill: var(--button-hover-fill-color);\n",
              "  }\n",
              "\n",
              "  .colab-df-quickchart-complete:disabled,\n",
              "  .colab-df-quickchart-complete:disabled:hover {\n",
              "    background-color: var(--disabled-bg-color);\n",
              "    fill: var(--disabled-fill-color);\n",
              "    box-shadow: none;\n",
              "  }\n",
              "\n",
              "  .colab-df-spinner {\n",
              "    border: 2px solid var(--fill-color);\n",
              "    border-color: transparent;\n",
              "    border-bottom-color: var(--fill-color);\n",
              "    animation:\n",
              "      spin 1s steps(1) infinite;\n",
              "  }\n",
              "\n",
              "  @keyframes spin {\n",
              "    0% {\n",
              "      border-color: transparent;\n",
              "      border-bottom-color: var(--fill-color);\n",
              "      border-left-color: var(--fill-color);\n",
              "    }\n",
              "    20% {\n",
              "      border-color: transparent;\n",
              "      border-left-color: var(--fill-color);\n",
              "      border-top-color: var(--fill-color);\n",
              "    }\n",
              "    30% {\n",
              "      border-color: transparent;\n",
              "      border-left-color: var(--fill-color);\n",
              "      border-top-color: var(--fill-color);\n",
              "      border-right-color: var(--fill-color);\n",
              "    }\n",
              "    40% {\n",
              "      border-color: transparent;\n",
              "      border-right-color: var(--fill-color);\n",
              "      border-top-color: var(--fill-color);\n",
              "    }\n",
              "    60% {\n",
              "      border-color: transparent;\n",
              "      border-right-color: var(--fill-color);\n",
              "    }\n",
              "    80% {\n",
              "      border-color: transparent;\n",
              "      border-right-color: var(--fill-color);\n",
              "      border-bottom-color: var(--fill-color);\n",
              "    }\n",
              "    90% {\n",
              "      border-color: transparent;\n",
              "      border-bottom-color: var(--fill-color);\n",
              "    }\n",
              "  }\n",
              "</style>\n",
              "\n",
              "  <script>\n",
              "    async function quickchart(key) {\n",
              "      const quickchartButtonEl =\n",
              "        document.querySelector('#' + key + ' button');\n",
              "      quickchartButtonEl.disabled = true;  // To prevent multiple clicks.\n",
              "      quickchartButtonEl.classList.add('colab-df-spinner');\n",
              "      try {\n",
              "        const charts = await google.colab.kernel.invokeFunction(\n",
              "            'suggestCharts', [key], {});\n",
              "      } catch (error) {\n",
              "        console.error('Error during call to suggestCharts:', error);\n",
              "      }\n",
              "      quickchartButtonEl.classList.remove('colab-df-spinner');\n",
              "      quickchartButtonEl.classList.add('colab-df-quickchart-complete');\n",
              "    }\n",
              "    (() => {\n",
              "      let quickchartButtonEl =\n",
              "        document.querySelector('#df-a5421755-3762-4588-a3c5-f39ffec078a4 button');\n",
              "      quickchartButtonEl.style.display =\n",
              "        google.colab.kernel.accessAllowed ? 'block' : 'none';\n",
              "    })();\n",
              "  </script>\n",
              "</div>\n",
              "\n",
              "    </div>\n",
              "  </div>\n"
            ],
            "application/vnd.google.colaboratory.intrinsic+json": {
              "type": "dataframe",
              "variable_name": "shop",
              "summary": "{\n  \"name\": \"shop\",\n  \"rows\": 3900,\n  \"fields\": [\n    {\n      \"column\": \"Customer ID\",\n      \"properties\": {\n        \"dtype\": \"number\",\n        \"std\": 1125,\n        \"min\": 1,\n        \"max\": 3900,\n        \"num_unique_values\": 3900,\n        \"samples\": [\n          840,\n          1718,\n          322\n        ],\n        \"semantic_type\": \"\",\n        \"description\": \"\"\n      }\n    },\n    {\n      \"column\": \"Age\",\n      \"properties\": {\n        \"dtype\": \"number\",\n        \"std\": 15,\n        \"min\": 18,\n        \"max\": 70,\n        \"num_unique_values\": 53,\n        \"samples\": [\n          56,\n          24,\n          51\n        ],\n        \"semantic_type\": \"\",\n        \"description\": \"\"\n      }\n    },\n    {\n      \"column\": \"Gender\",\n      \"properties\": {\n        \"dtype\": \"category\",\n        \"num_unique_values\": 2,\n        \"samples\": [\n          \"Female\",\n          \"Male\"\n        ],\n        \"semantic_type\": \"\",\n        \"description\": \"\"\n      }\n    },\n    {\n      \"column\": \"Item Purchased\",\n      \"properties\": {\n        \"dtype\": \"category\",\n        \"num_unique_values\": 25,\n        \"samples\": [\n          \"Handbag\",\n          \"Jewelry\"\n        ],\n        \"semantic_type\": \"\",\n        \"description\": \"\"\n      }\n    },\n    {\n      \"column\": \"Category\",\n      \"properties\": {\n        \"dtype\": \"category\",\n        \"num_unique_values\": 4,\n        \"samples\": [\n          \"Footwear\",\n          \"Accessories\"\n        ],\n        \"semantic_type\": \"\",\n        \"description\": \"\"\n      }\n    },\n    {\n      \"column\": \"Purchase Amount (USD)\",\n      \"properties\": {\n        \"dtype\": \"number\",\n        \"std\": 23,\n        \"min\": 20,\n        \"max\": 100,\n        \"num_unique_values\": 81,\n        \"samples\": [\n          60,\n          53\n        ],\n        \"semantic_type\": \"\",\n        \"description\": \"\"\n      }\n    },\n    {\n      \"column\": \"Location\",\n      \"properties\": {\n        \"dtype\": \"category\",\n        \"num_unique_values\": 50,\n        \"samples\": [\n          \"New Hampshire\",\n          \"Connecticut\"\n        ],\n        \"semantic_type\": \"\",\n        \"description\": \"\"\n      }\n    },\n    {\n      \"column\": \"Size\",\n      \"properties\": {\n        \"dtype\": \"category\",\n        \"num_unique_values\": 4,\n        \"samples\": [\n          \"S\",\n          \"XL\"\n        ],\n        \"semantic_type\": \"\",\n        \"description\": \"\"\n      }\n    },\n    {\n      \"column\": \"Color\",\n      \"properties\": {\n        \"dtype\": \"category\",\n        \"num_unique_values\": 25,\n        \"samples\": [\n          \"Olive\",\n          \"Red\"\n        ],\n        \"semantic_type\": \"\",\n        \"description\": \"\"\n      }\n    },\n    {\n      \"column\": \"Season\",\n      \"properties\": {\n        \"dtype\": \"category\",\n        \"num_unique_values\": 4,\n        \"samples\": [\n          \"Spring\",\n          \"Fall\"\n        ],\n        \"semantic_type\": \"\",\n        \"description\": \"\"\n      }\n    },\n    {\n      \"column\": \"Review Rating\",\n      \"properties\": {\n        \"dtype\": \"number\",\n        \"std\": 0.7162228139312449,\n        \"min\": 2.5,\n        \"max\": 5.0,\n        \"num_unique_values\": 26,\n        \"samples\": [\n          4.9,\n          5.0\n        ],\n        \"semantic_type\": \"\",\n        \"description\": \"\"\n      }\n    },\n    {\n      \"column\": \"Subscription Status\",\n      \"properties\": {\n        \"dtype\": \"category\",\n        \"num_unique_values\": 2,\n        \"samples\": [\n          \"No\",\n          \"Yes\"\n        ],\n        \"semantic_type\": \"\",\n        \"description\": \"\"\n      }\n    },\n    {\n      \"column\": \"Shipping Type\",\n      \"properties\": {\n        \"dtype\": \"category\",\n        \"num_unique_values\": 6,\n        \"samples\": [\n          \"Express\",\n          \"Free Shipping\"\n        ],\n        \"semantic_type\": \"\",\n        \"description\": \"\"\n      }\n    },\n    {\n      \"column\": \"Discount Applied\",\n      \"properties\": {\n        \"dtype\": \"category\",\n        \"num_unique_values\": 2,\n        \"samples\": [\n          \"No\",\n          \"Yes\"\n        ],\n        \"semantic_type\": \"\",\n        \"description\": \"\"\n      }\n    },\n    {\n      \"column\": \"Promo Code Used\",\n      \"properties\": {\n        \"dtype\": \"category\",\n        \"num_unique_values\": 2,\n        \"samples\": [\n          \"No\",\n          \"Yes\"\n        ],\n        \"semantic_type\": \"\",\n        \"description\": \"\"\n      }\n    },\n    {\n      \"column\": \"Previous Purchases\",\n      \"properties\": {\n        \"dtype\": \"number\",\n        \"std\": 14,\n        \"min\": 1,\n        \"max\": 50,\n        \"num_unique_values\": 50,\n        \"samples\": [\n          36,\n          47\n        ],\n        \"semantic_type\": \"\",\n        \"description\": \"\"\n      }\n    },\n    {\n      \"column\": \"Payment Method\",\n      \"properties\": {\n        \"dtype\": \"category\",\n        \"num_unique_values\": 6,\n        \"samples\": [\n          \"Venmo\",\n          \"Cash\"\n        ],\n        \"semantic_type\": \"\",\n        \"description\": \"\"\n      }\n    },\n    {\n      \"column\": \"Frequency of Purchases\",\n      \"properties\": {\n        \"dtype\": \"category\",\n        \"num_unique_values\": 7,\n        \"samples\": [\n          \"Fortnightly\",\n          \"Weekly\"\n        ],\n        \"semantic_type\": \"\",\n        \"description\": \"\"\n      }\n    },\n    {\n      \"column\": \"Age_category\",\n      \"properties\": {\n        \"dtype\": \"category\",\n        \"num_unique_values\": 4,\n        \"samples\": [\n          \"Adult\",\n          \"Young Adult\"\n        ],\n        \"semantic_type\": \"\",\n        \"description\": \"\"\n      }\n    }\n  ]\n}"
            }
          },
          "metadata": {},
          "execution_count": 18
        }
      ]
    },
    {
      "cell_type": "code",
      "source": [
        "fig=px.histogram(shop,y='Age',x='Age_category')\n",
        "fig.show()"
      ],
      "metadata": {
        "id": "-6VVF2U4xET-",
        "colab": {
          "base_uri": "https://localhost:8080/",
          "height": 408
        },
        "outputId": "8dfa53ed-0fe7-448a-b0be-d52355318a87"
      },
      "execution_count": null,
      "outputs": [
        {
          "output_type": "error",
          "ename": "ValueError",
          "evalue": "Value of 'x' is not the name of a column in 'data_frame'. Expected one of ['Customer ID', 'Age', 'Gender', 'Item Purchased', 'Category', 'Purchase Amount (USD)', 'Location', 'Size', 'Color', 'Season', 'Review Rating', 'Subscription Status', 'Shipping Type', 'Discount Applied', 'Promo Code Used', 'Previous Purchases', 'Payment Method', 'Frequency of Purchases'] but received: Age_category",
          "traceback": [
            "\u001b[0;31m---------------------------------------------------------------------------\u001b[0m",
            "\u001b[0;31mValueError\u001b[0m                                Traceback (most recent call last)",
            "\u001b[0;32m<ipython-input-11-e7a9c4b400b4>\u001b[0m in \u001b[0;36m<cell line: 0>\u001b[0;34m()\u001b[0m\n\u001b[0;32m----> 1\u001b[0;31m \u001b[0mfig\u001b[0m\u001b[0;34m=\u001b[0m\u001b[0mpx\u001b[0m\u001b[0;34m.\u001b[0m\u001b[0mhistogram\u001b[0m\u001b[0;34m(\u001b[0m\u001b[0mshop\u001b[0m\u001b[0;34m,\u001b[0m\u001b[0my\u001b[0m\u001b[0;34m=\u001b[0m\u001b[0;34m'Age'\u001b[0m\u001b[0;34m,\u001b[0m\u001b[0mx\u001b[0m\u001b[0;34m=\u001b[0m\u001b[0;34m'Age_category'\u001b[0m\u001b[0;34m)\u001b[0m\u001b[0;34m\u001b[0m\u001b[0;34m\u001b[0m\u001b[0m\n\u001b[0m\u001b[1;32m      2\u001b[0m \u001b[0mfig\u001b[0m\u001b[0;34m.\u001b[0m\u001b[0mshow\u001b[0m\u001b[0;34m(\u001b[0m\u001b[0;34m)\u001b[0m\u001b[0;34m\u001b[0m\u001b[0;34m\u001b[0m\u001b[0m\n",
            "\u001b[0;32m/usr/local/lib/python3.11/dist-packages/plotly/express/_chart_types.py\u001b[0m in \u001b[0;36mhistogram\u001b[0;34m(data_frame, x, y, color, pattern_shape, facet_row, facet_col, facet_col_wrap, facet_row_spacing, facet_col_spacing, hover_name, hover_data, animation_frame, animation_group, category_orders, labels, color_discrete_sequence, color_discrete_map, pattern_shape_sequence, pattern_shape_map, marginal, opacity, orientation, barmode, barnorm, histnorm, log_x, log_y, range_x, range_y, histfunc, cumulative, nbins, text_auto, title, template, width, height)\u001b[0m\n\u001b[1;32m    478\u001b[0m     `orientation` is `'h'`).\n\u001b[1;32m    479\u001b[0m     \"\"\"\n\u001b[0;32m--> 480\u001b[0;31m     return make_figure(\n\u001b[0m\u001b[1;32m    481\u001b[0m         \u001b[0margs\u001b[0m\u001b[0;34m=\u001b[0m\u001b[0mlocals\u001b[0m\u001b[0;34m(\u001b[0m\u001b[0;34m)\u001b[0m\u001b[0;34m,\u001b[0m\u001b[0;34m\u001b[0m\u001b[0;34m\u001b[0m\u001b[0m\n\u001b[1;32m    482\u001b[0m         \u001b[0mconstructor\u001b[0m\u001b[0;34m=\u001b[0m\u001b[0mgo\u001b[0m\u001b[0;34m.\u001b[0m\u001b[0mHistogram\u001b[0m\u001b[0;34m,\u001b[0m\u001b[0;34m\u001b[0m\u001b[0;34m\u001b[0m\u001b[0m\n",
            "\u001b[0;32m/usr/local/lib/python3.11/dist-packages/plotly/express/_core.py\u001b[0m in \u001b[0;36mmake_figure\u001b[0;34m(args, constructor, trace_patch, layout_patch)\u001b[0m\n\u001b[1;32m   2115\u001b[0m     \u001b[0mapply_default_cascade\u001b[0m\u001b[0;34m(\u001b[0m\u001b[0margs\u001b[0m\u001b[0;34m)\u001b[0m\u001b[0;34m\u001b[0m\u001b[0;34m\u001b[0m\u001b[0m\n\u001b[1;32m   2116\u001b[0m \u001b[0;34m\u001b[0m\u001b[0m\n\u001b[0;32m-> 2117\u001b[0;31m     \u001b[0margs\u001b[0m \u001b[0;34m=\u001b[0m \u001b[0mbuild_dataframe\u001b[0m\u001b[0;34m(\u001b[0m\u001b[0margs\u001b[0m\u001b[0;34m,\u001b[0m \u001b[0mconstructor\u001b[0m\u001b[0;34m)\u001b[0m\u001b[0;34m\u001b[0m\u001b[0;34m\u001b[0m\u001b[0m\n\u001b[0m\u001b[1;32m   2118\u001b[0m     \u001b[0;32mif\u001b[0m \u001b[0mconstructor\u001b[0m \u001b[0;32min\u001b[0m \u001b[0;34m[\u001b[0m\u001b[0mgo\u001b[0m\u001b[0;34m.\u001b[0m\u001b[0mTreemap\u001b[0m\u001b[0;34m,\u001b[0m \u001b[0mgo\u001b[0m\u001b[0;34m.\u001b[0m\u001b[0mSunburst\u001b[0m\u001b[0;34m,\u001b[0m \u001b[0mgo\u001b[0m\u001b[0;34m.\u001b[0m\u001b[0mIcicle\u001b[0m\u001b[0;34m]\u001b[0m \u001b[0;32mand\u001b[0m \u001b[0margs\u001b[0m\u001b[0;34m[\u001b[0m\u001b[0;34m\"path\"\u001b[0m\u001b[0;34m]\u001b[0m \u001b[0;32mis\u001b[0m \u001b[0;32mnot\u001b[0m \u001b[0;32mNone\u001b[0m\u001b[0;34m:\u001b[0m\u001b[0;34m\u001b[0m\u001b[0;34m\u001b[0m\u001b[0m\n\u001b[1;32m   2119\u001b[0m         \u001b[0margs\u001b[0m \u001b[0;34m=\u001b[0m \u001b[0mprocess_dataframe_hierarchy\u001b[0m\u001b[0;34m(\u001b[0m\u001b[0margs\u001b[0m\u001b[0;34m)\u001b[0m\u001b[0;34m\u001b[0m\u001b[0;34m\u001b[0m\u001b[0m\n",
            "\u001b[0;32m/usr/local/lib/python3.11/dist-packages/plotly/express/_core.py\u001b[0m in \u001b[0;36mbuild_dataframe\u001b[0;34m(args, constructor)\u001b[0m\n\u001b[1;32m   1511\u001b[0m     \u001b[0;31m# now that things have been prepped, we do the systematic rewriting of `args`\u001b[0m\u001b[0;34m\u001b[0m\u001b[0;34m\u001b[0m\u001b[0m\n\u001b[1;32m   1512\u001b[0m \u001b[0;34m\u001b[0m\u001b[0m\n\u001b[0;32m-> 1513\u001b[0;31m     df_output, wide_id_vars = process_args_into_dataframe(\n\u001b[0m\u001b[1;32m   1514\u001b[0m         \u001b[0margs\u001b[0m\u001b[0;34m,\u001b[0m \u001b[0mwide_mode\u001b[0m\u001b[0;34m,\u001b[0m \u001b[0mvar_name\u001b[0m\u001b[0;34m,\u001b[0m \u001b[0mvalue_name\u001b[0m\u001b[0;34m\u001b[0m\u001b[0;34m\u001b[0m\u001b[0m\n\u001b[1;32m   1515\u001b[0m     )\n",
            "\u001b[0;32m/usr/local/lib/python3.11/dist-packages/plotly/express/_core.py\u001b[0m in \u001b[0;36mprocess_args_into_dataframe\u001b[0;34m(args, wide_mode, var_name, value_name)\u001b[0m\n\u001b[1;32m   1232\u001b[0m                         \u001b[0;32mif\u001b[0m \u001b[0margument\u001b[0m \u001b[0;34m==\u001b[0m \u001b[0;34m\"index\"\u001b[0m\u001b[0;34m:\u001b[0m\u001b[0;34m\u001b[0m\u001b[0;34m\u001b[0m\u001b[0m\n\u001b[1;32m   1233\u001b[0m                             \u001b[0merr_msg\u001b[0m \u001b[0;34m+=\u001b[0m \u001b[0;34m\"\\n To use the index, pass it in directly as `df.index`.\"\u001b[0m\u001b[0;34m\u001b[0m\u001b[0;34m\u001b[0m\u001b[0m\n\u001b[0;32m-> 1234\u001b[0;31m                         \u001b[0;32mraise\u001b[0m \u001b[0mValueError\u001b[0m\u001b[0;34m(\u001b[0m\u001b[0merr_msg\u001b[0m\u001b[0;34m)\u001b[0m\u001b[0;34m\u001b[0m\u001b[0;34m\u001b[0m\u001b[0m\n\u001b[0m\u001b[1;32m   1235\u001b[0m                 \u001b[0;32melif\u001b[0m \u001b[0mlength\u001b[0m \u001b[0;32mand\u001b[0m \u001b[0mlen\u001b[0m\u001b[0;34m(\u001b[0m\u001b[0mdf_input\u001b[0m\u001b[0;34m[\u001b[0m\u001b[0margument\u001b[0m\u001b[0;34m]\u001b[0m\u001b[0;34m)\u001b[0m \u001b[0;34m!=\u001b[0m \u001b[0mlength\u001b[0m\u001b[0;34m:\u001b[0m\u001b[0;34m\u001b[0m\u001b[0;34m\u001b[0m\u001b[0m\n\u001b[1;32m   1236\u001b[0m                     raise ValueError(\n",
            "\u001b[0;31mValueError\u001b[0m: Value of 'x' is not the name of a column in 'data_frame'. Expected one of ['Customer ID', 'Age', 'Gender', 'Item Purchased', 'Category', 'Purchase Amount (USD)', 'Location', 'Size', 'Color', 'Season', 'Review Rating', 'Subscription Status', 'Shipping Type', 'Discount Applied', 'Promo Code Used', 'Previous Purchases', 'Payment Method', 'Frequency of Purchases'] but received: Age_category"
          ]
        }
      ]
    },
    {
      "cell_type": "code",
      "source": [
        "plt.hist(shop[\"Age\"],bins=20)"
      ],
      "metadata": {
        "id": "evT2SBy1xEQw",
        "colab": {
          "base_uri": "https://localhost:8080/",
          "height": 517
        },
        "outputId": "75f048de-4310-4f66-816c-e7b18dc0feec"
      },
      "execution_count": null,
      "outputs": [
        {
          "output_type": "execute_result",
          "data": {
            "text/plain": [
              "(array([212., 206., 153., 231., 147., 224., 214., 147., 226., 159., 199.,\n",
              "        223., 155., 226., 147., 243., 213., 148., 197., 230.]),\n",
              " array([18. , 20.6, 23.2, 25.8, 28.4, 31. , 33.6, 36.2, 38.8, 41.4, 44. ,\n",
              "        46.6, 49.2, 51.8, 54.4, 57. , 59.6, 62.2, 64.8, 67.4, 70. ]),\n",
              " <BarContainer object of 20 artists>)"
            ]
          },
          "metadata": {},
          "execution_count": 10
        },
        {
          "output_type": "display_data",
          "data": {
            "text/plain": [
              "<Figure size 640x480 with 1 Axes>"
            ],
            "image/png": "[encoded data removed]"
          },
          "metadata": {}
        }
      ]
    },
    {
      "cell_type": "code",
      "source": [
        "shop[\"Gender\"].value_counts()"
      ],
      "metadata": {
        "id": "E8bZJsEaxENe",
        "colab": {
          "base_uri": "https://localhost:8080/",
          "height": 178
        },
        "outputId": "48f53c58-0fef-489f-9638-5c7a19eedb2b"
      },
      "execution_count": null,
      "outputs": [
        {
          "output_type": "execute_result",
          "data": {
            "text/plain": [
              "Gender\n",
              "Male      2652\n",
              "Female    1248\n",
              "Name: count, dtype: int64"
            ],
            "text/html": [
              "<div>\n",
              "<style scoped>\n",
              "    .dataframe tbody tr th:only-of-type {\n",
              "        vertical-align: middle;\n",
              "    }\n",
              "\n",
              "    .dataframe tbody tr th {\n",
              "        vertical-align: top;\n",
              "    }\n",
              "\n",
              "    .dataframe thead th {\n",
              "        text-align: right;\n",
              "    }\n",
              "</style>\n",
              "<table border=\"1\" class=\"dataframe\">\n",
              "  <thead>\n",
              "    <tr style=\"text-align: right;\">\n",
              "      <th></th>\n",
              "      <th>count</th>\n",
              "    </tr>\n",
              "    <tr>\n",
              "      <th>Gender</th>\n",
              "      <th></th>\n",
              "    </tr>\n",
              "  </thead>\n",
              "  <tbody>\n",
              "    <tr>\n",
              "      <th>Male</th>\n",
              "      <td>2652</td>\n",
              "    </tr>\n",
              "    <tr>\n",
              "      <th>Female</th>\n",
              "      <td>1248</td>\n",
              "    </tr>\n",
              "  </tbody>\n",
              "</table>\n",
              "</div><br><label><b>dtype:</b> int64</label>"
            ]
          },
          "metadata": {},
          "execution_count": 21
        }
      ]
    },
    {
      "cell_type": "code",
      "source": [
        "shop[\"Gender\"].value_counts().plot(kind=\"bar\")"
      ],
      "metadata": {
        "id": "SJe8qBipxEFu",
        "colab": {
          "base_uri": "https://localhost:8080/",
          "height": 503
        },
        "outputId": "8b69853f-37b0-4859-8f05-25df766e8651"
      },
      "execution_count": null,
      "outputs": [
        {
          "output_type": "execute_result",
          "data": {
            "text/plain": [
              "<Axes: xlabel='Gender'>"
            ]
          },
          "metadata": {},
          "execution_count": 9
        },
        {
          "output_type": "display_data",
          "data": {
            "text/plain": [
              "<Figure size 640x480 with 1 Axes>"
            ],
            "image/png": "[encoded data removed]"
          },
          "metadata": {}
        }
      ]
    },
    {
      "cell_type": "code",
      "source": [
        "data=shop[\"Gender\"].value_counts()\n",
        "data.plot(kind=\"pie\")\n",
        "plt.xlabel(\"Gender\")\n",
        "plt.ylabel(\"Count\")"
      ],
      "metadata": {
        "colab": {
          "base_uri": "https://localhost:8080/",
          "height": 443
        },
        "id": "2et2O-VjpZ4V",
        "outputId": "183a27f2-2c56-4cf1-df7d-d7228a34e2b2"
      },
      "execution_count": null,
      "outputs": [
        {
          "output_type": "execute_result",
          "data": {
            "text/plain": [
              "Text(0, 0.5, 'Count')"
            ]
          },
          "metadata": {},
          "execution_count": 8
        },
        {
          "output_type": "display_data",
          "data": {
            "text/plain": [
              "<Figure size 640x480 with 1 Axes>"
            ],
            "image/png": "[encoded data removed]"
          },
          "metadata": {}
        }
      ]
    },
    {
      "cell_type": "code",
      "source": [
        "data=shop[\"Gender\"].value_counts()\n",
        " #Assuming `data` is already calculated\n",
        "\n",
        "\n",
        "# Plot the pie chart\n",
        "data.plot(kind=\"pie\", explode=(0, 0.1), autopct='%1.1f%%', startangle=90)\n",
        "plt.title(\"Gender Distribution\")\n",
        "plt.ylabel(\"\")  # Optional, to remove 'ylabel' in the pie chart\n",
        "plt.show()"
      ],
      "metadata": {
        "colab": {
          "base_uri": "https://localhost:8080/",
          "height": 428
        },
        "id": "BM9kW1nYpZ1p",
        "outputId": "c18ed119-8f04-415d-d7bd-d75201901779"
      },
      "execution_count": null,
      "outputs": [
        {
          "output_type": "display_data",
          "data": {
            "text/plain": [
              "<Figure size 640x480 with 1 Axes>"
            ],
            "image/png": "[encoded data removed]"
          },
          "metadata": {}
        }
      ]
    },
    {
      "cell_type": "code",
      "source": [
        "# Generate a bar plot for Category value counts\n",
        "ax = shop['Category'].value_counts().plot(kind='bar', rot=0)\n",
        "\n",
        "# Add annotations on top of each bar\n",
        "for p in ax.patches:\n",
        "    ax.annotate(\n",
        "        int(p.get_height()),\n",
        "        (p.get_x() + p.get_width() / 2, p.get_height() + 1),\n",
        "        ha='center'\n",
        "    )\n",
        "\n",
        "# Set labels and style\n",
        "plt.xlabel(\"Category\", weight='bold')\n",
        "plt.ylabel(\"Number of Occurrences\", weight='bold')\n",
        "plt.title(\"Category-wise Distribution\", weight='bold')\n",
        "plt.show()"
      ],
      "metadata": {
        "colab": {
          "base_uri": "https://localhost:8080/",
          "height": 472
        },
        "id": "Or_bfiBzpZyS",
        "outputId": "58fd15e8-2310-455b-e771-a72ab6a0df1f"
      },
      "execution_count": null,
      "outputs": [
        {
          "output_type": "display_data",
          "data": {
            "text/plain": [
              "<Figure size 640x480 with 1 Axes>"
            ],
            "image/png": "[encoded data removed]"
          },
          "metadata": {}
        }
      ]
    },
    {
      "cell_type": "code",
      "source": [
        "# Set the figure size\n",
        "plt.figure(figsize=(20,6))\n",
        "\n",
        "# Calculate the value counts for the 'Category' column\n",
        "data = shop[\"Category\"].value_counts()\n",
        "\n",
        "# Define the explode values for each slice\n",
        "explode = [0.1] * len(data)  # Explodes all categories equally\n",
        "\n",
        "# Plot the pie chart\n",
        "data.plot(\n",
        "    kind=\"pie\",\n",
        "    explode=explode,\n",
        "    autopct='%1.1f%%',\n",
        "    startangle=90\n",
        ")\n",
        "\n",
        "# Add a legend and title\n",
        "plt.title(\"Category Distribution\", weight='bold')\n",
        "plt.ylabel(\"\")\n",
        "plt.legend(title=\"Categories\")\n",
        "plt.show()"
      ],
      "metadata": {
        "colab": {
          "base_uri": "https://localhost:8080/",
          "height": 521
        },
        "id": "cEyr24GqpZtj",
        "outputId": "ada5cc2f-4586-426b-8fcf-1eeca59bbefd"
      },
      "execution_count": null,
      "outputs": [
        {
          "output_type": "display_data",
          "data": {
            "text/plain": [
              "<Figure size 2000x600 with 1 Axes>"
            ],
            "image/png": "[encoded data removed]"
          },
          "metadata": {}
        }
      ]
    },
    {
      "cell_type": "code",
      "source": [
        "shop.columns"
      ],
      "metadata": {
        "colab": {
          "base_uri": "https://localhost:8080/"
        },
        "id": "cdVuyENysXIP",
        "outputId": "a0fc5b11-0f5d-44da-8ffc-41d56bb968af"
      },
      "execution_count": null,
      "outputs": [
        {
          "output_type": "execute_result",
          "data": {
            "text/plain": [
              "Index(['Customer ID', 'Age', 'Gender', 'Item Purchased', 'Category',\n",
              "       'Purchase Amount (USD)', 'Location', 'Size', 'Color', 'Season',\n",
              "       'Review Rating', 'Subscription Status', 'Shipping Type',\n",
              "       'Discount Applied', 'Promo Code Used', 'Previous Purchases',\n",
              "       'Payment Method', 'Frequency of Purchases', 'Age_category'],\n",
              "      dtype='object')"
            ]
          },
          "metadata": {},
          "execution_count": 34
        }
      ]
    },
    {
      "cell_type": "code",
      "source": [
        "shop[\"Subscription Status\"].unique()"
      ],
      "metadata": {
        "colab": {
          "base_uri": "https://localhost:8080/"
        },
        "id": "scENlRtRsTGO",
        "outputId": "254c3924-dd3e-457f-9b47-1e83a5b7403d"
      },
      "execution_count": null,
      "outputs": [
        {
          "output_type": "execute_result",
          "data": {
            "text/plain": [
              "array(['Yes', 'No'], dtype=object)"
            ]
          },
          "metadata": {},
          "execution_count": 35
        }
      ]
    },
    {
      "cell_type": "code",
      "source": [
        "sns.barplot(shop,x='Subscription Status',y='Purchase Amount (USD)')"
      ],
      "metadata": {
        "colab": {
          "base_uri": "https://localhost:8080/",
          "height": 466
        },
        "id": "dZy4H0wvxBBG",
        "outputId": "888ede3c-99da-4384-e5a1-6b14e681b080"
      },
      "execution_count": null,
      "outputs": [
        {
          "output_type": "execute_result",
          "data": {
            "text/plain": [
              "<Axes: xlabel='Subscription Status', ylabel='Purchase Amount (USD)'>"
            ]
          },
          "metadata": {},
          "execution_count": 36
        },
        {
          "output_type": "display_data",
          "data": {
            "text/plain": [
              "<Figure size 640x480 with 1 Axes>"
            ],
            "image/png": "[encoded data removed]"
          },
          "metadata": {}
        }
      ]
    },
    {
      "cell_type": "code",
      "source": [
        "sns.barplot(shop,x='Gender',y='Purchase Amount (USD)')"
      ],
      "metadata": {
        "colab": {
          "base_uri": "https://localhost:8080/",
          "height": 466
        },
        "id": "0ZmtcRi3pZrS",
        "outputId": "bfad5240-81a8-4535-d318-42a6a036337e"
      },
      "execution_count": null,
      "outputs": [
        {
          "output_type": "execute_result",
          "data": {
            "text/plain": [
              "<Axes: xlabel='Gender', ylabel='Purchase Amount (USD)'>"
            ]
          },
          "metadata": {},
          "execution_count": 5
        },
        {
          "output_type": "display_data",
          "data": {
            "text/plain": [
              "<Figure size 640x480 with 1 Axes>"
            ],
            "image/png": "[encoded data removed]"
          },
          "metadata": {}
        }
      ]
    },
    {
      "cell_type": "code",
      "source": [
        "shop.columns"
      ],
      "metadata": {
        "colab": {
          "base_uri": "https://localhost:8080/"
        },
        "id": "pKuYJqMTpZoS",
        "outputId": "3fa11ea6-95b6-454e-c062-bdd48009e68b"
      },
      "execution_count": null,
      "outputs": [
        {
          "output_type": "execute_result",
          "data": {
            "text/plain": [
              "Index(['Customer ID', 'Age', 'Gender', 'Item Purchased', 'Category',\n",
              "       'Purchase Amount (USD)', 'Location', 'Size', 'Color', 'Season',\n",
              "       'Review Rating', 'Subscription Status', 'Shipping Type',\n",
              "       'Discount Applied', 'Promo Code Used', 'Previous Purchases',\n",
              "       'Payment Method', 'Frequency of Purchases', 'Age_category'],\n",
              "      dtype='object')"
            ]
          },
          "metadata": {},
          "execution_count": 33
        }
      ]
    },
    {
      "cell_type": "code",
      "source": [
        "data=shop['Seasopn'].value_counts()"
      ],
      "metadata": {
        "id": "-tOFuSR-pZlj"
      },
      "execution_count": null,
      "outputs": []
    },
    {
      "cell_type": "code",
      "source": [
        "##8.Which payment method is the most popular among customers?\n"
      ],
      "metadata": {
        "id": "BW3ylE_wxOzm"
      },
      "execution_count": null,
      "outputs": []
    },
    {
      "cell_type": "code",
      "source": [
        "# Group by 'Payment Method' and calculate the mean of 'Purchase Amount (USD)'\n",
        "result = shop.groupby('Payment Method')['Purchase Amount (USD)'].mean().sort_values(ascending=False)\n",
        "\n",
        "# Display the result\n",
        "print(result)\n"
      ],
      "metadata": {
        "colab": {
          "base_uri": "https://localhost:8080/"
        },
        "id": "1zJFKemwxZQ-",
        "outputId": "59a2fa8f-99d4-405d-f48b-beec1cd28856"
      },
      "execution_count": null,
      "outputs": [
        {
          "output_type": "stream",
          "name": "stdout",
          "text": [
            "Payment Method\n",
            "Debit Card       60.915094\n",
            "Credit Card      60.074516\n",
            "Bank Transfer    59.712418\n",
            "Cash             59.704478\n",
            "PayPal           59.245199\n",
            "Venmo            58.949527\n",
            "Name: Purchase Amount (USD), dtype: float64\n"
          ]
        }
      ]
    },
    {
      "cell_type": "code",
      "source": [
        "sns.barplot(x='Payment Method',y='Purchase Amount (USD)',data=shop)"
      ],
      "metadata": {
        "colab": {
          "base_uri": "https://localhost:8080/",
          "height": 466
        },
        "id": "dehi_tnqxZL-",
        "outputId": "e988ac59-bec6-4017-a882-b60c7c7c03d1"
      },
      "execution_count": null,
      "outputs": [
        {
          "output_type": "execute_result",
          "data": {
            "text/plain": [
              "<Axes: xlabel='Payment Method', ylabel='Purchase Amount (USD)'>"
            ]
          },
          "metadata": {},
          "execution_count": 38
        },
        {
          "output_type": "display_data",
          "data": {
            "text/plain": [
              "<Figure size 640x480 with 1 Axes>"
            ],
            "image/png": "[encoded data removed]"
          },
          "metadata": {}
        }
      ]
    },
    {
      "cell_type": "code",
      "source": [
        "shop.columns"
      ],
      "metadata": {
        "colab": {
          "base_uri": "https://localhost:8080/"
        },
        "id": "3skjkC_exZJf",
        "outputId": "874ed33b-943c-431e-9088-87185010bee4"
      },
      "execution_count": null,
      "outputs": [
        {
          "output_type": "execute_result",
          "data": {
            "text/plain": [
              "Index(['Customer ID', 'Age', 'Gender', 'Item Purchased', 'Category',\n",
              "       'Purchase Amount (USD)', 'Location', 'Size', 'Color', 'Season',\n",
              "       'Review Rating', 'Subscription Status', 'Shipping Type',\n",
              "       'Discount Applied', 'Promo Code Used', 'Previous Purchases',\n",
              "       'Payment Method', 'Frequency of Purchases', 'Age_category'],\n",
              "      dtype='object')"
            ]
          },
          "metadata": {},
          "execution_count": 39
        }
      ]
    },
    {
      "cell_type": "code",
      "source": [
        "shop.info()"
      ],
      "metadata": {
        "colab": {
          "base_uri": "https://localhost:8080/"
        },
        "id": "apvyrHDfxZGe",
        "outputId": "af630fe8-fa18-42c5-8585-4ffbc791c845"
      },
      "execution_count": null,
      "outputs": [
        {
          "output_type": "stream",
          "name": "stdout",
          "text": [
            "<class 'pandas.core.frame.DataFrame'>\n",
            "RangeIndex: 3900 entries, 0 to 3899\n",
            "Data columns (total 19 columns):\n",
            " #   Column                  Non-Null Count  Dtype   \n",
            "---  ------                  --------------  -----   \n",
            " 0   Customer ID             3900 non-null   int64   \n",
            " 1   Age                     3900 non-null   int64   \n",
            " 2   Gender                  3900 non-null   object  \n",
            " 3   Item Purchased          3900 non-null   object  \n",
            " 4   Category                3900 non-null   object  \n",
            " 5   Purchase Amount (USD)   3900 non-null   int64   \n",
            " 6   Location                3900 non-null   object  \n",
            " 7   Size                    3900 non-null   object  \n",
            " 8   Color                   3900 non-null   object  \n",
            " 9   Season                  3900 non-null   object  \n",
            " 10  Review Rating           3900 non-null   float64 \n",
            " 11  Subscription Status     3900 non-null   object  \n",
            " 12  Shipping Type           3900 non-null   object  \n",
            " 13  Discount Applied        3900 non-null   object  \n",
            " 14  Promo Code Used         3900 non-null   object  \n",
            " 15  Previous Purchases      3900 non-null   int64   \n",
            " 16  Payment Method          3900 non-null   object  \n",
            " 17  Frequency of Purchases  3900 non-null   object  \n",
            " 18  Age_category            3900 non-null   category\n",
            "dtypes: category(1), float64(1), int64(4), object(13)\n",
            "memory usage: 552.6+ KB\n"
          ]
        }
      ]
    },
    {
      "cell_type": "code",
      "source": [
        "num_fea=shop[[\"Age\",\"Purchase Amount (USD)\",\"Review Rating\",\"Discount Applied\"]]\n",
        "num_fea.head()"
      ],
      "metadata": {
        "colab": {
          "base_uri": "https://localhost:8080/",
          "height": 206
        },
        "id": "icbumRCHxZEB",
        "outputId": "08f71738-e548-45a3-8c32-748ada3fd051"
      },
      "execution_count": null,
      "outputs": [
        {
          "output_type": "execute_result",
          "data": {
            "text/plain": [
              "   Age  Purchase Amount (USD)  Review Rating Discount Applied\n",
              "0   55                     53            3.1              Yes\n",
              "1   19                     64            3.1              Yes\n",
              "2   50                     73            3.1              Yes\n",
              "3   21                     90            3.5              Yes\n",
              "4   45                     49            2.7              Yes"
            ],
            "text/html": [
              "\n",
              "  <div id=\"df-f4f35512-54e0-4eaa-b8a0-f89b4763fb29\" class=\"colab-df-container\">\n",
              "    <div>\n",
              "<style scoped>\n",
              "    .dataframe tbody tr th:only-of-type {\n",
              "        vertical-align: middle;\n",
              "    }\n",
              "\n",
              "    .dataframe tbody tr th {\n",
              "        vertical-align: top;\n",
              "    }\n",
              "\n",
              "    .dataframe thead th {\n",
              "        text-align: right;\n",
              "    }\n",
              "</style>\n",
              "<table border=\"1\" class=\"dataframe\">\n",
              "  <thead>\n",
              "    <tr style=\"text-align: right;\">\n",
              "      <th></th>\n",
              "      <th>Age</th>\n",
              "      <th>Purchase Amount (USD)</th>\n",
              "      <th>Review Rating</th>\n",
              "      <th>Discount Applied</th>\n",
              "    </tr>\n",
              "  </thead>\n",
              "  <tbody>\n",
              "    <tr>\n",
              "      <th>0</th>\n",
              "      <td>55</td>\n",
              "      <td>53</td>\n",
              "      <td>3.1</td>\n",
              "      <td>Yes</td>\n",
              "    </tr>\n",
              "    <tr>\n",
              "      <th>1</th>\n",
              "      <td>19</td>\n",
              "      <td>64</td>\n",
              "      <td>3.1</td>\n",
              "      <td>Yes</td>\n",
              "    </tr>\n",
              "    <tr>\n",
              "      <th>2</th>\n",
              "      <td>50</td>\n",
              "      <td>73</td>\n",
              "      <td>3.1</td>\n",
              "      <td>Yes</td>\n",
              "    </tr>\n",
              "    <tr>\n",
              "      <th>3</th>\n",
              "      <td>21</td>\n",
              "      <td>90</td>\n",
              "      <td>3.5</td>\n",
              "      <td>Yes</td>\n",
              "    </tr>\n",
              "    <tr>\n",
              "      <th>4</th>\n",
              "      <td>45</td>\n",
              "      <td>49</td>\n",
              "      <td>2.7</td>\n",
              "      <td>Yes</td>\n",
              "    </tr>\n",
              "  </tbody>\n",
              "</table>\n",
              "</div>\n",
              "    <div class=\"colab-df-buttons\">\n",
              "\n",
              "  <div class=\"colab-df-container\">\n",
              "    <button class=\"colab-df-convert\" onclick=\"convertToInteractive('df-f4f35512-54e0-4eaa-b8a0-f89b4763fb29')\"\n",
              "            title=\"Convert this dataframe to an interactive table.\"\n",
              "            style=\"display:none;\">\n",
              "\n",
              "  <svg xmlns=\"http://www.w3.org/2000/svg\" height=\"24px\" viewBox=\"0 -960 960 960\">\n",
              "    <path d=\"M120-120v-720h720v720H120Zm60-500h600v-160H180v160Zm220 220h160v-160H400v160Zm0 220h160v-160H400v160ZM180-400h160v-160H180v160Zm440 0h160v-160H620v160ZM180-180h160v-160H180v160Zm440 0h160v-160H620v160Z\"/>\n",
              "  </svg>\n",
              "    </button>\n",
              "\n",
              "  <style>\n",
              "    .colab-df-container {\n",
              "      display:flex;\n",
              "      gap: 12px;\n",
              "    }\n",
              "\n",
              "    .colab-df-convert {\n",
              "      background-color: #E8F0FE;\n",
              "      border: none;\n",
              "      border-radius: 50%;\n",
              "      cursor: pointer;\n",
              "      display: none;\n",
              "      fill: #1967D2;\n",
              "      height: 32px;\n",
              "      padding: 0 0 0 0;\n",
              "      width: 32px;\n",
              "    }\n",
              "\n",
              "    .colab-df-convert:hover {\n",
              "      background-color: #E2EBFA;\n",
              "      box-shadow: 0px 1px 2px rgba(60, 64, 67, 0.3), 0px 1px 3px 1px rgba(60, 64, 67, 0.15);\n",
              "      fill: #174EA6;\n",
              "    }\n",
              "\n",
              "    .colab-df-buttons div {\n",
              "      margin-bottom: 4px;\n",
              "    }\n",
              "\n",
              "    [theme=dark] .colab-df-convert {\n",
              "      background-color: #3B4455;\n",
              "      fill: #D2E3FC;\n",
              "    }\n",
              "\n",
              "    [theme=dark] .colab-df-convert:hover {\n",
              "      background-color: #434B5C;\n",
              "      box-shadow: 0px 1px 3px 1px rgba(0, 0, 0, 0.15);\n",
              "      filter: drop-shadow(0px 1px 2px rgba(0, 0, 0, 0.3));\n",
              "      fill: #FFFFFF;\n",
              "    }\n",
              "  </style>\n",
              "\n",
              "    <script>\n",
              "      const buttonEl =\n",
              "        document.querySelector('#df-f4f35512-54e0-4eaa-b8a0-f89b4763fb29 button.colab-df-convert');\n",
              "      buttonEl.style.display =\n",
              "        google.colab.kernel.accessAllowed ? 'block' : 'none';\n",
              "\n",
              "      async function convertToInteractive(key) {\n",
              "        const element = document.querySelector('#df-f4f35512-54e0-4eaa-b8a0-f89b4763fb29');\n",
              "        const dataTable =\n",
              "          await google.colab.kernel.invokeFunction('convertToInteractive',\n",
              "                                                    [key], {});\n",
              "        if (!dataTable) return;\n",
              "\n",
              "        const docLinkHtml = 'Like what you see? Visit the ' +\n",
              "          '<a target=\"_blank\" href=https://colab.research.google.com/notebooks/data_table.ipynb>data table notebook</a>'\n",
              "          + ' to learn more about interactive tables.';\n",
              "        element.innerHTML = '';\n",
              "        dataTable['output_type'] = 'display_data';\n",
              "        await google.colab.output.renderOutput(dataTable, element);\n",
              "        const docLink = document.createElement('div');\n",
              "        docLink.innerHTML = docLinkHtml;\n",
              "        element.appendChild(docLink);\n",
              "      }\n",
              "    </script>\n",
              "  </div>\n",
              "\n",
              "\n",
              "<div id=\"df-9264f1a1-d88f-4a5b-be0f-8837979de33f\">\n",
              "  <button class=\"colab-df-quickchart\" onclick=\"quickchart('df-9264f1a1-d88f-4a5b-be0f-8837979de33f')\"\n",
              "            title=\"Suggest charts\"\n",
              "            style=\"display:none;\">\n",
              "\n",
              "<svg xmlns=\"http://www.w3.org/2000/svg\" height=\"24px\"viewBox=\"0 0 24 24\"\n",
              "     width=\"24px\">\n",
              "    <g>\n",
              "        <path d=\"M19 3H5c-1.1 0-2 .9-2 2v14c0 1.1.9 2 2 2h14c1.1 0 2-.9 2-2V5c0-1.1-.9-2-2-2zM9 17H7v-7h2v7zm4 0h-2V7h2v10zm4 0h-2v-4h2v4z\"/>\n",
              "    </g>\n",
              "</svg>\n",
              "  </button>\n",
              "\n",
              "<style>\n",
              "  .colab-df-quickchart {\n",
              "      --bg-color: #E8F0FE;\n",
              "      --fill-color: #1967D2;\n",
              "      --hover-bg-color: #E2EBFA;\n",
              "      --hover-fill-color: #174EA6;\n",
              "      --disabled-fill-color: #AAA;\n",
              "      --disabled-bg-color: #DDD;\n",
              "  }\n",
              "\n",
              "  [theme=dark] .colab-df-quickchart {\n",
              "      --bg-color: #3B4455;\n",
              "      --fill-color: #D2E3FC;\n",
              "      --hover-bg-color: #434B5C;\n",
              "      --hover-fill-color: #FFFFFF;\n",
              "      --disabled-bg-color: #3B4455;\n",
              "      --disabled-fill-color: #666;\n",
              "  }\n",
              "\n",
              "  .colab-df-quickchart {\n",
              "    background-color: var(--bg-color);\n",
              "    border: none;\n",
              "    border-radius: 50%;\n",
              "    cursor: pointer;\n",
              "    display: none;\n",
              "    fill: var(--fill-color);\n",
              "    height: 32px;\n",
              "    padding: 0;\n",
              "    width: 32px;\n",
              "  }\n",
              "\n",
              "  .colab-df-quickchart:hover {\n",
              "    background-color: var(--hover-bg-color);\n",
              "    box-shadow: 0 1px 2px rgba(60, 64, 67, 0.3), 0 1px 3px 1px rgba(60, 64, 67, 0.15);\n",
              "    fill: var(--button-hover-fill-color);\n",
              "  }\n",
              "\n",
              "  .colab-df-quickchart-complete:disabled,\n",
              "  .colab-df-quickchart-complete:disabled:hover {\n",
              "    background-color: var(--disabled-bg-color);\n",
              "    fill: var(--disabled-fill-color);\n",
              "    box-shadow: none;\n",
              "  }\n",
              "\n",
              "  .colab-df-spinner {\n",
              "    border: 2px solid var(--fill-color);\n",
              "    border-color: transparent;\n",
              "    border-bottom-color: var(--fill-color);\n",
              "    animation:\n",
              "      spin 1s steps(1) infinite;\n",
              "  }\n",
              "\n",
              "  @keyframes spin {\n",
              "    0% {\n",
              "      border-color: transparent;\n",
              "      border-bottom-color: var(--fill-color);\n",
              "      border-left-color: var(--fill-color);\n",
              "    }\n",
              "    20% {\n",
              "      border-color: transparent;\n",
              "      border-left-color: var(--fill-color);\n",
              "      border-top-color: var(--fill-color);\n",
              "    }\n",
              "    30% {\n",
              "      border-color: transparent;\n",
              "      border-left-color: var(--fill-color);\n",
              "      border-top-color: var(--fill-color);\n",
              "      border-right-color: var(--fill-color);\n",
              "    }\n",
              "    40% {\n",
              "      border-color: transparent;\n",
              "      border-right-color: var(--fill-color);\n",
              "      border-top-color: var(--fill-color);\n",
              "    }\n",
              "    60% {\n",
              "      border-color: transparent;\n",
              "      border-right-color: var(--fill-color);\n",
              "    }\n",
              "    80% {\n",
              "      border-color: transparent;\n",
              "      border-right-color: var(--fill-color);\n",
              "      border-bottom-color: var(--fill-color);\n",
              "    }\n",
              "    90% {\n",
              "      border-color: transparent;\n",
              "      border-bottom-color: var(--fill-color);\n",
              "    }\n",
              "  }\n",
              "</style>\n",
              "\n",
              "  <script>\n",
              "    async function quickchart(key) {\n",
              "      const quickchartButtonEl =\n",
              "        document.querySelector('#' + key + ' button');\n",
              "      quickchartButtonEl.disabled = true;  // To prevent multiple clicks.\n",
              "      quickchartButtonEl.classList.add('colab-df-spinner');\n",
              "      try {\n",
              "        const charts = await google.colab.kernel.invokeFunction(\n",
              "            'suggestCharts', [key], {});\n",
              "      } catch (error) {\n",
              "        console.error('Error during call to suggestCharts:', error);\n",
              "      }\n",
              "      quickchartButtonEl.classList.remove('colab-df-spinner');\n",
              "      quickchartButtonEl.classList.add('colab-df-quickchart-complete');\n",
              "    }\n",
              "    (() => {\n",
              "      let quickchartButtonEl =\n",
              "        document.querySelector('#df-9264f1a1-d88f-4a5b-be0f-8837979de33f button');\n",
              "      quickchartButtonEl.style.display =\n",
              "        google.colab.kernel.accessAllowed ? 'block' : 'none';\n",
              "    })();\n",
              "  </script>\n",
              "</div>\n",
              "\n",
              "    </div>\n",
              "  </div>\n"
            ],
            "application/vnd.google.colaboratory.intrinsic+json": {
              "type": "dataframe",
              "variable_name": "num_fea",
              "summary": "{\n  \"name\": \"num_fea\",\n  \"rows\": 3900,\n  \"fields\": [\n    {\n      \"column\": \"Age\",\n      \"properties\": {\n        \"dtype\": \"number\",\n        \"std\": 15,\n        \"min\": 18,\n        \"max\": 70,\n        \"num_unique_values\": 53,\n        \"samples\": [\n          56,\n          24,\n          51\n        ],\n        \"semantic_type\": \"\",\n        \"description\": \"\"\n      }\n    },\n    {\n      \"column\": \"Purchase Amount (USD)\",\n      \"properties\": {\n        \"dtype\": \"number\",\n        \"std\": 23,\n        \"min\": 20,\n        \"max\": 100,\n        \"num_unique_values\": 81,\n        \"samples\": [\n          60,\n          53,\n          56\n        ],\n        \"semantic_type\": \"\",\n        \"description\": \"\"\n      }\n    },\n    {\n      \"column\": \"Review Rating\",\n      \"properties\": {\n        \"dtype\": \"number\",\n        \"std\": 0.7162228139312449,\n        \"min\": 2.5,\n        \"max\": 5.0,\n        \"num_unique_values\": 26,\n        \"samples\": [\n          4.9,\n          5.0,\n          3.1\n        ],\n        \"semantic_type\": \"\",\n        \"description\": \"\"\n      }\n    },\n    {\n      \"column\": \"Discount Applied\",\n      \"properties\": {\n        \"dtype\": \"category\",\n        \"num_unique_values\": 2,\n        \"samples\": [\n          \"No\",\n          \"Yes\"\n        ],\n        \"semantic_type\": \"\",\n        \"description\": \"\"\n      }\n    }\n  ]\n}"
            }
          },
          "metadata": {},
          "execution_count": 14
        }
      ]
    },
    {
      "cell_type": "code",
      "source": [
        "# Select only numeric columns from num_fea\n",
        "numeric_features = num_fea.select_dtypes(include=['number'])\n",
        "\n",
        "# Compute the correlation matrix\n",
        "cor_mat = numeric_features.corr()\n",
        "\n",
        "# Display the correlation matrix\n",
        "print(cor_mat)\n"
      ],
      "metadata": {
        "colab": {
          "base_uri": "https://localhost:8080/"
        },
        "id": "Z8-1IVCLxZA-",
        "outputId": "10e68cea-cf7e-4e1b-f5ad-44a2c372b050"
      },
      "execution_count": null,
      "outputs": [
        {
          "output_type": "stream",
          "name": "stdout",
          "text": [
            "                            Age  Purchase Amount (USD)  Review Rating\n",
            "Age                    1.000000              -0.010424      -0.021949\n",
            "Purchase Amount (USD) -0.010424               1.000000       0.030776\n",
            "Review Rating         -0.021949               0.030776       1.000000\n"
          ]
        }
      ]
    },
    {
      "cell_type": "code",
      "source": [
        "sns.heatmap(cor_mat)"
      ],
      "metadata": {
        "colab": {
          "base_uri": "https://localhost:8080/",
          "height": 585
        },
        "id": "-hBN-GTuxY9v",
        "outputId": "45f3935d-9a16-4a6f-d62a-198956d7d812"
      },
      "execution_count": null,
      "outputs": [
        {
          "output_type": "execute_result",
          "data": {
            "text/plain": [
              "<Axes: >"
            ]
          },
          "metadata": {},
          "execution_count": 45
        },
        {
          "output_type": "display_data",
          "data": {
            "text/plain": [
              "<Figure size 640x480 with 2 Axes>"
            ],
            "image/png": "[encoded data removed]"
          },
          "metadata": {}
        }
      ]
    },
    {
      "cell_type": "code",
      "source": [
        "plt.figure(figsize=(5,3))\n",
        "# Plot the heatmap of the correlation matrix\n",
        "sns.heatmap(cor_mat, annot=True, cmap=\"BuPu\")"
      ],
      "metadata": {
        "colab": {
          "base_uri": "https://localhost:8080/",
          "height": 466
        },
        "id": "eLZxrZv5xYzA",
        "outputId": "91b8ed74-e5b0-47cf-bb73-cc0fae2465f5"
      },
      "execution_count": null,
      "outputs": [
        {
          "output_type": "execute_result",
          "data": {
            "text/plain": [
              "<Axes: >"
            ]
          },
          "metadata": {},
          "execution_count": 16
        },
        {
          "output_type": "display_data",
          "data": {
            "text/plain": [
              "<Figure size 500x300 with 2 Axes>"
            ],
            "image/png": "[encoded data removed]"
          },
          "metadata": {}
        }
      ]
    },
    {
      "cell_type": "code",
      "source": [],
      "metadata": {
        "id": "RqfRpxnu1qaq"
      },
      "execution_count": null,
      "outputs": []
    },
    {
      "cell_type": "code",
      "source": [],
      "metadata": {
        "id": "NqZx8fWd1qRS"
      },
      "execution_count": null,
      "outputs": []
    },
    {
      "cell_type": "code",
      "source": [],
      "metadata": {
        "id": "g8rLOW3G1qKa"
      },
      "execution_count": null,
      "outputs": []
    },
    {
      "cell_type": "code",
      "source": [],
      "metadata": {
        "id": "9PmnECDd1qFK"
      },
      "execution_count": null,
      "outputs": []
    },
    {
      "cell_type": "code",
      "source": [],
      "metadata": {
        "id": "sYiJBSIS1qCa"
      },
      "execution_count": null,
      "outputs": []
    },
    {
      "cell_type": "code",
      "source": [],
      "metadata": {
        "id": "3lbeD9691p_q"
      },
      "execution_count": null,
      "outputs": []
    },
    {
      "cell_type": "code",
      "source": [],
      "metadata": {
        "id": "dU9VYKMr1p9O"
      },
      "execution_count": null,
      "outputs": []
    },
    {
      "cell_type": "code",
      "source": [],
      "metadata": {
        "id": "UXkK2mFt1p6q"
      },
      "execution_count": null,
      "outputs": []
    },
    {
      "cell_type": "code",
      "source": [],
      "metadata": {
        "id": "eg7hidA71p36"
      },
      "execution_count": null,
      "outputs": []
    },
    {
      "cell_type": "code",
      "source": [],
      "metadata": {
        "id": "1GozpQ9K1p1K"
      },
      "execution_count": null,
      "outputs": []
    },
    {
      "cell_type": "code",
      "source": [],
      "metadata": {
        "id": "ooIQUbxR1pyq"
      },
      "execution_count": null,
      "outputs": []
    },
    {
      "cell_type": "code",
      "source": [],
      "metadata": {
        "id": "BprQaCMo1pv7"
      },
      "execution_count": null,
      "outputs": []
    },
    {
      "cell_type": "code",
      "source": [],
      "metadata": {
        "id": "GbxeD_DO1ptm"
      },
      "execution_count": null,
      "outputs": []
    },
    {
      "cell_type": "code",
      "source": [],
      "metadata": {
        "id": "BEBePTaP1prG"
      },
      "execution_count": null,
      "outputs": []
    },
    {
      "cell_type": "code",
      "source": [],
      "metadata": {
        "id": "OG_ZK1Vq1poG"
      },
      "execution_count": null,
      "outputs": []
    },
    {
      "cell_type": "code",
      "source": [],
      "metadata": {
        "id": "e1ih_v4s1ph3"
      },
      "execution_count": null,
      "outputs": []
    }
  ]
}